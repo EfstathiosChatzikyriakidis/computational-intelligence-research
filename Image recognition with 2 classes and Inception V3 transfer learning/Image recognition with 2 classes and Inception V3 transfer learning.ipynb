{
  "nbformat": 4,
  "nbformat_minor": 0,
  "metadata": {
    "colab": {
      "name": "2 classes image classifier (Inception V3 transfer learning).ipynb",
      "provenance": [],
      "collapsed_sections": [],
      "machine_shape": "hm"
    },
    "kernelspec": {
      "name": "python3",
      "display_name": "Python 3"
    },
    "accelerator": "GPU"
  },
  "cells": [
    {
      "cell_type": "code",
      "metadata": {
        "id": "J8peJSu0qYHF",
        "colab_type": "code",
        "colab": {}
      },
      "source": [
        "!pip install tensorflow==2.0.0\n",
        "\n",
        "import zipfile, os\n",
        "import matplotlib.pyplot as plt\n",
        "from shutil import rmtree\n",
        "from datetime import datetime\n",
        "from google.colab import files\n",
        "import numpy as np\n",
        "import tensorflow as tf\n",
        "from tensorflow.keras.preprocessing import image\n",
        "from tensorflow.keras import layers\n",
        "from tensorflow.keras import Model\n",
        "from tensorflow.keras.preprocessing.image import ImageDataGenerator\n",
        "from tensorflow.keras.applications.inception_v3 import InceptionV3"
      ],
      "execution_count": 0,
      "outputs": []
    },
    {
      "cell_type": "code",
      "metadata": {
        "id": "-szt-9i-JdTi",
        "colab_type": "code",
        "colab": {}
      },
      "source": [
        "print(tf.__version__)"
      ],
      "execution_count": 0,
      "outputs": []
    },
    {
      "cell_type": "code",
      "metadata": {
        "id": "XkVSW2TVXS50",
        "colab_type": "code",
        "colab": {}
      },
      "source": [
        "optimizer = tf.keras.optimizers.Adam(lr=0.001)\n",
        "regularizer = tf.keras.regularizers.l2(0.01)\n",
        "input_shape = (150, 150, 3)\n",
        "batch_size = 32\n",
        "last_layer_to_select = 'mixed7'\n",
        "early_stopping_patience = 10\n",
        "epochs = 100\n",
        "dropout_rate = 0.4\n",
        "dense_units = [256]\n",
        "dense_activation = 'relu'"
      ],
      "execution_count": 0,
      "outputs": []
    },
    {
      "cell_type": "code",
      "metadata": {
        "id": "UZOmdqN5JPHB",
        "colab_type": "code",
        "colab": {}
      },
      "source": [
        "dataset_zip_file_path = '/content/dataset.zip'\n",
        "if not os.path.exists(dataset_zip_file_path):\n",
        "  files.upload()"
      ],
      "execution_count": 0,
      "outputs": []
    },
    {
      "cell_type": "code",
      "metadata": {
        "id": "Dbder2HRxieO",
        "colab_type": "code",
        "colab": {}
      },
      "source": [
        "dataset_extracted_path = '/tmp/dataset'\n",
        "rmtree(dataset_extracted_path, ignore_errors=True)\n",
        "zip_file = zipfile.ZipFile(dataset_zip_file_path, 'r')\n",
        "zip_file.extractall('/tmp')\n",
        "zip_file.close()"
      ],
      "execution_count": 0,
      "outputs": []
    },
    {
      "cell_type": "code",
      "metadata": {
        "id": "xUnV2uJY3zJ1",
        "colab_type": "code",
        "colab": {}
      },
      "source": [
        "training_path = os.path.join(dataset_extracted_path, 'training')\n",
        "validation_path = os.path.join(dataset_extracted_path, 'validation')\n",
        "testing_path = os.path.join(dataset_extracted_path, 'testing')"
      ],
      "execution_count": 0,
      "outputs": []
    },
    {
      "cell_type": "code",
      "metadata": {
        "id": "pi1cI7kp4DJJ",
        "colab_type": "code",
        "colab": {}
      },
      "source": [
        "print(len(os.listdir(os.path.join(training_path, 'class1'))))\n",
        "print(len(os.listdir(os.path.join(training_path, 'class2'))))\n",
        "print(len(os.listdir(os.path.join(validation_path, 'class1'))))\n",
        "print(len(os.listdir(os.path.join(validation_path, 'class2'))))\n",
        "print(len(os.listdir(os.path.join(testing_path, 'class1'))))\n",
        "print(len(os.listdir(os.path.join(testing_path, 'class2'))))"
      ],
      "execution_count": 0,
      "outputs": []
    },
    {
      "cell_type": "code",
      "metadata": {
        "id": "xKNUkplT4lJ_",
        "colab_type": "code",
        "colab": {}
      },
      "source": [
        "training_data_generator = ImageDataGenerator(\n",
        "  preprocessing_function=tf.keras.applications.inception_v3.preprocess_input,\n",
        "  rotation_range=40,\n",
        "  width_shift_range=0.2,\n",
        "  height_shift_range=0.2,\n",
        "  shear_range=0.2,\n",
        "  zoom_range=0.2,\n",
        "  horizontal_flip=True,\n",
        "  fill_mode='nearest')\n",
        "\n",
        "validation_data_generator = ImageDataGenerator(preprocessing_function=tf.keras.applications.inception_v3.preprocess_input)\n",
        "\n",
        "testing_data_generator = ImageDataGenerator(preprocessing_function=tf.keras.applications.inception_v3.preprocess_input)\n",
        "\n",
        "training_generator = training_data_generator.flow_from_directory(\n",
        "  training_path,\n",
        "  target_size=(input_shape[0], input_shape[1]),\n",
        "  batch_size=batch_size,\n",
        "  shuffle=True,\n",
        "  class_mode='binary')\n",
        "\n",
        "validation_generator = validation_data_generator.flow_from_directory(\n",
        "  validation_path,\n",
        "  target_size=(input_shape[0], input_shape[1]),\n",
        "  batch_size=batch_size,\n",
        "  shuffle=True,\n",
        "  class_mode='binary')\n",
        "\n",
        "testing_generator = testing_data_generator.flow_from_directory(\n",
        "  testing_path,\n",
        "  target_size=(input_shape[0], input_shape[1]),\n",
        "  batch_size=batch_size,\n",
        "  shuffle=False,\n",
        "  class_mode='binary')"
      ],
      "execution_count": 0,
      "outputs": []
    },
    {
      "cell_type": "code",
      "metadata": {
        "id": "phEEylWMLYhx",
        "colab_type": "code",
        "colab": {}
      },
      "source": [
        "!wget --no-check-certificate https://storage.googleapis.com/mledu-datasets/inception_v3_weights_tf_dim_ordering_tf_kernels_notop.h5 -O /tmp/inception_v3_weights_tf_dim_ordering_tf_kernels_notop.h5"
      ],
      "execution_count": 0,
      "outputs": []
    },
    {
      "cell_type": "code",
      "metadata": {
        "id": "-R3WI4EH6KkQ",
        "colab_type": "code",
        "colab": {}
      },
      "source": [
        "inception_weights_file_path = '/tmp/inception_v3_weights_tf_dim_ordering_tf_kernels_notop.h5'\n",
        "\n",
        "pre_trained_model = InceptionV3(input_shape = input_shape, include_top = False, weights = None)\n",
        "\n",
        "pre_trained_model.load_weights(inception_weights_file_path)\n",
        "\n",
        "for layer in pre_trained_model.layers: layer.trainable = False\n",
        "\n",
        "last_layer = pre_trained_model.get_layer(last_layer_to_select)\n",
        "\n",
        "x = last_layer.output\n",
        "x = layers.Flatten() (x)\n",
        "for units in dense_units:\n",
        "  x = layers.Dense(units, activation=dense_activation, kernel_regularizer=regularizer) (x)\n",
        "  x = layers.Dropout(dropout_rate) (x)\n",
        "x = layers.Dense (1, activation='sigmoid') (x)\n",
        "\n",
        "model = Model(pre_trained_model.input, x)\n",
        "\n",
        "model.compile(optimizer=optimizer, loss='binary_crossentropy', metrics=['acc'])\n",
        "\n",
        "model.summary()"
      ],
      "execution_count": 0,
      "outputs": []
    },
    {
      "cell_type": "code",
      "metadata": {
        "id": "8DvFFYeD-M4J",
        "colab_type": "code",
        "colab": {}
      },
      "source": [
        "STEP_SIZE_TRAINING = training_generator.n // training_generator.batch_size\n",
        "STEP_SIZE_VALIDATION = validation_generator.n // validation_generator.batch_size\n",
        "STEP_SIZE_TESTING = testing_generator.n // testing_generator.batch_size\n",
        "\n",
        "print(STEP_SIZE_TRAINING)\n",
        "print(STEP_SIZE_VALIDATION)\n",
        "print(STEP_SIZE_TESTING)"
      ],
      "execution_count": 0,
      "outputs": []
    },
    {
      "cell_type": "code",
      "metadata": {
        "id": "CffdC2O36lDG",
        "colab_type": "code",
        "colab": {}
      },
      "source": [
        "model_file_path = os.path.join('/content', datetime.now().strftime(\"model-snapshot-%Y-%m-%d-%H-%M-%S\") + '.hdf5')\n",
        "\n",
        "early_stopping = tf.keras.callbacks.EarlyStopping(monitor='val_loss', patience=early_stopping_patience, restore_best_weights=True, verbose=1)\n",
        "\n",
        "check_pointer = tf.keras.callbacks.ModelCheckpoint(monitor='val_loss', filepath=model_file_path, save_best_model=True, verbose=1)\n",
        "\n",
        "history = model.fit_generator(\n",
        "  generator=training_generator,\n",
        "  steps_per_epoch=STEP_SIZE_TRAINING,  \n",
        "  epochs=epochs,\n",
        "  validation_data=validation_generator,\n",
        "  validation_steps=STEP_SIZE_VALIDATION,\n",
        "  callbacks=[early_stopping, check_pointer],\n",
        "  verbose=1)"
      ],
      "execution_count": 0,
      "outputs": []
    },
    {
      "cell_type": "code",
      "metadata": {
        "id": "1qbckMrgIn1W",
        "colab_type": "code",
        "colab": {}
      },
      "source": [
        "acc = history.history['acc']\n",
        "val_acc = history.history['val_acc']\n",
        "loss = history.history['loss']\n",
        "val_loss = history.history['val_loss']\n",
        "\n",
        "epochs = range(len(acc))\n",
        "\n",
        "plt.figure()\n",
        "plt.plot(epochs, acc, 'r', label='Training Accuracy')\n",
        "plt.plot(epochs, val_acc, 'b', label='Validation Accuracy')\n",
        "plt.title('Training / Validation Accuracies')\n",
        "plt.legend()\n",
        "\n",
        "plt.figure()\n",
        "plt.plot(epochs, loss, 'r', label='Training Loss')\n",
        "plt.plot(epochs, val_loss, 'b', label='Validation Loss')\n",
        "plt.title('Training / Validation Loss')\n",
        "plt.legend()\n",
        "\n",
        "plt.show()"
      ],
      "execution_count": 0,
      "outputs": []
    },
    {
      "cell_type": "code",
      "metadata": {
        "id": "911wsPZ46tIH",
        "colab_type": "code",
        "colab": {}
      },
      "source": [
        "print(f'Testing Loss, Testing Accuracy: {model.evaluate_generator(generator=testing_generator, steps=STEP_SIZE_TESTING)}')\n",
        "print(f'Training Loss, Training Accuracy: {model.evaluate_generator(generator=training_generator, steps=STEP_SIZE_TRAINING)}')\n",
        "print(f'Validation Loss, Validation Accuracy: {model.evaluate_generator(generator=validation_generator, steps=STEP_SIZE_VALIDATION)}')"
      ],
      "execution_count": 0,
      "outputs": []
    },
    {
      "cell_type": "code",
      "metadata": {
        "id": "twOwWkTbpMoA",
        "colab_type": "code",
        "colab": {}
      },
      "source": [
        "!rm --force /content/*.jpg /content/*.png\n",
        "\n",
        "label_names = { v: k for k, v in training_generator.class_indices.items() }\n",
        "\n",
        "uploaded_files = files.upload()\n",
        "\n",
        "for file_name in uploaded_files.keys():\n",
        "  file_path = os.path.join('/content', file_name)\n",
        "\n",
        "  img = image.load_img(file_path, target_size=(input_shape[0], input_shape[1]))\n",
        "  x = image.img_to_array(img)\n",
        "  x = np.expand_dims(x, axis=0)\n",
        "  x = tf.keras.applications.inception_v3.preprocess_input(x)\n",
        "\n",
        "  classes = model.predict(x)\n",
        "\n",
        "  if classes[0] > 0.5:\n",
        "    print(f\"[{file_name}] is predicted as [{label_names[1]}]\")\n",
        "  else:\n",
        "    print(f\"[{file_name}] is predicted as [{label_names[0]}]\")"
      ],
      "execution_count": 0,
      "outputs": []
    }
  ]
}