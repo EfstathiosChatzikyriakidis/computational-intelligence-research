{
 "cells": [
  {
   "cell_type": "code",
   "execution_count": 587,
   "id": "a68ecaf1-8900-4a55-8d5a-ebd7c58101d9",
   "metadata": {},
   "outputs": [],
   "source": [
    "import numpy as np"
   ]
  },
  {
   "cell_type": "code",
   "execution_count": 589,
   "id": "2ea6a5c8-7ddf-404a-b088-61b42e61a8f9",
   "metadata": {},
   "outputs": [
    {
     "data": {
      "text/plain": [
       "array([2, 4, 6])"
      ]
     },
     "execution_count": 589,
     "metadata": {},
     "output_type": "execute_result"
    }
   ],
   "source": [
    "v = np.array([2, 4, 6])\n",
    "\n",
    "v"
   ]
  },
  {
   "cell_type": "code",
   "execution_count": 591,
   "id": "4cc792c2-c5fb-4839-b3c6-4fc533c3d257",
   "metadata": {},
   "outputs": [
    {
     "data": {
      "text/plain": [
       "array([2, 4, 6])"
      ]
     },
     "execution_count": 591,
     "metadata": {},
     "output_type": "execute_result"
    }
   ],
   "source": [
    "u = np.array([2, 4, 6])\n",
    "\n",
    "u"
   ]
  },
  {
   "cell_type": "code",
   "execution_count": 593,
   "id": "17a58bbd-6db7-4028-9f7f-7a7d3e380589",
   "metadata": {},
   "outputs": [
    {
     "data": {
      "text/plain": [
       "(3,)"
      ]
     },
     "execution_count": 593,
     "metadata": {},
     "output_type": "execute_result"
    }
   ],
   "source": [
    "v.shape"
   ]
  },
  {
   "cell_type": "code",
   "execution_count": 595,
   "id": "92633dbf-3470-41d0-846e-220918790172",
   "metadata": {},
   "outputs": [
    {
     "data": {
      "text/plain": [
       "(3,)"
      ]
     },
     "execution_count": 595,
     "metadata": {},
     "output_type": "execute_result"
    }
   ],
   "source": [
    "u.shape"
   ]
  },
  {
   "cell_type": "code",
   "execution_count": 597,
   "id": "5b59236b-5fa9-465c-9c50-bc0115287578",
   "metadata": {},
   "outputs": [
    {
     "data": {
      "text/plain": [
       "array([[ 2,  4,  6],\n",
       "       [ 3,  6,  9],\n",
       "       [ 4,  8, 12]])"
      ]
     },
     "execution_count": 597,
     "metadata": {},
     "output_type": "execute_result"
    }
   ],
   "source": [
    "V = np.array([[2, 4, 6], [3, 6, 9], [4, 8, 12]])\n",
    "\n",
    "V"
   ]
  },
  {
   "cell_type": "code",
   "execution_count": 599,
   "id": "da4b5ca1-6740-4caa-9d47-7588d3204b0d",
   "metadata": {},
   "outputs": [
    {
     "data": {
      "text/plain": [
       "array([[ 2,  4,  6],\n",
       "       [ 3,  6,  9],\n",
       "       [ 4,  8, 12]])"
      ]
     },
     "execution_count": 599,
     "metadata": {},
     "output_type": "execute_result"
    }
   ],
   "source": [
    "U = np.array([[2, 4, 6], [3, 6, 9], [4, 8, 12]])\n",
    "\n",
    "U"
   ]
  },
  {
   "cell_type": "code",
   "execution_count": 601,
   "id": "e6f3144e-189b-4d9a-8520-6d8593552bf6",
   "metadata": {},
   "outputs": [
    {
     "data": {
      "text/plain": [
       "(3, 3)"
      ]
     },
     "execution_count": 601,
     "metadata": {},
     "output_type": "execute_result"
    }
   ],
   "source": [
    "V.shape"
   ]
  },
  {
   "cell_type": "code",
   "execution_count": 603,
   "id": "94bb91f2-79fb-400f-bf4f-8f21a29c9021",
   "metadata": {},
   "outputs": [
    {
     "data": {
      "text/plain": [
       "(3, 3)"
      ]
     },
     "execution_count": 603,
     "metadata": {},
     "output_type": "execute_result"
    }
   ],
   "source": [
    "U.shape"
   ]
  },
  {
   "cell_type": "markdown",
   "id": "2c8f3359-d6a7-4543-9706-70e5e64c7b55",
   "metadata": {},
   "source": [
    "| #  | NumPy Solution            | Einstein Summation Notation      | Description                                                    |\n",
    "|----|---------------------------|----------------------------------|----------------------------------------------------------------|\n",
    "| 1  | `v`                       | `np.einsum(\"i\", v)`              | Returns a view of `v` vector                                   |\n",
    "| 2  | `np.sum(v)`               | `np.einsum(\"i->\", v)`            | Sums the values of `v` vector                                  |\n",
    "| 3  | `v * u`                   | `np.einsum(\"i,i->i\", v, u)`      | Element-wise multiplication of `v` and `u` vectors             |\n",
    "| 4  | `np.inner(v, u)`          | `np.einsum(\"i,i\", v, u)`         | Inner product of `v` and `u` vectors                           |\n",
    "| 5  | `np.outer(v, u)`          | `np.einsum(\"i,j->ij\", v, u)`     | Outer product of `v` and `u` vectors                           |\n",
    "| 6  | `V`                       | `np.einsum(\"ij\", V)`             | Returns a view of `V` matrix                                   |\n",
    "| 7  | `V.T`                     | `np.einsum(\"ij->ji\", V)`         | View transpose of `V` matrix                                   |\n",
    "| 8  | `np.diag(V)`              | `np.einsum(\"ii->i\", V)`          | View main diagonal of `V` matrix                               |\n",
    "| 9  | `np.trace(V)`             | `np.einsum(\"ii->\", V)`           | Sums main diagonal of `V` matrix                               |\n",
    "| 10 | `np.sum(V)`               | `np.einsum(\"ij->\", V)`           | Sums the values of `V` matrix                                  |\n",
    "| 11 | `np.sum(V, axis=0)`       | `np.einsum(\"ij->j\", V)`          | Sum vertically along the columns of `V` matrix                 |\n",
    "| 12 | `np.sum(V, axis=1)`       | `np.einsum(\"ij->i\", V)`          | Sum horizontally along the rows of `V` matrix                  |\n",
    "| 13 | `V * U`                   | `np.einsum(\"ij,ij->ij\", V, U)`   | Element-wise multiplication of `V` and `U` matrices            |\n",
    "| 14 | `V * U.T`                 | `np.einsum(\"ij,ji->ij\", V, U)`   | Element-wise multiplication of `V` and transposed `U` matrices |\n",
    "| 15 | `np.dot(V, U)`            | `np.einsum(\"ij,jk->ik\", V, U)`   | Matrix multiplication of `V` and `U` matrices                  |\n",
    "| 16 | `V[:, :, None, None] * U` | `np.einsum(\"ij,kl->ijkl\", V, U)` | Each value of `V` matrix multiplied by `U` matrix              |\n",
    "| 17 | `V[:, None] * U`          | `np.einsum(\"ik,jk->ijk\", V, U)`  | Each row of `V` matrix multiplied by `U` matrix                |"
   ]
  },
  {
   "cell_type": "code",
   "execution_count": 606,
   "id": "8efa8e99-d131-4633-b69d-ec24cdb88f51",
   "metadata": {},
   "outputs": [
    {
     "data": {
      "text/plain": [
       "True"
      ]
     },
     "metadata": {},
     "output_type": "display_data"
    },
    {
     "data": {
      "text/plain": [
       "array([2, 4, 6])"
      ]
     },
     "metadata": {},
     "output_type": "display_data"
    },
    {
     "data": {
      "text/plain": [
       "array([2, 4, 6])"
      ]
     },
     "metadata": {},
     "output_type": "display_data"
    }
   ],
   "source": [
    "# 1\n",
    "\n",
    "a = np.einsum(\"i\", v)\n",
    "b = v\n",
    "\n",
    "display(np.array_equal(a, b))\n",
    "\n",
    "display(a)\n",
    "display(b)"
   ]
  },
  {
   "cell_type": "code",
   "execution_count": 608,
   "id": "45e70de6-b3b7-4a44-8477-0576409175a2",
   "metadata": {},
   "outputs": [
    {
     "data": {
      "text/plain": [
       "True"
      ]
     },
     "metadata": {},
     "output_type": "display_data"
    },
    {
     "data": {
      "text/plain": [
       "12"
      ]
     },
     "metadata": {},
     "output_type": "display_data"
    },
    {
     "data": {
      "text/plain": [
       "12"
      ]
     },
     "metadata": {},
     "output_type": "display_data"
    }
   ],
   "source": [
    "# 2\n",
    "\n",
    "a = np.einsum(\"i->\", v)\n",
    "b = np.sum(v)\n",
    "\n",
    "display(np.array_equal(a, b))\n",
    "\n",
    "display(a)\n",
    "display(b)"
   ]
  },
  {
   "cell_type": "code",
   "execution_count": 610,
   "id": "77054f9b-0f09-4dc7-9f5b-3427573ba535",
   "metadata": {},
   "outputs": [
    {
     "data": {
      "text/plain": [
       "True"
      ]
     },
     "metadata": {},
     "output_type": "display_data"
    },
    {
     "data": {
      "text/plain": [
       "array([ 4, 16, 36])"
      ]
     },
     "metadata": {},
     "output_type": "display_data"
    },
    {
     "data": {
      "text/plain": [
       "array([ 4, 16, 36])"
      ]
     },
     "metadata": {},
     "output_type": "display_data"
    }
   ],
   "source": [
    "# 3\n",
    "\n",
    "a = np.einsum(\"i,i->i\", v, u)\n",
    "b = v * u\n",
    "\n",
    "display(np.array_equal(a, b))\n",
    "\n",
    "display(a)\n",
    "display(b)"
   ]
  },
  {
   "cell_type": "code",
   "execution_count": 612,
   "id": "8f4002be-286d-4c9d-82f9-10eca9a98c95",
   "metadata": {},
   "outputs": [
    {
     "data": {
      "text/plain": [
       "True"
      ]
     },
     "metadata": {},
     "output_type": "display_data"
    },
    {
     "data": {
      "text/plain": [
       "56"
      ]
     },
     "metadata": {},
     "output_type": "display_data"
    },
    {
     "data": {
      "text/plain": [
       "56"
      ]
     },
     "metadata": {},
     "output_type": "display_data"
    }
   ],
   "source": [
    "# 4\n",
    "\n",
    "a = np.einsum(\"i,i\", v, u)\n",
    "b = np.inner(v, u)\n",
    "\n",
    "display(np.array_equal(a, b))\n",
    "\n",
    "display(a)\n",
    "display(b)"
   ]
  },
  {
   "cell_type": "code",
   "execution_count": 614,
   "id": "55601551-db2f-41db-803a-108256cdb480",
   "metadata": {},
   "outputs": [
    {
     "data": {
      "text/plain": [
       "True"
      ]
     },
     "metadata": {},
     "output_type": "display_data"
    },
    {
     "data": {
      "text/plain": [
       "array([[ 4,  8, 12],\n",
       "       [ 8, 16, 24],\n",
       "       [12, 24, 36]])"
      ]
     },
     "metadata": {},
     "output_type": "display_data"
    },
    {
     "data": {
      "text/plain": [
       "array([[ 4,  8, 12],\n",
       "       [ 8, 16, 24],\n",
       "       [12, 24, 36]])"
      ]
     },
     "metadata": {},
     "output_type": "display_data"
    }
   ],
   "source": [
    "# 5\n",
    "\n",
    "a = np.einsum(\"i,j->ij\", v, u)\n",
    "b = np.outer(v, u)\n",
    "\n",
    "display(np.array_equal(a, b))\n",
    "\n",
    "display(a)\n",
    "display(b)"
   ]
  },
  {
   "cell_type": "code",
   "execution_count": 616,
   "id": "6700b37b-f604-4224-a9d7-c8889c59d7d8",
   "metadata": {},
   "outputs": [
    {
     "data": {
      "text/plain": [
       "True"
      ]
     },
     "metadata": {},
     "output_type": "display_data"
    },
    {
     "data": {
      "text/plain": [
       "array([[ 2,  4,  6],\n",
       "       [ 3,  6,  9],\n",
       "       [ 4,  8, 12]])"
      ]
     },
     "metadata": {},
     "output_type": "display_data"
    },
    {
     "data": {
      "text/plain": [
       "array([[ 2,  4,  6],\n",
       "       [ 3,  6,  9],\n",
       "       [ 4,  8, 12]])"
      ]
     },
     "metadata": {},
     "output_type": "display_data"
    }
   ],
   "source": [
    "# 6\n",
    "\n",
    "a = np.einsum(\"ij\", V)\n",
    "b = V\n",
    "\n",
    "display(np.array_equal(a, b))\n",
    "\n",
    "display(a)\n",
    "display(b)"
   ]
  },
  {
   "cell_type": "code",
   "execution_count": 618,
   "id": "9b7acbea-9261-4597-841a-1bc9bbd58f22",
   "metadata": {},
   "outputs": [
    {
     "data": {
      "text/plain": [
       "True"
      ]
     },
     "metadata": {},
     "output_type": "display_data"
    },
    {
     "data": {
      "text/plain": [
       "array([[ 2,  3,  4],\n",
       "       [ 4,  6,  8],\n",
       "       [ 6,  9, 12]])"
      ]
     },
     "metadata": {},
     "output_type": "display_data"
    },
    {
     "data": {
      "text/plain": [
       "array([[ 2,  3,  4],\n",
       "       [ 4,  6,  8],\n",
       "       [ 6,  9, 12]])"
      ]
     },
     "metadata": {},
     "output_type": "display_data"
    }
   ],
   "source": [
    "# 7\n",
    "\n",
    "a = np.einsum(\"ij->ji\", V)\n",
    "b = V.T\n",
    "\n",
    "display(np.array_equal(a, b))\n",
    "\n",
    "display(a)\n",
    "display(b)"
   ]
  },
  {
   "cell_type": "code",
   "execution_count": 620,
   "id": "20a0eed5-2add-468d-a8ca-d2b5e6056a6f",
   "metadata": {},
   "outputs": [
    {
     "data": {
      "text/plain": [
       "True"
      ]
     },
     "metadata": {},
     "output_type": "display_data"
    },
    {
     "data": {
      "text/plain": [
       "array([ 2,  6, 12])"
      ]
     },
     "metadata": {},
     "output_type": "display_data"
    },
    {
     "data": {
      "text/plain": [
       "array([ 2,  6, 12])"
      ]
     },
     "metadata": {},
     "output_type": "display_data"
    }
   ],
   "source": [
    "# 8\n",
    "\n",
    "a = np.einsum(\"ii->i\", V)\n",
    "b = np.diag(V)\n",
    "\n",
    "display(np.array_equal(a, b))\n",
    "\n",
    "display(a)\n",
    "display(b)"
   ]
  },
  {
   "cell_type": "code",
   "execution_count": 622,
   "id": "0b051e37-2ae0-4eda-a9c0-fdd9804fb413",
   "metadata": {},
   "outputs": [
    {
     "data": {
      "text/plain": [
       "True"
      ]
     },
     "metadata": {},
     "output_type": "display_data"
    },
    {
     "data": {
      "text/plain": [
       "20"
      ]
     },
     "metadata": {},
     "output_type": "display_data"
    },
    {
     "data": {
      "text/plain": [
       "20"
      ]
     },
     "metadata": {},
     "output_type": "display_data"
    }
   ],
   "source": [
    "# 9\n",
    "\n",
    "a = np.einsum(\"ii->\", V)\n",
    "b = np.trace(V)\n",
    "\n",
    "display(np.array_equal(a, b))\n",
    "\n",
    "display(a)\n",
    "display(b)"
   ]
  },
  {
   "cell_type": "code",
   "execution_count": 624,
   "id": "4223f9c6-9238-414e-a7c9-c48fdb6e15c9",
   "metadata": {},
   "outputs": [
    {
     "data": {
      "text/plain": [
       "True"
      ]
     },
     "metadata": {},
     "output_type": "display_data"
    },
    {
     "data": {
      "text/plain": [
       "54"
      ]
     },
     "metadata": {},
     "output_type": "display_data"
    },
    {
     "data": {
      "text/plain": [
       "54"
      ]
     },
     "metadata": {},
     "output_type": "display_data"
    }
   ],
   "source": [
    "# 10\n",
    "\n",
    "a = np.einsum(\"ij->\", V)\n",
    "b = np.sum(V)\n",
    "\n",
    "display(np.array_equal(a, b))\n",
    "\n",
    "display(a)\n",
    "display(b)"
   ]
  },
  {
   "cell_type": "code",
   "execution_count": 626,
   "id": "a4dc1b75-75af-44f0-888f-a783bb4880b3",
   "metadata": {},
   "outputs": [
    {
     "data": {
      "text/plain": [
       "True"
      ]
     },
     "metadata": {},
     "output_type": "display_data"
    },
    {
     "data": {
      "text/plain": [
       "array([ 9, 18, 27])"
      ]
     },
     "metadata": {},
     "output_type": "display_data"
    },
    {
     "data": {
      "text/plain": [
       "array([ 9, 18, 27])"
      ]
     },
     "metadata": {},
     "output_type": "display_data"
    }
   ],
   "source": [
    "# 11\n",
    "\n",
    "a = np.einsum(\"ij->j\", V)\n",
    "b = np.sum(V, axis=0)\n",
    "\n",
    "display(np.array_equal(a, b))\n",
    "\n",
    "display(a)\n",
    "display(b)"
   ]
  },
  {
   "cell_type": "code",
   "execution_count": 628,
   "id": "8fd069c8-825f-4482-a091-26a2b1c56b68",
   "metadata": {},
   "outputs": [
    {
     "data": {
      "text/plain": [
       "True"
      ]
     },
     "metadata": {},
     "output_type": "display_data"
    },
    {
     "data": {
      "text/plain": [
       "array([12, 18, 24])"
      ]
     },
     "metadata": {},
     "output_type": "display_data"
    },
    {
     "data": {
      "text/plain": [
       "array([12, 18, 24])"
      ]
     },
     "metadata": {},
     "output_type": "display_data"
    }
   ],
   "source": [
    "# 12\n",
    "\n",
    "a = np.einsum(\"ij->i\", V)\n",
    "b = np.sum(V, axis=1)\n",
    "\n",
    "display(np.array_equal(a, b))\n",
    "\n",
    "display(a)\n",
    "display(b)"
   ]
  },
  {
   "cell_type": "code",
   "execution_count": 630,
   "id": "3865a305-ee54-4f6f-94fd-22c9ab62df1a",
   "metadata": {},
   "outputs": [
    {
     "data": {
      "text/plain": [
       "True"
      ]
     },
     "metadata": {},
     "output_type": "display_data"
    },
    {
     "data": {
      "text/plain": [
       "array([[  4,  16,  36],\n",
       "       [  9,  36,  81],\n",
       "       [ 16,  64, 144]])"
      ]
     },
     "metadata": {},
     "output_type": "display_data"
    },
    {
     "data": {
      "text/plain": [
       "array([[  4,  16,  36],\n",
       "       [  9,  36,  81],\n",
       "       [ 16,  64, 144]])"
      ]
     },
     "metadata": {},
     "output_type": "display_data"
    }
   ],
   "source": [
    "# 13\n",
    "\n",
    "a = np.einsum(\"ij,ij->ij\", V, U)\n",
    "b = V * U\n",
    "\n",
    "display(np.array_equal(a, b))\n",
    "\n",
    "display(a)\n",
    "display(b)"
   ]
  },
  {
   "cell_type": "code",
   "execution_count": 632,
   "id": "7dd5cfa4-19af-437a-b02c-3c090513237a",
   "metadata": {},
   "outputs": [
    {
     "data": {
      "text/plain": [
       "True"
      ]
     },
     "metadata": {},
     "output_type": "display_data"
    },
    {
     "data": {
      "text/plain": [
       "array([[  4,  12,  24],\n",
       "       [ 12,  36,  72],\n",
       "       [ 24,  72, 144]])"
      ]
     },
     "metadata": {},
     "output_type": "display_data"
    },
    {
     "data": {
      "text/plain": [
       "array([[  4,  12,  24],\n",
       "       [ 12,  36,  72],\n",
       "       [ 24,  72, 144]])"
      ]
     },
     "metadata": {},
     "output_type": "display_data"
    }
   ],
   "source": [
    "# 14\n",
    "\n",
    "a = np.einsum(\"ij,ji->ij\", V, U)\n",
    "b = V * U.T\n",
    "\n",
    "display(np.array_equal(a, b))\n",
    "\n",
    "display(a)\n",
    "display(b)"
   ]
  },
  {
   "cell_type": "code",
   "execution_count": 634,
   "id": "cddd615f-d2d9-4439-bcee-12bff76cdb36",
   "metadata": {},
   "outputs": [
    {
     "data": {
      "text/plain": [
       "True"
      ]
     },
     "metadata": {},
     "output_type": "display_data"
    },
    {
     "data": {
      "text/plain": [
       "array([[ 40,  80, 120],\n",
       "       [ 60, 120, 180],\n",
       "       [ 80, 160, 240]])"
      ]
     },
     "metadata": {},
     "output_type": "display_data"
    },
    {
     "data": {
      "text/plain": [
       "array([[ 40,  80, 120],\n",
       "       [ 60, 120, 180],\n",
       "       [ 80, 160, 240]])"
      ]
     },
     "metadata": {},
     "output_type": "display_data"
    }
   ],
   "source": [
    "# 15\n",
    "\n",
    "a = np.einsum(\"ij,jk->ik\", V, U)\n",
    "b = np.dot(V, U)\n",
    "\n",
    "display(np.array_equal(a, b))\n",
    "\n",
    "display(a)\n",
    "display(b)"
   ]
  },
  {
   "cell_type": "code",
   "execution_count": 636,
   "id": "5dc7a3dd-9d75-44d1-a298-5dfc1fd698b1",
   "metadata": {},
   "outputs": [
    {
     "data": {
      "text/plain": [
       "True"
      ]
     },
     "metadata": {},
     "output_type": "display_data"
    },
    {
     "data": {
      "text/plain": [
       "array([[[[  4,   8,  12],\n",
       "         [  6,  12,  18],\n",
       "         [  8,  16,  24]],\n",
       "\n",
       "        [[  8,  16,  24],\n",
       "         [ 12,  24,  36],\n",
       "         [ 16,  32,  48]],\n",
       "\n",
       "        [[ 12,  24,  36],\n",
       "         [ 18,  36,  54],\n",
       "         [ 24,  48,  72]]],\n",
       "\n",
       "\n",
       "       [[[  6,  12,  18],\n",
       "         [  9,  18,  27],\n",
       "         [ 12,  24,  36]],\n",
       "\n",
       "        [[ 12,  24,  36],\n",
       "         [ 18,  36,  54],\n",
       "         [ 24,  48,  72]],\n",
       "\n",
       "        [[ 18,  36,  54],\n",
       "         [ 27,  54,  81],\n",
       "         [ 36,  72, 108]]],\n",
       "\n",
       "\n",
       "       [[[  8,  16,  24],\n",
       "         [ 12,  24,  36],\n",
       "         [ 16,  32,  48]],\n",
       "\n",
       "        [[ 16,  32,  48],\n",
       "         [ 24,  48,  72],\n",
       "         [ 32,  64,  96]],\n",
       "\n",
       "        [[ 24,  48,  72],\n",
       "         [ 36,  72, 108],\n",
       "         [ 48,  96, 144]]]])"
      ]
     },
     "metadata": {},
     "output_type": "display_data"
    },
    {
     "data": {
      "text/plain": [
       "array([[[[  4,   8,  12],\n",
       "         [  6,  12,  18],\n",
       "         [  8,  16,  24]],\n",
       "\n",
       "        [[  8,  16,  24],\n",
       "         [ 12,  24,  36],\n",
       "         [ 16,  32,  48]],\n",
       "\n",
       "        [[ 12,  24,  36],\n",
       "         [ 18,  36,  54],\n",
       "         [ 24,  48,  72]]],\n",
       "\n",
       "\n",
       "       [[[  6,  12,  18],\n",
       "         [  9,  18,  27],\n",
       "         [ 12,  24,  36]],\n",
       "\n",
       "        [[ 12,  24,  36],\n",
       "         [ 18,  36,  54],\n",
       "         [ 24,  48,  72]],\n",
       "\n",
       "        [[ 18,  36,  54],\n",
       "         [ 27,  54,  81],\n",
       "         [ 36,  72, 108]]],\n",
       "\n",
       "\n",
       "       [[[  8,  16,  24],\n",
       "         [ 12,  24,  36],\n",
       "         [ 16,  32,  48]],\n",
       "\n",
       "        [[ 16,  32,  48],\n",
       "         [ 24,  48,  72],\n",
       "         [ 32,  64,  96]],\n",
       "\n",
       "        [[ 24,  48,  72],\n",
       "         [ 36,  72, 108],\n",
       "         [ 48,  96, 144]]]])"
      ]
     },
     "metadata": {},
     "output_type": "display_data"
    }
   ],
   "source": [
    "# 16\n",
    "\n",
    "a = np.einsum(\"ij,kl->ijkl\", V, U)\n",
    "b = V[:, :, None, None] * U\n",
    "\n",
    "display(np.array_equal(a, b))\n",
    "\n",
    "display(a)\n",
    "display(b)"
   ]
  },
  {
   "cell_type": "code",
   "execution_count": 638,
   "id": "14029054-e1b5-45bd-85f3-434a3a4ea22c",
   "metadata": {},
   "outputs": [
    {
     "data": {
      "text/plain": [
       "True"
      ]
     },
     "metadata": {},
     "output_type": "display_data"
    },
    {
     "data": {
      "text/plain": [
       "array([[[  4,  16,  36],\n",
       "        [  6,  24,  54],\n",
       "        [  8,  32,  72]],\n",
       "\n",
       "       [[  6,  24,  54],\n",
       "        [  9,  36,  81],\n",
       "        [ 12,  48, 108]],\n",
       "\n",
       "       [[  8,  32,  72],\n",
       "        [ 12,  48, 108],\n",
       "        [ 16,  64, 144]]])"
      ]
     },
     "metadata": {},
     "output_type": "display_data"
    },
    {
     "data": {
      "text/plain": [
       "array([[[  4,  16,  36],\n",
       "        [  6,  24,  54],\n",
       "        [  8,  32,  72]],\n",
       "\n",
       "       [[  6,  24,  54],\n",
       "        [  9,  36,  81],\n",
       "        [ 12,  48, 108]],\n",
       "\n",
       "       [[  8,  32,  72],\n",
       "        [ 12,  48, 108],\n",
       "        [ 16,  64, 144]]])"
      ]
     },
     "metadata": {},
     "output_type": "display_data"
    }
   ],
   "source": [
    "# 17\n",
    "\n",
    "a = np.einsum(\"ik,jk->ijk\", V, U)\n",
    "b = V[:, None] * U\n",
    "\n",
    "display(np.array_equal(a, b))\n",
    "\n",
    "display(a)\n",
    "display(b)"
   ]
  }
 ],
 "metadata": {
  "kernelspec": {
   "display_name": "Python 3 (ipykernel)",
   "language": "python",
   "name": "python3"
  },
  "language_info": {
   "codemirror_mode": {
    "name": "ipython",
    "version": 3
   },
   "file_extension": ".py",
   "mimetype": "text/x-python",
   "name": "python",
   "nbconvert_exporter": "python",
   "pygments_lexer": "ipython3",
   "version": "3.11.9"
  }
 },
 "nbformat": 4,
 "nbformat_minor": 5
}
