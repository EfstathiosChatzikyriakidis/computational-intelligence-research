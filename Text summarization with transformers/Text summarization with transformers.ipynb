{
  "nbformat": 4,
  "nbformat_minor": 0,
  "metadata": {
    "colab": {
      "name": "Text summarization with transformers.ipynb",
      "provenance": [],
      "collapsed_sections": [
        "Yn4KogFHJY3I",
        "HY2Mqeu7Jha7",
        "sn9oQROVJj9r",
        "8vZVqkwnJmKG",
        "BLNllVaiJpO_",
        "IkoGAU9lKGf6",
        "OyfigIqCJUt4",
        "Zev5JHlJJQIp"
      ],
      "toc_visible": true,
      "include_colab_link": true
    },
    "kernelspec": {
      "name": "python3",
      "display_name": "Python 3"
    },
    "accelerator": "GPU"
  },
  "cells": [
    {
      "cell_type": "markdown",
      "metadata": {
        "id": "Yn4KogFHJY3I"
      },
      "source": [
        "# Documentation Links"
      ]
    },
    {
      "cell_type": "code",
      "metadata": {
        "id": "1TqY1CZNov8T"
      },
      "source": [
        "# How to decode text in NLG models: https://huggingface.co/blog/how-to-generate\n",
        "\n",
        "# Pretrained models from documentation: https://huggingface.co/transformers/pretrained_models.html\n",
        "\n",
        "# Pipeline API: https://huggingface.co/transformers/main_classes/pipelines.html#transformers.pipeline\n",
        "\n",
        "# Model API: https://huggingface.co/transformers/main_classes/model.html\n",
        "\n",
        "# Tokenizer API: https://huggingface.co/transformers/main_classes/tokenizer.html\n",
        "\n",
        "# Configuration API: https://huggingface.co/transformers/main_classes/configuration.html"
      ],
      "execution_count": 16,
      "outputs": []
    },
    {
      "cell_type": "markdown",
      "metadata": {
        "id": "HY2Mqeu7Jha7"
      },
      "source": [
        "# Install Modules"
      ]
    },
    {
      "cell_type": "code",
      "metadata": {
        "id": "6khAYN0sAufF"
      },
      "source": [
        "!pip install -q transformers"
      ],
      "execution_count": 17,
      "outputs": []
    },
    {
      "cell_type": "markdown",
      "metadata": {
        "id": "sn9oQROVJj9r"
      },
      "source": [
        "# Import Modules"
      ]
    },
    {
      "cell_type": "code",
      "metadata": {
        "id": "OwMU81XiAv2R"
      },
      "source": [
        "import nltk\n",
        "\n",
        "from itertools import chain\n",
        "\n",
        "from nltk.tokenize import RegexpTokenizer, sent_tokenize\n",
        "\n",
        "from transformers import AutoTokenizer, AutoModelForSeq2SeqLM"
      ],
      "execution_count": 18,
      "outputs": []
    },
    {
      "cell_type": "markdown",
      "metadata": {
        "id": "gmuY94gE4Q8o"
      },
      "source": [
        "# Download Dependencies"
      ]
    },
    {
      "cell_type": "code",
      "metadata": {
        "id": "vIeqBGK64TKs",
        "colab": {
          "base_uri": "https://localhost:8080/"
        },
        "outputId": "b2c68a99-b73b-4ee9-aed7-a761d167e506"
      },
      "source": [
        "nltk.download('punkt')"
      ],
      "execution_count": 19,
      "outputs": [
        {
          "output_type": "stream",
          "text": [
            "[nltk_data] Downloading package punkt to /root/nltk_data...\n",
            "[nltk_data]   Package punkt is already up-to-date!\n"
          ],
          "name": "stdout"
        },
        {
          "output_type": "execute_result",
          "data": {
            "text/plain": [
              "True"
            ]
          },
          "metadata": {
            "tags": []
          },
          "execution_count": 19
        }
      ]
    },
    {
      "cell_type": "markdown",
      "metadata": {
        "id": "55aq6F_z2tMk"
      },
      "source": [
        "# Define Functions"
      ]
    },
    {
      "cell_type": "code",
      "metadata": {
        "id": "DLGKSRie2xF2"
      },
      "source": [
        "def sentence_segmentation(document, minimum_n_words_to_accept_sentence, language):\n",
        "    paragraphs = list(filter(lambda o: len(o.strip()) > 0, document.split('\\n')))\n",
        "\n",
        "    paragraphs = [ p.strip() for p in paragraphs ]\n",
        "\n",
        "    paragraph_sentences = [ sent_tokenize(p, language=language) for p in paragraphs ]\n",
        "\n",
        "    paragraph_sentences = chain(*paragraph_sentences)\n",
        "\n",
        "    paragraph_sentences = [ s.strip() for s in paragraph_sentences ]\n",
        "\n",
        "    normal_word_tokenizer = RegexpTokenizer(r'[^\\W_]+')\n",
        "\n",
        "    paragraph_sentences = filter(lambda o: len(normal_word_tokenizer.tokenize(o)) >= minimum_n_words_to_accept_sentence, paragraph_sentences)\n",
        "\n",
        "    return list(paragraph_sentences)\n",
        "\n",
        "def chunk_text_to_pieces(text, language, tokenizer):\n",
        "\tsentences = [ s + ' ' for s in sentence_segmentation(text, minimum_n_words_to_accept_sentence=1, language=language) ]\n",
        "\n",
        "\tchunks = []\n",
        "\n",
        "\tchunk = ''\n",
        "\n",
        "\tlength = 0\n",
        "\n",
        "\tfor sentence in sentences:\n",
        "\t\ttokenized_sentence = tokenizer.encode(sentence, truncation=False, max_length=None, return_tensors='pt') [0]\n",
        "\n",
        "\t\tif len(tokenized_sentence) > tokenizer.model_max_length:\n",
        "\t\t\tcontinue\n",
        "\n",
        "\t\tlength += len(tokenized_sentence)\n",
        "\n",
        "\t\tif length <= tokenizer.model_max_length:\n",
        "\t\t\tchunk = chunk + sentence\n",
        "\t\telse:\n",
        "\t\t\tchunks.append(chunk.strip())\n",
        "\t\t\tchunk = sentence\n",
        "\t\t\tlength = len(tokenized_sentence)\n",
        "\n",
        "\tif len(chunk) > 0:\n",
        "\t\tchunks.append(chunk.strip())\n",
        "\n",
        "\treturn chunks\n",
        "\n",
        "def clean_text(text):\n",
        "  if text.count('.') == 0:\n",
        "    return text.strip()\n",
        "\n",
        "  end_index = text.rindex('.') + 1\n",
        "\n",
        "  return text[0 : end_index].strip()\n",
        "\n",
        "def summarize(text, model_key, device, language):\n",
        "    tokenizer = AutoTokenizer.from_pretrained(model_key)\n",
        "\n",
        "    model = AutoModelForSeq2SeqLM.from_pretrained(model_key)\n",
        "\n",
        "    chunk_texts = chunk_text_to_pieces(text, language, tokenizer)\n",
        "\n",
        "    chunk_summaries = []\n",
        "\n",
        "    for chunk_text in chunk_texts:\n",
        "      input_tokenized = tokenizer.encode(chunk_text, return_tensors='pt')\n",
        "\n",
        "      input_tokenized = input_tokenized.to(device)\n",
        "\n",
        "      summary_ids = model.to(device).generate(input_tokenized, length_penalty=3.0, min_length = int(0.1 * len(chunk_text)), max_length = int(0.2 * len(chunk_text)), early_stopping=True, num_beams=5, no_repeat_ngram_size=3)\n",
        "\n",
        "      output = [tokenizer.decode(g, skip_special_tokens=True, clean_up_tokenization_spaces=True) for g in summary_ids]\n",
        "\n",
        "      chunk_summaries.append(output)\n",
        "\n",
        "    summaries = [ clean_text(text) for chunk_summary in chunk_summaries for text in chunk_summary ]\n",
        "\n",
        "    return summaries"
      ],
      "execution_count": 20,
      "outputs": []
    },
    {
      "cell_type": "markdown",
      "metadata": {
        "id": "8vZVqkwnJmKG"
      },
      "source": [
        "# Models Selected (from Hugging Face)"
      ]
    },
    {
      "cell_type": "code",
      "metadata": {
        "id": "y_F9hu9oA2a_"
      },
      "source": [
        "# t5-base\n",
        "# t5-small\n",
        "# t5-large\n",
        "\n",
        "# facebook/bart-large-cnn\n",
        "# facebook/bart-large-xsum\n",
        "\n",
        "# sshleifer/distilbart-cnn-12-6\n",
        "# sshleifer/distilbart-cnn-6-6\n",
        "\n",
        "# airKlizz/t5-base-multi-en-wiki-news\n",
        "# airKlizz/t5-base-with-title-multi-en-wiki-news\n",
        "# airKlizz/distilbart-multi-combine-wiki-news\n",
        "# airKlizz/t5-small-multi-combine-wiki-news\n",
        "\n",
        "# mrm8488/t5-base-finetuned-summarize-news"
      ],
      "execution_count": 21,
      "outputs": []
    },
    {
      "cell_type": "markdown",
      "metadata": {
        "id": "BLNllVaiJpO_"
      },
      "source": [
        "# Summarize a document (answers from Summer / Winter question)"
      ]
    },
    {
      "cell_type": "code",
      "metadata": {
        "id": "03I_BL9YnZ9v"
      },
      "source": [
        "document = '''\n",
        "Ok, this is a tough dilemma for me. Winter is the season in which I mainly focus on my work and personal development. During this period I realize significant progress in all aspects of my life, from professional to personal level. On the other hand, summer is the time to finally relax and enjoy the results of all the hard work. So the most important factor for me to choose isn't the weather but the general focus in my day-to-day life.\n",
        "Therefore, I can't decide on a single answer to this.\n",
        "Life is good at every season and we have to make the most of it every day!\n",
        "I love the sea, but not the extreme heat nor the mosquitoes, so it is an easy choice for me: winter! I like snow, and Christmas vacation, hot coffee and melomakarona! An ideal picture of a winter day: coffee in front of the fireplace with a book and good company.\n",
        "When I was younger, I would definitely choose summer without a second thought. The feeling of being able to walk around freely due to the warm weather and sunlight makes Summer irresistible. Moreover, I related Summer to many enjoyable moments maybe because of the summer holiday. However, growing older I began to feel more satisfaction in cocooning at home while low temperatures and rain prevail outdoors. Besides, when it is cold you may very easily increase your body temperature by adding clothes whereas the inverse doesn't apply for warm weather. That's why I now choose winter.\n",
        "Both are beautiful. However, I prefer summer more. There isn't a better feeling than relaxing on a beach at night and hearing the wave sounds. Summer is the time of ice creams and beautiful sunshines! Also, chilling out with friends, getting nothing done during the day except relaxing. In the summer the Sun brings energy to the whole planet and everything blooms again.\n",
        "I prefer summer because it has the best weather. Winter can get boring due to bad weather and frequent rain. Also, I find summer the best time to have vacations.\n",
        "Winter is cold, Summer is hot, the weather keeps changing from cold to hot and from hot to cold, you should like them all, the same way as you like to eat different kinds of food everyday. If the temperature stays hot or cold all year round, your life would be very boring. Some places on this earth have very little rain, dry and hot weather all year round like in the Middle East, many countries there have a few inches of rain the entire year, the temperature is hot all the time, but it’s very cold at night sometimes. People live in that parts of the planet have to like the weather they have to survive or they would die.\n",
        "Well I believe it depends on the mood of the year. As a child I definitely preferred summer, as it was vacation season and schools were closed. On the other hand, when in university, I had a tendency to like winter more- summer had two exam periods, winter only one. Nowadays, both winter and summer are in the same preference level, but spring is my new favorite -warm afternoons and chill nights!\n",
        "I definitely prefer summer, actually spring is even better exactly because summer is about to come. Spring gives us hope. Summer may or may let you down some times based on these expectations.\n",
        "Can I have both? It is difficult to choose. Both have their beauties. However, if I was forced to choose, then it would be summer, as the warmer weather allows for more time outside. This together with the more time with light contribute to a better psychology and happiness. On the hedonistic side, summer with the beaches, the vacation, the more relaxed time is more free and sexy. At the end of the day it's summer hands down.\n",
        "It’s an easy question for me, since I love summer and I cannot compare it with winter. Usually in winter I’m getting cold and it feels like I cannot get used to low temperatures. Additionally I prefer summer due to the fact that I love the sea and swimming. Summer vacations are the perfect time to leave back all the things that preoccupied you during winter (and usually there are a lot). Undoubtedly summer vacations give me the opportunity to hang out more with my friends and hearing Christina complain about mosquitoes. The good thing is that mosquitoes sting only Christina and let us unstingable :-p\n",
        "I dislike cold weather, shoveling snow, paying for heating oil, fighting over Christmas bills, and having it get dark at 5:00 p.m., so the winter doesn’t have a great deal to offer me.\n",
        "Summer, on the other hand (even though I, unfortunately, no longer enjoy a life situation where I can take the summers off) has a deep association with lazy warm evenings where I don’t have to be wearing a lot of clothes and I absolutely love that it stays light out longer. The light literally makes me more inclined to do stuff when I come home from work.\n",
        "I love summer. I love riding my bike around in the heat. I love the profusion of flowers. I love our afternoon thunderstorms. I love the long days, the warm nights, maybe a vacation or a trip to the beach.\n",
        "Most of all, I think, I love the idea of summer as a time off from our regular grind. Summer remains for me a liminal time, a period of transition between one year and the next. Something special happens in these periods of transition.\n",
        "Winter for sure.\n",
        "Typically people get mosquito bites and they have a little allergic reaction resulting in the mosquito bite. I get mosquito welts.\n",
        "These things are monstrous and hurt to the point of no one can touch me if I have a couple. It sucks.\n",
        "In the winter, there's no concern on mosquito bites and it's so beautiful. When everything is covered in that fresh blanket of snow, this will sound cheesy, but it makes everything look magical.\n",
        "For me, winter. I hate summer. I feel uncomfortable. All I do is sweat all day long in the summer and that’s if I’m not doing anything physical. If I go outside to my shop to work on something, it’s even more miserable. All my hobbies are made worse by summer as well. Driving off road, no thanks. It’s not fun sitting in the machine feeling the engine heat soaking up through my seat.\n",
        "So for me, I’ll take winter.\n",
        "I much prefer the summer. The sun gives me energy. I do more and enjoy life more. The heat and humidity are only minor inconveniences. All I need is a shower and I am good to go.\n",
        "In the winter. I never get warm once I am cold. I hate exercising because I don’t like to sweat and then be cold. I intensely dislike wearing the whole winter regalia when going out. Showers become difficult because we must keep the house cool because of heating expenses.\n",
        "I love all the seasons, but after years of living in England I could do with a bit less winter and a bit more (decent) summer. Our autumns and springs are usually reasonable, while our summers and winters tend to be a wash of grey and rain that give me terrible migraines.\n",
        "Real summer, the kind that comes with sunshine and blue skies and swimming in oceans and lakes, that I love. Real winter, the sort with snow and crisp starry skies and icy plumes of breath in the night air. I love that, too.\n",
        "Summer of course. Why? Because it is warmer so I don’t have to put 50 layers of clothes on myself to feel warm, there is no need to wear long sleeved shirts and no need to use the heater to keep your room warm. I don’t get sick during it (unlike the winter when I’m sick every two weeks) and no eczema. And I was born in the summer so it’s one more thing to love it more than winter.\n",
        "Of the two, I prefer winter. I love going for a brisk walk with the snow crunching under my boots and ending up at a favorite hangout for a meal, a Draught beer or a glass of wine. Or sitting by my wonderful gas fireplace reading, watching TV or listening to music.\n",
        "I am more of a winter person. I grew up in the Midwest, where there is a sharp contrast between the two. I enjoy wearing warm clothing and the feeling of being indoors where it is toasty and warm. I also feel more lucid in cold weather. In summer it gets cold indoors due to air conditioning. I don’t like snow, though. I guess that to be exact, I am more of a late fall sort of person.\n",
        "I love summers being immigrant from India. We do not like winter that much. I am cold even in summer. My body starts shivering when the temperature goes down due to rain and cold wind. I keep winter clothes handy all the year.\n",
        "Only summer. Winter is miserable. Summer is the best time of the year. So much more fun.\n",
        "I prefer the winter because I like wearing sweaters and lots of layers of clothing. In the summer it is too hot for that.\n",
        "'''"
      ],
      "execution_count": 22,
      "outputs": []
    },
    {
      "cell_type": "code",
      "metadata": {
        "id": "mzdomCGl2S7d",
        "colab": {
          "base_uri": "https://localhost:8080/"
        },
        "outputId": "eb38342c-b670-4d5a-ff3e-acb72b6391ed"
      },
      "source": [
        "model = 'sshleifer/distilbart-cnn-12-6'\n",
        "\n",
        "device = 'cuda' # or 'cpu'\n",
        "\n",
        "language = 'english'\n",
        "\n",
        "summary_1 = ' '.join(summarize(document, model, device, language)) # First level summarization\n",
        "\n",
        "print('\\nFirst level summarization:\\n')\n",
        "\n",
        "print(summary_1)\n",
        "\n",
        "summary_2 = ' '.join(summarize(summary_1, model, device, language)) # Second level summarization\n",
        "\n",
        "print('\\nSecond level summarization:\\n')\n",
        "\n",
        "print(summary_2)"
      ],
      "execution_count": 23,
      "outputs": [
        {
          "output_type": "stream",
          "text": [
            "\n",
            "First level summarization:\n",
            "\n",
            "Winter is cold, Summer is hot, the weather keeps changing from cold to hot and from hot to cold, you should like them all, the same way as you like to eat different kinds of food everyday. Spring is my new favorite - warm afternoons and chill nights! I definitely prefer summer, actually spring is even better exactly because summer is about to come. Spring gives us hope. Summer may or may let you down some times based on expectations based on these expectations. Summer with the beaches, the vacation, the more relaxed time is more free and sexy. At the end of the day it's summer hands down. It’s an easy question for me, since I love summer and I cannot compare it with winter. Usually in winter I’m getting cold and it feels like I cannot get used to low temperatures. I like snow, and Christmas vacation, hot coffee and melomakarona. It is a good time to hang out with friends, getting nothing done during the day except relaxing. Undoubtedly summer vacations are the perfect time to relax. The sun brings energy to the whole planet and everything blooms again. Und Und Undefined give me the opportunity to hang. Und Undundicated give me a chance. Undundunded give me an opportunity to give me another chance. It's a good chance to give you a chance to get a new chance. I don’t have a new opportunity to get the chance to see your chance to be a new experience. I can’ve got a good opportunity to see the chance. You’re a good luck. I love the opportunity for a new perspective. I�’Sundund. I have a great opportunity to go for a great chance to have a good experience. You have a lot of fun. You are a good thing. I am a great thing to do something. You need to go to the beach. I want to see a new thing. You can be a good friend. Christina says she dislikes cold weather, shoveling snow, paying for heating oil, fighting over Christmas bills, and having it get dark at 5:00 p.m. Summer has a deep association with lazy warm evenings where I don’t have to be wearing a lot of clothes and I absolutely love that it stays light out longer. The sun gives me energy and I do more and enjoy life more, she says, and I am more of a winter person than a summer person. In the winter, there's no concern on mosquito bites and it's so beautiful, it makes everything look magical, but it's not fun sitting in the machine feeling the engine heat soaking up through my seat. It’s not fun driving off road, no thanks. Of the two, I love going for a brisk walk with the snow crunching under my boots and ending up at a favorite hangout for a meal, a Draught beer or a glass of wine or a wonderful gas fireplace reading, watching TV or listening to music, too. I love that, too, too. For me, winter. I hate summer. I feel uncomfortable. All my hobbies are made worse by summer as well, it's even more miserable. In the summer, I’ll take winter. And I was born in the summer so it’�s one more than winter. It's one more to love winter. The sun gave me an excuse to love it. I don't like winter. But after years of living in England, I could do with it. It doesn’ve got a lot to love. I can’d like to enjoy it. The heat and humidity are only minor inconveniences. It is warmer so I can't get sick during it. I love summers being immigrant from India. I am cold even in summer. My body starts shivering when the temperature goes down due to rain and cold wind. I keep winter clothes handy all the year. I like wearing sweaters and lots of layers of clothing. In summer it gets cold indoors due to air conditioning. I don’t like snow, though. Winter is miserable. Only summer. Summer is the best time of the year.\n",
            "\n",
            "Second level summarization:\n",
            "\n",
            "Christina says she dislikes cold weather, shoveling snow, paying for heating oil, fighting over Christmas bills, and having it get dark at 5:00 p.m. The sun gives me energy and I do more and enjoy life more, she says, and I am more of a winter person than a summer person. Christina: Winter is miserable. I hate summer. All my hobbies are made worse by summer as well, it's even more miserable. In the summer, I’ll take winter. And I was born in the summer so it’�s one more than winter. It's one more to love winter. I don’t like winter. But after years of living in England, I could do with it. The heat and humidity are only minor inconveniences. I can’d like to enjoy it. It is warmer so I can't get sick during it. I am cold even in summer. My body starts shivering when the temperature goes down due to rain and cold wind. It’s not fun driving off road, no thanks. In summer it gets cold indoors due to air conditioning. I keep winter clothes handy all the year. I like wearing sweaters and lots of layers of clothing. In winter it gets winter clothes. In summer, no Thanks, noThanks, too, too. I'm a good friend. I��’Sundund. In July, I am a great thing to go to the beach. In August, I like to be a good thing. In September, I don't like snow. In October, I love to have a good luck. It doesn’ve got a good chance to go for a new friend. Summer is the best\n"
          ],
          "name": "stdout"
        }
      ]
    }
  ]
}