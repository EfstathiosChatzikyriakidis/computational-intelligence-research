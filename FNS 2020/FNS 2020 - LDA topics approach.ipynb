{
  "nbformat": 4,
  "nbformat_minor": 0,
  "metadata": {
    "colab": {
      "name": "FNS 2020 - LDA topics approach.ipynb",
      "provenance": [],
      "collapsed_sections": [],
      "toc_visible": true
    },
    "kernelspec": {
      "name": "python3",
      "display_name": "Python 3"
    },
    "accelerator": "GPU",
    "widgets": {
      "application/vnd.jupyter.widget-state+json": {
        "a8dc019ed9c147ff83b985e29e39ef4a": {
          "model_module": "@jupyter-widgets/controls",
          "model_name": "HBoxModel",
          "state": {
            "_view_name": "HBoxView",
            "_dom_classes": [],
            "_model_name": "HBoxModel",
            "_view_module": "@jupyter-widgets/controls",
            "_model_module_version": "1.5.0",
            "_view_count": null,
            "_view_module_version": "1.5.0",
            "box_style": "",
            "layout": "IPY_MODEL_51f5030ea3a543629f33afe6f95b4e64",
            "_model_module": "@jupyter-widgets/controls",
            "children": [
              "IPY_MODEL_6e9dfed01ee64b099dd033ff9f0c8d3a",
              "IPY_MODEL_76a7e59de719476f8930d8578bf7e93c"
            ]
          }
        },
        "51f5030ea3a543629f33afe6f95b4e64": {
          "model_module": "@jupyter-widgets/base",
          "model_name": "LayoutModel",
          "state": {
            "_view_name": "LayoutView",
            "grid_template_rows": null,
            "right": null,
            "justify_content": null,
            "_view_module": "@jupyter-widgets/base",
            "overflow": null,
            "_model_module_version": "1.2.0",
            "_view_count": null,
            "flex_flow": null,
            "width": null,
            "min_width": null,
            "border": null,
            "align_items": null,
            "bottom": null,
            "_model_module": "@jupyter-widgets/base",
            "top": null,
            "grid_column": null,
            "overflow_y": null,
            "overflow_x": null,
            "grid_auto_flow": null,
            "grid_area": null,
            "grid_template_columns": null,
            "flex": null,
            "_model_name": "LayoutModel",
            "justify_items": null,
            "grid_row": null,
            "max_height": null,
            "align_content": null,
            "visibility": null,
            "align_self": null,
            "height": null,
            "min_height": null,
            "padding": null,
            "grid_auto_rows": null,
            "grid_gap": null,
            "max_width": null,
            "order": null,
            "_view_module_version": "1.2.0",
            "grid_template_areas": null,
            "object_position": null,
            "object_fit": null,
            "grid_auto_columns": null,
            "margin": null,
            "display": null,
            "left": null
          }
        },
        "6e9dfed01ee64b099dd033ff9f0c8d3a": {
          "model_module": "@jupyter-widgets/controls",
          "model_name": "FloatProgressModel",
          "state": {
            "_view_name": "ProgressView",
            "style": "IPY_MODEL_abdd6fb0a41747a58ba525eaff29efec",
            "_dom_classes": [],
            "description": "Pandas Apply: 100%",
            "_model_name": "FloatProgressModel",
            "bar_style": "success",
            "max": 3000,
            "_view_module": "@jupyter-widgets/controls",
            "_model_module_version": "1.5.0",
            "value": 3000,
            "_view_count": null,
            "_view_module_version": "1.5.0",
            "orientation": "horizontal",
            "min": 0,
            "description_tooltip": null,
            "_model_module": "@jupyter-widgets/controls",
            "layout": "IPY_MODEL_f1e28714e9994771a44f8471649c4af6"
          }
        },
        "76a7e59de719476f8930d8578bf7e93c": {
          "model_module": "@jupyter-widgets/controls",
          "model_name": "HTMLModel",
          "state": {
            "_view_name": "HTMLView",
            "style": "IPY_MODEL_cf36510c8c6b45f2bdf38b9ee21e58fa",
            "_dom_classes": [],
            "description": "",
            "_model_name": "HTMLModel",
            "placeholder": "​",
            "_view_module": "@jupyter-widgets/controls",
            "_model_module_version": "1.5.0",
            "value": " 3000/3000 [08:14&lt;00:00,  6.07it/s]",
            "_view_count": null,
            "_view_module_version": "1.5.0",
            "description_tooltip": null,
            "_model_module": "@jupyter-widgets/controls",
            "layout": "IPY_MODEL_fa1e3d65c7604d4686175453bc670ca2"
          }
        },
        "abdd6fb0a41747a58ba525eaff29efec": {
          "model_module": "@jupyter-widgets/controls",
          "model_name": "ProgressStyleModel",
          "state": {
            "_view_name": "StyleView",
            "_model_name": "ProgressStyleModel",
            "description_width": "initial",
            "_view_module": "@jupyter-widgets/base",
            "_model_module_version": "1.5.0",
            "_view_count": null,
            "_view_module_version": "1.2.0",
            "bar_color": null,
            "_model_module": "@jupyter-widgets/controls"
          }
        },
        "f1e28714e9994771a44f8471649c4af6": {
          "model_module": "@jupyter-widgets/base",
          "model_name": "LayoutModel",
          "state": {
            "_view_name": "LayoutView",
            "grid_template_rows": null,
            "right": null,
            "justify_content": null,
            "_view_module": "@jupyter-widgets/base",
            "overflow": null,
            "_model_module_version": "1.2.0",
            "_view_count": null,
            "flex_flow": null,
            "width": null,
            "min_width": null,
            "border": null,
            "align_items": null,
            "bottom": null,
            "_model_module": "@jupyter-widgets/base",
            "top": null,
            "grid_column": null,
            "overflow_y": null,
            "overflow_x": null,
            "grid_auto_flow": null,
            "grid_area": null,
            "grid_template_columns": null,
            "flex": null,
            "_model_name": "LayoutModel",
            "justify_items": null,
            "grid_row": null,
            "max_height": null,
            "align_content": null,
            "visibility": null,
            "align_self": null,
            "height": null,
            "min_height": null,
            "padding": null,
            "grid_auto_rows": null,
            "grid_gap": null,
            "max_width": null,
            "order": null,
            "_view_module_version": "1.2.0",
            "grid_template_areas": null,
            "object_position": null,
            "object_fit": null,
            "grid_auto_columns": null,
            "margin": null,
            "display": null,
            "left": null
          }
        },
        "cf36510c8c6b45f2bdf38b9ee21e58fa": {
          "model_module": "@jupyter-widgets/controls",
          "model_name": "DescriptionStyleModel",
          "state": {
            "_view_name": "StyleView",
            "_model_name": "DescriptionStyleModel",
            "description_width": "",
            "_view_module": "@jupyter-widgets/base",
            "_model_module_version": "1.5.0",
            "_view_count": null,
            "_view_module_version": "1.2.0",
            "_model_module": "@jupyter-widgets/controls"
          }
        },
        "fa1e3d65c7604d4686175453bc670ca2": {
          "model_module": "@jupyter-widgets/base",
          "model_name": "LayoutModel",
          "state": {
            "_view_name": "LayoutView",
            "grid_template_rows": null,
            "right": null,
            "justify_content": null,
            "_view_module": "@jupyter-widgets/base",
            "overflow": null,
            "_model_module_version": "1.2.0",
            "_view_count": null,
            "flex_flow": null,
            "width": null,
            "min_width": null,
            "border": null,
            "align_items": null,
            "bottom": null,
            "_model_module": "@jupyter-widgets/base",
            "top": null,
            "grid_column": null,
            "overflow_y": null,
            "overflow_x": null,
            "grid_auto_flow": null,
            "grid_area": null,
            "grid_template_columns": null,
            "flex": null,
            "_model_name": "LayoutModel",
            "justify_items": null,
            "grid_row": null,
            "max_height": null,
            "align_content": null,
            "visibility": null,
            "align_self": null,
            "height": null,
            "min_height": null,
            "padding": null,
            "grid_auto_rows": null,
            "grid_gap": null,
            "max_width": null,
            "order": null,
            "_view_module_version": "1.2.0",
            "grid_template_areas": null,
            "object_position": null,
            "object_fit": null,
            "grid_auto_columns": null,
            "margin": null,
            "display": null,
            "left": null
          }
        },
        "2b3f4460394f494190c954f9442f4d95": {
          "model_module": "@jupyter-widgets/controls",
          "model_name": "HBoxModel",
          "state": {
            "_view_name": "HBoxView",
            "_dom_classes": [],
            "_model_name": "HBoxModel",
            "_view_module": "@jupyter-widgets/controls",
            "_model_module_version": "1.5.0",
            "_view_count": null,
            "_view_module_version": "1.5.0",
            "box_style": "",
            "layout": "IPY_MODEL_c7c1ff227e0a4bbf8226655e4a042542",
            "_model_module": "@jupyter-widgets/controls",
            "children": [
              "IPY_MODEL_833d740b507340a58ceb5f2f9facea72",
              "IPY_MODEL_5cdc6331f38048849aa0666fd297b9ad"
            ]
          }
        },
        "c7c1ff227e0a4bbf8226655e4a042542": {
          "model_module": "@jupyter-widgets/base",
          "model_name": "LayoutModel",
          "state": {
            "_view_name": "LayoutView",
            "grid_template_rows": null,
            "right": null,
            "justify_content": null,
            "_view_module": "@jupyter-widgets/base",
            "overflow": null,
            "_model_module_version": "1.2.0",
            "_view_count": null,
            "flex_flow": null,
            "width": null,
            "min_width": null,
            "border": null,
            "align_items": null,
            "bottom": null,
            "_model_module": "@jupyter-widgets/base",
            "top": null,
            "grid_column": null,
            "overflow_y": null,
            "overflow_x": null,
            "grid_auto_flow": null,
            "grid_area": null,
            "grid_template_columns": null,
            "flex": null,
            "_model_name": "LayoutModel",
            "justify_items": null,
            "grid_row": null,
            "max_height": null,
            "align_content": null,
            "visibility": null,
            "align_self": null,
            "height": null,
            "min_height": null,
            "padding": null,
            "grid_auto_rows": null,
            "grid_gap": null,
            "max_width": null,
            "order": null,
            "_view_module_version": "1.2.0",
            "grid_template_areas": null,
            "object_position": null,
            "object_fit": null,
            "grid_auto_columns": null,
            "margin": null,
            "display": null,
            "left": null
          }
        },
        "833d740b507340a58ceb5f2f9facea72": {
          "model_module": "@jupyter-widgets/controls",
          "model_name": "FloatProgressModel",
          "state": {
            "_view_name": "ProgressView",
            "style": "IPY_MODEL_bb5367c71ee64d1c8897dad425271679",
            "_dom_classes": [],
            "description": "Pandas Apply: 100%",
            "_model_name": "FloatProgressModel",
            "bar_style": "success",
            "max": 3000,
            "_view_module": "@jupyter-widgets/controls",
            "_model_module_version": "1.5.0",
            "value": 3000,
            "_view_count": null,
            "_view_module_version": "1.5.0",
            "orientation": "horizontal",
            "min": 0,
            "description_tooltip": null,
            "_model_module": "@jupyter-widgets/controls",
            "layout": "IPY_MODEL_4576ddbfccd244d0aef69cba1bed4b75"
          }
        },
        "5cdc6331f38048849aa0666fd297b9ad": {
          "model_module": "@jupyter-widgets/controls",
          "model_name": "HTMLModel",
          "state": {
            "_view_name": "HTMLView",
            "style": "IPY_MODEL_b2b8e0debbc3432095b721f098b88eab",
            "_dom_classes": [],
            "description": "",
            "_model_name": "HTMLModel",
            "placeholder": "​",
            "_view_module": "@jupyter-widgets/controls",
            "_model_module_version": "1.5.0",
            "value": " 3000/3000 [00:00&lt;00:00, 35278.96it/s]",
            "_view_count": null,
            "_view_module_version": "1.5.0",
            "description_tooltip": null,
            "_model_module": "@jupyter-widgets/controls",
            "layout": "IPY_MODEL_d5d2ea926e3f4f79bcea98c088be259a"
          }
        },
        "bb5367c71ee64d1c8897dad425271679": {
          "model_module": "@jupyter-widgets/controls",
          "model_name": "ProgressStyleModel",
          "state": {
            "_view_name": "StyleView",
            "_model_name": "ProgressStyleModel",
            "description_width": "initial",
            "_view_module": "@jupyter-widgets/base",
            "_model_module_version": "1.5.0",
            "_view_count": null,
            "_view_module_version": "1.2.0",
            "bar_color": null,
            "_model_module": "@jupyter-widgets/controls"
          }
        },
        "4576ddbfccd244d0aef69cba1bed4b75": {
          "model_module": "@jupyter-widgets/base",
          "model_name": "LayoutModel",
          "state": {
            "_view_name": "LayoutView",
            "grid_template_rows": null,
            "right": null,
            "justify_content": null,
            "_view_module": "@jupyter-widgets/base",
            "overflow": null,
            "_model_module_version": "1.2.0",
            "_view_count": null,
            "flex_flow": null,
            "width": null,
            "min_width": null,
            "border": null,
            "align_items": null,
            "bottom": null,
            "_model_module": "@jupyter-widgets/base",
            "top": null,
            "grid_column": null,
            "overflow_y": null,
            "overflow_x": null,
            "grid_auto_flow": null,
            "grid_area": null,
            "grid_template_columns": null,
            "flex": null,
            "_model_name": "LayoutModel",
            "justify_items": null,
            "grid_row": null,
            "max_height": null,
            "align_content": null,
            "visibility": null,
            "align_self": null,
            "height": null,
            "min_height": null,
            "padding": null,
            "grid_auto_rows": null,
            "grid_gap": null,
            "max_width": null,
            "order": null,
            "_view_module_version": "1.2.0",
            "grid_template_areas": null,
            "object_position": null,
            "object_fit": null,
            "grid_auto_columns": null,
            "margin": null,
            "display": null,
            "left": null
          }
        },
        "b2b8e0debbc3432095b721f098b88eab": {
          "model_module": "@jupyter-widgets/controls",
          "model_name": "DescriptionStyleModel",
          "state": {
            "_view_name": "StyleView",
            "_model_name": "DescriptionStyleModel",
            "description_width": "",
            "_view_module": "@jupyter-widgets/base",
            "_model_module_version": "1.5.0",
            "_view_count": null,
            "_view_module_version": "1.2.0",
            "_model_module": "@jupyter-widgets/controls"
          }
        },
        "d5d2ea926e3f4f79bcea98c088be259a": {
          "model_module": "@jupyter-widgets/base",
          "model_name": "LayoutModel",
          "state": {
            "_view_name": "LayoutView",
            "grid_template_rows": null,
            "right": null,
            "justify_content": null,
            "_view_module": "@jupyter-widgets/base",
            "overflow": null,
            "_model_module_version": "1.2.0",
            "_view_count": null,
            "flex_flow": null,
            "width": null,
            "min_width": null,
            "border": null,
            "align_items": null,
            "bottom": null,
            "_model_module": "@jupyter-widgets/base",
            "top": null,
            "grid_column": null,
            "overflow_y": null,
            "overflow_x": null,
            "grid_auto_flow": null,
            "grid_area": null,
            "grid_template_columns": null,
            "flex": null,
            "_model_name": "LayoutModel",
            "justify_items": null,
            "grid_row": null,
            "max_height": null,
            "align_content": null,
            "visibility": null,
            "align_self": null,
            "height": null,
            "min_height": null,
            "padding": null,
            "grid_auto_rows": null,
            "grid_gap": null,
            "max_width": null,
            "order": null,
            "_view_module_version": "1.2.0",
            "grid_template_areas": null,
            "object_position": null,
            "object_fit": null,
            "grid_auto_columns": null,
            "margin": null,
            "display": null,
            "left": null
          }
        },
        "c892db7717ed4190a48462755385d80b": {
          "model_module": "@jupyter-widgets/controls",
          "model_name": "HBoxModel",
          "state": {
            "_view_name": "HBoxView",
            "_dom_classes": [],
            "_model_name": "HBoxModel",
            "_view_module": "@jupyter-widgets/controls",
            "_model_module_version": "1.5.0",
            "_view_count": null,
            "_view_module_version": "1.5.0",
            "box_style": "",
            "layout": "IPY_MODEL_f1b4e48aad2042c9ac0a5c497bb17441",
            "_model_module": "@jupyter-widgets/controls",
            "children": [
              "IPY_MODEL_061ad9c90227418d83ac8a0833eef3af",
              "IPY_MODEL_db1b17bb1a15426b851d08cac473531d"
            ]
          }
        },
        "f1b4e48aad2042c9ac0a5c497bb17441": {
          "model_module": "@jupyter-widgets/base",
          "model_name": "LayoutModel",
          "state": {
            "_view_name": "LayoutView",
            "grid_template_rows": null,
            "right": null,
            "justify_content": null,
            "_view_module": "@jupyter-widgets/base",
            "overflow": null,
            "_model_module_version": "1.2.0",
            "_view_count": null,
            "flex_flow": null,
            "width": null,
            "min_width": null,
            "border": null,
            "align_items": null,
            "bottom": null,
            "_model_module": "@jupyter-widgets/base",
            "top": null,
            "grid_column": null,
            "overflow_y": null,
            "overflow_x": null,
            "grid_auto_flow": null,
            "grid_area": null,
            "grid_template_columns": null,
            "flex": null,
            "_model_name": "LayoutModel",
            "justify_items": null,
            "grid_row": null,
            "max_height": null,
            "align_content": null,
            "visibility": null,
            "align_self": null,
            "height": null,
            "min_height": null,
            "padding": null,
            "grid_auto_rows": null,
            "grid_gap": null,
            "max_width": null,
            "order": null,
            "_view_module_version": "1.2.0",
            "grid_template_areas": null,
            "object_position": null,
            "object_fit": null,
            "grid_auto_columns": null,
            "margin": null,
            "display": null,
            "left": null
          }
        },
        "061ad9c90227418d83ac8a0833eef3af": {
          "model_module": "@jupyter-widgets/controls",
          "model_name": "FloatProgressModel",
          "state": {
            "_view_name": "ProgressView",
            "style": "IPY_MODEL_17aa4e8fb8b04268aae9562c87ac84f0",
            "_dom_classes": [],
            "description": "Pandas Apply: 100%",
            "_model_name": "FloatProgressModel",
            "bar_style": "success",
            "max": 3000,
            "_view_module": "@jupyter-widgets/controls",
            "_model_module_version": "1.5.0",
            "value": 3000,
            "_view_count": null,
            "_view_module_version": "1.5.0",
            "orientation": "horizontal",
            "min": 0,
            "description_tooltip": null,
            "_model_module": "@jupyter-widgets/controls",
            "layout": "IPY_MODEL_b1ae2f645a624c18840966b8bf31233a"
          }
        },
        "db1b17bb1a15426b851d08cac473531d": {
          "model_module": "@jupyter-widgets/controls",
          "model_name": "HTMLModel",
          "state": {
            "_view_name": "HTMLView",
            "style": "IPY_MODEL_59b9fd249ec24eca84d16a16d412e341",
            "_dom_classes": [],
            "description": "",
            "_model_name": "HTMLModel",
            "placeholder": "​",
            "_view_module": "@jupyter-widgets/controls",
            "_model_module_version": "1.5.0",
            "value": " 3000/3000 [1:12:38&lt;00:00,  1.45s/it]",
            "_view_count": null,
            "_view_module_version": "1.5.0",
            "description_tooltip": null,
            "_model_module": "@jupyter-widgets/controls",
            "layout": "IPY_MODEL_9b0a4e81ddee4dfbb244240a1ea4b9a3"
          }
        },
        "17aa4e8fb8b04268aae9562c87ac84f0": {
          "model_module": "@jupyter-widgets/controls",
          "model_name": "ProgressStyleModel",
          "state": {
            "_view_name": "StyleView",
            "_model_name": "ProgressStyleModel",
            "description_width": "initial",
            "_view_module": "@jupyter-widgets/base",
            "_model_module_version": "1.5.0",
            "_view_count": null,
            "_view_module_version": "1.2.0",
            "bar_color": null,
            "_model_module": "@jupyter-widgets/controls"
          }
        },
        "b1ae2f645a624c18840966b8bf31233a": {
          "model_module": "@jupyter-widgets/base",
          "model_name": "LayoutModel",
          "state": {
            "_view_name": "LayoutView",
            "grid_template_rows": null,
            "right": null,
            "justify_content": null,
            "_view_module": "@jupyter-widgets/base",
            "overflow": null,
            "_model_module_version": "1.2.0",
            "_view_count": null,
            "flex_flow": null,
            "width": null,
            "min_width": null,
            "border": null,
            "align_items": null,
            "bottom": null,
            "_model_module": "@jupyter-widgets/base",
            "top": null,
            "grid_column": null,
            "overflow_y": null,
            "overflow_x": null,
            "grid_auto_flow": null,
            "grid_area": null,
            "grid_template_columns": null,
            "flex": null,
            "_model_name": "LayoutModel",
            "justify_items": null,
            "grid_row": null,
            "max_height": null,
            "align_content": null,
            "visibility": null,
            "align_self": null,
            "height": null,
            "min_height": null,
            "padding": null,
            "grid_auto_rows": null,
            "grid_gap": null,
            "max_width": null,
            "order": null,
            "_view_module_version": "1.2.0",
            "grid_template_areas": null,
            "object_position": null,
            "object_fit": null,
            "grid_auto_columns": null,
            "margin": null,
            "display": null,
            "left": null
          }
        },
        "59b9fd249ec24eca84d16a16d412e341": {
          "model_module": "@jupyter-widgets/controls",
          "model_name": "DescriptionStyleModel",
          "state": {
            "_view_name": "StyleView",
            "_model_name": "DescriptionStyleModel",
            "description_width": "",
            "_view_module": "@jupyter-widgets/base",
            "_model_module_version": "1.5.0",
            "_view_count": null,
            "_view_module_version": "1.2.0",
            "_model_module": "@jupyter-widgets/controls"
          }
        },
        "9b0a4e81ddee4dfbb244240a1ea4b9a3": {
          "model_module": "@jupyter-widgets/base",
          "model_name": "LayoutModel",
          "state": {
            "_view_name": "LayoutView",
            "grid_template_rows": null,
            "right": null,
            "justify_content": null,
            "_view_module": "@jupyter-widgets/base",
            "overflow": null,
            "_model_module_version": "1.2.0",
            "_view_count": null,
            "flex_flow": null,
            "width": null,
            "min_width": null,
            "border": null,
            "align_items": null,
            "bottom": null,
            "_model_module": "@jupyter-widgets/base",
            "top": null,
            "grid_column": null,
            "overflow_y": null,
            "overflow_x": null,
            "grid_auto_flow": null,
            "grid_area": null,
            "grid_template_columns": null,
            "flex": null,
            "_model_name": "LayoutModel",
            "justify_items": null,
            "grid_row": null,
            "max_height": null,
            "align_content": null,
            "visibility": null,
            "align_self": null,
            "height": null,
            "min_height": null,
            "padding": null,
            "grid_auto_rows": null,
            "grid_gap": null,
            "max_width": null,
            "order": null,
            "_view_module_version": "1.2.0",
            "grid_template_areas": null,
            "object_position": null,
            "object_fit": null,
            "grid_auto_columns": null,
            "margin": null,
            "display": null,
            "left": null
          }
        },
        "f7a4f263cff442a7a822a7189cc2f6f9": {
          "model_module": "@jupyter-widgets/controls",
          "model_name": "HBoxModel",
          "state": {
            "_view_name": "HBoxView",
            "_dom_classes": [],
            "_model_name": "HBoxModel",
            "_view_module": "@jupyter-widgets/controls",
            "_model_module_version": "1.5.0",
            "_view_count": null,
            "_view_module_version": "1.5.0",
            "box_style": "",
            "layout": "IPY_MODEL_445b338fc6fa45aa8d34ee192d379a64",
            "_model_module": "@jupyter-widgets/controls",
            "children": [
              "IPY_MODEL_10a57f78089a47b9b6b88fec65d88c5e",
              "IPY_MODEL_ed3a9302d636407ea611fdb6337c46fe"
            ]
          }
        },
        "445b338fc6fa45aa8d34ee192d379a64": {
          "model_module": "@jupyter-widgets/base",
          "model_name": "LayoutModel",
          "state": {
            "_view_name": "LayoutView",
            "grid_template_rows": null,
            "right": null,
            "justify_content": null,
            "_view_module": "@jupyter-widgets/base",
            "overflow": null,
            "_model_module_version": "1.2.0",
            "_view_count": null,
            "flex_flow": null,
            "width": null,
            "min_width": null,
            "border": null,
            "align_items": null,
            "bottom": null,
            "_model_module": "@jupyter-widgets/base",
            "top": null,
            "grid_column": null,
            "overflow_y": null,
            "overflow_x": null,
            "grid_auto_flow": null,
            "grid_area": null,
            "grid_template_columns": null,
            "flex": null,
            "_model_name": "LayoutModel",
            "justify_items": null,
            "grid_row": null,
            "max_height": null,
            "align_content": null,
            "visibility": null,
            "align_self": null,
            "height": null,
            "min_height": null,
            "padding": null,
            "grid_auto_rows": null,
            "grid_gap": null,
            "max_width": null,
            "order": null,
            "_view_module_version": "1.2.0",
            "grid_template_areas": null,
            "object_position": null,
            "object_fit": null,
            "grid_auto_columns": null,
            "margin": null,
            "display": null,
            "left": null
          }
        },
        "10a57f78089a47b9b6b88fec65d88c5e": {
          "model_module": "@jupyter-widgets/controls",
          "model_name": "FloatProgressModel",
          "state": {
            "_view_name": "ProgressView",
            "style": "IPY_MODEL_9dc8e7f7541d47e4a70a4784913a5f24",
            "_dom_classes": [],
            "description": "Pandas Apply: 100%",
            "_model_name": "FloatProgressModel",
            "bar_style": "success",
            "max": 3000,
            "_view_module": "@jupyter-widgets/controls",
            "_model_module_version": "1.5.0",
            "value": 3000,
            "_view_count": null,
            "_view_module_version": "1.5.0",
            "orientation": "horizontal",
            "min": 0,
            "description_tooltip": null,
            "_model_module": "@jupyter-widgets/controls",
            "layout": "IPY_MODEL_ce439c90050d48d2a49a432183874914"
          }
        },
        "ed3a9302d636407ea611fdb6337c46fe": {
          "model_module": "@jupyter-widgets/controls",
          "model_name": "HTMLModel",
          "state": {
            "_view_name": "HTMLView",
            "style": "IPY_MODEL_c3539f64e17f4f1881ec11ff18eeca3c",
            "_dom_classes": [],
            "description": "",
            "_model_name": "HTMLModel",
            "placeholder": "​",
            "_view_module": "@jupyter-widgets/controls",
            "_model_module_version": "1.5.0",
            "value": " 3000/3000 [07:43&lt;00:00,  6.48it/s]",
            "_view_count": null,
            "_view_module_version": "1.5.0",
            "description_tooltip": null,
            "_model_module": "@jupyter-widgets/controls",
            "layout": "IPY_MODEL_b73ba611c6084030b429e94fba5f806c"
          }
        },
        "9dc8e7f7541d47e4a70a4784913a5f24": {
          "model_module": "@jupyter-widgets/controls",
          "model_name": "ProgressStyleModel",
          "state": {
            "_view_name": "StyleView",
            "_model_name": "ProgressStyleModel",
            "description_width": "initial",
            "_view_module": "@jupyter-widgets/base",
            "_model_module_version": "1.5.0",
            "_view_count": null,
            "_view_module_version": "1.2.0",
            "bar_color": null,
            "_model_module": "@jupyter-widgets/controls"
          }
        },
        "ce439c90050d48d2a49a432183874914": {
          "model_module": "@jupyter-widgets/base",
          "model_name": "LayoutModel",
          "state": {
            "_view_name": "LayoutView",
            "grid_template_rows": null,
            "right": null,
            "justify_content": null,
            "_view_module": "@jupyter-widgets/base",
            "overflow": null,
            "_model_module_version": "1.2.0",
            "_view_count": null,
            "flex_flow": null,
            "width": null,
            "min_width": null,
            "border": null,
            "align_items": null,
            "bottom": null,
            "_model_module": "@jupyter-widgets/base",
            "top": null,
            "grid_column": null,
            "overflow_y": null,
            "overflow_x": null,
            "grid_auto_flow": null,
            "grid_area": null,
            "grid_template_columns": null,
            "flex": null,
            "_model_name": "LayoutModel",
            "justify_items": null,
            "grid_row": null,
            "max_height": null,
            "align_content": null,
            "visibility": null,
            "align_self": null,
            "height": null,
            "min_height": null,
            "padding": null,
            "grid_auto_rows": null,
            "grid_gap": null,
            "max_width": null,
            "order": null,
            "_view_module_version": "1.2.0",
            "grid_template_areas": null,
            "object_position": null,
            "object_fit": null,
            "grid_auto_columns": null,
            "margin": null,
            "display": null,
            "left": null
          }
        },
        "c3539f64e17f4f1881ec11ff18eeca3c": {
          "model_module": "@jupyter-widgets/controls",
          "model_name": "DescriptionStyleModel",
          "state": {
            "_view_name": "StyleView",
            "_model_name": "DescriptionStyleModel",
            "description_width": "",
            "_view_module": "@jupyter-widgets/base",
            "_model_module_version": "1.5.0",
            "_view_count": null,
            "_view_module_version": "1.2.0",
            "_model_module": "@jupyter-widgets/controls"
          }
        },
        "b73ba611c6084030b429e94fba5f806c": {
          "model_module": "@jupyter-widgets/base",
          "model_name": "LayoutModel",
          "state": {
            "_view_name": "LayoutView",
            "grid_template_rows": null,
            "right": null,
            "justify_content": null,
            "_view_module": "@jupyter-widgets/base",
            "overflow": null,
            "_model_module_version": "1.2.0",
            "_view_count": null,
            "flex_flow": null,
            "width": null,
            "min_width": null,
            "border": null,
            "align_items": null,
            "bottom": null,
            "_model_module": "@jupyter-widgets/base",
            "top": null,
            "grid_column": null,
            "overflow_y": null,
            "overflow_x": null,
            "grid_auto_flow": null,
            "grid_area": null,
            "grid_template_columns": null,
            "flex": null,
            "_model_name": "LayoutModel",
            "justify_items": null,
            "grid_row": null,
            "max_height": null,
            "align_content": null,
            "visibility": null,
            "align_self": null,
            "height": null,
            "min_height": null,
            "padding": null,
            "grid_auto_rows": null,
            "grid_gap": null,
            "max_width": null,
            "order": null,
            "_view_module_version": "1.2.0",
            "grid_template_areas": null,
            "object_position": null,
            "object_fit": null,
            "grid_auto_columns": null,
            "margin": null,
            "display": null,
            "left": null
          }
        },
        "59182375413c4ac8aaff415ae6776151": {
          "model_module": "@jupyter-widgets/controls",
          "model_name": "HBoxModel",
          "state": {
            "_view_name": "HBoxView",
            "_dom_classes": [],
            "_model_name": "HBoxModel",
            "_view_module": "@jupyter-widgets/controls",
            "_model_module_version": "1.5.0",
            "_view_count": null,
            "_view_module_version": "1.5.0",
            "box_style": "",
            "layout": "IPY_MODEL_5eb9f38b9622409499fb6124546bae25",
            "_model_module": "@jupyter-widgets/controls",
            "children": [
              "IPY_MODEL_41a9e6e374664a668eeb7df173d42ad1",
              "IPY_MODEL_ff726238e1d544108f80ce0342109ec4"
            ]
          }
        },
        "5eb9f38b9622409499fb6124546bae25": {
          "model_module": "@jupyter-widgets/base",
          "model_name": "LayoutModel",
          "state": {
            "_view_name": "LayoutView",
            "grid_template_rows": null,
            "right": null,
            "justify_content": null,
            "_view_module": "@jupyter-widgets/base",
            "overflow": null,
            "_model_module_version": "1.2.0",
            "_view_count": null,
            "flex_flow": null,
            "width": null,
            "min_width": null,
            "border": null,
            "align_items": null,
            "bottom": null,
            "_model_module": "@jupyter-widgets/base",
            "top": null,
            "grid_column": null,
            "overflow_y": null,
            "overflow_x": null,
            "grid_auto_flow": null,
            "grid_area": null,
            "grid_template_columns": null,
            "flex": null,
            "_model_name": "LayoutModel",
            "justify_items": null,
            "grid_row": null,
            "max_height": null,
            "align_content": null,
            "visibility": null,
            "align_self": null,
            "height": null,
            "min_height": null,
            "padding": null,
            "grid_auto_rows": null,
            "grid_gap": null,
            "max_width": null,
            "order": null,
            "_view_module_version": "1.2.0",
            "grid_template_areas": null,
            "object_position": null,
            "object_fit": null,
            "grid_auto_columns": null,
            "margin": null,
            "display": null,
            "left": null
          }
        },
        "41a9e6e374664a668eeb7df173d42ad1": {
          "model_module": "@jupyter-widgets/controls",
          "model_name": "FloatProgressModel",
          "state": {
            "_view_name": "ProgressView",
            "style": "IPY_MODEL_3af8372c4e184174bfb665f52fb1ed80",
            "_dom_classes": [],
            "description": "Pandas Apply: 100%",
            "_model_name": "FloatProgressModel",
            "bar_style": "success",
            "max": 1600,
            "_view_module": "@jupyter-widgets/controls",
            "_model_module_version": "1.5.0",
            "value": 1600,
            "_view_count": null,
            "_view_module_version": "1.5.0",
            "orientation": "horizontal",
            "min": 0,
            "description_tooltip": null,
            "_model_module": "@jupyter-widgets/controls",
            "layout": "IPY_MODEL_fe918a4cc2cf47b28aa1100ff6bb56a8"
          }
        },
        "ff726238e1d544108f80ce0342109ec4": {
          "model_module": "@jupyter-widgets/controls",
          "model_name": "HTMLModel",
          "state": {
            "_view_name": "HTMLView",
            "style": "IPY_MODEL_e136f40f20f049eca6c566d81c97de32",
            "_dom_classes": [],
            "description": "",
            "_model_name": "HTMLModel",
            "placeholder": "​",
            "_view_module": "@jupyter-widgets/controls",
            "_model_module_version": "1.5.0",
            "value": " 1600/1600 [01:41&lt;00:00, 15.70it/s]",
            "_view_count": null,
            "_view_module_version": "1.5.0",
            "description_tooltip": null,
            "_model_module": "@jupyter-widgets/controls",
            "layout": "IPY_MODEL_62b509910bff476eb527e051008ea88c"
          }
        },
        "3af8372c4e184174bfb665f52fb1ed80": {
          "model_module": "@jupyter-widgets/controls",
          "model_name": "ProgressStyleModel",
          "state": {
            "_view_name": "StyleView",
            "_model_name": "ProgressStyleModel",
            "description_width": "initial",
            "_view_module": "@jupyter-widgets/base",
            "_model_module_version": "1.5.0",
            "_view_count": null,
            "_view_module_version": "1.2.0",
            "bar_color": null,
            "_model_module": "@jupyter-widgets/controls"
          }
        },
        "fe918a4cc2cf47b28aa1100ff6bb56a8": {
          "model_module": "@jupyter-widgets/base",
          "model_name": "LayoutModel",
          "state": {
            "_view_name": "LayoutView",
            "grid_template_rows": null,
            "right": null,
            "justify_content": null,
            "_view_module": "@jupyter-widgets/base",
            "overflow": null,
            "_model_module_version": "1.2.0",
            "_view_count": null,
            "flex_flow": null,
            "width": null,
            "min_width": null,
            "border": null,
            "align_items": null,
            "bottom": null,
            "_model_module": "@jupyter-widgets/base",
            "top": null,
            "grid_column": null,
            "overflow_y": null,
            "overflow_x": null,
            "grid_auto_flow": null,
            "grid_area": null,
            "grid_template_columns": null,
            "flex": null,
            "_model_name": "LayoutModel",
            "justify_items": null,
            "grid_row": null,
            "max_height": null,
            "align_content": null,
            "visibility": null,
            "align_self": null,
            "height": null,
            "min_height": null,
            "padding": null,
            "grid_auto_rows": null,
            "grid_gap": null,
            "max_width": null,
            "order": null,
            "_view_module_version": "1.2.0",
            "grid_template_areas": null,
            "object_position": null,
            "object_fit": null,
            "grid_auto_columns": null,
            "margin": null,
            "display": null,
            "left": null
          }
        },
        "e136f40f20f049eca6c566d81c97de32": {
          "model_module": "@jupyter-widgets/controls",
          "model_name": "DescriptionStyleModel",
          "state": {
            "_view_name": "StyleView",
            "_model_name": "DescriptionStyleModel",
            "description_width": "",
            "_view_module": "@jupyter-widgets/base",
            "_model_module_version": "1.5.0",
            "_view_count": null,
            "_view_module_version": "1.2.0",
            "_model_module": "@jupyter-widgets/controls"
          }
        },
        "62b509910bff476eb527e051008ea88c": {
          "model_module": "@jupyter-widgets/base",
          "model_name": "LayoutModel",
          "state": {
            "_view_name": "LayoutView",
            "grid_template_rows": null,
            "right": null,
            "justify_content": null,
            "_view_module": "@jupyter-widgets/base",
            "overflow": null,
            "_model_module_version": "1.2.0",
            "_view_count": null,
            "flex_flow": null,
            "width": null,
            "min_width": null,
            "border": null,
            "align_items": null,
            "bottom": null,
            "_model_module": "@jupyter-widgets/base",
            "top": null,
            "grid_column": null,
            "overflow_y": null,
            "overflow_x": null,
            "grid_auto_flow": null,
            "grid_area": null,
            "grid_template_columns": null,
            "flex": null,
            "_model_name": "LayoutModel",
            "justify_items": null,
            "grid_row": null,
            "max_height": null,
            "align_content": null,
            "visibility": null,
            "align_self": null,
            "height": null,
            "min_height": null,
            "padding": null,
            "grid_auto_rows": null,
            "grid_gap": null,
            "max_width": null,
            "order": null,
            "_view_module_version": "1.2.0",
            "grid_template_areas": null,
            "object_position": null,
            "object_fit": null,
            "grid_auto_columns": null,
            "margin": null,
            "display": null,
            "left": null
          }
        },
        "951e3144ed4d46f5b6ad74612703a0e2": {
          "model_module": "@jupyter-widgets/controls",
          "model_name": "HBoxModel",
          "state": {
            "_view_name": "HBoxView",
            "_dom_classes": [],
            "_model_name": "HBoxModel",
            "_view_module": "@jupyter-widgets/controls",
            "_model_module_version": "1.5.0",
            "_view_count": null,
            "_view_module_version": "1.5.0",
            "box_style": "",
            "layout": "IPY_MODEL_c3b1d7bc91b94154924906ddf73e1230",
            "_model_module": "@jupyter-widgets/controls",
            "children": [
              "IPY_MODEL_59c6c71504314e65a514d6d43ca537a1",
              "IPY_MODEL_e3152e52248a474eb0b66e71f496df58"
            ]
          }
        },
        "c3b1d7bc91b94154924906ddf73e1230": {
          "model_module": "@jupyter-widgets/base",
          "model_name": "LayoutModel",
          "state": {
            "_view_name": "LayoutView",
            "grid_template_rows": null,
            "right": null,
            "justify_content": null,
            "_view_module": "@jupyter-widgets/base",
            "overflow": null,
            "_model_module_version": "1.2.0",
            "_view_count": null,
            "flex_flow": null,
            "width": null,
            "min_width": null,
            "border": null,
            "align_items": null,
            "bottom": null,
            "_model_module": "@jupyter-widgets/base",
            "top": null,
            "grid_column": null,
            "overflow_y": null,
            "overflow_x": null,
            "grid_auto_flow": null,
            "grid_area": null,
            "grid_template_columns": null,
            "flex": null,
            "_model_name": "LayoutModel",
            "justify_items": null,
            "grid_row": null,
            "max_height": null,
            "align_content": null,
            "visibility": null,
            "align_self": null,
            "height": null,
            "min_height": null,
            "padding": null,
            "grid_auto_rows": null,
            "grid_gap": null,
            "max_width": null,
            "order": null,
            "_view_module_version": "1.2.0",
            "grid_template_areas": null,
            "object_position": null,
            "object_fit": null,
            "grid_auto_columns": null,
            "margin": null,
            "display": null,
            "left": null
          }
        },
        "59c6c71504314e65a514d6d43ca537a1": {
          "model_module": "@jupyter-widgets/controls",
          "model_name": "FloatProgressModel",
          "state": {
            "_view_name": "ProgressView",
            "style": "IPY_MODEL_1d2df6e3fdc24977a79f777743c0410d",
            "_dom_classes": [],
            "description": "Pandas Apply: 100%",
            "_model_name": "FloatProgressModel",
            "bar_style": "success",
            "max": 1997,
            "_view_module": "@jupyter-widgets/controls",
            "_model_module_version": "1.5.0",
            "value": 1997,
            "_view_count": null,
            "_view_module_version": "1.5.0",
            "orientation": "horizontal",
            "min": 0,
            "description_tooltip": null,
            "_model_module": "@jupyter-widgets/controls",
            "layout": "IPY_MODEL_6a00d3da314f4ca2a258337bdf37ea20"
          }
        },
        "e3152e52248a474eb0b66e71f496df58": {
          "model_module": "@jupyter-widgets/controls",
          "model_name": "HTMLModel",
          "state": {
            "_view_name": "HTMLView",
            "style": "IPY_MODEL_e9576ebce09b42959c969103c4ce7aec",
            "_dom_classes": [],
            "description": "",
            "_model_name": "HTMLModel",
            "placeholder": "​",
            "_view_module": "@jupyter-widgets/controls",
            "_model_module_version": "1.5.0",
            "value": " 1997/1997 [03:41&lt;00:00,  9.03it/s]",
            "_view_count": null,
            "_view_module_version": "1.5.0",
            "description_tooltip": null,
            "_model_module": "@jupyter-widgets/controls",
            "layout": "IPY_MODEL_21e5e3ee37e94e4284cc997afdd3d35b"
          }
        },
        "1d2df6e3fdc24977a79f777743c0410d": {
          "model_module": "@jupyter-widgets/controls",
          "model_name": "ProgressStyleModel",
          "state": {
            "_view_name": "StyleView",
            "_model_name": "ProgressStyleModel",
            "description_width": "initial",
            "_view_module": "@jupyter-widgets/base",
            "_model_module_version": "1.5.0",
            "_view_count": null,
            "_view_module_version": "1.2.0",
            "bar_color": null,
            "_model_module": "@jupyter-widgets/controls"
          }
        },
        "6a00d3da314f4ca2a258337bdf37ea20": {
          "model_module": "@jupyter-widgets/base",
          "model_name": "LayoutModel",
          "state": {
            "_view_name": "LayoutView",
            "grid_template_rows": null,
            "right": null,
            "justify_content": null,
            "_view_module": "@jupyter-widgets/base",
            "overflow": null,
            "_model_module_version": "1.2.0",
            "_view_count": null,
            "flex_flow": null,
            "width": null,
            "min_width": null,
            "border": null,
            "align_items": null,
            "bottom": null,
            "_model_module": "@jupyter-widgets/base",
            "top": null,
            "grid_column": null,
            "overflow_y": null,
            "overflow_x": null,
            "grid_auto_flow": null,
            "grid_area": null,
            "grid_template_columns": null,
            "flex": null,
            "_model_name": "LayoutModel",
            "justify_items": null,
            "grid_row": null,
            "max_height": null,
            "align_content": null,
            "visibility": null,
            "align_self": null,
            "height": null,
            "min_height": null,
            "padding": null,
            "grid_auto_rows": null,
            "grid_gap": null,
            "max_width": null,
            "order": null,
            "_view_module_version": "1.2.0",
            "grid_template_areas": null,
            "object_position": null,
            "object_fit": null,
            "grid_auto_columns": null,
            "margin": null,
            "display": null,
            "left": null
          }
        },
        "e9576ebce09b42959c969103c4ce7aec": {
          "model_module": "@jupyter-widgets/controls",
          "model_name": "DescriptionStyleModel",
          "state": {
            "_view_name": "StyleView",
            "_model_name": "DescriptionStyleModel",
            "description_width": "",
            "_view_module": "@jupyter-widgets/base",
            "_model_module_version": "1.5.0",
            "_view_count": null,
            "_view_module_version": "1.2.0",
            "_model_module": "@jupyter-widgets/controls"
          }
        },
        "21e5e3ee37e94e4284cc997afdd3d35b": {
          "model_module": "@jupyter-widgets/base",
          "model_name": "LayoutModel",
          "state": {
            "_view_name": "LayoutView",
            "grid_template_rows": null,
            "right": null,
            "justify_content": null,
            "_view_module": "@jupyter-widgets/base",
            "overflow": null,
            "_model_module_version": "1.2.0",
            "_view_count": null,
            "flex_flow": null,
            "width": null,
            "min_width": null,
            "border": null,
            "align_items": null,
            "bottom": null,
            "_model_module": "@jupyter-widgets/base",
            "top": null,
            "grid_column": null,
            "overflow_y": null,
            "overflow_x": null,
            "grid_auto_flow": null,
            "grid_area": null,
            "grid_template_columns": null,
            "flex": null,
            "_model_name": "LayoutModel",
            "justify_items": null,
            "grid_row": null,
            "max_height": null,
            "align_content": null,
            "visibility": null,
            "align_self": null,
            "height": null,
            "min_height": null,
            "padding": null,
            "grid_auto_rows": null,
            "grid_gap": null,
            "max_width": null,
            "order": null,
            "_view_module_version": "1.2.0",
            "grid_template_areas": null,
            "object_position": null,
            "object_fit": null,
            "grid_auto_columns": null,
            "margin": null,
            "display": null,
            "left": null
          }
        },
        "8e202557a4214a479bd740faa1d4dbcd": {
          "model_module": "@jupyter-widgets/controls",
          "model_name": "HBoxModel",
          "state": {
            "_view_name": "HBoxView",
            "_dom_classes": [],
            "_model_name": "HBoxModel",
            "_view_module": "@jupyter-widgets/controls",
            "_model_module_version": "1.5.0",
            "_view_count": null,
            "_view_module_version": "1.5.0",
            "box_style": "",
            "layout": "IPY_MODEL_dcc536e27eda4a77b9f7f0f77402da19",
            "_model_module": "@jupyter-widgets/controls",
            "children": [
              "IPY_MODEL_3c9086ff945f4336a897e8791c0b5678",
              "IPY_MODEL_612ab22fa9e242949eede273bd1476a2"
            ]
          }
        },
        "dcc536e27eda4a77b9f7f0f77402da19": {
          "model_module": "@jupyter-widgets/base",
          "model_name": "LayoutModel",
          "state": {
            "_view_name": "LayoutView",
            "grid_template_rows": null,
            "right": null,
            "justify_content": null,
            "_view_module": "@jupyter-widgets/base",
            "overflow": null,
            "_model_module_version": "1.2.0",
            "_view_count": null,
            "flex_flow": null,
            "width": null,
            "min_width": null,
            "border": null,
            "align_items": null,
            "bottom": null,
            "_model_module": "@jupyter-widgets/base",
            "top": null,
            "grid_column": null,
            "overflow_y": null,
            "overflow_x": null,
            "grid_auto_flow": null,
            "grid_area": null,
            "grid_template_columns": null,
            "flex": null,
            "_model_name": "LayoutModel",
            "justify_items": null,
            "grid_row": null,
            "max_height": null,
            "align_content": null,
            "visibility": null,
            "align_self": null,
            "height": null,
            "min_height": null,
            "padding": null,
            "grid_auto_rows": null,
            "grid_gap": null,
            "max_width": null,
            "order": null,
            "_view_module_version": "1.2.0",
            "grid_template_areas": null,
            "object_position": null,
            "object_fit": null,
            "grid_auto_columns": null,
            "margin": null,
            "display": null,
            "left": null
          }
        },
        "3c9086ff945f4336a897e8791c0b5678": {
          "model_module": "@jupyter-widgets/controls",
          "model_name": "FloatProgressModel",
          "state": {
            "_view_name": "ProgressView",
            "style": "IPY_MODEL_1b1d2d3eefe94979b269f60c83fb3758",
            "_dom_classes": [],
            "description": "Pandas Apply: 100%",
            "_model_name": "FloatProgressModel",
            "bar_style": "success",
            "max": 1997,
            "_view_module": "@jupyter-widgets/controls",
            "_model_module_version": "1.5.0",
            "value": 1997,
            "_view_count": null,
            "_view_module_version": "1.5.0",
            "orientation": "horizontal",
            "min": 0,
            "description_tooltip": null,
            "_model_module": "@jupyter-widgets/controls",
            "layout": "IPY_MODEL_2f6532cd5b684cd2863bad178511ab87"
          }
        },
        "612ab22fa9e242949eede273bd1476a2": {
          "model_module": "@jupyter-widgets/controls",
          "model_name": "HTMLModel",
          "state": {
            "_view_name": "HTMLView",
            "style": "IPY_MODEL_28d745dd1e4c41bdbc7d8d23fadf8e04",
            "_dom_classes": [],
            "description": "",
            "_model_name": "HTMLModel",
            "placeholder": "​",
            "_view_module": "@jupyter-widgets/controls",
            "_model_module_version": "1.5.0",
            "value": " 1997/1997 [01:54&lt;00:00, 17.38it/s]",
            "_view_count": null,
            "_view_module_version": "1.5.0",
            "description_tooltip": null,
            "_model_module": "@jupyter-widgets/controls",
            "layout": "IPY_MODEL_3d3e9d6328d246589a8acabdfc23424d"
          }
        },
        "1b1d2d3eefe94979b269f60c83fb3758": {
          "model_module": "@jupyter-widgets/controls",
          "model_name": "ProgressStyleModel",
          "state": {
            "_view_name": "StyleView",
            "_model_name": "ProgressStyleModel",
            "description_width": "initial",
            "_view_module": "@jupyter-widgets/base",
            "_model_module_version": "1.5.0",
            "_view_count": null,
            "_view_module_version": "1.2.0",
            "bar_color": null,
            "_model_module": "@jupyter-widgets/controls"
          }
        },
        "2f6532cd5b684cd2863bad178511ab87": {
          "model_module": "@jupyter-widgets/base",
          "model_name": "LayoutModel",
          "state": {
            "_view_name": "LayoutView",
            "grid_template_rows": null,
            "right": null,
            "justify_content": null,
            "_view_module": "@jupyter-widgets/base",
            "overflow": null,
            "_model_module_version": "1.2.0",
            "_view_count": null,
            "flex_flow": null,
            "width": null,
            "min_width": null,
            "border": null,
            "align_items": null,
            "bottom": null,
            "_model_module": "@jupyter-widgets/base",
            "top": null,
            "grid_column": null,
            "overflow_y": null,
            "overflow_x": null,
            "grid_auto_flow": null,
            "grid_area": null,
            "grid_template_columns": null,
            "flex": null,
            "_model_name": "LayoutModel",
            "justify_items": null,
            "grid_row": null,
            "max_height": null,
            "align_content": null,
            "visibility": null,
            "align_self": null,
            "height": null,
            "min_height": null,
            "padding": null,
            "grid_auto_rows": null,
            "grid_gap": null,
            "max_width": null,
            "order": null,
            "_view_module_version": "1.2.0",
            "grid_template_areas": null,
            "object_position": null,
            "object_fit": null,
            "grid_auto_columns": null,
            "margin": null,
            "display": null,
            "left": null
          }
        },
        "28d745dd1e4c41bdbc7d8d23fadf8e04": {
          "model_module": "@jupyter-widgets/controls",
          "model_name": "DescriptionStyleModel",
          "state": {
            "_view_name": "StyleView",
            "_model_name": "DescriptionStyleModel",
            "description_width": "",
            "_view_module": "@jupyter-widgets/base",
            "_model_module_version": "1.5.0",
            "_view_count": null,
            "_view_module_version": "1.2.0",
            "_model_module": "@jupyter-widgets/controls"
          }
        },
        "3d3e9d6328d246589a8acabdfc23424d": {
          "model_module": "@jupyter-widgets/base",
          "model_name": "LayoutModel",
          "state": {
            "_view_name": "LayoutView",
            "grid_template_rows": null,
            "right": null,
            "justify_content": null,
            "_view_module": "@jupyter-widgets/base",
            "overflow": null,
            "_model_module_version": "1.2.0",
            "_view_count": null,
            "flex_flow": null,
            "width": null,
            "min_width": null,
            "border": null,
            "align_items": null,
            "bottom": null,
            "_model_module": "@jupyter-widgets/base",
            "top": null,
            "grid_column": null,
            "overflow_y": null,
            "overflow_x": null,
            "grid_auto_flow": null,
            "grid_area": null,
            "grid_template_columns": null,
            "flex": null,
            "_model_name": "LayoutModel",
            "justify_items": null,
            "grid_row": null,
            "max_height": null,
            "align_content": null,
            "visibility": null,
            "align_self": null,
            "height": null,
            "min_height": null,
            "padding": null,
            "grid_auto_rows": null,
            "grid_gap": null,
            "max_width": null,
            "order": null,
            "_view_module_version": "1.2.0",
            "grid_template_areas": null,
            "object_position": null,
            "object_fit": null,
            "grid_auto_columns": null,
            "margin": null,
            "display": null,
            "left": null
          }
        },
        "3bff45b27c364678912d1d5f84b63a6c": {
          "model_module": "@jupyter-widgets/controls",
          "model_name": "HBoxModel",
          "state": {
            "_view_name": "HBoxView",
            "_dom_classes": [],
            "_model_name": "HBoxModel",
            "_view_module": "@jupyter-widgets/controls",
            "_model_module_version": "1.5.0",
            "_view_count": null,
            "_view_module_version": "1.5.0",
            "box_style": "",
            "layout": "IPY_MODEL_de0d06a887994a0ea742820bc7d7f8cb",
            "_model_module": "@jupyter-widgets/controls",
            "children": [
              "IPY_MODEL_a1b4b57eadaf4b008e42d05afec606fc",
              "IPY_MODEL_b324ecc32eaa43809cdad9011717e4e3"
            ]
          }
        },
        "de0d06a887994a0ea742820bc7d7f8cb": {
          "model_module": "@jupyter-widgets/base",
          "model_name": "LayoutModel",
          "state": {
            "_view_name": "LayoutView",
            "grid_template_rows": null,
            "right": null,
            "justify_content": null,
            "_view_module": "@jupyter-widgets/base",
            "overflow": null,
            "_model_module_version": "1.2.0",
            "_view_count": null,
            "flex_flow": null,
            "width": null,
            "min_width": null,
            "border": null,
            "align_items": null,
            "bottom": null,
            "_model_module": "@jupyter-widgets/base",
            "top": null,
            "grid_column": null,
            "overflow_y": null,
            "overflow_x": null,
            "grid_auto_flow": null,
            "grid_area": null,
            "grid_template_columns": null,
            "flex": null,
            "_model_name": "LayoutModel",
            "justify_items": null,
            "grid_row": null,
            "max_height": null,
            "align_content": null,
            "visibility": null,
            "align_self": null,
            "height": null,
            "min_height": null,
            "padding": null,
            "grid_auto_rows": null,
            "grid_gap": null,
            "max_width": null,
            "order": null,
            "_view_module_version": "1.2.0",
            "grid_template_areas": null,
            "object_position": null,
            "object_fit": null,
            "grid_auto_columns": null,
            "margin": null,
            "display": null,
            "left": null
          }
        },
        "a1b4b57eadaf4b008e42d05afec606fc": {
          "model_module": "@jupyter-widgets/controls",
          "model_name": "FloatProgressModel",
          "state": {
            "_view_name": "ProgressView",
            "style": "IPY_MODEL_2110faa940bf40c395e2602254735c61",
            "_dom_classes": [],
            "description": "Pandas Apply: 100%",
            "_model_name": "FloatProgressModel",
            "bar_style": "success",
            "max": 500,
            "_view_module": "@jupyter-widgets/controls",
            "_model_module_version": "1.5.0",
            "value": 500,
            "_view_count": null,
            "_view_module_version": "1.5.0",
            "orientation": "horizontal",
            "min": 0,
            "description_tooltip": null,
            "_model_module": "@jupyter-widgets/controls",
            "layout": "IPY_MODEL_2800b3d076704201806d20018fdc5a88"
          }
        },
        "b324ecc32eaa43809cdad9011717e4e3": {
          "model_module": "@jupyter-widgets/controls",
          "model_name": "HTMLModel",
          "state": {
            "_view_name": "HTMLView",
            "style": "IPY_MODEL_83793b355220442a8ffad658d1bca2ef",
            "_dom_classes": [],
            "description": "",
            "_model_name": "HTMLModel",
            "placeholder": "​",
            "_view_module": "@jupyter-widgets/controls",
            "_model_module_version": "1.5.0",
            "value": " 500/500 [00:00&lt;00:00, 8421.52it/s]",
            "_view_count": null,
            "_view_module_version": "1.5.0",
            "description_tooltip": null,
            "_model_module": "@jupyter-widgets/controls",
            "layout": "IPY_MODEL_1d7d691055cb48f48e6d770fb8ee3687"
          }
        },
        "2110faa940bf40c395e2602254735c61": {
          "model_module": "@jupyter-widgets/controls",
          "model_name": "ProgressStyleModel",
          "state": {
            "_view_name": "StyleView",
            "_model_name": "ProgressStyleModel",
            "description_width": "initial",
            "_view_module": "@jupyter-widgets/base",
            "_model_module_version": "1.5.0",
            "_view_count": null,
            "_view_module_version": "1.2.0",
            "bar_color": null,
            "_model_module": "@jupyter-widgets/controls"
          }
        },
        "2800b3d076704201806d20018fdc5a88": {
          "model_module": "@jupyter-widgets/base",
          "model_name": "LayoutModel",
          "state": {
            "_view_name": "LayoutView",
            "grid_template_rows": null,
            "right": null,
            "justify_content": null,
            "_view_module": "@jupyter-widgets/base",
            "overflow": null,
            "_model_module_version": "1.2.0",
            "_view_count": null,
            "flex_flow": null,
            "width": null,
            "min_width": null,
            "border": null,
            "align_items": null,
            "bottom": null,
            "_model_module": "@jupyter-widgets/base",
            "top": null,
            "grid_column": null,
            "overflow_y": null,
            "overflow_x": null,
            "grid_auto_flow": null,
            "grid_area": null,
            "grid_template_columns": null,
            "flex": null,
            "_model_name": "LayoutModel",
            "justify_items": null,
            "grid_row": null,
            "max_height": null,
            "align_content": null,
            "visibility": null,
            "align_self": null,
            "height": null,
            "min_height": null,
            "padding": null,
            "grid_auto_rows": null,
            "grid_gap": null,
            "max_width": null,
            "order": null,
            "_view_module_version": "1.2.0",
            "grid_template_areas": null,
            "object_position": null,
            "object_fit": null,
            "grid_auto_columns": null,
            "margin": null,
            "display": null,
            "left": null
          }
        },
        "83793b355220442a8ffad658d1bca2ef": {
          "model_module": "@jupyter-widgets/controls",
          "model_name": "DescriptionStyleModel",
          "state": {
            "_view_name": "StyleView",
            "_model_name": "DescriptionStyleModel",
            "description_width": "",
            "_view_module": "@jupyter-widgets/base",
            "_model_module_version": "1.5.0",
            "_view_count": null,
            "_view_module_version": "1.2.0",
            "_model_module": "@jupyter-widgets/controls"
          }
        },
        "1d7d691055cb48f48e6d770fb8ee3687": {
          "model_module": "@jupyter-widgets/base",
          "model_name": "LayoutModel",
          "state": {
            "_view_name": "LayoutView",
            "grid_template_rows": null,
            "right": null,
            "justify_content": null,
            "_view_module": "@jupyter-widgets/base",
            "overflow": null,
            "_model_module_version": "1.2.0",
            "_view_count": null,
            "flex_flow": null,
            "width": null,
            "min_width": null,
            "border": null,
            "align_items": null,
            "bottom": null,
            "_model_module": "@jupyter-widgets/base",
            "top": null,
            "grid_column": null,
            "overflow_y": null,
            "overflow_x": null,
            "grid_auto_flow": null,
            "grid_area": null,
            "grid_template_columns": null,
            "flex": null,
            "_model_name": "LayoutModel",
            "justify_items": null,
            "grid_row": null,
            "max_height": null,
            "align_content": null,
            "visibility": null,
            "align_self": null,
            "height": null,
            "min_height": null,
            "padding": null,
            "grid_auto_rows": null,
            "grid_gap": null,
            "max_width": null,
            "order": null,
            "_view_module_version": "1.2.0",
            "grid_template_areas": null,
            "object_position": null,
            "object_fit": null,
            "grid_auto_columns": null,
            "margin": null,
            "display": null,
            "left": null
          }
        },
        "5bd2b45e1d52467590f2385fdaa36472": {
          "model_module": "@jupyter-widgets/controls",
          "model_name": "HBoxModel",
          "state": {
            "_view_name": "HBoxView",
            "_dom_classes": [],
            "_model_name": "HBoxModel",
            "_view_module": "@jupyter-widgets/controls",
            "_model_module_version": "1.5.0",
            "_view_count": null,
            "_view_module_version": "1.5.0",
            "box_style": "",
            "layout": "IPY_MODEL_b9c23cfee0264fefb2c8c09f20d95915",
            "_model_module": "@jupyter-widgets/controls",
            "children": [
              "IPY_MODEL_a23556967e3144db825ca4b95fbcc1ac",
              "IPY_MODEL_a015fa800b0f415fbc0dec18771799c7"
            ]
          }
        },
        "b9c23cfee0264fefb2c8c09f20d95915": {
          "model_module": "@jupyter-widgets/base",
          "model_name": "LayoutModel",
          "state": {
            "_view_name": "LayoutView",
            "grid_template_rows": null,
            "right": null,
            "justify_content": null,
            "_view_module": "@jupyter-widgets/base",
            "overflow": null,
            "_model_module_version": "1.2.0",
            "_view_count": null,
            "flex_flow": null,
            "width": null,
            "min_width": null,
            "border": null,
            "align_items": null,
            "bottom": null,
            "_model_module": "@jupyter-widgets/base",
            "top": null,
            "grid_column": null,
            "overflow_y": null,
            "overflow_x": null,
            "grid_auto_flow": null,
            "grid_area": null,
            "grid_template_columns": null,
            "flex": null,
            "_model_name": "LayoutModel",
            "justify_items": null,
            "grid_row": null,
            "max_height": null,
            "align_content": null,
            "visibility": null,
            "align_self": null,
            "height": null,
            "min_height": null,
            "padding": null,
            "grid_auto_rows": null,
            "grid_gap": null,
            "max_width": null,
            "order": null,
            "_view_module_version": "1.2.0",
            "grid_template_areas": null,
            "object_position": null,
            "object_fit": null,
            "grid_auto_columns": null,
            "margin": null,
            "display": null,
            "left": null
          }
        },
        "a23556967e3144db825ca4b95fbcc1ac": {
          "model_module": "@jupyter-widgets/controls",
          "model_name": "FloatProgressModel",
          "state": {
            "_view_name": "ProgressView",
            "style": "IPY_MODEL_eca75d861705491db26448a36cc88699",
            "_dom_classes": [],
            "description": "Pandas Apply: 100%",
            "_model_name": "FloatProgressModel",
            "bar_style": "success",
            "max": 500,
            "_view_module": "@jupyter-widgets/controls",
            "_model_module_version": "1.5.0",
            "value": 500,
            "_view_count": null,
            "_view_module_version": "1.5.0",
            "orientation": "horizontal",
            "min": 0,
            "description_tooltip": null,
            "_model_module": "@jupyter-widgets/controls",
            "layout": "IPY_MODEL_42bf6a0c5cc0476689442c2464fd56a0"
          }
        },
        "a015fa800b0f415fbc0dec18771799c7": {
          "model_module": "@jupyter-widgets/controls",
          "model_name": "HTMLModel",
          "state": {
            "_view_name": "HTMLView",
            "style": "IPY_MODEL_3bd4365cd1d2443c89b662717b3a5617",
            "_dom_classes": [],
            "description": "",
            "_model_name": "HTMLModel",
            "placeholder": "​",
            "_view_module": "@jupyter-widgets/controls",
            "_model_module_version": "1.5.0",
            "value": " 500/500 [20:52&lt;00:00,  2.50s/it]",
            "_view_count": null,
            "_view_module_version": "1.5.0",
            "description_tooltip": null,
            "_model_module": "@jupyter-widgets/controls",
            "layout": "IPY_MODEL_7b489df6b4e24c32a1acf9d016b4b305"
          }
        },
        "eca75d861705491db26448a36cc88699": {
          "model_module": "@jupyter-widgets/controls",
          "model_name": "ProgressStyleModel",
          "state": {
            "_view_name": "StyleView",
            "_model_name": "ProgressStyleModel",
            "description_width": "initial",
            "_view_module": "@jupyter-widgets/base",
            "_model_module_version": "1.5.0",
            "_view_count": null,
            "_view_module_version": "1.2.0",
            "bar_color": null,
            "_model_module": "@jupyter-widgets/controls"
          }
        },
        "42bf6a0c5cc0476689442c2464fd56a0": {
          "model_module": "@jupyter-widgets/base",
          "model_name": "LayoutModel",
          "state": {
            "_view_name": "LayoutView",
            "grid_template_rows": null,
            "right": null,
            "justify_content": null,
            "_view_module": "@jupyter-widgets/base",
            "overflow": null,
            "_model_module_version": "1.2.0",
            "_view_count": null,
            "flex_flow": null,
            "width": null,
            "min_width": null,
            "border": null,
            "align_items": null,
            "bottom": null,
            "_model_module": "@jupyter-widgets/base",
            "top": null,
            "grid_column": null,
            "overflow_y": null,
            "overflow_x": null,
            "grid_auto_flow": null,
            "grid_area": null,
            "grid_template_columns": null,
            "flex": null,
            "_model_name": "LayoutModel",
            "justify_items": null,
            "grid_row": null,
            "max_height": null,
            "align_content": null,
            "visibility": null,
            "align_self": null,
            "height": null,
            "min_height": null,
            "padding": null,
            "grid_auto_rows": null,
            "grid_gap": null,
            "max_width": null,
            "order": null,
            "_view_module_version": "1.2.0",
            "grid_template_areas": null,
            "object_position": null,
            "object_fit": null,
            "grid_auto_columns": null,
            "margin": null,
            "display": null,
            "left": null
          }
        },
        "3bd4365cd1d2443c89b662717b3a5617": {
          "model_module": "@jupyter-widgets/controls",
          "model_name": "DescriptionStyleModel",
          "state": {
            "_view_name": "StyleView",
            "_model_name": "DescriptionStyleModel",
            "description_width": "",
            "_view_module": "@jupyter-widgets/base",
            "_model_module_version": "1.5.0",
            "_view_count": null,
            "_view_module_version": "1.2.0",
            "_model_module": "@jupyter-widgets/controls"
          }
        },
        "7b489df6b4e24c32a1acf9d016b4b305": {
          "model_module": "@jupyter-widgets/base",
          "model_name": "LayoutModel",
          "state": {
            "_view_name": "LayoutView",
            "grid_template_rows": null,
            "right": null,
            "justify_content": null,
            "_view_module": "@jupyter-widgets/base",
            "overflow": null,
            "_model_module_version": "1.2.0",
            "_view_count": null,
            "flex_flow": null,
            "width": null,
            "min_width": null,
            "border": null,
            "align_items": null,
            "bottom": null,
            "_model_module": "@jupyter-widgets/base",
            "top": null,
            "grid_column": null,
            "overflow_y": null,
            "overflow_x": null,
            "grid_auto_flow": null,
            "grid_area": null,
            "grid_template_columns": null,
            "flex": null,
            "_model_name": "LayoutModel",
            "justify_items": null,
            "grid_row": null,
            "max_height": null,
            "align_content": null,
            "visibility": null,
            "align_self": null,
            "height": null,
            "min_height": null,
            "padding": null,
            "grid_auto_rows": null,
            "grid_gap": null,
            "max_width": null,
            "order": null,
            "_view_module_version": "1.2.0",
            "grid_template_areas": null,
            "object_position": null,
            "object_fit": null,
            "grid_auto_columns": null,
            "margin": null,
            "display": null,
            "left": null
          }
        },
        "9a7ea1ba2d45445c856914abaafe4cf0": {
          "model_module": "@jupyter-widgets/controls",
          "model_name": "HBoxModel",
          "state": {
            "_view_name": "HBoxView",
            "_dom_classes": [],
            "_model_name": "HBoxModel",
            "_view_module": "@jupyter-widgets/controls",
            "_model_module_version": "1.5.0",
            "_view_count": null,
            "_view_module_version": "1.5.0",
            "box_style": "",
            "layout": "IPY_MODEL_4f33c2865c8a417388314b1217a197e1",
            "_model_module": "@jupyter-widgets/controls",
            "children": [
              "IPY_MODEL_6723cf50edfd4641ac490b10abbc91fb",
              "IPY_MODEL_465912fbefc14f4dbe9aece0aa9dd926"
            ]
          }
        },
        "4f33c2865c8a417388314b1217a197e1": {
          "model_module": "@jupyter-widgets/base",
          "model_name": "LayoutModel",
          "state": {
            "_view_name": "LayoutView",
            "grid_template_rows": null,
            "right": null,
            "justify_content": null,
            "_view_module": "@jupyter-widgets/base",
            "overflow": null,
            "_model_module_version": "1.2.0",
            "_view_count": null,
            "flex_flow": null,
            "width": null,
            "min_width": null,
            "border": null,
            "align_items": null,
            "bottom": null,
            "_model_module": "@jupyter-widgets/base",
            "top": null,
            "grid_column": null,
            "overflow_y": null,
            "overflow_x": null,
            "grid_auto_flow": null,
            "grid_area": null,
            "grid_template_columns": null,
            "flex": null,
            "_model_name": "LayoutModel",
            "justify_items": null,
            "grid_row": null,
            "max_height": null,
            "align_content": null,
            "visibility": null,
            "align_self": null,
            "height": null,
            "min_height": null,
            "padding": null,
            "grid_auto_rows": null,
            "grid_gap": null,
            "max_width": null,
            "order": null,
            "_view_module_version": "1.2.0",
            "grid_template_areas": null,
            "object_position": null,
            "object_fit": null,
            "grid_auto_columns": null,
            "margin": null,
            "display": null,
            "left": null
          }
        },
        "6723cf50edfd4641ac490b10abbc91fb": {
          "model_module": "@jupyter-widgets/controls",
          "model_name": "FloatProgressModel",
          "state": {
            "_view_name": "ProgressView",
            "style": "IPY_MODEL_25d3acf4073a48fe963e12ec0e67eafc",
            "_dom_classes": [],
            "description": "Pandas Apply: 100%",
            "_model_name": "FloatProgressModel",
            "bar_style": "success",
            "max": 500,
            "_view_module": "@jupyter-widgets/controls",
            "_model_module_version": "1.5.0",
            "value": 500,
            "_view_count": null,
            "_view_module_version": "1.5.0",
            "orientation": "horizontal",
            "min": 0,
            "description_tooltip": null,
            "_model_module": "@jupyter-widgets/controls",
            "layout": "IPY_MODEL_f7799bcaa0e044d8a30e043dad9c2b15"
          }
        },
        "465912fbefc14f4dbe9aece0aa9dd926": {
          "model_module": "@jupyter-widgets/controls",
          "model_name": "HTMLModel",
          "state": {
            "_view_name": "HTMLView",
            "style": "IPY_MODEL_611b6134269a4295b0136c7408a7daea",
            "_dom_classes": [],
            "description": "",
            "_model_name": "HTMLModel",
            "placeholder": "​",
            "_view_module": "@jupyter-widgets/controls",
            "_model_module_version": "1.5.0",
            "value": " 500/500 [01:49&lt;00:00,  4.58it/s]",
            "_view_count": null,
            "_view_module_version": "1.5.0",
            "description_tooltip": null,
            "_model_module": "@jupyter-widgets/controls",
            "layout": "IPY_MODEL_ce72edf6271c4767b19688aea9774547"
          }
        },
        "25d3acf4073a48fe963e12ec0e67eafc": {
          "model_module": "@jupyter-widgets/controls",
          "model_name": "ProgressStyleModel",
          "state": {
            "_view_name": "StyleView",
            "_model_name": "ProgressStyleModel",
            "description_width": "initial",
            "_view_module": "@jupyter-widgets/base",
            "_model_module_version": "1.5.0",
            "_view_count": null,
            "_view_module_version": "1.2.0",
            "bar_color": null,
            "_model_module": "@jupyter-widgets/controls"
          }
        },
        "f7799bcaa0e044d8a30e043dad9c2b15": {
          "model_module": "@jupyter-widgets/base",
          "model_name": "LayoutModel",
          "state": {
            "_view_name": "LayoutView",
            "grid_template_rows": null,
            "right": null,
            "justify_content": null,
            "_view_module": "@jupyter-widgets/base",
            "overflow": null,
            "_model_module_version": "1.2.0",
            "_view_count": null,
            "flex_flow": null,
            "width": null,
            "min_width": null,
            "border": null,
            "align_items": null,
            "bottom": null,
            "_model_module": "@jupyter-widgets/base",
            "top": null,
            "grid_column": null,
            "overflow_y": null,
            "overflow_x": null,
            "grid_auto_flow": null,
            "grid_area": null,
            "grid_template_columns": null,
            "flex": null,
            "_model_name": "LayoutModel",
            "justify_items": null,
            "grid_row": null,
            "max_height": null,
            "align_content": null,
            "visibility": null,
            "align_self": null,
            "height": null,
            "min_height": null,
            "padding": null,
            "grid_auto_rows": null,
            "grid_gap": null,
            "max_width": null,
            "order": null,
            "_view_module_version": "1.2.0",
            "grid_template_areas": null,
            "object_position": null,
            "object_fit": null,
            "grid_auto_columns": null,
            "margin": null,
            "display": null,
            "left": null
          }
        },
        "611b6134269a4295b0136c7408a7daea": {
          "model_module": "@jupyter-widgets/controls",
          "model_name": "DescriptionStyleModel",
          "state": {
            "_view_name": "StyleView",
            "_model_name": "DescriptionStyleModel",
            "description_width": "",
            "_view_module": "@jupyter-widgets/base",
            "_model_module_version": "1.5.0",
            "_view_count": null,
            "_view_module_version": "1.2.0",
            "_model_module": "@jupyter-widgets/controls"
          }
        },
        "ce72edf6271c4767b19688aea9774547": {
          "model_module": "@jupyter-widgets/base",
          "model_name": "LayoutModel",
          "state": {
            "_view_name": "LayoutView",
            "grid_template_rows": null,
            "right": null,
            "justify_content": null,
            "_view_module": "@jupyter-widgets/base",
            "overflow": null,
            "_model_module_version": "1.2.0",
            "_view_count": null,
            "flex_flow": null,
            "width": null,
            "min_width": null,
            "border": null,
            "align_items": null,
            "bottom": null,
            "_model_module": "@jupyter-widgets/base",
            "top": null,
            "grid_column": null,
            "overflow_y": null,
            "overflow_x": null,
            "grid_auto_flow": null,
            "grid_area": null,
            "grid_template_columns": null,
            "flex": null,
            "_model_name": "LayoutModel",
            "justify_items": null,
            "grid_row": null,
            "max_height": null,
            "align_content": null,
            "visibility": null,
            "align_self": null,
            "height": null,
            "min_height": null,
            "padding": null,
            "grid_auto_rows": null,
            "grid_gap": null,
            "max_width": null,
            "order": null,
            "_view_module_version": "1.2.0",
            "grid_template_areas": null,
            "object_position": null,
            "object_fit": null,
            "grid_auto_columns": null,
            "margin": null,
            "display": null,
            "left": null
          }
        },
        "9652b9a9840545c5982e10b9dddd0fd4": {
          "model_module": "@jupyter-widgets/controls",
          "model_name": "HBoxModel",
          "state": {
            "_view_name": "HBoxView",
            "_dom_classes": [],
            "_model_name": "HBoxModel",
            "_view_module": "@jupyter-widgets/controls",
            "_model_module_version": "1.5.0",
            "_view_count": null,
            "_view_module_version": "1.5.0",
            "box_style": "",
            "layout": "IPY_MODEL_abdefac176ac4b45afdf96e56465a7f7",
            "_model_module": "@jupyter-widgets/controls",
            "children": [
              "IPY_MODEL_d45b602d314945e196d3f9d5abb7e7ab",
              "IPY_MODEL_7cad7b5d79bd427b989dab2795453d4c"
            ]
          }
        },
        "abdefac176ac4b45afdf96e56465a7f7": {
          "model_module": "@jupyter-widgets/base",
          "model_name": "LayoutModel",
          "state": {
            "_view_name": "LayoutView",
            "grid_template_rows": null,
            "right": null,
            "justify_content": null,
            "_view_module": "@jupyter-widgets/base",
            "overflow": null,
            "_model_module_version": "1.2.0",
            "_view_count": null,
            "flex_flow": null,
            "width": null,
            "min_width": null,
            "border": null,
            "align_items": null,
            "bottom": null,
            "_model_module": "@jupyter-widgets/base",
            "top": null,
            "grid_column": null,
            "overflow_y": null,
            "overflow_x": null,
            "grid_auto_flow": null,
            "grid_area": null,
            "grid_template_columns": null,
            "flex": null,
            "_model_name": "LayoutModel",
            "justify_items": null,
            "grid_row": null,
            "max_height": null,
            "align_content": null,
            "visibility": null,
            "align_self": null,
            "height": null,
            "min_height": null,
            "padding": null,
            "grid_auto_rows": null,
            "grid_gap": null,
            "max_width": null,
            "order": null,
            "_view_module_version": "1.2.0",
            "grid_template_areas": null,
            "object_position": null,
            "object_fit": null,
            "grid_auto_columns": null,
            "margin": null,
            "display": null,
            "left": null
          }
        },
        "d45b602d314945e196d3f9d5abb7e7ab": {
          "model_module": "@jupyter-widgets/controls",
          "model_name": "FloatProgressModel",
          "state": {
            "_view_name": "ProgressView",
            "style": "IPY_MODEL_d7b522006f984464a8f6ad255a2e4dba",
            "_dom_classes": [],
            "description": "Pandas Apply: 100%",
            "_model_name": "FloatProgressModel",
            "bar_style": "success",
            "max": 500,
            "_view_module": "@jupyter-widgets/controls",
            "_model_module_version": "1.5.0",
            "value": 500,
            "_view_count": null,
            "_view_module_version": "1.5.0",
            "orientation": "horizontal",
            "min": 0,
            "description_tooltip": null,
            "_model_module": "@jupyter-widgets/controls",
            "layout": "IPY_MODEL_c40b79d25a6246ebac684bc716ac8258"
          }
        },
        "7cad7b5d79bd427b989dab2795453d4c": {
          "model_module": "@jupyter-widgets/controls",
          "model_name": "HTMLModel",
          "state": {
            "_view_name": "HTMLView",
            "style": "IPY_MODEL_18c68529f454461488e0c3c039ab0d68",
            "_dom_classes": [],
            "description": "",
            "_model_name": "HTMLModel",
            "placeholder": "​",
            "_view_module": "@jupyter-widgets/controls",
            "_model_module_version": "1.5.0",
            "value": " 500/500 [47:21&lt;00:00,  5.68s/it]",
            "_view_count": null,
            "_view_module_version": "1.5.0",
            "description_tooltip": null,
            "_model_module": "@jupyter-widgets/controls",
            "layout": "IPY_MODEL_900558002679449498bc4cdc8d154c27"
          }
        },
        "d7b522006f984464a8f6ad255a2e4dba": {
          "model_module": "@jupyter-widgets/controls",
          "model_name": "ProgressStyleModel",
          "state": {
            "_view_name": "StyleView",
            "_model_name": "ProgressStyleModel",
            "description_width": "initial",
            "_view_module": "@jupyter-widgets/base",
            "_model_module_version": "1.5.0",
            "_view_count": null,
            "_view_module_version": "1.2.0",
            "bar_color": null,
            "_model_module": "@jupyter-widgets/controls"
          }
        },
        "c40b79d25a6246ebac684bc716ac8258": {
          "model_module": "@jupyter-widgets/base",
          "model_name": "LayoutModel",
          "state": {
            "_view_name": "LayoutView",
            "grid_template_rows": null,
            "right": null,
            "justify_content": null,
            "_view_module": "@jupyter-widgets/base",
            "overflow": null,
            "_model_module_version": "1.2.0",
            "_view_count": null,
            "flex_flow": null,
            "width": null,
            "min_width": null,
            "border": null,
            "align_items": null,
            "bottom": null,
            "_model_module": "@jupyter-widgets/base",
            "top": null,
            "grid_column": null,
            "overflow_y": null,
            "overflow_x": null,
            "grid_auto_flow": null,
            "grid_area": null,
            "grid_template_columns": null,
            "flex": null,
            "_model_name": "LayoutModel",
            "justify_items": null,
            "grid_row": null,
            "max_height": null,
            "align_content": null,
            "visibility": null,
            "align_self": null,
            "height": null,
            "min_height": null,
            "padding": null,
            "grid_auto_rows": null,
            "grid_gap": null,
            "max_width": null,
            "order": null,
            "_view_module_version": "1.2.0",
            "grid_template_areas": null,
            "object_position": null,
            "object_fit": null,
            "grid_auto_columns": null,
            "margin": null,
            "display": null,
            "left": null
          }
        },
        "18c68529f454461488e0c3c039ab0d68": {
          "model_module": "@jupyter-widgets/controls",
          "model_name": "DescriptionStyleModel",
          "state": {
            "_view_name": "StyleView",
            "_model_name": "DescriptionStyleModel",
            "description_width": "",
            "_view_module": "@jupyter-widgets/base",
            "_model_module_version": "1.5.0",
            "_view_count": null,
            "_view_module_version": "1.2.0",
            "_model_module": "@jupyter-widgets/controls"
          }
        },
        "900558002679449498bc4cdc8d154c27": {
          "model_module": "@jupyter-widgets/base",
          "model_name": "LayoutModel",
          "state": {
            "_view_name": "LayoutView",
            "grid_template_rows": null,
            "right": null,
            "justify_content": null,
            "_view_module": "@jupyter-widgets/base",
            "overflow": null,
            "_model_module_version": "1.2.0",
            "_view_count": null,
            "flex_flow": null,
            "width": null,
            "min_width": null,
            "border": null,
            "align_items": null,
            "bottom": null,
            "_model_module": "@jupyter-widgets/base",
            "top": null,
            "grid_column": null,
            "overflow_y": null,
            "overflow_x": null,
            "grid_auto_flow": null,
            "grid_area": null,
            "grid_template_columns": null,
            "flex": null,
            "_model_name": "LayoutModel",
            "justify_items": null,
            "grid_row": null,
            "max_height": null,
            "align_content": null,
            "visibility": null,
            "align_self": null,
            "height": null,
            "min_height": null,
            "padding": null,
            "grid_auto_rows": null,
            "grid_gap": null,
            "max_width": null,
            "order": null,
            "_view_module_version": "1.2.0",
            "grid_template_areas": null,
            "object_position": null,
            "object_fit": null,
            "grid_auto_columns": null,
            "margin": null,
            "display": null,
            "left": null
          }
        },
        "2d1d8410fdf64e378495ef92e25b5bce": {
          "model_module": "@jupyter-widgets/controls",
          "model_name": "HBoxModel",
          "state": {
            "_view_name": "HBoxView",
            "_dom_classes": [],
            "_model_name": "HBoxModel",
            "_view_module": "@jupyter-widgets/controls",
            "_model_module_version": "1.5.0",
            "_view_count": null,
            "_view_module_version": "1.5.0",
            "box_style": "",
            "layout": "IPY_MODEL_7f0b9d34a73341a787cf49b192879639",
            "_model_module": "@jupyter-widgets/controls",
            "children": [
              "IPY_MODEL_df6bfffe47694d7c97a6eed24056f194",
              "IPY_MODEL_faa774797b7749df8d2725f89c76cca6"
            ]
          }
        },
        "7f0b9d34a73341a787cf49b192879639": {
          "model_module": "@jupyter-widgets/base",
          "model_name": "LayoutModel",
          "state": {
            "_view_name": "LayoutView",
            "grid_template_rows": null,
            "right": null,
            "justify_content": null,
            "_view_module": "@jupyter-widgets/base",
            "overflow": null,
            "_model_module_version": "1.2.0",
            "_view_count": null,
            "flex_flow": null,
            "width": null,
            "min_width": null,
            "border": null,
            "align_items": null,
            "bottom": null,
            "_model_module": "@jupyter-widgets/base",
            "top": null,
            "grid_column": null,
            "overflow_y": null,
            "overflow_x": null,
            "grid_auto_flow": null,
            "grid_area": null,
            "grid_template_columns": null,
            "flex": null,
            "_model_name": "LayoutModel",
            "justify_items": null,
            "grid_row": null,
            "max_height": null,
            "align_content": null,
            "visibility": null,
            "align_self": null,
            "height": null,
            "min_height": null,
            "padding": null,
            "grid_auto_rows": null,
            "grid_gap": null,
            "max_width": null,
            "order": null,
            "_view_module_version": "1.2.0",
            "grid_template_areas": null,
            "object_position": null,
            "object_fit": null,
            "grid_auto_columns": null,
            "margin": null,
            "display": null,
            "left": null
          }
        },
        "df6bfffe47694d7c97a6eed24056f194": {
          "model_module": "@jupyter-widgets/controls",
          "model_name": "FloatProgressModel",
          "state": {
            "_view_name": "ProgressView",
            "style": "IPY_MODEL_92e162ebf4d7482baf4e845633629d6a",
            "_dom_classes": [],
            "description": "Pandas Apply: 100%",
            "_model_name": "FloatProgressModel",
            "bar_style": "success",
            "max": 500,
            "_view_module": "@jupyter-widgets/controls",
            "_model_module_version": "1.5.0",
            "value": 500,
            "_view_count": null,
            "_view_module_version": "1.5.0",
            "orientation": "horizontal",
            "min": 0,
            "description_tooltip": null,
            "_model_module": "@jupyter-widgets/controls",
            "layout": "IPY_MODEL_13974e34e98a44abb32488a308eab7ff"
          }
        },
        "faa774797b7749df8d2725f89c76cca6": {
          "model_module": "@jupyter-widgets/controls",
          "model_name": "HTMLModel",
          "state": {
            "_view_name": "HTMLView",
            "style": "IPY_MODEL_86797aa89c0742a486fc50e94e480dd7",
            "_dom_classes": [],
            "description": "",
            "_model_name": "HTMLModel",
            "placeholder": "​",
            "_view_module": "@jupyter-widgets/controls",
            "_model_module_version": "1.5.0",
            "value": " 500/500 [02:15&lt;00:00,  3.69it/s]",
            "_view_count": null,
            "_view_module_version": "1.5.0",
            "description_tooltip": null,
            "_model_module": "@jupyter-widgets/controls",
            "layout": "IPY_MODEL_b2c789dd78824c04a0a59583d887dce5"
          }
        },
        "92e162ebf4d7482baf4e845633629d6a": {
          "model_module": "@jupyter-widgets/controls",
          "model_name": "ProgressStyleModel",
          "state": {
            "_view_name": "StyleView",
            "_model_name": "ProgressStyleModel",
            "description_width": "initial",
            "_view_module": "@jupyter-widgets/base",
            "_model_module_version": "1.5.0",
            "_view_count": null,
            "_view_module_version": "1.2.0",
            "bar_color": null,
            "_model_module": "@jupyter-widgets/controls"
          }
        },
        "13974e34e98a44abb32488a308eab7ff": {
          "model_module": "@jupyter-widgets/base",
          "model_name": "LayoutModel",
          "state": {
            "_view_name": "LayoutView",
            "grid_template_rows": null,
            "right": null,
            "justify_content": null,
            "_view_module": "@jupyter-widgets/base",
            "overflow": null,
            "_model_module_version": "1.2.0",
            "_view_count": null,
            "flex_flow": null,
            "width": null,
            "min_width": null,
            "border": null,
            "align_items": null,
            "bottom": null,
            "_model_module": "@jupyter-widgets/base",
            "top": null,
            "grid_column": null,
            "overflow_y": null,
            "overflow_x": null,
            "grid_auto_flow": null,
            "grid_area": null,
            "grid_template_columns": null,
            "flex": null,
            "_model_name": "LayoutModel",
            "justify_items": null,
            "grid_row": null,
            "max_height": null,
            "align_content": null,
            "visibility": null,
            "align_self": null,
            "height": null,
            "min_height": null,
            "padding": null,
            "grid_auto_rows": null,
            "grid_gap": null,
            "max_width": null,
            "order": null,
            "_view_module_version": "1.2.0",
            "grid_template_areas": null,
            "object_position": null,
            "object_fit": null,
            "grid_auto_columns": null,
            "margin": null,
            "display": null,
            "left": null
          }
        },
        "86797aa89c0742a486fc50e94e480dd7": {
          "model_module": "@jupyter-widgets/controls",
          "model_name": "DescriptionStyleModel",
          "state": {
            "_view_name": "StyleView",
            "_model_name": "DescriptionStyleModel",
            "description_width": "",
            "_view_module": "@jupyter-widgets/base",
            "_model_module_version": "1.5.0",
            "_view_count": null,
            "_view_module_version": "1.2.0",
            "_model_module": "@jupyter-widgets/controls"
          }
        },
        "b2c789dd78824c04a0a59583d887dce5": {
          "model_module": "@jupyter-widgets/base",
          "model_name": "LayoutModel",
          "state": {
            "_view_name": "LayoutView",
            "grid_template_rows": null,
            "right": null,
            "justify_content": null,
            "_view_module": "@jupyter-widgets/base",
            "overflow": null,
            "_model_module_version": "1.2.0",
            "_view_count": null,
            "flex_flow": null,
            "width": null,
            "min_width": null,
            "border": null,
            "align_items": null,
            "bottom": null,
            "_model_module": "@jupyter-widgets/base",
            "top": null,
            "grid_column": null,
            "overflow_y": null,
            "overflow_x": null,
            "grid_auto_flow": null,
            "grid_area": null,
            "grid_template_columns": null,
            "flex": null,
            "_model_name": "LayoutModel",
            "justify_items": null,
            "grid_row": null,
            "max_height": null,
            "align_content": null,
            "visibility": null,
            "align_self": null,
            "height": null,
            "min_height": null,
            "padding": null,
            "grid_auto_rows": null,
            "grid_gap": null,
            "max_width": null,
            "order": null,
            "_view_module_version": "1.2.0",
            "grid_template_areas": null,
            "object_position": null,
            "object_fit": null,
            "grid_auto_columns": null,
            "margin": null,
            "display": null,
            "left": null
          }
        },
        "755c645a710d42268a32ad0fb138eaf7": {
          "model_module": "@jupyter-widgets/controls",
          "model_name": "HBoxModel",
          "state": {
            "_view_name": "HBoxView",
            "_dom_classes": [],
            "_model_name": "HBoxModel",
            "_view_module": "@jupyter-widgets/controls",
            "_model_module_version": "1.5.0",
            "_view_count": null,
            "_view_module_version": "1.5.0",
            "box_style": "",
            "layout": "IPY_MODEL_99cbd27d97774d0ea8f05e69efbdf0b8",
            "_model_module": "@jupyter-widgets/controls",
            "children": [
              "IPY_MODEL_ef12ab7293b74d42a25c666b157baa72",
              "IPY_MODEL_1940a836103542a1b04b4e8b5e4506b1"
            ]
          }
        },
        "99cbd27d97774d0ea8f05e69efbdf0b8": {
          "model_module": "@jupyter-widgets/base",
          "model_name": "LayoutModel",
          "state": {
            "_view_name": "LayoutView",
            "grid_template_rows": null,
            "right": null,
            "justify_content": null,
            "_view_module": "@jupyter-widgets/base",
            "overflow": null,
            "_model_module_version": "1.2.0",
            "_view_count": null,
            "flex_flow": null,
            "width": null,
            "min_width": null,
            "border": null,
            "align_items": null,
            "bottom": null,
            "_model_module": "@jupyter-widgets/base",
            "top": null,
            "grid_column": null,
            "overflow_y": null,
            "overflow_x": null,
            "grid_auto_flow": null,
            "grid_area": null,
            "grid_template_columns": null,
            "flex": null,
            "_model_name": "LayoutModel",
            "justify_items": null,
            "grid_row": null,
            "max_height": null,
            "align_content": null,
            "visibility": null,
            "align_self": null,
            "height": null,
            "min_height": null,
            "padding": null,
            "grid_auto_rows": null,
            "grid_gap": null,
            "max_width": null,
            "order": null,
            "_view_module_version": "1.2.0",
            "grid_template_areas": null,
            "object_position": null,
            "object_fit": null,
            "grid_auto_columns": null,
            "margin": null,
            "display": null,
            "left": null
          }
        },
        "ef12ab7293b74d42a25c666b157baa72": {
          "model_module": "@jupyter-widgets/controls",
          "model_name": "FloatProgressModel",
          "state": {
            "_view_name": "ProgressView",
            "style": "IPY_MODEL_3c03232fea2046bbac8c7998508226f6",
            "_dom_classes": [],
            "description": "Pandas Apply: 100%",
            "_model_name": "FloatProgressModel",
            "bar_style": "success",
            "max": 899,
            "_view_module": "@jupyter-widgets/controls",
            "_model_module_version": "1.5.0",
            "value": 899,
            "_view_count": null,
            "_view_module_version": "1.5.0",
            "orientation": "horizontal",
            "min": 0,
            "description_tooltip": null,
            "_model_module": "@jupyter-widgets/controls",
            "layout": "IPY_MODEL_154ac0ca39c2422f80f9a33b30a848f7"
          }
        },
        "1940a836103542a1b04b4e8b5e4506b1": {
          "model_module": "@jupyter-widgets/controls",
          "model_name": "HTMLModel",
          "state": {
            "_view_name": "HTMLView",
            "style": "IPY_MODEL_5f5465f957b14993a5667a061e9830c0",
            "_dom_classes": [],
            "description": "",
            "_model_name": "HTMLModel",
            "placeholder": "​",
            "_view_module": "@jupyter-widgets/controls",
            "_model_module_version": "1.5.0",
            "value": " 899/899 [1:10:32&lt;00:00,  4.71s/it]",
            "_view_count": null,
            "_view_module_version": "1.5.0",
            "description_tooltip": null,
            "_model_module": "@jupyter-widgets/controls",
            "layout": "IPY_MODEL_2acd28f27b684d5294a9594ca6e79001"
          }
        },
        "3c03232fea2046bbac8c7998508226f6": {
          "model_module": "@jupyter-widgets/controls",
          "model_name": "ProgressStyleModel",
          "state": {
            "_view_name": "StyleView",
            "_model_name": "ProgressStyleModel",
            "description_width": "initial",
            "_view_module": "@jupyter-widgets/base",
            "_model_module_version": "1.5.0",
            "_view_count": null,
            "_view_module_version": "1.2.0",
            "bar_color": null,
            "_model_module": "@jupyter-widgets/controls"
          }
        },
        "154ac0ca39c2422f80f9a33b30a848f7": {
          "model_module": "@jupyter-widgets/base",
          "model_name": "LayoutModel",
          "state": {
            "_view_name": "LayoutView",
            "grid_template_rows": null,
            "right": null,
            "justify_content": null,
            "_view_module": "@jupyter-widgets/base",
            "overflow": null,
            "_model_module_version": "1.2.0",
            "_view_count": null,
            "flex_flow": null,
            "width": null,
            "min_width": null,
            "border": null,
            "align_items": null,
            "bottom": null,
            "_model_module": "@jupyter-widgets/base",
            "top": null,
            "grid_column": null,
            "overflow_y": null,
            "overflow_x": null,
            "grid_auto_flow": null,
            "grid_area": null,
            "grid_template_columns": null,
            "flex": null,
            "_model_name": "LayoutModel",
            "justify_items": null,
            "grid_row": null,
            "max_height": null,
            "align_content": null,
            "visibility": null,
            "align_self": null,
            "height": null,
            "min_height": null,
            "padding": null,
            "grid_auto_rows": null,
            "grid_gap": null,
            "max_width": null,
            "order": null,
            "_view_module_version": "1.2.0",
            "grid_template_areas": null,
            "object_position": null,
            "object_fit": null,
            "grid_auto_columns": null,
            "margin": null,
            "display": null,
            "left": null
          }
        },
        "5f5465f957b14993a5667a061e9830c0": {
          "model_module": "@jupyter-widgets/controls",
          "model_name": "DescriptionStyleModel",
          "state": {
            "_view_name": "StyleView",
            "_model_name": "DescriptionStyleModel",
            "description_width": "",
            "_view_module": "@jupyter-widgets/base",
            "_model_module_version": "1.5.0",
            "_view_count": null,
            "_view_module_version": "1.2.0",
            "_model_module": "@jupyter-widgets/controls"
          }
        },
        "2acd28f27b684d5294a9594ca6e79001": {
          "model_module": "@jupyter-widgets/base",
          "model_name": "LayoutModel",
          "state": {
            "_view_name": "LayoutView",
            "grid_template_rows": null,
            "right": null,
            "justify_content": null,
            "_view_module": "@jupyter-widgets/base",
            "overflow": null,
            "_model_module_version": "1.2.0",
            "_view_count": null,
            "flex_flow": null,
            "width": null,
            "min_width": null,
            "border": null,
            "align_items": null,
            "bottom": null,
            "_model_module": "@jupyter-widgets/base",
            "top": null,
            "grid_column": null,
            "overflow_y": null,
            "overflow_x": null,
            "grid_auto_flow": null,
            "grid_area": null,
            "grid_template_columns": null,
            "flex": null,
            "_model_name": "LayoutModel",
            "justify_items": null,
            "grid_row": null,
            "max_height": null,
            "align_content": null,
            "visibility": null,
            "align_self": null,
            "height": null,
            "min_height": null,
            "padding": null,
            "grid_auto_rows": null,
            "grid_gap": null,
            "max_width": null,
            "order": null,
            "_view_module_version": "1.2.0",
            "grid_template_areas": null,
            "object_position": null,
            "object_fit": null,
            "grid_auto_columns": null,
            "margin": null,
            "display": null,
            "left": null
          }
        },
        "ae1a60eb4f38476aa54b9219b5e368e4": {
          "model_module": "@jupyter-widgets/controls",
          "model_name": "HBoxModel",
          "state": {
            "_view_name": "HBoxView",
            "_dom_classes": [],
            "_model_name": "HBoxModel",
            "_view_module": "@jupyter-widgets/controls",
            "_model_module_version": "1.5.0",
            "_view_count": null,
            "_view_module_version": "1.5.0",
            "box_style": "",
            "layout": "IPY_MODEL_2c8f69891d4744c69614ed214e57b6cd",
            "_model_module": "@jupyter-widgets/controls",
            "children": [
              "IPY_MODEL_b543f5e1f6a448b99f0fe626f2dcad90",
              "IPY_MODEL_87170b542a9047ad9d62bdd091c70bc5"
            ]
          }
        },
        "2c8f69891d4744c69614ed214e57b6cd": {
          "model_module": "@jupyter-widgets/base",
          "model_name": "LayoutModel",
          "state": {
            "_view_name": "LayoutView",
            "grid_template_rows": null,
            "right": null,
            "justify_content": null,
            "_view_module": "@jupyter-widgets/base",
            "overflow": null,
            "_model_module_version": "1.2.0",
            "_view_count": null,
            "flex_flow": null,
            "width": null,
            "min_width": null,
            "border": null,
            "align_items": null,
            "bottom": null,
            "_model_module": "@jupyter-widgets/base",
            "top": null,
            "grid_column": null,
            "overflow_y": null,
            "overflow_x": null,
            "grid_auto_flow": null,
            "grid_area": null,
            "grid_template_columns": null,
            "flex": null,
            "_model_name": "LayoutModel",
            "justify_items": null,
            "grid_row": null,
            "max_height": null,
            "align_content": null,
            "visibility": null,
            "align_self": null,
            "height": null,
            "min_height": null,
            "padding": null,
            "grid_auto_rows": null,
            "grid_gap": null,
            "max_width": null,
            "order": null,
            "_view_module_version": "1.2.0",
            "grid_template_areas": null,
            "object_position": null,
            "object_fit": null,
            "grid_auto_columns": null,
            "margin": null,
            "display": null,
            "left": null
          }
        },
        "b543f5e1f6a448b99f0fe626f2dcad90": {
          "model_module": "@jupyter-widgets/controls",
          "model_name": "FloatProgressModel",
          "state": {
            "_view_name": "ProgressView",
            "style": "IPY_MODEL_01d2d9724e5a462092a1bd0654b7d3dc",
            "_dom_classes": [],
            "description": "Pandas Apply: 100%",
            "_model_name": "FloatProgressModel",
            "bar_style": "success",
            "max": 899,
            "_view_module": "@jupyter-widgets/controls",
            "_model_module_version": "1.5.0",
            "value": 899,
            "_view_count": null,
            "_view_module_version": "1.5.0",
            "orientation": "horizontal",
            "min": 0,
            "description_tooltip": null,
            "_model_module": "@jupyter-widgets/controls",
            "layout": "IPY_MODEL_49447e76760347ffbc9a0e34eb7d012f"
          }
        },
        "87170b542a9047ad9d62bdd091c70bc5": {
          "model_module": "@jupyter-widgets/controls",
          "model_name": "HTMLModel",
          "state": {
            "_view_name": "HTMLView",
            "style": "IPY_MODEL_e0e5396ceb774224b00449b1929e852e",
            "_dom_classes": [],
            "description": "",
            "_model_name": "HTMLModel",
            "placeholder": "​",
            "_view_module": "@jupyter-widgets/controls",
            "_model_module_version": "1.5.0",
            "value": " 899/899 [1:07:48&lt;00:00,  4.53s/it]",
            "_view_count": null,
            "_view_module_version": "1.5.0",
            "description_tooltip": null,
            "_model_module": "@jupyter-widgets/controls",
            "layout": "IPY_MODEL_cd261ecc70e843d1a838a809b7b72a00"
          }
        },
        "01d2d9724e5a462092a1bd0654b7d3dc": {
          "model_module": "@jupyter-widgets/controls",
          "model_name": "ProgressStyleModel",
          "state": {
            "_view_name": "StyleView",
            "_model_name": "ProgressStyleModel",
            "description_width": "initial",
            "_view_module": "@jupyter-widgets/base",
            "_model_module_version": "1.5.0",
            "_view_count": null,
            "_view_module_version": "1.2.0",
            "bar_color": null,
            "_model_module": "@jupyter-widgets/controls"
          }
        },
        "49447e76760347ffbc9a0e34eb7d012f": {
          "model_module": "@jupyter-widgets/base",
          "model_name": "LayoutModel",
          "state": {
            "_view_name": "LayoutView",
            "grid_template_rows": null,
            "right": null,
            "justify_content": null,
            "_view_module": "@jupyter-widgets/base",
            "overflow": null,
            "_model_module_version": "1.2.0",
            "_view_count": null,
            "flex_flow": null,
            "width": null,
            "min_width": null,
            "border": null,
            "align_items": null,
            "bottom": null,
            "_model_module": "@jupyter-widgets/base",
            "top": null,
            "grid_column": null,
            "overflow_y": null,
            "overflow_x": null,
            "grid_auto_flow": null,
            "grid_area": null,
            "grid_template_columns": null,
            "flex": null,
            "_model_name": "LayoutModel",
            "justify_items": null,
            "grid_row": null,
            "max_height": null,
            "align_content": null,
            "visibility": null,
            "align_self": null,
            "height": null,
            "min_height": null,
            "padding": null,
            "grid_auto_rows": null,
            "grid_gap": null,
            "max_width": null,
            "order": null,
            "_view_module_version": "1.2.0",
            "grid_template_areas": null,
            "object_position": null,
            "object_fit": null,
            "grid_auto_columns": null,
            "margin": null,
            "display": null,
            "left": null
          }
        },
        "e0e5396ceb774224b00449b1929e852e": {
          "model_module": "@jupyter-widgets/controls",
          "model_name": "DescriptionStyleModel",
          "state": {
            "_view_name": "StyleView",
            "_model_name": "DescriptionStyleModel",
            "description_width": "",
            "_view_module": "@jupyter-widgets/base",
            "_model_module_version": "1.5.0",
            "_view_count": null,
            "_view_module_version": "1.2.0",
            "_model_module": "@jupyter-widgets/controls"
          }
        },
        "cd261ecc70e843d1a838a809b7b72a00": {
          "model_module": "@jupyter-widgets/base",
          "model_name": "LayoutModel",
          "state": {
            "_view_name": "LayoutView",
            "grid_template_rows": null,
            "right": null,
            "justify_content": null,
            "_view_module": "@jupyter-widgets/base",
            "overflow": null,
            "_model_module_version": "1.2.0",
            "_view_count": null,
            "flex_flow": null,
            "width": null,
            "min_width": null,
            "border": null,
            "align_items": null,
            "bottom": null,
            "_model_module": "@jupyter-widgets/base",
            "top": null,
            "grid_column": null,
            "overflow_y": null,
            "overflow_x": null,
            "grid_auto_flow": null,
            "grid_area": null,
            "grid_template_columns": null,
            "flex": null,
            "_model_name": "LayoutModel",
            "justify_items": null,
            "grid_row": null,
            "max_height": null,
            "align_content": null,
            "visibility": null,
            "align_self": null,
            "height": null,
            "min_height": null,
            "padding": null,
            "grid_auto_rows": null,
            "grid_gap": null,
            "max_width": null,
            "order": null,
            "_view_module_version": "1.2.0",
            "grid_template_areas": null,
            "object_position": null,
            "object_fit": null,
            "grid_auto_columns": null,
            "margin": null,
            "display": null,
            "left": null
          }
        },
        "638047efe9b74c4abd469d56f3b73b1b": {
          "model_module": "@jupyter-widgets/controls",
          "model_name": "HBoxModel",
          "state": {
            "_view_name": "HBoxView",
            "_dom_classes": [],
            "_model_name": "HBoxModel",
            "_view_module": "@jupyter-widgets/controls",
            "_model_module_version": "1.5.0",
            "_view_count": null,
            "_view_module_version": "1.5.0",
            "box_style": "",
            "layout": "IPY_MODEL_92246d254ac84fc4b83eb70de3597ae3",
            "_model_module": "@jupyter-widgets/controls",
            "children": [
              "IPY_MODEL_17c1e0972fee42fcaaec831ea7cecf4e",
              "IPY_MODEL_24922e4967f74d36b3fc45a223db8453"
            ]
          }
        },
        "92246d254ac84fc4b83eb70de3597ae3": {
          "model_module": "@jupyter-widgets/base",
          "model_name": "LayoutModel",
          "state": {
            "_view_name": "LayoutView",
            "grid_template_rows": null,
            "right": null,
            "justify_content": null,
            "_view_module": "@jupyter-widgets/base",
            "overflow": null,
            "_model_module_version": "1.2.0",
            "_view_count": null,
            "flex_flow": null,
            "width": null,
            "min_width": null,
            "border": null,
            "align_items": null,
            "bottom": null,
            "_model_module": "@jupyter-widgets/base",
            "top": null,
            "grid_column": null,
            "overflow_y": null,
            "overflow_x": null,
            "grid_auto_flow": null,
            "grid_area": null,
            "grid_template_columns": null,
            "flex": null,
            "_model_name": "LayoutModel",
            "justify_items": null,
            "grid_row": null,
            "max_height": null,
            "align_content": null,
            "visibility": null,
            "align_self": null,
            "height": null,
            "min_height": null,
            "padding": null,
            "grid_auto_rows": null,
            "grid_gap": null,
            "max_width": null,
            "order": null,
            "_view_module_version": "1.2.0",
            "grid_template_areas": null,
            "object_position": null,
            "object_fit": null,
            "grid_auto_columns": null,
            "margin": null,
            "display": null,
            "left": null
          }
        },
        "17c1e0972fee42fcaaec831ea7cecf4e": {
          "model_module": "@jupyter-widgets/controls",
          "model_name": "FloatProgressModel",
          "state": {
            "_view_name": "ProgressView",
            "style": "IPY_MODEL_92246ab6438644568a4442705e9f5635",
            "_dom_classes": [],
            "description": "Pandas Apply: 100%",
            "_model_name": "FloatProgressModel",
            "bar_style": "success",
            "max": 899,
            "_view_module": "@jupyter-widgets/controls",
            "_model_module_version": "1.5.0",
            "value": 899,
            "_view_count": null,
            "_view_module_version": "1.5.0",
            "orientation": "horizontal",
            "min": 0,
            "description_tooltip": null,
            "_model_module": "@jupyter-widgets/controls",
            "layout": "IPY_MODEL_0cd5683edbf7428387ffd83537d55999"
          }
        },
        "24922e4967f74d36b3fc45a223db8453": {
          "model_module": "@jupyter-widgets/controls",
          "model_name": "HTMLModel",
          "state": {
            "_view_name": "HTMLView",
            "style": "IPY_MODEL_b17ff364fbdb4d89899450a6504fc62d",
            "_dom_classes": [],
            "description": "",
            "_model_name": "HTMLModel",
            "placeholder": "​",
            "_view_module": "@jupyter-widgets/controls",
            "_model_module_version": "1.5.0",
            "value": " 899/899 [24:52&lt;00:00,  1.66s/it]",
            "_view_count": null,
            "_view_module_version": "1.5.0",
            "description_tooltip": null,
            "_model_module": "@jupyter-widgets/controls",
            "layout": "IPY_MODEL_8a412347d6d84a69ab51d4ed3bd37265"
          }
        },
        "92246ab6438644568a4442705e9f5635": {
          "model_module": "@jupyter-widgets/controls",
          "model_name": "ProgressStyleModel",
          "state": {
            "_view_name": "StyleView",
            "_model_name": "ProgressStyleModel",
            "description_width": "initial",
            "_view_module": "@jupyter-widgets/base",
            "_model_module_version": "1.5.0",
            "_view_count": null,
            "_view_module_version": "1.2.0",
            "bar_color": null,
            "_model_module": "@jupyter-widgets/controls"
          }
        },
        "0cd5683edbf7428387ffd83537d55999": {
          "model_module": "@jupyter-widgets/base",
          "model_name": "LayoutModel",
          "state": {
            "_view_name": "LayoutView",
            "grid_template_rows": null,
            "right": null,
            "justify_content": null,
            "_view_module": "@jupyter-widgets/base",
            "overflow": null,
            "_model_module_version": "1.2.0",
            "_view_count": null,
            "flex_flow": null,
            "width": null,
            "min_width": null,
            "border": null,
            "align_items": null,
            "bottom": null,
            "_model_module": "@jupyter-widgets/base",
            "top": null,
            "grid_column": null,
            "overflow_y": null,
            "overflow_x": null,
            "grid_auto_flow": null,
            "grid_area": null,
            "grid_template_columns": null,
            "flex": null,
            "_model_name": "LayoutModel",
            "justify_items": null,
            "grid_row": null,
            "max_height": null,
            "align_content": null,
            "visibility": null,
            "align_self": null,
            "height": null,
            "min_height": null,
            "padding": null,
            "grid_auto_rows": null,
            "grid_gap": null,
            "max_width": null,
            "order": null,
            "_view_module_version": "1.2.0",
            "grid_template_areas": null,
            "object_position": null,
            "object_fit": null,
            "grid_auto_columns": null,
            "margin": null,
            "display": null,
            "left": null
          }
        },
        "b17ff364fbdb4d89899450a6504fc62d": {
          "model_module": "@jupyter-widgets/controls",
          "model_name": "DescriptionStyleModel",
          "state": {
            "_view_name": "StyleView",
            "_model_name": "DescriptionStyleModel",
            "description_width": "",
            "_view_module": "@jupyter-widgets/base",
            "_model_module_version": "1.5.0",
            "_view_count": null,
            "_view_module_version": "1.2.0",
            "_model_module": "@jupyter-widgets/controls"
          }
        },
        "8a412347d6d84a69ab51d4ed3bd37265": {
          "model_module": "@jupyter-widgets/base",
          "model_name": "LayoutModel",
          "state": {
            "_view_name": "LayoutView",
            "grid_template_rows": null,
            "right": null,
            "justify_content": null,
            "_view_module": "@jupyter-widgets/base",
            "overflow": null,
            "_model_module_version": "1.2.0",
            "_view_count": null,
            "flex_flow": null,
            "width": null,
            "min_width": null,
            "border": null,
            "align_items": null,
            "bottom": null,
            "_model_module": "@jupyter-widgets/base",
            "top": null,
            "grid_column": null,
            "overflow_y": null,
            "overflow_x": null,
            "grid_auto_flow": null,
            "grid_area": null,
            "grid_template_columns": null,
            "flex": null,
            "_model_name": "LayoutModel",
            "justify_items": null,
            "grid_row": null,
            "max_height": null,
            "align_content": null,
            "visibility": null,
            "align_self": null,
            "height": null,
            "min_height": null,
            "padding": null,
            "grid_auto_rows": null,
            "grid_gap": null,
            "max_width": null,
            "order": null,
            "_view_module_version": "1.2.0",
            "grid_template_areas": null,
            "object_position": null,
            "object_fit": null,
            "grid_auto_columns": null,
            "margin": null,
            "display": null,
            "left": null
          }
        },
        "f12085394b5049d089ce04548e7abda0": {
          "model_module": "@jupyter-widgets/controls",
          "model_name": "HBoxModel",
          "state": {
            "_view_name": "HBoxView",
            "_dom_classes": [],
            "_model_name": "HBoxModel",
            "_view_module": "@jupyter-widgets/controls",
            "_model_module_version": "1.5.0",
            "_view_count": null,
            "_view_module_version": "1.5.0",
            "box_style": "",
            "layout": "IPY_MODEL_aecd8c20ea014d299d2836861b746f7c",
            "_model_module": "@jupyter-widgets/controls",
            "children": [
              "IPY_MODEL_40c06e0c74744bf0b6410f942fa4bfa8",
              "IPY_MODEL_379e7b854797487f81c266e1b1023f76"
            ]
          }
        },
        "aecd8c20ea014d299d2836861b746f7c": {
          "model_module": "@jupyter-widgets/base",
          "model_name": "LayoutModel",
          "state": {
            "_view_name": "LayoutView",
            "grid_template_rows": null,
            "right": null,
            "justify_content": null,
            "_view_module": "@jupyter-widgets/base",
            "overflow": null,
            "_model_module_version": "1.2.0",
            "_view_count": null,
            "flex_flow": null,
            "width": null,
            "min_width": null,
            "border": null,
            "align_items": null,
            "bottom": null,
            "_model_module": "@jupyter-widgets/base",
            "top": null,
            "grid_column": null,
            "overflow_y": null,
            "overflow_x": null,
            "grid_auto_flow": null,
            "grid_area": null,
            "grid_template_columns": null,
            "flex": null,
            "_model_name": "LayoutModel",
            "justify_items": null,
            "grid_row": null,
            "max_height": null,
            "align_content": null,
            "visibility": null,
            "align_self": null,
            "height": null,
            "min_height": null,
            "padding": null,
            "grid_auto_rows": null,
            "grid_gap": null,
            "max_width": null,
            "order": null,
            "_view_module_version": "1.2.0",
            "grid_template_areas": null,
            "object_position": null,
            "object_fit": null,
            "grid_auto_columns": null,
            "margin": null,
            "display": null,
            "left": null
          }
        },
        "40c06e0c74744bf0b6410f942fa4bfa8": {
          "model_module": "@jupyter-widgets/controls",
          "model_name": "FloatProgressModel",
          "state": {
            "_view_name": "ProgressView",
            "style": "IPY_MODEL_40e34a24146c41cc932862c5d1b494e7",
            "_dom_classes": [],
            "description": "Pandas Apply: 100%",
            "_model_name": "FloatProgressModel",
            "bar_style": "success",
            "max": 899,
            "_view_module": "@jupyter-widgets/controls",
            "_model_module_version": "1.5.0",
            "value": 899,
            "_view_count": null,
            "_view_module_version": "1.5.0",
            "orientation": "horizontal",
            "min": 0,
            "description_tooltip": null,
            "_model_module": "@jupyter-widgets/controls",
            "layout": "IPY_MODEL_c657afb8546f4243b8b11e67fe4107a4"
          }
        },
        "379e7b854797487f81c266e1b1023f76": {
          "model_module": "@jupyter-widgets/controls",
          "model_name": "HTMLModel",
          "state": {
            "_view_name": "HTMLView",
            "style": "IPY_MODEL_483b91bd1a5a47a988649635648c56ce",
            "_dom_classes": [],
            "description": "",
            "_model_name": "HTMLModel",
            "placeholder": "​",
            "_view_module": "@jupyter-widgets/controls",
            "_model_module_version": "1.5.0",
            "value": " 899/899 [55:21&lt;00:00,  3.69s/it]",
            "_view_count": null,
            "_view_module_version": "1.5.0",
            "description_tooltip": null,
            "_model_module": "@jupyter-widgets/controls",
            "layout": "IPY_MODEL_42569a1b3a85457ebdd7c7e63406206a"
          }
        },
        "40e34a24146c41cc932862c5d1b494e7": {
          "model_module": "@jupyter-widgets/controls",
          "model_name": "ProgressStyleModel",
          "state": {
            "_view_name": "StyleView",
            "_model_name": "ProgressStyleModel",
            "description_width": "initial",
            "_view_module": "@jupyter-widgets/base",
            "_model_module_version": "1.5.0",
            "_view_count": null,
            "_view_module_version": "1.2.0",
            "bar_color": null,
            "_model_module": "@jupyter-widgets/controls"
          }
        },
        "c657afb8546f4243b8b11e67fe4107a4": {
          "model_module": "@jupyter-widgets/base",
          "model_name": "LayoutModel",
          "state": {
            "_view_name": "LayoutView",
            "grid_template_rows": null,
            "right": null,
            "justify_content": null,
            "_view_module": "@jupyter-widgets/base",
            "overflow": null,
            "_model_module_version": "1.2.0",
            "_view_count": null,
            "flex_flow": null,
            "width": null,
            "min_width": null,
            "border": null,
            "align_items": null,
            "bottom": null,
            "_model_module": "@jupyter-widgets/base",
            "top": null,
            "grid_column": null,
            "overflow_y": null,
            "overflow_x": null,
            "grid_auto_flow": null,
            "grid_area": null,
            "grid_template_columns": null,
            "flex": null,
            "_model_name": "LayoutModel",
            "justify_items": null,
            "grid_row": null,
            "max_height": null,
            "align_content": null,
            "visibility": null,
            "align_self": null,
            "height": null,
            "min_height": null,
            "padding": null,
            "grid_auto_rows": null,
            "grid_gap": null,
            "max_width": null,
            "order": null,
            "_view_module_version": "1.2.0",
            "grid_template_areas": null,
            "object_position": null,
            "object_fit": null,
            "grid_auto_columns": null,
            "margin": null,
            "display": null,
            "left": null
          }
        },
        "483b91bd1a5a47a988649635648c56ce": {
          "model_module": "@jupyter-widgets/controls",
          "model_name": "DescriptionStyleModel",
          "state": {
            "_view_name": "StyleView",
            "_model_name": "DescriptionStyleModel",
            "description_width": "",
            "_view_module": "@jupyter-widgets/base",
            "_model_module_version": "1.5.0",
            "_view_count": null,
            "_view_module_version": "1.2.0",
            "_model_module": "@jupyter-widgets/controls"
          }
        },
        "42569a1b3a85457ebdd7c7e63406206a": {
          "model_module": "@jupyter-widgets/base",
          "model_name": "LayoutModel",
          "state": {
            "_view_name": "LayoutView",
            "grid_template_rows": null,
            "right": null,
            "justify_content": null,
            "_view_module": "@jupyter-widgets/base",
            "overflow": null,
            "_model_module_version": "1.2.0",
            "_view_count": null,
            "flex_flow": null,
            "width": null,
            "min_width": null,
            "border": null,
            "align_items": null,
            "bottom": null,
            "_model_module": "@jupyter-widgets/base",
            "top": null,
            "grid_column": null,
            "overflow_y": null,
            "overflow_x": null,
            "grid_auto_flow": null,
            "grid_area": null,
            "grid_template_columns": null,
            "flex": null,
            "_model_name": "LayoutModel",
            "justify_items": null,
            "grid_row": null,
            "max_height": null,
            "align_content": null,
            "visibility": null,
            "align_self": null,
            "height": null,
            "min_height": null,
            "padding": null,
            "grid_auto_rows": null,
            "grid_gap": null,
            "max_width": null,
            "order": null,
            "_view_module_version": "1.2.0",
            "grid_template_areas": null,
            "object_position": null,
            "object_fit": null,
            "grid_auto_columns": null,
            "margin": null,
            "display": null,
            "left": null
          }
        },
        "1e323f74d8e449a1bbaff8c92441cc4a": {
          "model_module": "@jupyter-widgets/controls",
          "model_name": "HBoxModel",
          "state": {
            "_view_name": "HBoxView",
            "_dom_classes": [],
            "_model_name": "HBoxModel",
            "_view_module": "@jupyter-widgets/controls",
            "_model_module_version": "1.5.0",
            "_view_count": null,
            "_view_module_version": "1.5.0",
            "box_style": "",
            "layout": "IPY_MODEL_c30480d4129040ad9a87586ff6f064a4",
            "_model_module": "@jupyter-widgets/controls",
            "children": [
              "IPY_MODEL_85bc863536554023b193263ea37b9c5f",
              "IPY_MODEL_63c5c636d26c4e518176958c0624b9da"
            ]
          }
        },
        "c30480d4129040ad9a87586ff6f064a4": {
          "model_module": "@jupyter-widgets/base",
          "model_name": "LayoutModel",
          "state": {
            "_view_name": "LayoutView",
            "grid_template_rows": null,
            "right": null,
            "justify_content": null,
            "_view_module": "@jupyter-widgets/base",
            "overflow": null,
            "_model_module_version": "1.2.0",
            "_view_count": null,
            "flex_flow": null,
            "width": null,
            "min_width": null,
            "border": null,
            "align_items": null,
            "bottom": null,
            "_model_module": "@jupyter-widgets/base",
            "top": null,
            "grid_column": null,
            "overflow_y": null,
            "overflow_x": null,
            "grid_auto_flow": null,
            "grid_area": null,
            "grid_template_columns": null,
            "flex": null,
            "_model_name": "LayoutModel",
            "justify_items": null,
            "grid_row": null,
            "max_height": null,
            "align_content": null,
            "visibility": null,
            "align_self": null,
            "height": null,
            "min_height": null,
            "padding": null,
            "grid_auto_rows": null,
            "grid_gap": null,
            "max_width": null,
            "order": null,
            "_view_module_version": "1.2.0",
            "grid_template_areas": null,
            "object_position": null,
            "object_fit": null,
            "grid_auto_columns": null,
            "margin": null,
            "display": null,
            "left": null
          }
        },
        "85bc863536554023b193263ea37b9c5f": {
          "model_module": "@jupyter-widgets/controls",
          "model_name": "FloatProgressModel",
          "state": {
            "_view_name": "ProgressView",
            "style": "IPY_MODEL_91a2c59944f7444b9a9f8aafae825ec4",
            "_dom_classes": [],
            "description": "Pandas Apply: 100%",
            "_model_name": "FloatProgressModel",
            "bar_style": "success",
            "max": 899,
            "_view_module": "@jupyter-widgets/controls",
            "_model_module_version": "1.5.0",
            "value": 899,
            "_view_count": null,
            "_view_module_version": "1.5.0",
            "orientation": "horizontal",
            "min": 0,
            "description_tooltip": null,
            "_model_module": "@jupyter-widgets/controls",
            "layout": "IPY_MODEL_1e20ffb147bd452687ca2c13ef02ba6b"
          }
        },
        "63c5c636d26c4e518176958c0624b9da": {
          "model_module": "@jupyter-widgets/controls",
          "model_name": "HTMLModel",
          "state": {
            "_view_name": "HTMLView",
            "style": "IPY_MODEL_2ea927630ad14118bde43dbbb7b2f4ef",
            "_dom_classes": [],
            "description": "",
            "_model_name": "HTMLModel",
            "placeholder": "​",
            "_view_module": "@jupyter-widgets/controls",
            "_model_module_version": "1.5.0",
            "value": " 899/899 [00:10&lt;00:00, 84.55it/s]",
            "_view_count": null,
            "_view_module_version": "1.5.0",
            "description_tooltip": null,
            "_model_module": "@jupyter-widgets/controls",
            "layout": "IPY_MODEL_493e59f265a841da940fd9f41e9ca3ae"
          }
        },
        "91a2c59944f7444b9a9f8aafae825ec4": {
          "model_module": "@jupyter-widgets/controls",
          "model_name": "ProgressStyleModel",
          "state": {
            "_view_name": "StyleView",
            "_model_name": "ProgressStyleModel",
            "description_width": "initial",
            "_view_module": "@jupyter-widgets/base",
            "_model_module_version": "1.5.0",
            "_view_count": null,
            "_view_module_version": "1.2.0",
            "bar_color": null,
            "_model_module": "@jupyter-widgets/controls"
          }
        },
        "1e20ffb147bd452687ca2c13ef02ba6b": {
          "model_module": "@jupyter-widgets/base",
          "model_name": "LayoutModel",
          "state": {
            "_view_name": "LayoutView",
            "grid_template_rows": null,
            "right": null,
            "justify_content": null,
            "_view_module": "@jupyter-widgets/base",
            "overflow": null,
            "_model_module_version": "1.2.0",
            "_view_count": null,
            "flex_flow": null,
            "width": null,
            "min_width": null,
            "border": null,
            "align_items": null,
            "bottom": null,
            "_model_module": "@jupyter-widgets/base",
            "top": null,
            "grid_column": null,
            "overflow_y": null,
            "overflow_x": null,
            "grid_auto_flow": null,
            "grid_area": null,
            "grid_template_columns": null,
            "flex": null,
            "_model_name": "LayoutModel",
            "justify_items": null,
            "grid_row": null,
            "max_height": null,
            "align_content": null,
            "visibility": null,
            "align_self": null,
            "height": null,
            "min_height": null,
            "padding": null,
            "grid_auto_rows": null,
            "grid_gap": null,
            "max_width": null,
            "order": null,
            "_view_module_version": "1.2.0",
            "grid_template_areas": null,
            "object_position": null,
            "object_fit": null,
            "grid_auto_columns": null,
            "margin": null,
            "display": null,
            "left": null
          }
        },
        "2ea927630ad14118bde43dbbb7b2f4ef": {
          "model_module": "@jupyter-widgets/controls",
          "model_name": "DescriptionStyleModel",
          "state": {
            "_view_name": "StyleView",
            "_model_name": "DescriptionStyleModel",
            "description_width": "",
            "_view_module": "@jupyter-widgets/base",
            "_model_module_version": "1.5.0",
            "_view_count": null,
            "_view_module_version": "1.2.0",
            "_model_module": "@jupyter-widgets/controls"
          }
        },
        "493e59f265a841da940fd9f41e9ca3ae": {
          "model_module": "@jupyter-widgets/base",
          "model_name": "LayoutModel",
          "state": {
            "_view_name": "LayoutView",
            "grid_template_rows": null,
            "right": null,
            "justify_content": null,
            "_view_module": "@jupyter-widgets/base",
            "overflow": null,
            "_model_module_version": "1.2.0",
            "_view_count": null,
            "flex_flow": null,
            "width": null,
            "min_width": null,
            "border": null,
            "align_items": null,
            "bottom": null,
            "_model_module": "@jupyter-widgets/base",
            "top": null,
            "grid_column": null,
            "overflow_y": null,
            "overflow_x": null,
            "grid_auto_flow": null,
            "grid_area": null,
            "grid_template_columns": null,
            "flex": null,
            "_model_name": "LayoutModel",
            "justify_items": null,
            "grid_row": null,
            "max_height": null,
            "align_content": null,
            "visibility": null,
            "align_self": null,
            "height": null,
            "min_height": null,
            "padding": null,
            "grid_auto_rows": null,
            "grid_gap": null,
            "max_width": null,
            "order": null,
            "_view_module_version": "1.2.0",
            "grid_template_areas": null,
            "object_position": null,
            "object_fit": null,
            "grid_auto_columns": null,
            "margin": null,
            "display": null,
            "left": null
          }
        }
      }
    }
  },
  "cells": [
    {
      "cell_type": "markdown",
      "metadata": {
        "id": "Nw6qODvmabO3"
      },
      "source": [
        "# Install Python packages"
      ]
    },
    {
      "cell_type": "code",
      "metadata": {
        "id": "fNlruuYgL0iw",
        "colab": {
          "base_uri": "https://localhost:8080/",
          "height": 1000
        },
        "outputId": "f6a48eaa-a2a2-4b2f-a03c-bb3b471e576d"
      },
      "source": [
        "!pip install swifter\n",
        "\n",
        "!pip install -q git+https://github.com/tensorflow/docs"
      ],
      "execution_count": null,
      "outputs": [
        {
          "output_type": "stream",
          "text": [
            "Requirement already satisfied: swifter in /usr/local/lib/python3.6/dist-packages (0.305)\n",
            "Requirement already satisfied: psutil>=5.6.6 in /usr/local/lib/python3.6/dist-packages (from swifter) (5.7.0)\n",
            "Requirement already satisfied: parso>0.4.0 in /usr/local/lib/python3.6/dist-packages (from swifter) (0.7.0)\n",
            "Requirement already satisfied: pandas>=0.23.0 in /usr/local/lib/python3.6/dist-packages (from swifter) (1.0.5)\n",
            "Requirement already satisfied: ipywidgets>=7.0.0 in /usr/local/lib/python3.6/dist-packages (from swifter) (7.5.1)\n",
            "Requirement already satisfied: dask[complete]>=0.19.0 in /usr/local/lib/python3.6/dist-packages (from swifter) (2.12.0)\n",
            "Requirement already satisfied: bleach>=3.1.1 in /usr/local/lib/python3.6/dist-packages (from swifter) (3.1.5)\n",
            "Requirement already satisfied: tqdm>=4.33.0 in /usr/local/lib/python3.6/dist-packages (from swifter) (4.41.1)\n",
            "Requirement already satisfied: numpy>=1.13.3 in /usr/local/lib/python3.6/dist-packages (from pandas>=0.23.0->swifter) (1.18.5)\n",
            "Requirement already satisfied: pytz>=2017.2 in /usr/local/lib/python3.6/dist-packages (from pandas>=0.23.0->swifter) (2018.9)\n",
            "Requirement already satisfied: python-dateutil>=2.6.1 in /usr/local/lib/python3.6/dist-packages (from pandas>=0.23.0->swifter) (2.8.1)\n",
            "Requirement already satisfied: traitlets>=4.3.1 in /usr/local/lib/python3.6/dist-packages (from ipywidgets>=7.0.0->swifter) (4.3.3)\n",
            "Requirement already satisfied: ipython>=4.0.0; python_version >= \"3.3\" in /usr/local/lib/python3.6/dist-packages (from ipywidgets>=7.0.0->swifter) (5.5.0)\n",
            "Requirement already satisfied: ipykernel>=4.5.1 in /usr/local/lib/python3.6/dist-packages (from ipywidgets>=7.0.0->swifter) (4.10.1)\n",
            "Requirement already satisfied: widgetsnbextension~=3.5.0 in /usr/local/lib/python3.6/dist-packages (from ipywidgets>=7.0.0->swifter) (3.5.1)\n",
            "Requirement already satisfied: nbformat>=4.2.0 in /usr/local/lib/python3.6/dist-packages (from ipywidgets>=7.0.0->swifter) (5.0.7)\n",
            "Requirement already satisfied: toolz>=0.7.3; extra == \"complete\" in /usr/local/lib/python3.6/dist-packages (from dask[complete]>=0.19.0->swifter) (0.10.0)\n",
            "Requirement already satisfied: partd>=0.3.10; extra == \"complete\" in /usr/local/lib/python3.6/dist-packages (from dask[complete]>=0.19.0->swifter) (1.1.0)\n",
            "Requirement already satisfied: cloudpickle>=0.2.1; extra == \"complete\" in /usr/local/lib/python3.6/dist-packages (from dask[complete]>=0.19.0->swifter) (1.3.0)\n",
            "Requirement already satisfied: bokeh>=1.0.0; extra == \"complete\" in /usr/local/lib/python3.6/dist-packages (from dask[complete]>=0.19.0->swifter) (1.4.0)\n",
            "Requirement already satisfied: PyYaml; extra == \"complete\" in /usr/local/lib/python3.6/dist-packages (from dask[complete]>=0.19.0->swifter) (3.13)\n",
            "Requirement already satisfied: fsspec>=0.6.0; extra == \"complete\" in /usr/local/lib/python3.6/dist-packages (from dask[complete]>=0.19.0->swifter) (0.7.4)\n",
            "Requirement already satisfied: distributed>=2.0; extra == \"complete\" in /usr/local/lib/python3.6/dist-packages (from dask[complete]>=0.19.0->swifter) (2.19.0)\n",
            "Requirement already satisfied: packaging in /usr/local/lib/python3.6/dist-packages (from bleach>=3.1.1->swifter) (20.4)\n",
            "Requirement already satisfied: webencodings in /usr/local/lib/python3.6/dist-packages (from bleach>=3.1.1->swifter) (0.5.1)\n",
            "Requirement already satisfied: six>=1.9.0 in /usr/local/lib/python3.6/dist-packages (from bleach>=3.1.1->swifter) (1.12.0)\n",
            "Requirement already satisfied: decorator in /usr/local/lib/python3.6/dist-packages (from traitlets>=4.3.1->ipywidgets>=7.0.0->swifter) (4.4.2)\n",
            "Requirement already satisfied: ipython-genutils in /usr/local/lib/python3.6/dist-packages (from traitlets>=4.3.1->ipywidgets>=7.0.0->swifter) (0.2.0)\n",
            "Requirement already satisfied: simplegeneric>0.8 in /usr/local/lib/python3.6/dist-packages (from ipython>=4.0.0; python_version >= \"3.3\"->ipywidgets>=7.0.0->swifter) (0.8.1)\n",
            "Requirement already satisfied: pygments in /usr/local/lib/python3.6/dist-packages (from ipython>=4.0.0; python_version >= \"3.3\"->ipywidgets>=7.0.0->swifter) (2.1.3)\n",
            "Requirement already satisfied: pexpect; sys_platform != \"win32\" in /usr/local/lib/python3.6/dist-packages (from ipython>=4.0.0; python_version >= \"3.3\"->ipywidgets>=7.0.0->swifter) (4.8.0)\n",
            "Requirement already satisfied: setuptools>=18.5 in /usr/local/lib/python3.6/dist-packages (from ipython>=4.0.0; python_version >= \"3.3\"->ipywidgets>=7.0.0->swifter) (47.3.1)\n",
            "Requirement already satisfied: pickleshare in /usr/local/lib/python3.6/dist-packages (from ipython>=4.0.0; python_version >= \"3.3\"->ipywidgets>=7.0.0->swifter) (0.7.5)\n",
            "Requirement already satisfied: prompt-toolkit<2.0.0,>=1.0.4 in /usr/local/lib/python3.6/dist-packages (from ipython>=4.0.0; python_version >= \"3.3\"->ipywidgets>=7.0.0->swifter) (1.0.18)\n",
            "Requirement already satisfied: jupyter-client in /usr/local/lib/python3.6/dist-packages (from ipykernel>=4.5.1->ipywidgets>=7.0.0->swifter) (5.3.4)\n",
            "Requirement already satisfied: tornado>=4.0 in /usr/local/lib/python3.6/dist-packages (from ipykernel>=4.5.1->ipywidgets>=7.0.0->swifter) (6.0.4)\n",
            "Requirement already satisfied: notebook>=4.4.1 in /usr/local/lib/python3.6/dist-packages (from widgetsnbextension~=3.5.0->ipywidgets>=7.0.0->swifter) (5.2.2)\n",
            "Requirement already satisfied: jupyter-core in /usr/local/lib/python3.6/dist-packages (from nbformat>=4.2.0->ipywidgets>=7.0.0->swifter) (4.6.3)\n",
            "Requirement already satisfied: jsonschema!=2.5.0,>=2.4 in /usr/local/lib/python3.6/dist-packages (from nbformat>=4.2.0->ipywidgets>=7.0.0->swifter) (2.6.0)\n",
            "Requirement already satisfied: locket in /usr/local/lib/python3.6/dist-packages (from partd>=0.3.10; extra == \"complete\"->dask[complete]>=0.19.0->swifter) (0.2.0)\n",
            "Requirement already satisfied: Jinja2>=2.7 in /usr/local/lib/python3.6/dist-packages (from bokeh>=1.0.0; extra == \"complete\"->dask[complete]>=0.19.0->swifter) (2.11.2)\n",
            "Requirement already satisfied: pillow>=4.0 in /usr/local/lib/python3.6/dist-packages (from bokeh>=1.0.0; extra == \"complete\"->dask[complete]>=0.19.0->swifter) (7.0.0)\n",
            "Requirement already satisfied: msgpack>=0.6.0 in /usr/local/lib/python3.6/dist-packages (from distributed>=2.0; extra == \"complete\"->dask[complete]>=0.19.0->swifter) (1.0.0)\n",
            "Requirement already satisfied: click>=6.6 in /usr/local/lib/python3.6/dist-packages (from distributed>=2.0; extra == \"complete\"->dask[complete]>=0.19.0->swifter) (7.1.2)\n",
            "Requirement already satisfied: sortedcontainers!=2.0.0,!=2.0.1 in /usr/local/lib/python3.6/dist-packages (from distributed>=2.0; extra == \"complete\"->dask[complete]>=0.19.0->swifter) (2.2.2)\n",
            "Requirement already satisfied: zict>=0.1.3 in /usr/local/lib/python3.6/dist-packages (from distributed>=2.0; extra == \"complete\"->dask[complete]>=0.19.0->swifter) (2.0.0)\n",
            "Requirement already satisfied: contextvars; python_version < \"3.7\" in /usr/local/lib/python3.6/dist-packages (from distributed>=2.0; extra == \"complete\"->dask[complete]>=0.19.0->swifter) (2.4)\n",
            "Requirement already satisfied: tblib>=1.6.0 in /usr/local/lib/python3.6/dist-packages (from distributed>=2.0; extra == \"complete\"->dask[complete]>=0.19.0->swifter) (1.6.0)\n",
            "Requirement already satisfied: pyparsing>=2.0.2 in /usr/local/lib/python3.6/dist-packages (from packaging->bleach>=3.1.1->swifter) (2.4.7)\n",
            "Requirement already satisfied: ptyprocess>=0.5 in /usr/local/lib/python3.6/dist-packages (from pexpect; sys_platform != \"win32\"->ipython>=4.0.0; python_version >= \"3.3\"->ipywidgets>=7.0.0->swifter) (0.6.0)\n",
            "Requirement already satisfied: wcwidth in /usr/local/lib/python3.6/dist-packages (from prompt-toolkit<2.0.0,>=1.0.4->ipython>=4.0.0; python_version >= \"3.3\"->ipywidgets>=7.0.0->swifter) (0.2.4)\n",
            "Requirement already satisfied: pyzmq>=13 in /usr/local/lib/python3.6/dist-packages (from jupyter-client->ipykernel>=4.5.1->ipywidgets>=7.0.0->swifter) (19.0.1)\n",
            "Requirement already satisfied: terminado>=0.3.3; sys_platform != \"win32\" in /usr/local/lib/python3.6/dist-packages (from notebook>=4.4.1->widgetsnbextension~=3.5.0->ipywidgets>=7.0.0->swifter) (0.8.3)\n",
            "Requirement already satisfied: nbconvert in /usr/local/lib/python3.6/dist-packages (from notebook>=4.4.1->widgetsnbextension~=3.5.0->ipywidgets>=7.0.0->swifter) (5.6.1)\n",
            "Requirement already satisfied: MarkupSafe>=0.23 in /usr/local/lib/python3.6/dist-packages (from Jinja2>=2.7->bokeh>=1.0.0; extra == \"complete\"->dask[complete]>=0.19.0->swifter) (1.1.1)\n",
            "Requirement already satisfied: heapdict in /usr/local/lib/python3.6/dist-packages (from zict>=0.1.3->distributed>=2.0; extra == \"complete\"->dask[complete]>=0.19.0->swifter) (1.0.1)\n",
            "Requirement already satisfied: immutables>=0.9 in /usr/local/lib/python3.6/dist-packages (from contextvars; python_version < \"3.7\"->distributed>=2.0; extra == \"complete\"->dask[complete]>=0.19.0->swifter) (0.14)\n",
            "Requirement already satisfied: mistune<2,>=0.8.1 in /usr/local/lib/python3.6/dist-packages (from nbconvert->notebook>=4.4.1->widgetsnbextension~=3.5.0->ipywidgets>=7.0.0->swifter) (0.8.4)\n",
            "Requirement already satisfied: entrypoints>=0.2.2 in /usr/local/lib/python3.6/dist-packages (from nbconvert->notebook>=4.4.1->widgetsnbextension~=3.5.0->ipywidgets>=7.0.0->swifter) (0.3)\n",
            "Requirement already satisfied: testpath in /usr/local/lib/python3.6/dist-packages (from nbconvert->notebook>=4.4.1->widgetsnbextension~=3.5.0->ipywidgets>=7.0.0->swifter) (0.4.4)\n",
            "Requirement already satisfied: pandocfilters>=1.4.1 in /usr/local/lib/python3.6/dist-packages (from nbconvert->notebook>=4.4.1->widgetsnbextension~=3.5.0->ipywidgets>=7.0.0->swifter) (1.4.2)\n",
            "Requirement already satisfied: defusedxml in /usr/local/lib/python3.6/dist-packages (from nbconvert->notebook>=4.4.1->widgetsnbextension~=3.5.0->ipywidgets>=7.0.0->swifter) (0.6.0)\n",
            "  Building wheel for tensorflow-docs (setup.py) ... \u001b[?25l\u001b[?25hdone\n"
          ],
          "name": "stdout"
        }
      ]
    },
    {
      "cell_type": "markdown",
      "metadata": {
        "id": "EsgfenSTafqT"
      },
      "source": [
        "# Import Python packages"
      ]
    },
    {
      "cell_type": "code",
      "metadata": {
        "id": "_3DTb_mL0YTy"
      },
      "source": [
        "import tarfile, re, string, os, nltk, swifter, scipy\n",
        "\n",
        "from nltk.corpus import stopwords\n",
        "from nltk.stem.porter import PorterStemmer\n",
        "from nltk import FreqDist, word_tokenize, sent_tokenize\n",
        "from nltk.tokenize import RegexpTokenizer\n",
        "\n",
        "from gensim.models import LdaModel\n",
        "from gensim import corpora\n",
        "\n",
        "from sklearn.preprocessing import StandardScaler\n",
        "from sklearn.model_selection import train_test_split\n",
        "\n",
        "from google.colab import drive\n",
        "from unicodedata import normalize\n",
        "from collections import OrderedDict\n",
        "from tensorflow import keras\n",
        "from pathlib import Path\n",
        "\n",
        "import pandas as pd\n",
        "import numpy as np\n",
        "import tensorflow as tf\n",
        "import matplotlib.pyplot as plt\n",
        "import tensorflow_docs as tfdocs\n",
        "\n",
        "import tensorflow_docs.modeling\n",
        "import tensorflow_docs.plots"
      ],
      "execution_count": null,
      "outputs": []
    },
    {
      "cell_type": "markdown",
      "metadata": {
        "id": "bTVMx3pKai_7"
      },
      "source": [
        "# Define functions"
      ]
    },
    {
      "cell_type": "code",
      "metadata": {
        "id": "tBRN48qK496z"
      },
      "source": [
        "def extract_gzip(file_path, output_path):\n",
        "  with tarfile.open(file_path, \"r:gz\") as f: f.extractall(output_path)\n",
        "\n",
        "def blacklist_words(tokens, blacklist):\n",
        "  return [t for t in tokens if t not in blacklist]\n",
        "\n",
        "def whitelist_words(tokens, whitelist):\n",
        "  return [t for t in tokens if t in whitelist]\n",
        "\n",
        "def stem_words(tokens, stemmer):\n",
        "  tokens = [stemmer.stem(t) for t in tokens]\n",
        "\n",
        "  return [t for t in tokens if len(t) > 1]\n",
        "\n",
        "def preprocess_text (text, stemmer, stop_words, encoding, re_printable, re_punctuation):\n",
        "  # normalize unicode as ascii\n",
        "  text = normalize('NFD', text).encode('ascii', 'ignore')\n",
        "\n",
        "  # encode text back to normal\n",
        "  text = text.decode(encoding)\n",
        "\n",
        "  # replace whitespace with space\n",
        "  text = re.sub('\\s', ' ', text)\n",
        "\n",
        "  # remove non printable\n",
        "  text = re_printable.sub('', text)\n",
        "\n",
        "  # strip text and lower case it\n",
        "  text = text.strip().lower()\n",
        "\n",
        "  # remove urls\n",
        "  text = re.sub(r\"\\b((?:[a-z][\\w-]+://|[a-z0-9.\\-]+[.](?:com|net|org|edu|gov|uk)/)(?:[^\\s()<>{}\\[\\]]+|\\([^\\s()]*?\\([^\\s()]+\\)[^\\s()]*?\\)|\\([^\\s]+?\\))+(?:\\([^\\s()]*?\\([^\\s()]+\\)[^\\s()]*?\\)|\\([^\\s]+?\\)|[^\\s`!()\\[\\]{};:\\'\\\".,<>?«»“”‘’])|(?:(?<!@)[a-z0-9]+(?:[.\\-][a-z0-9]+)*[.](?:com|net|org|edu|gov|uk)\\b/?(?!@)))\", '', text, flags=re.IGNORECASE)\n",
        "\n",
        "  # remove emails\n",
        "  text = re.sub(r\"(?:[a-z0-9!#$%&\\'*+/=?^_`{|}~-]+(?:\\.[a-z0-9!#$%&\\'*+/=?^_`{|}~-]+)*|\\\"(?:[\\x01-\\x08\\x0b\\x0c\\x0e-\\x1f\\x21\\x23-\\x5b\\x5d-\\x7f]|\\\\[\\x01-\\x09\\x0b\\x0c\\x0e-\\x7f])*\\\")@(?:(?:[a-z0-9](?:[a-z0-9-]*[a-z0-9])?\\.)+[a-z0-9](?:[a-z0-9-]*[a-z0-9])?|\\[(?:(?:25[0-5]|2[0-4][0-9]|[01]?[0-9][0-9]?)\\.){3}(?:25[0-5]|2[0-4][0-9]|[01]?[0-9][0-9]?|[a-z0-9-]*[a-z0-9]:(?:[\\x01-\\x08\\x0b\\x0c\\x0e-\\x1f\\x21-\\x5a\\x53-\\x7f]|\\\\[\\x01-\\x09\\x0b\\x0c\\x0e-\\x7f])+)\\])\", '', text, flags=re.IGNORECASE)\n",
        "\n",
        "  # remove numbers\n",
        "  text = re.sub('\\d+', '', text)\n",
        "\n",
        "  # fix text based on specific contractions\n",
        "  text = re.sub(r\"(W|w)on(\\'|\\’)t\", \"will not\", text, flags=re.IGNORECASE)\n",
        "  text = re.sub(r\"(C|c)an(\\'|\\’)t\", \"can not\", text, flags=re.IGNORECASE)\n",
        "  text = re.sub(r\"(Y|y)(\\'|\\’)all\", \"you all\", text, flags=re.IGNORECASE)\n",
        "  text = re.sub(r\"(Y|y)a(\\'|\\’)ll\", \"you all\", text, flags=re.IGNORECASE)\n",
        "\n",
        "  # fix text based on general contractions\n",
        "  text = re.sub(r\"(I|i)(\\'|\\’)m\", \"i am\", text, flags=re.IGNORECASE)\n",
        "  text = re.sub(r\"(A|a)in(\\'|\\’)t\", \"is not\", text, flags=re.IGNORECASE)\n",
        "  text = re.sub(r\"n(\\'|\\’)t\", \" not\", text, flags=re.IGNORECASE)\n",
        "  text = re.sub(r\"(\\'|\\’)re\", \" are\", text, flags=re.IGNORECASE)\n",
        "  text = re.sub(r\"(\\'|\\’)s\", \" is\", text, flags=re.IGNORECASE)\n",
        "  text = re.sub(r\"(\\'|\\’)d\", \" would\", text, flags=re.IGNORECASE)\n",
        "  text = re.sub(r\"(\\'|\\’)ll\", \" will\", text, flags=re.IGNORECASE)\n",
        "  text = re.sub(r\"(\\'|\\’)t\", \" not\", text, flags=re.IGNORECASE)\n",
        "  text = re.sub(r\"(\\'|\\’)ve\", \" have\", text, flags=re.IGNORECASE)\n",
        "\n",
        "  # collapse continuous space\n",
        "  text = re.sub('\\s+', ' ', text)\n",
        "\n",
        "  # segmentation / tokenization\n",
        "  tokens = [ word for sent in sent_tokenize(text) for word in word_tokenize(sent) ]\n",
        "\n",
        "  # remove punctuations\n",
        "  tokens = [ re_punctuation.sub('', w) for w in tokens ]\n",
        "\n",
        "  # keep only words with letters\n",
        "  tokens = [ word for word in tokens if word.isalpha() ]\n",
        "\n",
        "  # join all tokens\n",
        "  text = ' '.join(tokens)\n",
        "\n",
        "  # collapse continuous space\n",
        "  text = re.sub('\\s+', ' ', text)\n",
        "\n",
        "  # remove stop words and get stem words\n",
        "  return stem_words(blacklist_words(text.split(), stop_words), stemmer)\n",
        "\n",
        "def get_file_path_pairs_of_documents_and_summaries (documents_path, summaries_path):\n",
        "  documents_files = sorted(os.listdir(documents_path))\n",
        "  summaries_files = sorted(os.listdir(summaries_path))\n",
        "\n",
        "  examples_files = []\n",
        "\n",
        "  for document_file_name in documents_files:\n",
        "    file_name_prefix = os.path.splitext(document_file_name) [0] + '_'\n",
        "    for summary_file_name in summaries_files:\n",
        "      if summary_file_name[:len(file_name_prefix)] == file_name_prefix:\n",
        "        examples_files.append((os.path.join(documents_path, document_file_name), os.path.join(summaries_path, summary_file_name)))\n",
        "\n",
        "  documents_files, summaries_files = list(zip(*examples_files))\n",
        "\n",
        "  return list(documents_files), list(summaries_files)\n",
        "\n",
        "def get_file_paths (files_path):\n",
        "  file_paths = []\n",
        "\n",
        "  for file_name in sorted(os.listdir(files_path)):\n",
        "    file_paths.append(os.path.join(files_path, file_name))\n",
        "\n",
        "  return file_paths\n",
        "\n",
        "def load_text_files(files, encoding):\n",
        "  return [ load_text_file(f, encoding) for f in files ]\n",
        "\n",
        "def load_text_file(file_path, encoding):\n",
        "  with open(file_path, 'r', encoding=encoding) as f: return f.read()\n",
        "\n",
        "def train_lda(data, num_topics, chunksize, alpha, eta, random_seed):\n",
        "  dictionary = corpora.Dictionary(data)\n",
        "\n",
        "  corpus = [dictionary.doc2bow(doc) for doc in data]\n",
        "\n",
        "  lda = LdaModel(corpus=corpus, num_topics=num_topics, id2word=dictionary, alpha=alpha, eta=eta, chunksize=chunksize, minimum_probability=0.0, passes=2, random_state = random_seed)\n",
        "\n",
        "  return dictionary, corpus, lda\n",
        "\n",
        "def text_tokens_to_topics_distributions (text_tokens, lda_model, dictionary):\n",
        "  bow = dictionary.doc2bow(text_tokens)\n",
        "\n",
        "  topics_distribution = np.array([tup[1] for tup in lda_model.get_document_topics(bow = bow)])\n",
        "\n",
        "  return topics_distribution\n",
        "\n",
        "def build_dnn_model(learning_rate, hidden_layer_units, dropout_rate, l2_regularization):\n",
        "  model = keras.Sequential([\n",
        "    keras.layers.Dense(hidden_layer_units, kernel_regularizer = tf.keras.regularizers.l2(l2_regularization), activation=tf.nn.relu, input_shape=(X_train.shape[1],)),\n",
        "    keras.layers.Dropout(dropout_rate),\n",
        "    keras.layers.Dense(y_train.shape[1], activation=tf.nn.softmax)\n",
        "  ])\n",
        "\n",
        "  optimizer = keras.optimizers.RMSprop(learning_rate)\n",
        "\n",
        "  model.compile(loss='mse', optimizer=optimizer, metrics=['mae', 'mse'])\n",
        "\n",
        "  return model\n",
        "\n",
        "def get_text_halves (text, minimum_text_half_length):\n",
        "  all_halves = set()\n",
        "\n",
        "  texts_to_split = { text }\n",
        "\n",
        "  while len(texts_to_split) > 0:\n",
        "    text_part = texts_to_split.pop()\n",
        "\n",
        "    if len(text_part) > 1:\n",
        "      first, second = text_part[:int(len(text_part) / 2)].strip(), text_part[int(len(text_part) / 2):].strip()\n",
        "\n",
        "      if len(first) >= minimum_text_half_length:\n",
        "        all_halves.add(first)\n",
        "        texts_to_split.add(first)\n",
        "\n",
        "      if len(second) >= minimum_text_half_length:\n",
        "        all_halves.add(second)\n",
        "        texts_to_split.add(second)\n",
        "\n",
        "  return pd.DataFrame({ 'text_part' : list(all_halves) })\n",
        "\n",
        "def beautify_selected_summary_text(text):\n",
        "  text = re.sub('[\\u2002\\t ]+', ' ', text)\n",
        "\n",
        "  if text.count('.') <= 1:\n",
        "    return text.strip()\n",
        "\n",
        "  start_index = text.index('.') + 1\n",
        "\n",
        "  end_index = text.rindex('.') + 1\n",
        "\n",
        "  return text[start_index : end_index].strip()\n",
        "\n",
        "def baseline_find_summary_text(row, alphabetical_word_tokenizer, normal_word_tokenizer, minimum_text_half_length, minimum_n_alphabetical_words, maximum_n_words, progress_bar=False):\n",
        "  text_halves = get_text_halves(row['original_document'], minimum_text_half_length)\n",
        "\n",
        "  text_halves['alphabetical_n_words'] = text_halves['text_part'].swifter.progress_bar(progress_bar).apply(alphabetical_word_tokenizer.tokenize).swifter.progress_bar(progress_bar).apply(lambda x: len(x))\n",
        "\n",
        "  text_halves.drop(text_halves[text_halves['alphabetical_n_words'] < minimum_n_alphabetical_words].index, inplace=True)\n",
        "\n",
        "  text_halves['n_words'] = text_halves['text_part'].swifter.progress_bar(progress_bar).apply(normal_word_tokenizer.tokenize).swifter.progress_bar(progress_bar).apply(lambda x: len(x))\n",
        "\n",
        "  text_halves.drop(text_halves[text_halves['n_words'] > maximum_n_words].index, inplace=True)\n",
        "\n",
        "  return beautify_selected_summary_text(text_halves.sample(1)['text_part'].squeeze())\n",
        "\n",
        "def find_summary_text(row, lda_model, dictionary, stemmer, alphabetical_word_tokenizer, normal_word_tokenizer, stop_words, encoding, minimum_text_half_length, minimum_n_alphabetical_words, maximum_n_words, re_printable, re_punctuation, progress_bar=False):\n",
        "  text_halves = get_text_halves(row['original_document'], minimum_text_half_length)\n",
        "\n",
        "  text_halves['alphabetical_n_words'] = text_halves['text_part'].swifter.progress_bar(progress_bar).apply(alphabetical_word_tokenizer.tokenize).swifter.progress_bar(progress_bar).apply(lambda x: len(x))\n",
        "\n",
        "  text_halves.drop(text_halves[text_halves['alphabetical_n_words'] < minimum_n_alphabetical_words].index, inplace=True)\n",
        "\n",
        "  text_halves['n_words'] = text_halves['text_part'].swifter.progress_bar(progress_bar).apply(normal_word_tokenizer.tokenize).swifter.progress_bar(progress_bar).apply(lambda x: len(x))\n",
        "\n",
        "  text_halves.drop(text_halves[text_halves['n_words'] > maximum_n_words].index, inplace=True)\n",
        "\n",
        "  ideal_summary_distributions = row['summary_distributions']\n",
        "\n",
        "  text_halves['tokenized_text_part'] = text_halves['text_part'].swifter.progress_bar(progress_bar).apply(preprocess_text, args=(stemmer, stop_words, encoding, re_printable, re_punctuation))\n",
        "\n",
        "  text_halves['text_part_distributions'] = text_halves['tokenized_text_part'].swifter.progress_bar(progress_bar).apply(text_tokens_to_topics_distributions, args=(lda_model, dictionary))\n",
        "\n",
        "  text_halves['distance_from_ideal_summary'] = text_halves['text_part_distributions'].swifter.progress_bar(progress_bar).apply(scipy.spatial.distance.jensenshannon, args=(ideal_summary_distributions, ))\n",
        "\n",
        "  index = text_halves['distance_from_ideal_summary'].idxmin()\n",
        "\n",
        "  return beautify_selected_summary_text(text_halves.loc[index, 'text_part'])\n",
        "\n",
        "def save_summary_on_disk(row, directory_path, encoding):\n",
        "  with open(os.path.join(directory_path, row['file_name']), 'w', encoding=encoding) as o: o.write(row['summary'])"
      ],
      "execution_count": null,
      "outputs": []
    },
    {
      "cell_type": "markdown",
      "metadata": {
        "id": "IOtfEmUdalbW"
      },
      "source": [
        "# Settings"
      ]
    },
    {
      "cell_type": "code",
      "metadata": {
        "id": "AMGpVosQ4-UM"
      },
      "source": [
        "MOUNT_DIRECTORY_PATH = os.path.join(os.getcwd(), 'drive')\n",
        "\n",
        "PROJECT_DIRECTORY_PATH = os.path.join(MOUNT_DIRECTORY_PATH, 'My Drive', 'fns-2020')\n",
        "\n",
        "DATASETS_DIRECTORY_PATH = os.path.join(MOUNT_DIRECTORY_PATH, 'My Drive', 'datasets')\n",
        "\n",
        "DATASET_FILE_PATH = os.path.join(DATASETS_DIRECTORY_PATH, 'fns-2020.tar.gz')\n",
        "\n",
        "EXTRACTED_DATASET_DIRECTORY_PATH = os.path.join(os.getcwd(), 'dataset')"
      ],
      "execution_count": null,
      "outputs": []
    },
    {
      "cell_type": "code",
      "metadata": {
        "id": "MfXP6FdJxlmh"
      },
      "source": [
        "TEXT_ENCODING = 'UTF-8'\n",
        "\n",
        "RANDOM_SEED = 42\n",
        "\n",
        "PROBABILITY_ROUND_PRECISION = 7\n",
        "\n",
        "MODELLING_SUBSET_SIZE = 2000\n",
        "\n",
        "EVALUATION_SUBSET_SIZE = 1000"
      ],
      "execution_count": null,
      "outputs": []
    },
    {
      "cell_type": "markdown",
      "metadata": {
        "id": "I1Itr9OVDlN0"
      },
      "source": [
        "# Hyperparameters"
      ]
    },
    {
      "cell_type": "code",
      "metadata": {
        "id": "xC6zuLksDnIu"
      },
      "source": [
        "DNN_TEST_SIZE = 0.2\n",
        "DNN_VALIDATION_SIZE = 0.2\n",
        "DNN_EPOCHS = 1000\n",
        "DNN_EARLY_STOPPING_PATIENCE = 10\n",
        "DNN_LEARNING_RATE = 0.001\n",
        "DNN_HIDDEN_LAYER_UNITS = 64\n",
        "DNN_DROPOUT_RATE = 0.7\n",
        "DNN_L2_REGULARIZAΤΙΟΝ = 0.01\n",
        "\n",
        "LDA_NUM_TOPICS = 20\n",
        "LDA_CHUNK_SIZE = 300\n",
        "LDA_KEEP_TOP_K_WORDS = 50000\n",
        "LDA_SKIP_TOP_K_WORDS = 100\n",
        "LDA_ALPHA = 1e-2\n",
        "LDA_ETA = 0.5e-2\n",
        "\n",
        "SUMMARY_MINIMUM_N_ALPHABETICAL_WORDS = 200\n",
        "SUMMARY_MAXIMUM_N_WORDS = 1000\n",
        "SUMMARY_MINIMUM_TEXT_HALF_LENGTH = 300"
      ],
      "execution_count": null,
      "outputs": []
    },
    {
      "cell_type": "markdown",
      "metadata": {
        "id": "krW2jqJ-am9M"
      },
      "source": [
        "# Set RNG"
      ]
    },
    {
      "cell_type": "code",
      "metadata": {
        "id": "C8zOmQ4kMP_1"
      },
      "source": [
        "np.random.seed(RANDOM_SEED)\n",
        "\n",
        "tf.random.set_seed(RANDOM_SEED)"
      ],
      "execution_count": null,
      "outputs": []
    },
    {
      "cell_type": "markdown",
      "metadata": {
        "id": "CbfXHB6uaqd0"
      },
      "source": [
        "# Mount Google Drive"
      ]
    },
    {
      "cell_type": "code",
      "metadata": {
        "id": "-l8JWOKRPz_3",
        "colab": {
          "base_uri": "https://localhost:8080/"
        },
        "outputId": "4bd26652-d522-4583-a3df-d6b8ffda65ef"
      },
      "source": [
        "drive.mount(MOUNT_DIRECTORY_PATH, force_remount=True)"
      ],
      "execution_count": null,
      "outputs": [
        {
          "output_type": "stream",
          "text": [
            "Mounted at /content/drive\n"
          ],
          "name": "stdout"
        }
      ]
    },
    {
      "cell_type": "markdown",
      "metadata": {
        "id": "-t7PnB51as-P"
      },
      "source": [
        "# Extract dataset files"
      ]
    },
    {
      "cell_type": "code",
      "metadata": {
        "id": "kZ0P8TPlP1iB"
      },
      "source": [
        "if not os.path.exists(EXTRACTED_DATASET_DIRECTORY_PATH): extract_gzip(DATASET_FILE_PATH, EXTRACTED_DATASET_DIRECTORY_PATH)"
      ],
      "execution_count": null,
      "outputs": []
    },
    {
      "cell_type": "markdown",
      "metadata": {
        "id": "MC3E8j7abQDe"
      },
      "source": [
        "# Install NLTK dependencies"
      ]
    },
    {
      "cell_type": "code",
      "metadata": {
        "id": "hyRSfn4MxaRL",
        "colab": {
          "base_uri": "https://localhost:8080/"
        },
        "outputId": "0d9907cc-5b40-4f1a-873c-c2a6728460f2"
      },
      "source": [
        "nltk.download('punkt')\n",
        "\n",
        "nltk.download('stopwords')"
      ],
      "execution_count": null,
      "outputs": [
        {
          "output_type": "stream",
          "text": [
            "[nltk_data] Downloading package punkt to /root/nltk_data...\n",
            "[nltk_data]   Package punkt is already up-to-date!\n",
            "[nltk_data] Downloading package stopwords to /root/nltk_data...\n",
            "[nltk_data]   Package stopwords is already up-to-date!\n"
          ],
          "name": "stdout"
        },
        {
          "output_type": "execute_result",
          "data": {
            "text/plain": [
              "True"
            ]
          },
          "metadata": {
            "tags": []
          },
          "execution_count": 10
        }
      ]
    },
    {
      "cell_type": "markdown",
      "metadata": {
        "id": "fhR30a3IbUK6"
      },
      "source": [
        "# Create text preprocessing helpers (to be used around the code)"
      ]
    },
    {
      "cell_type": "code",
      "metadata": {
        "id": "XTEONSEHZ4Ms"
      },
      "source": [
        "stop_words = set(stopwords.words('english'))\n",
        "\n",
        "stemmer = PorterStemmer()\n",
        "\n",
        "alphabetical_word_tokenizer = RegexpTokenizer(r'[^\\d\\W_]{2,}')\n",
        "\n",
        "normal_word_tokenizer = RegexpTokenizer(r'[^\\W_]+')\n",
        "\n",
        "re_printable = re.compile('[^%s]' % re.escape(string.printable))\n",
        "\n",
        "re_punctuation = re.compile('[%s]' % re.escape(string.punctuation))"
      ],
      "execution_count": null,
      "outputs": []
    },
    {
      "cell_type": "markdown",
      "metadata": {
        "id": "C86t9-8vaxi8"
      },
      "source": [
        "# Preprocess modelling & evaluation documents / summaries (SAVES RESULTS)"
      ]
    },
    {
      "cell_type": "markdown",
      "metadata": {
        "id": "rQcW5f3RvnOc"
      },
      "source": [
        "## Get documents / summaries file paths"
      ]
    },
    {
      "cell_type": "code",
      "metadata": {
        "id": "KqHtm2BOvnO2"
      },
      "source": [
        "training_documents_path = os.path.join(EXTRACTED_DATASET_DIRECTORY_PATH, 'training', 'documents')\n",
        "\n",
        "training_summaries_path = os.path.join(EXTRACTED_DATASET_DIRECTORY_PATH, 'training', 'summaries')\n",
        "\n",
        "all_documents_files, all_summaries_files = get_file_path_pairs_of_documents_and_summaries (training_documents_path, training_summaries_path)"
      ],
      "execution_count": null,
      "outputs": []
    },
    {
      "cell_type": "code",
      "metadata": {
        "id": "-9DAkCFLvnPA"
      },
      "source": [
        "validation_documents_path = os.path.join(EXTRACTED_DATASET_DIRECTORY_PATH, 'validation', 'documents')\n",
        "\n",
        "validation_summaries_path = os.path.join(EXTRACTED_DATASET_DIRECTORY_PATH, 'validation', 'summaries')\n",
        "\n",
        "validation_documents_files, validation_summaries_files = get_file_path_pairs_of_documents_and_summaries (validation_documents_path, validation_summaries_path)\n",
        "\n",
        "all_documents_files.extend(validation_documents_files)\n",
        "\n",
        "all_summaries_files.extend(validation_summaries_files)"
      ],
      "execution_count": null,
      "outputs": []
    },
    {
      "cell_type": "markdown",
      "metadata": {
        "id": "HzNlXq7CvnPF"
      },
      "source": [
        "## Shuffle documents / summaries file paths"
      ]
    },
    {
      "cell_type": "code",
      "metadata": {
        "id": "Y751RzawvnPG",
        "colab": {
          "base_uri": "https://localhost:8080/",
          "height": 51
        },
        "outputId": "e16ff835-97c5-47b9-93fc-33c65fb96907"
      },
      "source": [
        "print(all_summaries_files[0])\n",
        "print(all_documents_files[0])"
      ],
      "execution_count": null,
      "outputs": [
        {
          "output_type": "stream",
          "text": [
            "/content/dataset/training/summaries/10023_1.txt\n",
            "/content/dataset/training/documents/10023.txt\n"
          ],
          "name": "stdout"
        }
      ]
    },
    {
      "cell_type": "code",
      "metadata": {
        "id": "Jhu3Q2mdvnPK"
      },
      "source": [
        "paired_texts = list(zip(all_documents_files, all_summaries_files))\n",
        "\n",
        "np.random.shuffle(paired_texts)\n",
        "\n",
        "all_documents_files, all_summaries_files = zip(*paired_texts)"
      ],
      "execution_count": null,
      "outputs": []
    },
    {
      "cell_type": "code",
      "metadata": {
        "id": "EqVnvVy0vnPN",
        "colab": {
          "base_uri": "https://localhost:8080/",
          "height": 51
        },
        "outputId": "974b8ae3-9af7-46d7-d480-87ba1f82f46b"
      },
      "source": [
        "print(all_summaries_files[0])\n",
        "print(all_documents_files[0])"
      ],
      "execution_count": null,
      "outputs": [
        {
          "output_type": "stream",
          "text": [
            "/content/dataset/training/summaries/7522_3.txt\n",
            "/content/dataset/training/documents/7522.txt\n"
          ],
          "name": "stdout"
        }
      ]
    },
    {
      "cell_type": "markdown",
      "metadata": {
        "id": "Hok-hVwMOSI2"
      },
      "source": [
        "## Get sample of documents / summaries"
      ]
    },
    {
      "cell_type": "code",
      "metadata": {
        "id": "BBcWxy1gADbT",
        "colab": {
          "base_uri": "https://localhost:8080/",
          "height": 51
        },
        "outputId": "04ff60c9-462f-42c2-9391-51cdd476d3a9"
      },
      "source": [
        "all_documents_files = all_documents_files[:MODELLING_SUBSET_SIZE + EVALUATION_SUBSET_SIZE]\n",
        "all_summaries_files = all_summaries_files[:MODELLING_SUBSET_SIZE + EVALUATION_SUBSET_SIZE]\n",
        "\n",
        "print(len(all_documents_files))\n",
        "print(len(all_summaries_files))"
      ],
      "execution_count": null,
      "outputs": [
        {
          "output_type": "stream",
          "text": [
            "3000\n",
            "3000\n"
          ],
          "name": "stdout"
        }
      ]
    },
    {
      "cell_type": "markdown",
      "metadata": {
        "id": "AJ9NNc_GOX4i"
      },
      "source": [
        "## Load documents / summaries to a dataframe"
      ]
    },
    {
      "cell_type": "code",
      "metadata": {
        "id": "6AaW7HMbV1RC"
      },
      "source": [
        "all_documents = load_text_files(all_documents_files, TEXT_ENCODING)\n",
        "\n",
        "all_summaries = load_text_files(all_summaries_files, TEXT_ENCODING)"
      ],
      "execution_count": null,
      "outputs": []
    },
    {
      "cell_type": "code",
      "metadata": {
        "id": "2h6AqUB3Ywj_",
        "colab": {
          "base_uri": "https://localhost:8080/",
          "height": 319,
          "referenced_widgets": [
            "a8dc019ed9c147ff83b985e29e39ef4a",
            "51f5030ea3a543629f33afe6f95b4e64",
            "6e9dfed01ee64b099dd033ff9f0c8d3a",
            "76a7e59de719476f8930d8578bf7e93c",
            "abdd6fb0a41747a58ba525eaff29efec",
            "f1e28714e9994771a44f8471649c4af6",
            "cf36510c8c6b45f2bdf38b9ee21e58fa",
            "fa1e3d65c7604d4686175453bc670ca2",
            "2b3f4460394f494190c954f9442f4d95",
            "c7c1ff227e0a4bbf8226655e4a042542",
            "833d740b507340a58ceb5f2f9facea72",
            "5cdc6331f38048849aa0666fd297b9ad",
            "bb5367c71ee64d1c8897dad425271679",
            "4576ddbfccd244d0aef69cba1bed4b75",
            "b2b8e0debbc3432095b721f098b88eab",
            "d5d2ea926e3f4f79bcea98c088be259a"
          ]
        },
        "outputId": "ad0ec084-0b58-4364-b09d-26ca78641440"
      },
      "source": [
        "all_data_df = pd.DataFrame({ 'document_file_name' : all_documents_files, 'summary_file_name' : all_summaries_files, 'original_document' : all_documents, 'original_summary' : all_summaries })\n",
        "\n",
        "all_data_df['document_file_name'] = all_data_df['document_file_name'].swifter.apply(lambda o: Path(o).name)\n",
        "\n",
        "all_data_df['summary_file_name'] = all_data_df['summary_file_name'].swifter.apply(lambda o: Path(o).name)\n",
        "\n",
        "print(all_data_df.shape)\n",
        "\n",
        "all_data_df.head()"
      ],
      "execution_count": null,
      "outputs": [
        {
          "output_type": "display_data",
          "data": {
            "application/vnd.jupyter.widget-view+json": {
              "model_id": "a8dc019ed9c147ff83b985e29e39ef4a",
              "version_minor": 0,
              "version_major": 2
            },
            "text/plain": [
              "HBox(children=(FloatProgress(value=0.0, description='Pandas Apply', max=3000.0, style=ProgressStyle(descriptio…"
            ]
          },
          "metadata": {
            "tags": []
          }
        },
        {
          "output_type": "stream",
          "text": [
            "\n"
          ],
          "name": "stdout"
        },
        {
          "output_type": "display_data",
          "data": {
            "application/vnd.jupyter.widget-view+json": {
              "model_id": "2b3f4460394f494190c954f9442f4d95",
              "version_minor": 0,
              "version_major": 2
            },
            "text/plain": [
              "HBox(children=(FloatProgress(value=0.0, description='Pandas Apply', max=3000.0, style=ProgressStyle(descriptio…"
            ]
          },
          "metadata": {
            "tags": []
          }
        },
        {
          "output_type": "stream",
          "text": [
            "\n",
            "(3000, 4)\n"
          ],
          "name": "stdout"
        },
        {
          "output_type": "execute_result",
          "data": {
            "text/html": [
              "<div>\n",
              "<style scoped>\n",
              "    .dataframe tbody tr th:only-of-type {\n",
              "        vertical-align: middle;\n",
              "    }\n",
              "\n",
              "    .dataframe tbody tr th {\n",
              "        vertical-align: top;\n",
              "    }\n",
              "\n",
              "    .dataframe thead th {\n",
              "        text-align: right;\n",
              "    }\n",
              "</style>\n",
              "<table border=\"1\" class=\"dataframe\">\n",
              "  <thead>\n",
              "    <tr style=\"text-align: right;\">\n",
              "      <th></th>\n",
              "      <th>document_file_name</th>\n",
              "      <th>summary_file_name</th>\n",
              "      <th>original_document</th>\n",
              "      <th>original_summary</th>\n",
              "    </tr>\n",
              "  </thead>\n",
              "  <tbody>\n",
              "    <tr>\n",
              "      <th>0</th>\n",
              "      <td>7522.txt</td>\n",
              "      <td>7522_3.txt</td>\n",
              "      <td>HORNBY PLC\\n|\\nANNUAL REPORT &amp; ACCOUNTS 2005\\...</td>\n",
              "      <td>HORNBY PLC | ANNUAL REPORT &amp; ACCOUNTS 2005\\n2...</td>\n",
              "    </tr>\n",
              "    <tr>\n",
              "      <th>1</th>\n",
              "      <td>1111.txt</td>\n",
              "      <td>1111_2.txt</td>\n",
              "      <td>API Group plc\\nAnnual Report 2014\\nAPI Group ...</td>\n",
              "      <td>02\\nAPI Group plc Annual Report 2014\\nOVERVIE...</td>\n",
              "    </tr>\n",
              "    <tr>\n",
              "      <th>2</th>\n",
              "      <td>7029.txt</td>\n",
              "      <td>7029_3.txt</td>\n",
              "      <td>Advanced fluid handling systems for ships and...</td>\n",
              "      <td>Hamworthy plc Annual Report and Accounts 2005...</td>\n",
              "    </tr>\n",
              "    <tr>\n",
              "      <th>3</th>\n",
              "      <td>3203.txt</td>\n",
              "      <td>3203_2.txt</td>\n",
              "      <td>35-39 Moorgate\\nLondon\\nEC2R 6AR\\nwww.central...</td>\n",
              "      <td>• A year of rapid Profitable Growth combined ...</td>\n",
              "    </tr>\n",
              "    <tr>\n",
              "      <th>4</th>\n",
              "      <td>14694.txt</td>\n",
              "      <td>14694_3.txt</td>\n",
              "      <td>Sportingbet Plc Annual Report 2012\\n Annual \\...</td>\n",
              "      <td>02\\nSportingbet Plc Annual Report 2012\\nOverv...</td>\n",
              "    </tr>\n",
              "  </tbody>\n",
              "</table>\n",
              "</div>"
            ],
            "text/plain": [
              "  document_file_name  ...                                   original_summary\n",
              "0           7522.txt  ...   HORNBY PLC | ANNUAL REPORT & ACCOUNTS 2005\\n2...\n",
              "1           1111.txt  ...   02\\nAPI Group plc Annual Report 2014\\nOVERVIE...\n",
              "2           7029.txt  ...   Hamworthy plc Annual Report and Accounts 2005...\n",
              "3           3203.txt  ...   • A year of rapid Profitable Growth combined ...\n",
              "4          14694.txt  ...   02\\nSportingbet Plc Annual Report 2012\\nOverv...\n",
              "\n",
              "[5 rows x 4 columns]"
            ]
          },
          "metadata": {
            "tags": []
          },
          "execution_count": 19
        }
      ]
    },
    {
      "cell_type": "markdown",
      "metadata": {
        "id": "KkWARvKpOcdJ"
      },
      "source": [
        "## Show statistics of summary lengths"
      ]
    },
    {
      "cell_type": "code",
      "metadata": {
        "id": "ALkamkr18dzy",
        "colab": {
          "base_uri": "https://localhost:8080/",
          "height": 170
        },
        "outputId": "c71576ad-8d00-4483-d810-b32dcfe640af"
      },
      "source": [
        "all_data_df['original_summary'].str.len().describe()"
      ],
      "execution_count": null,
      "outputs": [
        {
          "output_type": "execute_result",
          "data": {
            "text/plain": [
              "count      3000.000000\n",
              "mean       7032.437000\n",
              "std        7212.182959\n",
              "min           1.000000\n",
              "25%        2564.750000\n",
              "50%        5065.000000\n",
              "75%        8980.000000\n",
              "max      122315.000000\n",
              "Name: original_summary, dtype: float64"
            ]
          },
          "metadata": {
            "tags": []
          },
          "execution_count": 20
        }
      ]
    },
    {
      "cell_type": "markdown",
      "metadata": {
        "id": "JoNx15ozOiR5"
      },
      "source": [
        "## Preprocess documents / summaries"
      ]
    },
    {
      "cell_type": "code",
      "metadata": {
        "id": "PoHi8w8VxP_-",
        "colab": {
          "base_uri": "https://localhost:8080/",
          "height": 404,
          "referenced_widgets": [
            "c892db7717ed4190a48462755385d80b",
            "f1b4e48aad2042c9ac0a5c497bb17441",
            "061ad9c90227418d83ac8a0833eef3af",
            "db1b17bb1a15426b851d08cac473531d",
            "17aa4e8fb8b04268aae9562c87ac84f0",
            "b1ae2f645a624c18840966b8bf31233a",
            "59b9fd249ec24eca84d16a16d412e341",
            "9b0a4e81ddee4dfbb244240a1ea4b9a3",
            "f7a4f263cff442a7a822a7189cc2f6f9",
            "445b338fc6fa45aa8d34ee192d379a64",
            "10a57f78089a47b9b6b88fec65d88c5e",
            "ed3a9302d636407ea611fdb6337c46fe",
            "9dc8e7f7541d47e4a70a4784913a5f24",
            "ce439c90050d48d2a49a432183874914",
            "c3539f64e17f4f1881ec11ff18eeca3c",
            "b73ba611c6084030b429e94fba5f806c"
          ]
        },
        "outputId": "a1d8c8e6-6f5a-4a45-9073-a81dc1dcedef"
      },
      "source": [
        "all_data_df['tokenized_document'] = all_data_df['original_document'].swifter.apply(preprocess_text, args=(stemmer, stop_words, TEXT_ENCODING, re_printable, re_punctuation))\n",
        "\n",
        "all_data_df['tokenized_summary'] = all_data_df['original_summary'].swifter.apply(preprocess_text, args=(stemmer, stop_words, TEXT_ENCODING, re_printable, re_punctuation))\n",
        "\n",
        "print(all_data_df.shape)\n",
        "\n",
        "all_data_df.head()"
      ],
      "execution_count": null,
      "outputs": [
        {
          "output_type": "display_data",
          "data": {
            "application/vnd.jupyter.widget-view+json": {
              "model_id": "c892db7717ed4190a48462755385d80b",
              "version_minor": 0,
              "version_major": 2
            },
            "text/plain": [
              "HBox(children=(FloatProgress(value=0.0, description='Pandas Apply', max=3000.0, style=ProgressStyle(descriptio…"
            ]
          },
          "metadata": {
            "tags": []
          }
        },
        {
          "output_type": "stream",
          "text": [
            "\n"
          ],
          "name": "stdout"
        },
        {
          "output_type": "display_data",
          "data": {
            "application/vnd.jupyter.widget-view+json": {
              "model_id": "f7a4f263cff442a7a822a7189cc2f6f9",
              "version_minor": 0,
              "version_major": 2
            },
            "text/plain": [
              "HBox(children=(FloatProgress(value=0.0, description='Pandas Apply', max=3000.0, style=ProgressStyle(descriptio…"
            ]
          },
          "metadata": {
            "tags": []
          }
        },
        {
          "output_type": "stream",
          "text": [
            "\n",
            "(3000, 6)\n"
          ],
          "name": "stdout"
        },
        {
          "output_type": "execute_result",
          "data": {
            "text/html": [
              "<div>\n",
              "<style scoped>\n",
              "    .dataframe tbody tr th:only-of-type {\n",
              "        vertical-align: middle;\n",
              "    }\n",
              "\n",
              "    .dataframe tbody tr th {\n",
              "        vertical-align: top;\n",
              "    }\n",
              "\n",
              "    .dataframe thead th {\n",
              "        text-align: right;\n",
              "    }\n",
              "</style>\n",
              "<table border=\"1\" class=\"dataframe\">\n",
              "  <thead>\n",
              "    <tr style=\"text-align: right;\">\n",
              "      <th></th>\n",
              "      <th>document_file_name</th>\n",
              "      <th>summary_file_name</th>\n",
              "      <th>original_document</th>\n",
              "      <th>original_summary</th>\n",
              "      <th>tokenized_document</th>\n",
              "      <th>tokenized_summary</th>\n",
              "    </tr>\n",
              "  </thead>\n",
              "  <tbody>\n",
              "    <tr>\n",
              "      <th>0</th>\n",
              "      <td>7522.txt</td>\n",
              "      <td>7522_3.txt</td>\n",
              "      <td>HORNBY PLC\\n|\\nANNUAL REPORT &amp; ACCOUNTS 2005\\...</td>\n",
              "      <td>HORNBY PLC | ANNUAL REPORT &amp; ACCOUNTS 2005\\n2...</td>\n",
              "      <td>[hornbi, plc, annual, report, account, year, e...</td>\n",
              "      <td>[hornbi, plc, annual, report, account, chairma...</td>\n",
              "    </tr>\n",
              "    <tr>\n",
              "      <th>1</th>\n",
              "      <td>1111.txt</td>\n",
              "      <td>1111_2.txt</td>\n",
              "      <td>API Group plc\\nAnnual Report 2014\\nAPI Group ...</td>\n",
              "      <td>02\\nAPI Group plc Annual Report 2014\\nOVERVIE...</td>\n",
              "      <td>[api, group, plc, annual, report, api, group, ...</td>\n",
              "      <td>[api, group, plc, annual, report, overview, st...</td>\n",
              "    </tr>\n",
              "    <tr>\n",
              "      <th>2</th>\n",
              "      <td>7029.txt</td>\n",
              "      <td>7029_3.txt</td>\n",
              "      <td>Advanced fluid handling systems for ships and...</td>\n",
              "      <td>Hamworthy plc Annual Report and Accounts 2005...</td>\n",
              "      <td>[advanc, fluid, handl, system, ship, offshor, ...</td>\n",
              "      <td>[hamworthi, plc, annual, report, account, resu...</td>\n",
              "    </tr>\n",
              "    <tr>\n",
              "      <th>3</th>\n",
              "      <td>3203.txt</td>\n",
              "      <td>3203_2.txt</td>\n",
              "      <td>35-39 Moorgate\\nLondon\\nEC2R 6AR\\nwww.central...</td>\n",
              "      <td>• A year of rapid Profitable Growth combined ...</td>\n",
              "      <td>[moorgat, london, ecr, ar, annual, report, fee...</td>\n",
              "      <td>[year, rapid, profit, growth, combin, invest, ...</td>\n",
              "    </tr>\n",
              "    <tr>\n",
              "      <th>4</th>\n",
              "      <td>14694.txt</td>\n",
              "      <td>14694_3.txt</td>\n",
              "      <td>Sportingbet Plc Annual Report 2012\\n Annual \\...</td>\n",
              "      <td>02\\nSportingbet Plc Annual Report 2012\\nOverv...</td>\n",
              "      <td>[sportingbet, plc, annual, report, annual, rep...</td>\n",
              "      <td>[sportingbet, plc, annual, report, overview, c...</td>\n",
              "    </tr>\n",
              "  </tbody>\n",
              "</table>\n",
              "</div>"
            ],
            "text/plain": [
              "  document_file_name  ...                                  tokenized_summary\n",
              "0           7522.txt  ...  [hornbi, plc, annual, report, account, chairma...\n",
              "1           1111.txt  ...  [api, group, plc, annual, report, overview, st...\n",
              "2           7029.txt  ...  [hamworthi, plc, annual, report, account, resu...\n",
              "3           3203.txt  ...  [year, rapid, profit, growth, combin, invest, ...\n",
              "4          14694.txt  ...  [sportingbet, plc, annual, report, overview, c...\n",
              "\n",
              "[5 rows x 6 columns]"
            ]
          },
          "metadata": {
            "tags": []
          },
          "execution_count": 21
        }
      ]
    },
    {
      "cell_type": "markdown",
      "metadata": {
        "id": "fzQF9pXu0QAN"
      },
      "source": [
        "## Split to modelling / evaluation dataframes"
      ]
    },
    {
      "cell_type": "code",
      "metadata": {
        "id": "nYT1WZck0WjX",
        "colab": {
          "base_uri": "https://localhost:8080/",
          "height": 51
        },
        "outputId": "6bca6539-d49a-4d1c-98f9-a1cdbdb0eb04"
      },
      "source": [
        "modelling_data_df = all_data_df[:MODELLING_SUBSET_SIZE].copy()\n",
        "\n",
        "print(modelling_data_df.shape)\n",
        "\n",
        "evaluation_data_df = all_data_df[MODELLING_SUBSET_SIZE:].copy()\n",
        "\n",
        "print(evaluation_data_df.shape)"
      ],
      "execution_count": null,
      "outputs": [
        {
          "output_type": "stream",
          "text": [
            "(2000, 6)\n",
            "(1000, 6)\n"
          ],
          "name": "stdout"
        }
      ]
    },
    {
      "cell_type": "markdown",
      "metadata": {
        "id": "kJL9oq_nO6J9"
      },
      "source": [
        "## Filter out empty modelling documents / summaries"
      ]
    },
    {
      "cell_type": "code",
      "metadata": {
        "id": "DOtLyALd0ny7",
        "colab": {
          "base_uri": "https://localhost:8080/",
          "height": 306
        },
        "outputId": "938a015d-ee20-4955-bc0a-88350b740b03"
      },
      "source": [
        "modelling_data_df.drop(modelling_data_df[(modelling_data_df['tokenized_document'].map(lambda o: len(o)) == 0) | (modelling_data_df['tokenized_summary'].map(lambda o: len(o)) == 0)].index, inplace=True)\n",
        "\n",
        "print(modelling_data_df.shape)\n",
        "\n",
        "modelling_data_df.head()"
      ],
      "execution_count": null,
      "outputs": [
        {
          "output_type": "stream",
          "text": [
            "(1997, 6)\n"
          ],
          "name": "stdout"
        },
        {
          "output_type": "execute_result",
          "data": {
            "text/html": [
              "<div>\n",
              "<style scoped>\n",
              "    .dataframe tbody tr th:only-of-type {\n",
              "        vertical-align: middle;\n",
              "    }\n",
              "\n",
              "    .dataframe tbody tr th {\n",
              "        vertical-align: top;\n",
              "    }\n",
              "\n",
              "    .dataframe thead th {\n",
              "        text-align: right;\n",
              "    }\n",
              "</style>\n",
              "<table border=\"1\" class=\"dataframe\">\n",
              "  <thead>\n",
              "    <tr style=\"text-align: right;\">\n",
              "      <th></th>\n",
              "      <th>document_file_name</th>\n",
              "      <th>summary_file_name</th>\n",
              "      <th>original_document</th>\n",
              "      <th>original_summary</th>\n",
              "      <th>tokenized_document</th>\n",
              "      <th>tokenized_summary</th>\n",
              "    </tr>\n",
              "  </thead>\n",
              "  <tbody>\n",
              "    <tr>\n",
              "      <th>0</th>\n",
              "      <td>7522.txt</td>\n",
              "      <td>7522_3.txt</td>\n",
              "      <td>HORNBY PLC\\n|\\nANNUAL REPORT &amp; ACCOUNTS 2005\\...</td>\n",
              "      <td>HORNBY PLC | ANNUAL REPORT &amp; ACCOUNTS 2005\\n2...</td>\n",
              "      <td>[hornbi, plc, annual, report, account, year, e...</td>\n",
              "      <td>[hornbi, plc, annual, report, account, chairma...</td>\n",
              "    </tr>\n",
              "    <tr>\n",
              "      <th>1</th>\n",
              "      <td>1111.txt</td>\n",
              "      <td>1111_2.txt</td>\n",
              "      <td>API Group plc\\nAnnual Report 2014\\nAPI Group ...</td>\n",
              "      <td>02\\nAPI Group plc Annual Report 2014\\nOVERVIE...</td>\n",
              "      <td>[api, group, plc, annual, report, api, group, ...</td>\n",
              "      <td>[api, group, plc, annual, report, overview, st...</td>\n",
              "    </tr>\n",
              "    <tr>\n",
              "      <th>2</th>\n",
              "      <td>7029.txt</td>\n",
              "      <td>7029_3.txt</td>\n",
              "      <td>Advanced fluid handling systems for ships and...</td>\n",
              "      <td>Hamworthy plc Annual Report and Accounts 2005...</td>\n",
              "      <td>[advanc, fluid, handl, system, ship, offshor, ...</td>\n",
              "      <td>[hamworthi, plc, annual, report, account, resu...</td>\n",
              "    </tr>\n",
              "    <tr>\n",
              "      <th>3</th>\n",
              "      <td>3203.txt</td>\n",
              "      <td>3203_2.txt</td>\n",
              "      <td>35-39 Moorgate\\nLondon\\nEC2R 6AR\\nwww.central...</td>\n",
              "      <td>• A year of rapid Profitable Growth combined ...</td>\n",
              "      <td>[moorgat, london, ecr, ar, annual, report, fee...</td>\n",
              "      <td>[year, rapid, profit, growth, combin, invest, ...</td>\n",
              "    </tr>\n",
              "    <tr>\n",
              "      <th>4</th>\n",
              "      <td>14694.txt</td>\n",
              "      <td>14694_3.txt</td>\n",
              "      <td>Sportingbet Plc Annual Report 2012\\n Annual \\...</td>\n",
              "      <td>02\\nSportingbet Plc Annual Report 2012\\nOverv...</td>\n",
              "      <td>[sportingbet, plc, annual, report, annual, rep...</td>\n",
              "      <td>[sportingbet, plc, annual, report, overview, c...</td>\n",
              "    </tr>\n",
              "  </tbody>\n",
              "</table>\n",
              "</div>"
            ],
            "text/plain": [
              "  document_file_name  ...                                  tokenized_summary\n",
              "0           7522.txt  ...  [hornbi, plc, annual, report, account, chairma...\n",
              "1           1111.txt  ...  [api, group, plc, annual, report, overview, st...\n",
              "2           7029.txt  ...  [hamworthi, plc, annual, report, account, resu...\n",
              "3           3203.txt  ...  [year, rapid, profit, growth, combin, invest, ...\n",
              "4          14694.txt  ...  [sportingbet, plc, annual, report, overview, c...\n",
              "\n",
              "[5 rows x 6 columns]"
            ]
          },
          "metadata": {
            "tags": []
          },
          "execution_count": 23
        }
      ]
    },
    {
      "cell_type": "markdown",
      "metadata": {
        "id": "Ln3IPC9u0na3"
      },
      "source": [
        "## Filter out empty evaluation documents / summaries"
      ]
    },
    {
      "cell_type": "code",
      "metadata": {
        "id": "rst9NJ6pO-OJ",
        "colab": {
          "base_uri": "https://localhost:8080/",
          "height": 306
        },
        "outputId": "163d953b-2c49-4af5-a4e3-fac4f4a28a96"
      },
      "source": [
        "evaluation_data_df.drop(evaluation_data_df[(evaluation_data_df['tokenized_document'].map(lambda o: len(o)) == 0) | (evaluation_data_df['tokenized_summary'].map(lambda o: len(o)) == 0)].index, inplace=True)\n",
        "\n",
        "print(evaluation_data_df.shape)\n",
        "\n",
        "evaluation_data_df.head()"
      ],
      "execution_count": null,
      "outputs": [
        {
          "output_type": "stream",
          "text": [
            "(997, 6)\n"
          ],
          "name": "stdout"
        },
        {
          "output_type": "execute_result",
          "data": {
            "text/html": [
              "<div>\n",
              "<style scoped>\n",
              "    .dataframe tbody tr th:only-of-type {\n",
              "        vertical-align: middle;\n",
              "    }\n",
              "\n",
              "    .dataframe tbody tr th {\n",
              "        vertical-align: top;\n",
              "    }\n",
              "\n",
              "    .dataframe thead th {\n",
              "        text-align: right;\n",
              "    }\n",
              "</style>\n",
              "<table border=\"1\" class=\"dataframe\">\n",
              "  <thead>\n",
              "    <tr style=\"text-align: right;\">\n",
              "      <th></th>\n",
              "      <th>document_file_name</th>\n",
              "      <th>summary_file_name</th>\n",
              "      <th>original_document</th>\n",
              "      <th>original_summary</th>\n",
              "      <th>tokenized_document</th>\n",
              "      <th>tokenized_summary</th>\n",
              "    </tr>\n",
              "  </thead>\n",
              "  <tbody>\n",
              "    <tr>\n",
              "      <th>2000</th>\n",
              "      <td>3545.txt</td>\n",
              "      <td>3545_1.txt</td>\n",
              "      <td>Annual Report and financial statements 2014  ...</td>\n",
              "      <td>Annual Report and financial statements 2014  ...</td>\n",
              "      <td>[annual, report, financi, statement, annual, r...</td>\n",
              "      <td>[annual, report, financi, statement, began, wo...</td>\n",
              "    </tr>\n",
              "    <tr>\n",
              "      <th>2001</th>\n",
              "      <td>15276.txt</td>\n",
              "      <td>15276_3.txt</td>\n",
              "      <td>Yule Catto &amp; Co plc\\nAnnual Report\\nFor the y...</td>\n",
              "      <td>Yule Catto &amp; Co plc\\nAnnual report and accoun...</td>\n",
              "      <td>[yule, catto, co, plc, annual, report, year, e...</td>\n",
              "      <td>[yule, catto, co, plc, annual, report, account...</td>\n",
              "    </tr>\n",
              "    <tr>\n",
              "      <th>2002</th>\n",
              "      <td>5941.txt</td>\n",
              "      <td>5941_2.txt</td>\n",
              "      <td>Fiberweb plc\\nAnnuAl report \\nAnd FinAnciAl S...</td>\n",
              "      <td>2    Fiberweb PLC  ANNUAL REPORT AND FINANCIA...</td>\n",
              "      <td>[fiberweb, plc, annual, report, financi, st, a...</td>\n",
              "      <td>[fiberweb, plc, annual, report, financi, state...</td>\n",
              "    </tr>\n",
              "    <tr>\n",
              "      <th>2003</th>\n",
              "      <td>14547.txt</td>\n",
              "      <td>14547_2.txt</td>\n",
              "      <td>Annual Report and Accounts 2010\\nSouthern Cro...</td>\n",
              "      <td>Annual Report and Accounts 2010\\nSouthern Cro...</td>\n",
              "      <td>[annual, report, account, southern, cross, hea...</td>\n",
              "      <td>[annual, report, account, southern, cross, hea...</td>\n",
              "    </tr>\n",
              "    <tr>\n",
              "      <th>2004</th>\n",
              "      <td>17939.txt</td>\n",
              "      <td>17939_3.txt</td>\n",
              "      <td>ANNUAL REPORT &amp; ACCOUNTS 2015\\nBOOKER GROUP P...</td>\n",
              "      <td>03\\nBooker Group plc Annual Report &amp; Accounts...</td>\n",
              "      <td>[annual, report, account, booker, group, plc, ...</td>\n",
              "      <td>[booker, group, plc, annual, report, account, ...</td>\n",
              "    </tr>\n",
              "  </tbody>\n",
              "</table>\n",
              "</div>"
            ],
            "text/plain": [
              "     document_file_name  ...                                  tokenized_summary\n",
              "2000           3545.txt  ...  [annual, report, financi, statement, began, wo...\n",
              "2001          15276.txt  ...  [yule, catto, co, plc, annual, report, account...\n",
              "2002           5941.txt  ...  [fiberweb, plc, annual, report, financi, state...\n",
              "2003          14547.txt  ...  [annual, report, account, southern, cross, hea...\n",
              "2004          17939.txt  ...  [booker, group, plc, annual, report, account, ...\n",
              "\n",
              "[5 rows x 6 columns]"
            ]
          },
          "metadata": {
            "tags": []
          },
          "execution_count": 24
        }
      ]
    },
    {
      "cell_type": "markdown",
      "metadata": {
        "id": "uKD9BPGYREYT"
      },
      "source": [
        "## Save modelling tokenized documents / summaries"
      ]
    },
    {
      "cell_type": "code",
      "metadata": {
        "id": "5yMuWMHPRHwA"
      },
      "source": [
        "modelling_data_df.reset_index(drop=True, inplace=True)\n",
        "\n",
        "modelling_data_df[['document_file_name', 'summary_file_name', 'tokenized_document', 'tokenized_summary']].to_pickle(os.path.join(PROJECT_DIRECTORY_PATH, 'tokenized_modelling_documents_and_summaries.pkl'))"
      ],
      "execution_count": null,
      "outputs": []
    },
    {
      "cell_type": "markdown",
      "metadata": {
        "id": "6v8s7kq3_Njp"
      },
      "source": [
        "## Save unique evaluation original documents"
      ]
    },
    {
      "cell_type": "code",
      "metadata": {
        "id": "b7NtJGEO_Njy",
        "colab": {
          "base_uri": "https://localhost:8080/",
          "height": 306
        },
        "outputId": "3e748008-743d-40b5-e22d-aaaf8242c1f3"
      },
      "source": [
        "evaluation_data_df.drop_duplicates('document_file_name', inplace=True)\n",
        "\n",
        "evaluation_data_df.reset_index(drop=True, inplace=True)\n",
        "\n",
        "evaluation_data_df[['document_file_name', 'original_document']].to_pickle(os.path.join(PROJECT_DIRECTORY_PATH, 'original_evaluation_documents.pkl'))\n",
        "\n",
        "print(evaluation_data_df.shape)\n",
        "\n",
        "evaluation_data_df.head()"
      ],
      "execution_count": null,
      "outputs": [
        {
          "output_type": "stream",
          "text": [
            "(899, 6)\n"
          ],
          "name": "stdout"
        },
        {
          "output_type": "execute_result",
          "data": {
            "text/html": [
              "<div>\n",
              "<style scoped>\n",
              "    .dataframe tbody tr th:only-of-type {\n",
              "        vertical-align: middle;\n",
              "    }\n",
              "\n",
              "    .dataframe tbody tr th {\n",
              "        vertical-align: top;\n",
              "    }\n",
              "\n",
              "    .dataframe thead th {\n",
              "        text-align: right;\n",
              "    }\n",
              "</style>\n",
              "<table border=\"1\" class=\"dataframe\">\n",
              "  <thead>\n",
              "    <tr style=\"text-align: right;\">\n",
              "      <th></th>\n",
              "      <th>document_file_name</th>\n",
              "      <th>summary_file_name</th>\n",
              "      <th>original_document</th>\n",
              "      <th>original_summary</th>\n",
              "      <th>tokenized_document</th>\n",
              "      <th>tokenized_summary</th>\n",
              "    </tr>\n",
              "  </thead>\n",
              "  <tbody>\n",
              "    <tr>\n",
              "      <th>0</th>\n",
              "      <td>3545.txt</td>\n",
              "      <td>3545_1.txt</td>\n",
              "      <td>Annual Report and financial statements 2014  ...</td>\n",
              "      <td>Annual Report and financial statements 2014  ...</td>\n",
              "      <td>[annual, report, financi, statement, annual, r...</td>\n",
              "      <td>[annual, report, financi, statement, began, wo...</td>\n",
              "    </tr>\n",
              "    <tr>\n",
              "      <th>1</th>\n",
              "      <td>15276.txt</td>\n",
              "      <td>15276_3.txt</td>\n",
              "      <td>Yule Catto &amp; Co plc\\nAnnual Report\\nFor the y...</td>\n",
              "      <td>Yule Catto &amp; Co plc\\nAnnual report and accoun...</td>\n",
              "      <td>[yule, catto, co, plc, annual, report, year, e...</td>\n",
              "      <td>[yule, catto, co, plc, annual, report, account...</td>\n",
              "    </tr>\n",
              "    <tr>\n",
              "      <th>2</th>\n",
              "      <td>5941.txt</td>\n",
              "      <td>5941_2.txt</td>\n",
              "      <td>Fiberweb plc\\nAnnuAl report \\nAnd FinAnciAl S...</td>\n",
              "      <td>2    Fiberweb PLC  ANNUAL REPORT AND FINANCIA...</td>\n",
              "      <td>[fiberweb, plc, annual, report, financi, st, a...</td>\n",
              "      <td>[fiberweb, plc, annual, report, financi, state...</td>\n",
              "    </tr>\n",
              "    <tr>\n",
              "      <th>3</th>\n",
              "      <td>14547.txt</td>\n",
              "      <td>14547_2.txt</td>\n",
              "      <td>Annual Report and Accounts 2010\\nSouthern Cro...</td>\n",
              "      <td>Annual Report and Accounts 2010\\nSouthern Cro...</td>\n",
              "      <td>[annual, report, account, southern, cross, hea...</td>\n",
              "      <td>[annual, report, account, southern, cross, hea...</td>\n",
              "    </tr>\n",
              "    <tr>\n",
              "      <th>4</th>\n",
              "      <td>17939.txt</td>\n",
              "      <td>17939_3.txt</td>\n",
              "      <td>ANNUAL REPORT &amp; ACCOUNTS 2015\\nBOOKER GROUP P...</td>\n",
              "      <td>03\\nBooker Group plc Annual Report &amp; Accounts...</td>\n",
              "      <td>[annual, report, account, booker, group, plc, ...</td>\n",
              "      <td>[booker, group, plc, annual, report, account, ...</td>\n",
              "    </tr>\n",
              "  </tbody>\n",
              "</table>\n",
              "</div>"
            ],
            "text/plain": [
              "  document_file_name  ...                                  tokenized_summary\n",
              "0           3545.txt  ...  [annual, report, financi, statement, began, wo...\n",
              "1          15276.txt  ...  [yule, catto, co, plc, annual, report, account...\n",
              "2           5941.txt  ...  [fiberweb, plc, annual, report, financi, state...\n",
              "3          14547.txt  ...  [annual, report, account, southern, cross, hea...\n",
              "4          17939.txt  ...  [booker, group, plc, annual, report, account, ...\n",
              "\n",
              "[5 rows x 6 columns]"
            ]
          },
          "metadata": {
            "tags": []
          },
          "execution_count": 26
        }
      ]
    },
    {
      "cell_type": "markdown",
      "metadata": {
        "id": "NVZD6f9kRziu"
      },
      "source": [
        "# Prepare training documents for LDA (SAVES RESULTS)"
      ]
    },
    {
      "cell_type": "markdown",
      "metadata": {
        "id": "qryLjhndTNDb"
      },
      "source": [
        "## Load tokenized documents / summaries"
      ]
    },
    {
      "cell_type": "code",
      "metadata": {
        "id": "p2fplmDGTQlK",
        "colab": {
          "base_uri": "https://localhost:8080/",
          "height": 221
        },
        "outputId": "46575dbb-e567-42ff-b884-2bf06113763f"
      },
      "source": [
        "modelling_data_df = pd.read_pickle(os.path.join(PROJECT_DIRECTORY_PATH, 'tokenized_modelling_documents_and_summaries.pkl'))\n",
        "\n",
        "print(modelling_data_df.shape)\n",
        "\n",
        "modelling_data_df.head()"
      ],
      "execution_count": null,
      "outputs": [
        {
          "output_type": "stream",
          "text": [
            "(1997, 4)\n"
          ],
          "name": "stdout"
        },
        {
          "output_type": "execute_result",
          "data": {
            "text/html": [
              "<div>\n",
              "<style scoped>\n",
              "    .dataframe tbody tr th:only-of-type {\n",
              "        vertical-align: middle;\n",
              "    }\n",
              "\n",
              "    .dataframe tbody tr th {\n",
              "        vertical-align: top;\n",
              "    }\n",
              "\n",
              "    .dataframe thead th {\n",
              "        text-align: right;\n",
              "    }\n",
              "</style>\n",
              "<table border=\"1\" class=\"dataframe\">\n",
              "  <thead>\n",
              "    <tr style=\"text-align: right;\">\n",
              "      <th></th>\n",
              "      <th>document_file_name</th>\n",
              "      <th>summary_file_name</th>\n",
              "      <th>tokenized_document</th>\n",
              "      <th>tokenized_summary</th>\n",
              "    </tr>\n",
              "  </thead>\n",
              "  <tbody>\n",
              "    <tr>\n",
              "      <th>0</th>\n",
              "      <td>7522.txt</td>\n",
              "      <td>7522_3.txt</td>\n",
              "      <td>[hornbi, plc, annual, report, account, year, e...</td>\n",
              "      <td>[hornbi, plc, annual, report, account, chairma...</td>\n",
              "    </tr>\n",
              "    <tr>\n",
              "      <th>1</th>\n",
              "      <td>1111.txt</td>\n",
              "      <td>1111_2.txt</td>\n",
              "      <td>[api, group, plc, annual, report, api, group, ...</td>\n",
              "      <td>[api, group, plc, annual, report, overview, st...</td>\n",
              "    </tr>\n",
              "    <tr>\n",
              "      <th>2</th>\n",
              "      <td>7029.txt</td>\n",
              "      <td>7029_3.txt</td>\n",
              "      <td>[advanc, fluid, handl, system, ship, offshor, ...</td>\n",
              "      <td>[hamworthi, plc, annual, report, account, resu...</td>\n",
              "    </tr>\n",
              "    <tr>\n",
              "      <th>3</th>\n",
              "      <td>3203.txt</td>\n",
              "      <td>3203_2.txt</td>\n",
              "      <td>[moorgat, london, ecr, ar, annual, report, fee...</td>\n",
              "      <td>[year, rapid, profit, growth, combin, invest, ...</td>\n",
              "    </tr>\n",
              "    <tr>\n",
              "      <th>4</th>\n",
              "      <td>14694.txt</td>\n",
              "      <td>14694_3.txt</td>\n",
              "      <td>[sportingbet, plc, annual, report, annual, rep...</td>\n",
              "      <td>[sportingbet, plc, annual, report, overview, c...</td>\n",
              "    </tr>\n",
              "  </tbody>\n",
              "</table>\n",
              "</div>"
            ],
            "text/plain": [
              "  document_file_name  ...                                  tokenized_summary\n",
              "0           7522.txt  ...  [hornbi, plc, annual, report, account, chairma...\n",
              "1           1111.txt  ...  [api, group, plc, annual, report, overview, st...\n",
              "2           7029.txt  ...  [hamworthi, plc, annual, report, account, resu...\n",
              "3           3203.txt  ...  [year, rapid, profit, growth, combin, invest, ...\n",
              "4          14694.txt  ...  [sportingbet, plc, annual, report, overview, c...\n",
              "\n",
              "[5 rows x 4 columns]"
            ]
          },
          "metadata": {
            "tags": []
          },
          "execution_count": 12
        }
      ]
    },
    {
      "cell_type": "markdown",
      "metadata": {
        "id": "dF-FMvlKEqER"
      },
      "source": [
        "## Find unique modelling documents"
      ]
    },
    {
      "cell_type": "code",
      "metadata": {
        "id": "LMQKuQiINbxH",
        "colab": {
          "base_uri": "https://localhost:8080/",
          "height": 221
        },
        "outputId": "a89c0278-aaf1-4a4d-a572-9831273470f4"
      },
      "source": [
        "training_documents_df = modelling_data_df.drop_duplicates('document_file_name') [['tokenized_document']]\n",
        "\n",
        "training_documents_df.reset_index(drop=True, inplace=True)\n",
        "\n",
        "print(training_documents_df.shape)\n",
        "\n",
        "training_documents_df.head()"
      ],
      "execution_count": null,
      "outputs": [
        {
          "output_type": "stream",
          "text": [
            "(1600, 1)\n"
          ],
          "name": "stdout"
        },
        {
          "output_type": "execute_result",
          "data": {
            "text/html": [
              "<div>\n",
              "<style scoped>\n",
              "    .dataframe tbody tr th:only-of-type {\n",
              "        vertical-align: middle;\n",
              "    }\n",
              "\n",
              "    .dataframe tbody tr th {\n",
              "        vertical-align: top;\n",
              "    }\n",
              "\n",
              "    .dataframe thead th {\n",
              "        text-align: right;\n",
              "    }\n",
              "</style>\n",
              "<table border=\"1\" class=\"dataframe\">\n",
              "  <thead>\n",
              "    <tr style=\"text-align: right;\">\n",
              "      <th></th>\n",
              "      <th>tokenized_document</th>\n",
              "    </tr>\n",
              "  </thead>\n",
              "  <tbody>\n",
              "    <tr>\n",
              "      <th>0</th>\n",
              "      <td>[hornbi, plc, annual, report, account, year, e...</td>\n",
              "    </tr>\n",
              "    <tr>\n",
              "      <th>1</th>\n",
              "      <td>[api, group, plc, annual, report, api, group, ...</td>\n",
              "    </tr>\n",
              "    <tr>\n",
              "      <th>2</th>\n",
              "      <td>[advanc, fluid, handl, system, ship, offshor, ...</td>\n",
              "    </tr>\n",
              "    <tr>\n",
              "      <th>3</th>\n",
              "      <td>[moorgat, london, ecr, ar, annual, report, fee...</td>\n",
              "    </tr>\n",
              "    <tr>\n",
              "      <th>4</th>\n",
              "      <td>[sportingbet, plc, annual, report, annual, rep...</td>\n",
              "    </tr>\n",
              "  </tbody>\n",
              "</table>\n",
              "</div>"
            ],
            "text/plain": [
              "                                  tokenized_document\n",
              "0  [hornbi, plc, annual, report, account, year, e...\n",
              "1  [api, group, plc, annual, report, api, group, ...\n",
              "2  [advanc, fluid, handl, system, ship, offshor, ...\n",
              "3  [moorgat, london, ecr, ar, annual, report, fee...\n",
              "4  [sportingbet, plc, annual, report, annual, rep..."
            ]
          },
          "metadata": {
            "tags": []
          },
          "execution_count": 13
        }
      ]
    },
    {
      "cell_type": "markdown",
      "metadata": {
        "id": "ylldd0c3Ch3C"
      },
      "source": [
        "## Statistics on word frequencies / Remove rare and most-used words"
      ]
    },
    {
      "cell_type": "code",
      "metadata": {
        "id": "KVMgCHey4jMa",
        "colab": {
          "base_uri": "https://localhost:8080/",
          "height": 34
        },
        "outputId": "f8d4e7dd-9b35-40a7-cf35-5008836f7563"
      },
      "source": [
        "words_distribution = FreqDist((word for item in training_documents_df['tokenized_document'] for word in item))\n",
        "\n",
        "len(words_distribution)"
      ],
      "execution_count": null,
      "outputs": [
        {
          "output_type": "execute_result",
          "data": {
            "text/plain": [
              "206230"
            ]
          },
          "metadata": {
            "tags": []
          },
          "execution_count": 14
        }
      ]
    },
    {
      "cell_type": "code",
      "metadata": {
        "id": "Uyei7ssHUhIr",
        "colab": {
          "base_uri": "https://localhost:8080/",
          "height": 297
        },
        "outputId": "24beee8e-e919-42a6-dfe4-26577e134793"
      },
      "source": [
        "pd.DataFrame({'word_frequency' : list(dict(words_distribution).values())}).describe()"
      ],
      "execution_count": null,
      "outputs": [
        {
          "output_type": "execute_result",
          "data": {
            "text/html": [
              "<div>\n",
              "<style scoped>\n",
              "    .dataframe tbody tr th:only-of-type {\n",
              "        vertical-align: middle;\n",
              "    }\n",
              "\n",
              "    .dataframe tbody tr th {\n",
              "        vertical-align: top;\n",
              "    }\n",
              "\n",
              "    .dataframe thead th {\n",
              "        text-align: right;\n",
              "    }\n",
              "</style>\n",
              "<table border=\"1\" class=\"dataframe\">\n",
              "  <thead>\n",
              "    <tr style=\"text-align: right;\">\n",
              "      <th></th>\n",
              "      <th>word_frequency</th>\n",
              "    </tr>\n",
              "  </thead>\n",
              "  <tbody>\n",
              "    <tr>\n",
              "      <th>count</th>\n",
              "      <td>206230.000000</td>\n",
              "    </tr>\n",
              "    <tr>\n",
              "      <th>mean</th>\n",
              "      <td>201.611279</td>\n",
              "    </tr>\n",
              "    <tr>\n",
              "      <th>std</th>\n",
              "      <td>4379.735472</td>\n",
              "    </tr>\n",
              "    <tr>\n",
              "      <th>min</th>\n",
              "      <td>1.000000</td>\n",
              "    </tr>\n",
              "    <tr>\n",
              "      <th>25%</th>\n",
              "      <td>1.000000</td>\n",
              "    </tr>\n",
              "    <tr>\n",
              "      <th>50%</th>\n",
              "      <td>1.000000</td>\n",
              "    </tr>\n",
              "    <tr>\n",
              "      <th>75%</th>\n",
              "      <td>4.000000</td>\n",
              "    </tr>\n",
              "    <tr>\n",
              "      <th>max</th>\n",
              "      <td>613781.000000</td>\n",
              "    </tr>\n",
              "  </tbody>\n",
              "</table>\n",
              "</div>"
            ],
            "text/plain": [
              "       word_frequency\n",
              "count   206230.000000\n",
              "mean       201.611279\n",
              "std       4379.735472\n",
              "min          1.000000\n",
              "25%          1.000000\n",
              "50%          1.000000\n",
              "75%          4.000000\n",
              "max     613781.000000"
            ]
          },
          "metadata": {
            "tags": []
          },
          "execution_count": 15
        }
      ]
    },
    {
      "cell_type": "code",
      "metadata": {
        "id": "TqPSQS1qfZHS",
        "colab": {
          "base_uri": "https://localhost:8080/",
          "height": 51
        },
        "outputId": "ca25e0a5-ce42-4a58-9658-477a8d83a450"
      },
      "source": [
        "words_kept = words_distribution.most_common()\n",
        "\n",
        "print(words_kept[0])\n",
        "print(words_kept[-1])"
      ],
      "execution_count": null,
      "outputs": [
        {
          "output_type": "stream",
          "text": [
            "('group', 613781)\n",
            "('outlflow', 1)\n"
          ],
          "name": "stdout"
        }
      ]
    },
    {
      "cell_type": "code",
      "metadata": {
        "id": "9Mz2_AOeRf05",
        "colab": {
          "base_uri": "https://localhost:8080/",
          "height": 51
        },
        "outputId": "f92deeae-50cf-4802-e336-fdc3bc7d8dd7"
      },
      "source": [
        "words_kept = words_kept[:LDA_KEEP_TOP_K_WORDS]\n",
        "\n",
        "print(words_kept[0])\n",
        "print(words_kept[-1])"
      ],
      "execution_count": null,
      "outputs": [
        {
          "output_type": "stream",
          "text": [
            "('group', 613781)\n",
            "('charti', 5)\n"
          ],
          "name": "stdout"
        }
      ]
    },
    {
      "cell_type": "code",
      "metadata": {
        "id": "n0Rm-hajChsX",
        "colab": {
          "base_uri": "https://localhost:8080/",
          "height": 51
        },
        "outputId": "2421cdf8-3e69-4e67-846f-533284fe51a3"
      },
      "source": [
        "words_kept = words_kept[LDA_SKIP_TOP_K_WORDS:]\n",
        "\n",
        "print(words_kept[0])\n",
        "print(words_kept[-1])"
      ],
      "execution_count": null,
      "outputs": [
        {
          "output_type": "stream",
          "text": [
            "('growth', 77926)\n",
            "('charti', 5)\n"
          ],
          "name": "stdout"
        }
      ]
    },
    {
      "cell_type": "code",
      "metadata": {
        "id": "UzRXxSp2CjL9"
      },
      "source": [
        "words_kept = set(dict(words_kept).keys())"
      ],
      "execution_count": null,
      "outputs": []
    },
    {
      "cell_type": "code",
      "metadata": {
        "id": "qo89LqvAEKWG",
        "colab": {
          "base_uri": "https://localhost:8080/",
          "height": 270,
          "referenced_widgets": [
            "59182375413c4ac8aaff415ae6776151",
            "5eb9f38b9622409499fb6124546bae25",
            "41a9e6e374664a668eeb7df173d42ad1",
            "ff726238e1d544108f80ce0342109ec4",
            "3af8372c4e184174bfb665f52fb1ed80",
            "fe918a4cc2cf47b28aa1100ff6bb56a8",
            "e136f40f20f049eca6c566d81c97de32",
            "62b509910bff476eb527e051008ea88c"
          ]
        },
        "outputId": "bc3e7e5d-0fb7-428a-e44d-c0c34a813f8e"
      },
      "source": [
        "training_documents_df['tokenized_document'] = training_documents_df['tokenized_document'].swifter.apply(whitelist_words, args=(words_kept, ))\n",
        "\n",
        "print(training_documents_df.shape)\n",
        "\n",
        "training_documents_df.head()"
      ],
      "execution_count": null,
      "outputs": [
        {
          "output_type": "display_data",
          "data": {
            "application/vnd.jupyter.widget-view+json": {
              "model_id": "59182375413c4ac8aaff415ae6776151",
              "version_minor": 0,
              "version_major": 2
            },
            "text/plain": [
              "HBox(children=(FloatProgress(value=0.0, description='Pandas Apply', max=1600.0, style=ProgressStyle(descriptio…"
            ]
          },
          "metadata": {
            "tags": []
          }
        },
        {
          "output_type": "stream",
          "text": [
            "\n",
            "(1600, 1)\n"
          ],
          "name": "stdout"
        },
        {
          "output_type": "execute_result",
          "data": {
            "text/html": [
              "<div>\n",
              "<style scoped>\n",
              "    .dataframe tbody tr th:only-of-type {\n",
              "        vertical-align: middle;\n",
              "    }\n",
              "\n",
              "    .dataframe tbody tr th {\n",
              "        vertical-align: top;\n",
              "    }\n",
              "\n",
              "    .dataframe thead th {\n",
              "        text-align: right;\n",
              "    }\n",
              "</style>\n",
              "<table border=\"1\" class=\"dataframe\">\n",
              "  <thead>\n",
              "    <tr style=\"text-align: right;\">\n",
              "      <th></th>\n",
              "      <th>tokenized_document</th>\n",
              "    </tr>\n",
              "  </thead>\n",
              "  <tbody>\n",
              "    <tr>\n",
              "      <th>0</th>\n",
              "      <td>[hornbi, hornbi, westwood, margat, kent, ct, j...</td>\n",
              "    </tr>\n",
              "    <tr>\n",
              "      <th>1</th>\n",
              "      <td>[api, api, authent, solut, brand, enhanc, api,...</td>\n",
              "    </tr>\n",
              "    <tr>\n",
              "      <th>2</th>\n",
              "      <td>[advanc, fluid, handl, system, ship, offshor, ...</td>\n",
              "    </tr>\n",
              "    <tr>\n",
              "      <th>3</th>\n",
              "      <td>[moorgat, london, ecr, ar, feedback, feedback,...</td>\n",
              "    </tr>\n",
              "    <tr>\n",
              "      <th>4</th>\n",
              "      <td>[sportingbet, content, overview, highlight, ch...</td>\n",
              "    </tr>\n",
              "  </tbody>\n",
              "</table>\n",
              "</div>"
            ],
            "text/plain": [
              "                                  tokenized_document\n",
              "0  [hornbi, hornbi, westwood, margat, kent, ct, j...\n",
              "1  [api, api, authent, solut, brand, enhanc, api,...\n",
              "2  [advanc, fluid, handl, system, ship, offshor, ...\n",
              "3  [moorgat, london, ecr, ar, feedback, feedback,...\n",
              "4  [sportingbet, content, overview, highlight, ch..."
            ]
          },
          "metadata": {
            "tags": []
          },
          "execution_count": 20
        }
      ]
    },
    {
      "cell_type": "markdown",
      "metadata": {
        "id": "LFJKFdb0EzwH"
      },
      "source": [
        "## Save LDA training documents"
      ]
    },
    {
      "cell_type": "code",
      "metadata": {
        "id": "7_vtkoM-JFD5"
      },
      "source": [
        "training_documents_df.to_pickle(os.path.join(PROJECT_DIRECTORY_PATH, 'lda_training_documents.pkl'))"
      ],
      "execution_count": null,
      "outputs": []
    },
    {
      "cell_type": "markdown",
      "metadata": {
        "id": "-_GE7N5yE-qW"
      },
      "source": [
        "# LDA modelling (SAVES RESULTS)"
      ]
    },
    {
      "cell_type": "markdown",
      "metadata": {
        "id": "gh-4ZIFfN1y2"
      },
      "source": [
        "## Load LDA training documents"
      ]
    },
    {
      "cell_type": "code",
      "metadata": {
        "id": "Xx2TcHEqDYQJ",
        "colab": {
          "base_uri": "https://localhost:8080/",
          "height": 221
        },
        "outputId": "fb995631-124e-4fa1-95be-f0483e739a48"
      },
      "source": [
        "training_documents_df = pd.read_pickle(os.path.join(PROJECT_DIRECTORY_PATH, 'lda_training_documents.pkl'))\n",
        "\n",
        "print(training_documents_df.shape)\n",
        "\n",
        "training_documents_df.head()"
      ],
      "execution_count": null,
      "outputs": [
        {
          "output_type": "stream",
          "text": [
            "(1600, 1)\n"
          ],
          "name": "stdout"
        },
        {
          "output_type": "execute_result",
          "data": {
            "text/html": [
              "<div>\n",
              "<style scoped>\n",
              "    .dataframe tbody tr th:only-of-type {\n",
              "        vertical-align: middle;\n",
              "    }\n",
              "\n",
              "    .dataframe tbody tr th {\n",
              "        vertical-align: top;\n",
              "    }\n",
              "\n",
              "    .dataframe thead th {\n",
              "        text-align: right;\n",
              "    }\n",
              "</style>\n",
              "<table border=\"1\" class=\"dataframe\">\n",
              "  <thead>\n",
              "    <tr style=\"text-align: right;\">\n",
              "      <th></th>\n",
              "      <th>tokenized_document</th>\n",
              "    </tr>\n",
              "  </thead>\n",
              "  <tbody>\n",
              "    <tr>\n",
              "      <th>0</th>\n",
              "      <td>[hornbi, hornbi, westwood, margat, kent, ct, j...</td>\n",
              "    </tr>\n",
              "    <tr>\n",
              "      <th>1</th>\n",
              "      <td>[api, api, authent, solut, brand, enhanc, api,...</td>\n",
              "    </tr>\n",
              "    <tr>\n",
              "      <th>2</th>\n",
              "      <td>[advanc, fluid, handl, system, ship, offshor, ...</td>\n",
              "    </tr>\n",
              "    <tr>\n",
              "      <th>3</th>\n",
              "      <td>[moorgat, london, ecr, ar, feedback, feedback,...</td>\n",
              "    </tr>\n",
              "    <tr>\n",
              "      <th>4</th>\n",
              "      <td>[sportingbet, content, overview, highlight, ch...</td>\n",
              "    </tr>\n",
              "  </tbody>\n",
              "</table>\n",
              "</div>"
            ],
            "text/plain": [
              "                                  tokenized_document\n",
              "0  [hornbi, hornbi, westwood, margat, kent, ct, j...\n",
              "1  [api, api, authent, solut, brand, enhanc, api,...\n",
              "2  [advanc, fluid, handl, system, ship, offshor, ...\n",
              "3  [moorgat, london, ecr, ar, feedback, feedback,...\n",
              "4  [sportingbet, content, overview, highlight, ch..."
            ]
          },
          "metadata": {
            "tags": []
          },
          "execution_count": 12
        }
      ]
    },
    {
      "cell_type": "markdown",
      "metadata": {
        "id": "CXzwsl8CN4pM"
      },
      "source": [
        "## Train LDA model"
      ]
    },
    {
      "cell_type": "code",
      "metadata": {
        "id": "lE_UVZpVFPaI",
        "colab": {
          "base_uri": "https://localhost:8080/"
        },
        "outputId": "6443b144-769d-4a9e-98a3-2a9a11c8c541"
      },
      "source": [
        "dictionary, corpus, lda_model = train_lda(training_documents_df['tokenized_document'], LDA_NUM_TOPICS, LDA_CHUNK_SIZE, LDA_ALPHA, LDA_ETA, RANDOM_SEED)"
      ],
      "execution_count": null,
      "outputs": [
        {
          "output_type": "stream",
          "text": [
            "/usr/local/lib/python3.6/dist-packages/gensim/models/ldamodel.py:1023: RuntimeWarning: divide by zero encountered in log\n",
            "  diff = np.log(self.expElogbeta)\n"
          ],
          "name": "stderr"
        }
      ]
    },
    {
      "cell_type": "markdown",
      "metadata": {
        "id": "uBLG2L5ZHwPU"
      },
      "source": [
        "## Save LDA model / Dictionary"
      ]
    },
    {
      "cell_type": "code",
      "metadata": {
        "id": "GqopG3qZHyLd",
        "colab": {
          "base_uri": "https://localhost:8080/",
          "height": 71
        },
        "outputId": "3bb14f94-d642-48f0-d081-be6acd8a6bac"
      },
      "source": [
        "lda_model.save(os.path.join(PROJECT_DIRECTORY_PATH, 'lda_model.pkl'))\n",
        "\n",
        "dictionary.save(os.path.join(PROJECT_DIRECTORY_PATH, 'lda_dictionary.pkl'))"
      ],
      "execution_count": null,
      "outputs": [
        {
          "output_type": "stream",
          "text": [
            "/usr/local/lib/python3.6/dist-packages/smart_open/smart_open_lib.py:253: UserWarning: This function is deprecated, use smart_open.open instead. See the migration notes for details: https://github.com/RaRe-Technologies/smart_open/blob/master/README.rst#migrating-to-the-new-open-function\n",
            "  'See the migration notes for details: %s' % _MIGRATION_NOTES_URL\n"
          ],
          "name": "stderr"
        }
      ]
    },
    {
      "cell_type": "markdown",
      "metadata": {
        "id": "w0vTAOWZN9k6"
      },
      "source": [
        "## Show topics and their top n words"
      ]
    },
    {
      "cell_type": "code",
      "metadata": {
        "id": "FECRicuNJMOh",
        "colab": {
          "base_uri": "https://localhost:8080/",
          "height": 379
        },
        "outputId": "33d07053-29fc-4404-ad36-56d50c97e1cd"
      },
      "source": [
        "top_n = 10\n",
        "\n",
        "topics_data = OrderedDict()\n",
        "\n",
        "for t in range(lda_model.num_topics):\n",
        "  words = OrderedDict(lda_model.show_topic(t, topn = top_n)).keys()\n",
        "\n",
        "  topics_data[f'topic_{t}'] = list(words)\n",
        "\n",
        "topics_df = pd.DataFrame(topics_data, columns=topics_data.keys())\n",
        "\n",
        "topics_df.head(top_n)"
      ],
      "execution_count": null,
      "outputs": [
        {
          "output_type": "execute_result",
          "data": {
            "text/html": [
              "<div>\n",
              "<style scoped>\n",
              "    .dataframe tbody tr th:only-of-type {\n",
              "        vertical-align: middle;\n",
              "    }\n",
              "\n",
              "    .dataframe tbody tr th {\n",
              "        vertical-align: top;\n",
              "    }\n",
              "\n",
              "    .dataframe thead th {\n",
              "        text-align: right;\n",
              "    }\n",
              "</style>\n",
              "<table border=\"1\" class=\"dataframe\">\n",
              "  <thead>\n",
              "    <tr style=\"text-align: right;\">\n",
              "      <th></th>\n",
              "      <th>topic_0</th>\n",
              "      <th>topic_1</th>\n",
              "      <th>topic_2</th>\n",
              "      <th>topic_3</th>\n",
              "      <th>topic_4</th>\n",
              "      <th>topic_5</th>\n",
              "      <th>topic_6</th>\n",
              "      <th>topic_7</th>\n",
              "      <th>topic_8</th>\n",
              "      <th>topic_9</th>\n",
              "      <th>topic_10</th>\n",
              "      <th>topic_11</th>\n",
              "      <th>topic_12</th>\n",
              "      <th>topic_13</th>\n",
              "      <th>topic_14</th>\n",
              "      <th>topic_15</th>\n",
              "      <th>topic_16</th>\n",
              "      <th>topic_17</th>\n",
              "      <th>topic_18</th>\n",
              "      <th>topic_19</th>\n",
              "    </tr>\n",
              "  </thead>\n",
              "  <tbody>\n",
              "    <tr>\n",
              "      <th>0</th>\n",
              "      <td>project</td>\n",
              "      <td>ordinari</td>\n",
              "      <td>game</td>\n",
              "      <td>growth</td>\n",
              "      <td>agm</td>\n",
              "      <td>strateg</td>\n",
              "      <td>nancial</td>\n",
              "      <td>page</td>\n",
              "      <td>energi</td>\n",
              "      <td>mine</td>\n",
              "      <td>growth</td>\n",
              "      <td>cent</td>\n",
              "      <td>defer</td>\n",
              "      <td>ordinari</td>\n",
              "      <td>project</td>\n",
              "      <td>oil</td>\n",
              "      <td>growth</td>\n",
              "      <td>contract</td>\n",
              "      <td>ordinari</td>\n",
              "      <td>properti</td>\n",
              "    </tr>\n",
              "    <tr>\n",
              "      <th>1</th>\n",
              "      <td>contract</td>\n",
              "      <td>charg</td>\n",
              "      <td>intertek</td>\n",
              "      <td>contract</td>\n",
              "      <td>ed</td>\n",
              "      <td>client</td>\n",
              "      <td>prot</td>\n",
              "      <td>control</td>\n",
              "      <td>ga</td>\n",
              "      <td>gold</td>\n",
              "      <td>pension</td>\n",
              "      <td>pension</td>\n",
              "      <td>impair</td>\n",
              "      <td>technolog</td>\n",
              "      <td>fresnillo</td>\n",
              "      <td>ga</td>\n",
              "      <td>adjust</td>\n",
              "      <td>term</td>\n",
              "      <td>wireless</td>\n",
              "      <td>portfolio</td>\n",
              "    </tr>\n",
              "    <tr>\n",
              "      <th>2</th>\n",
              "      <td>work</td>\n",
              "      <td>june</td>\n",
              "      <td>offic</td>\n",
              "      <td>system</td>\n",
              "      <td>ar</td>\n",
              "      <td>bank</td>\n",
              "      <td>benet</td>\n",
              "      <td>growth</td>\n",
              "      <td>contract</td>\n",
              "      <td>resourc</td>\n",
              "      <td>juli</td>\n",
              "      <td>item</td>\n",
              "      <td>ordinari</td>\n",
              "      <td>grant</td>\n",
              "      <td>usd</td>\n",
              "      <td>explor</td>\n",
              "      <td>exchang</td>\n",
              "      <td>growth</td>\n",
              "      <td>cabl</td>\n",
              "      <td>retail</td>\n",
              "    </tr>\n",
              "    <tr>\n",
              "      <th>3</th>\n",
              "      <td>construct</td>\n",
              "      <td>appoint</td>\n",
              "      <td>activ</td>\n",
              "      <td>strateg</td>\n",
              "      <td>al</td>\n",
              "      <td>fund</td>\n",
              "      <td>ow</td>\n",
              "      <td>system</td>\n",
              "      <td>power</td>\n",
              "      <td>ore</td>\n",
              "      <td>chairman</td>\n",
              "      <td>charg</td>\n",
              "      <td>adjust</td>\n",
              "      <td>growth</td>\n",
              "      <td>contract</td>\n",
              "      <td>well</td>\n",
              "      <td>respect</td>\n",
              "      <td>made</td>\n",
              "      <td>except</td>\n",
              "      <td>strateg</td>\n",
              "    </tr>\n",
              "    <tr>\n",
              "      <th>4</th>\n",
              "      <td>pension</td>\n",
              "      <td>proof</td>\n",
              "      <td>dividend</td>\n",
              "      <td>basi</td>\n",
              "      <td>chairman</td>\n",
              "      <td>healthcar</td>\n",
              "      <td>dividend</td>\n",
              "      <td>set</td>\n",
              "      <td>gs</td>\n",
              "      <td>reserv</td>\n",
              "      <td>currenc</td>\n",
              "      <td>currenc</td>\n",
              "      <td>intang</td>\n",
              "      <td>medic</td>\n",
              "      <td>work</td>\n",
              "      <td>cairn</td>\n",
              "      <td>chairman</td>\n",
              "      <td>appoint</td>\n",
              "      <td>leas</td>\n",
              "      <td>loan</td>\n",
              "    </tr>\n",
              "    <tr>\n",
              "      <th>5</th>\n",
              "      <td>june</td>\n",
              "      <td>stanley</td>\n",
              "      <td>client</td>\n",
              "      <td>support</td>\n",
              "      <td>fi</td>\n",
              "      <td>assess</td>\n",
              "      <td>properti</td>\n",
              "      <td>strateg</td>\n",
              "      <td>pension</td>\n",
              "      <td>process</td>\n",
              "      <td>page</td>\n",
              "      <td>except</td>\n",
              "      <td>consider</td>\n",
              "      <td>activ</td>\n",
              "      <td>activ</td>\n",
              "      <td>reserv</td>\n",
              "      <td>dividend</td>\n",
              "      <td>provis</td>\n",
              "      <td>expens</td>\n",
              "      <td>joint</td>\n",
              "    </tr>\n",
              "    <tr>\n",
              "      <th>6</th>\n",
              "      <td>home</td>\n",
              "      <td>pension</td>\n",
              "      <td>growth</td>\n",
              "      <td>page</td>\n",
              "      <td>er</td>\n",
              "      <td>level</td>\n",
              "      <td>ordinari</td>\n",
              "      <td>programm</td>\n",
              "      <td>electr</td>\n",
              "      <td>explor</td>\n",
              "      <td>key</td>\n",
              "      <td>respect</td>\n",
              "      <td>charg</td>\n",
              "      <td>research</td>\n",
              "      <td>expect</td>\n",
              "      <td>work</td>\n",
              "      <td>pension</td>\n",
              "      <td>respect</td>\n",
              "      <td>impair</td>\n",
              "      <td>ventur</td>\n",
              "    </tr>\n",
              "    <tr>\n",
              "      <th>7</th>\n",
              "      <td>term</td>\n",
              "      <td>provis</td>\n",
              "      <td>icap</td>\n",
              "      <td>rollsroyc</td>\n",
              "      <td>pr</td>\n",
              "      <td>strategi</td>\n",
              "      <td>nanc</td>\n",
              "      <td>contract</td>\n",
              "      <td>adjust</td>\n",
              "      <td>miner</td>\n",
              "      <td>exchang</td>\n",
              "      <td>goodwil</td>\n",
              "      <td>estim</td>\n",
              "      <td>approv</td>\n",
              "      <td>term</td>\n",
              "      <td>activ</td>\n",
              "      <td>currenc</td>\n",
              "      <td>control</td>\n",
              "      <td>charg</td>\n",
              "      <td>valuat</td>\n",
              "    </tr>\n",
              "    <tr>\n",
              "      <th>8</th>\n",
              "      <td>build</td>\n",
              "      <td>page</td>\n",
              "      <td>impair</td>\n",
              "      <td>exchang</td>\n",
              "      <td>key</td>\n",
              "      <td>hospit</td>\n",
              "      <td>signic</td>\n",
              "      <td>flow</td>\n",
              "      <td>respect</td>\n",
              "      <td>plant</td>\n",
              "      <td>improv</td>\n",
              "      <td>januari</td>\n",
              "      <td>expens</td>\n",
              "      <td>manufactur</td>\n",
              "      <td>rio</td>\n",
              "      <td>drill</td>\n",
              "      <td>charg</td>\n",
              "      <td>grant</td>\n",
              "      <td>item</td>\n",
              "      <td>land</td>\n",
              "    </tr>\n",
              "    <tr>\n",
              "      <th>9</th>\n",
              "      <td>respect</td>\n",
              "      <td>leas</td>\n",
              "      <td>nonexecut</td>\n",
              "      <td>currenc</td>\n",
              "      <td>chief</td>\n",
              "      <td>offic</td>\n",
              "      <td>defer</td>\n",
              "      <td>impact</td>\n",
              "      <td>hedg</td>\n",
              "      <td>estim</td>\n",
              "      <td>adjust</td>\n",
              "      <td>hedg</td>\n",
              "      <td>carri</td>\n",
              "      <td>addit</td>\n",
              "      <td>control</td>\n",
              "      <td>energi</td>\n",
              "      <td>term</td>\n",
              "      <td>measur</td>\n",
              "      <td>april</td>\n",
              "      <td>page</td>\n",
              "    </tr>\n",
              "  </tbody>\n",
              "</table>\n",
              "</div>"
            ],
            "text/plain": [
              "     topic_0   topic_1    topic_2  ...  topic_17  topic_18   topic_19\n",
              "0    project  ordinari       game  ...  contract  ordinari   properti\n",
              "1   contract     charg   intertek  ...      term  wireless  portfolio\n",
              "2       work      june      offic  ...    growth      cabl     retail\n",
              "3  construct   appoint      activ  ...      made    except    strateg\n",
              "4    pension     proof   dividend  ...   appoint      leas       loan\n",
              "5       june   stanley     client  ...    provis    expens      joint\n",
              "6       home   pension     growth  ...   respect    impair     ventur\n",
              "7       term    provis       icap  ...   control     charg     valuat\n",
              "8      build      page     impair  ...     grant      item       land\n",
              "9    respect      leas  nonexecut  ...    measur     april       page\n",
              "\n",
              "[10 rows x 20 columns]"
            ]
          },
          "metadata": {
            "tags": []
          },
          "execution_count": 15
        }
      ]
    },
    {
      "cell_type": "markdown",
      "metadata": {
        "id": "0hmjMC_xOysq"
      },
      "source": [
        "## Show topics distribution for a random document"
      ]
    },
    {
      "cell_type": "code",
      "metadata": {
        "id": "p8bV2orPJiOJ",
        "colab": {
          "base_uri": "https://localhost:8080/",
          "height": 546
        },
        "outputId": "79a44777-7e8a-4fcb-8527-2f07807fcdb7"
      },
      "source": [
        "random_document = training_documents_df.sample(1, random_state = RANDOM_SEED) ['tokenized_document'].squeeze()\n",
        "\n",
        "print(random_document)\n",
        "\n",
        "random_doc_topics_distribution = text_tokens_to_topics_distributions(random_document, lda_model, dictionary)\n",
        "\n",
        "print(random_doc_topics_distribution)\n",
        "\n",
        "fig, ax = plt.subplots(figsize=(12, 6))\n",
        "\n",
        "ax.bar(np.arange(len(random_doc_topics_distribution)), random_doc_topics_distribution)\n",
        "\n",
        "ax.set_xlabel('Topic ID', fontsize=15)\n",
        "\n",
        "ax.set_ylabel('Topic Contribution', fontsize=15)\n",
        "\n",
        "ax.set_title(\"Topic Distribution\", fontsize=20)\n",
        "\n",
        "ax.set_xticks(np.linspace(0, LDA_NUM_TOPICS-1, LDA_NUM_TOPICS))\n",
        "\n",
        "fig.tight_layout()\n",
        "\n",
        "plt.show()"
      ],
      "execution_count": null,
      "outputs": [
        {
          "output_type": "stream",
          "text": [
            "['ul', 'echnolog', 'deliv', 'strategi', 'drive', 'growth', 'old', 'grammar', 'school', 'church', 'road', 'thame', 'ox', 'aj', 'tel', 'fax', 'web', 'email', 'highlight', 'exceed', 'expect', 'deliv', 'higher', 'predict', 'despit', 'difficult', 'condit', 'deliv', 'growth', 'despit', 'uncertain', 'econom', 'environ', 'sluggish', 'hous', 'track', 'record', 'yearonyear', 'conveyanc', 'allianc', 'cal', 'success', 'cal', 'deliv', 'signific', 'growth', 'opportun', 'specif', 'target', 'estat', 'agent', 'mortgag', 'broker', 'support', 'strategi', 'becom', 'lead', 'handler', 'conveyanc', 'widen', 'distribut', 'introduc', 'contract', 'combin', 'cal', 'reduc', 'runrat', 'percentag', 'largest', 'introduc', 'lender', 'solut', 'focu', 'widen', 'offer', 'lender', 'build', 'excel', 'reput', 'win', 'contract', 'leader', 'provis', 'onlin', 'legal', 'ebitda', 'underli', 'underli', 'ul', 'technolog', 'content', 'overview', 'highlight', 'glanc', 'case', 'strateg', 'chairman', 'model', 'strategi', 'chief', 'princip', 'uncertainti', 'independ', 'auditor', 'comprehens', 'sheet', 'flow', 'parent', 'sheet', 'parent', 'parent', 'must', 'read', 'ul', 'technolog', 'page', 'model', 'page', 'strategi', 'page', 'chief', 'page', 'help', 'reduc', 'environment', 'impact', 'opt', 'commun', 'onlin', 'overview', 'strateg', 'glanc', 'vision', 'becom', 'lead', 'technolog', 'comparison', 'solut', 'legal', 'properti', 'sector', 'central', 'uner', 'focu', 'help', 'move', 'home', 'easili', 'costeffect', 'possibl', 'mission', 'help', 'make', 'import', 'lifetim', 'decis', 'best', 'possibl', 'experi', 'feel', 'excel', 'strategi', 'achiev', 'vision', 'clear', 'deliber', 'strategi', 'alway', 'improv', 'consist', 'strive', 'understand', 'exactli', 'partner', 'want', 'deliv', 'innov', 'enabl', 'hold', 'competit', 'advantag', 'firm', 'growth', 'constantli', 'improv', 'tri', 'perfect', 'offer', 'attract', 'exist', 'partner', 'addit', 'forg', 'relationship', 'acquir', 'appropri', 'bring', 'togeth', 'solicitor', 'utilis', 'technolog', 'back', 'excel', 'choic', 'competit', 'qualiti', 'solicitor', 'conveyanc', 'opportun', 'win', 'work', 'upfront', 'distribut', 'channel', 'primarili', 'whitelabel', 'mortgag', 'broker', 'bank', 'build', 'societi', 'comparison', 'websit', 'amongst', 'other', 'allow', 'choic', 'enabl', 'complet', 'mortgag', 'applic', 'effici', 'princip', 'complet', 'conveyanc', 'case', 'associ', 'search', 'id', 'check', 'ebitda', 'underli', 'ebitda', 'underli', 'exclud', 'except', 'item', 'see', 'reconcili', 'page', 'conveyanc', 'instruct', 'conveyanc', 'instruct', 'point', 'choos', 'conveyanc', 'ul', 'platform', 'strong', 'indic', 'futur', 'instruct', 'typic', 'take', 'three', 'four', 'month', 'complet', 'around', 'reach', 'complet', 'conveyanc', 'complet', 'conveyanc', 'complet', 'conveyanc', 'transact', 'mark', 'complet', 'ul', 'platform', 'conveyanc', 'point', 'conveyanc', 'case', 'ul', 'technolog', 'case', 'growth', 'long', 'track', 'record', 'growth', 'plenti', 'scope', 'maintain', 'momentum', 'via', 'organ', 'growth', 'highli', 'turn', 'high', 'percentag', 'allow', 'futur', 'growth', 'whilst', 'still', 'pay', 'dividend', 'progress', 'dividend', 'growth', 'allow', 'pay', 'progress', 'dividend', 'intend', 'pursu', 'dividend', 'independ', 'unlik', 'mani', 'competitor', 'undertak', 'conveyanc', 'allow', 'give', 'independ', 'choic', 'engend', 'feel', 'trust', 'qualiti', 'publish', 'solicitor', 'conveyanc', 'panel', 'proprietari', 'websit', 'sophist', 'background', 'technolog', 'built', 'inhous', 'strategi', 'innov', 'improv', 'ul', 'technolog', 'overview', 'strateg', 'ul', 'technolog', 'ul', 'technolog', 'overview', 'strateg', 'strateg', 'chairman', 'model', 'strategi', 'chief', 'princip', 'uncertainti', 'chairman', 'delight', 'progress', 'shown', 'term', 'growth', 'first', 'larg', 'well', 'good', 'prospect', 'come', 'last', 'grow', 'pipelin', 'prospect', 'bring', 'prospect', 'stream', 'well', 'keen', 'focu', 'maintain', 'highlevel', 'exist', 'introduc', 'allow', 'grow', 'particularli', 'pleas', 'see', 'organ', 'grow', 'transact', 'volum', 'shrank', 'volum', 'term', 'challeng', 'time', 'buytolet', 'regul', 'slow', 'post', 'eu', 'referendum', 'howev', 'less', 'prolong', 'initi', 'fear', 'hous', 'return', 'normal', 'level', 'autumn', 'although', 'longer', 'term', 'lack', 'hous', 'stock', 'still', 'factor', 'launch', 'panel', 'solut', 'lender', 'well', 'contract', 'contract', 'recent', 'gone', 'live', 'excit', 'opportun', 'area', 'final', 'dividend', 'subject', 'approv', 'held', 'juli', 'propos', 'final', 'dividend', 'payabl', 'august', 'regist', 'close', 'juli', 'togeth', 'interim', 'dividend', 'alreadi', 'paid', 'take', 'propos', 'distribut', 'conveyanc', 'allianc', 'hold', 'cal', 'delight', 'cal', 'join', 'singh', 'john', 'phillip', 'done', 'excel', 'job', 'build', 'excel', 'reput', 'open', 'improv', 'welcom', 'cal', 'similar', 'conveyanc', 'unit', 'legal', 'mortgag', 'broker', 'estat', 'agenc', 'channel', 'brand', 'differ', 'maintain', 'sinc', 'cal', 'grow', 'contribut', 'overal', 'trail', 'last', 'nigel', 'hoath', 'founder', 'step', 'posit', 'nonexecut', 'august', 'thank', 'go', 'nigel', 'contribut', 'build', 'outlook', 'prospect', 'hous', 'wider', 'economi', 'remain', 'uncertain', 'brexit', 'two', 'away', 'appear', 'feel', 'get', 'thing', 'fall', 'hous', 'transact', 'last', 'obr', 'modest', 'whatev', 'backdrop', 'hasa', 'good', 'pipelin', 'prospect', 'help', 'exist', 'introduc', 'togrow', 'focus', 'excel', 'experi', 'enhanc', 'anoth', 'bring', 'client', 'cope', 'condit', 'much', 'peopl', 'everyon', 'ask', 'row', 'littl', 'harder', 'delight', 'risen', 'challeng', 'would', 'like', 'thank', 'staff', 'adapt', 'enthusiasm', 'abl', 'hold', 'mean', 'twothird', 'staff', 'hold', 'enabl', 'success', 'team', 'ul', 'look', 'forward', 'come', 'peter', 'opperman', 'nonexecut', 'chairman', 'ul', 'technolog', 'june', 'ul', 'technolog', 'princip', 'complet', 'conveyanc', 'case', 'associ', 'search', 'id', 'check', 'ebitda', 'underli', 'ebitda', 'underli', 'exclud', 'except', 'item', 'see', 'reconcili', 'page', 'peter', 'opperman', 'nonexecut', 'chairman', 'ul', 'technolog', 'overview', 'strateg', 'model', 'bring', 'legal', 'profession', 'togeth', 'via', 'hous', 'comparison', 'deliv', 'system', 'partner', 'solicitor', 'conveyanc', 'firm', 'creat', 'panel', 'compet', 'locat', 'introduc', 'solicitor', 'hous', 'buyer', 'approach', 'mortgag', 'broker', 'intermediari', 'mortgag', 'broker', 'ul', 'platform', 'identifi', 'solicitor', 'undertak', 'conveyanc', 'filter', 'locat', 'user', 'ul', 'platform', 'instruct', 'select', 'solicitor', 'undertak', 'conveyanc', 'solicitor', 'send', 'letter', 'engag', 'hous', 'buyer', 'conveyanc', 'invoic', 'hous', 'buyer', 'complet', 'transact', 'hous', 'buyer', 'pay', 'solicitor', 'typic', 'part', 'transact', 'complet', 'moni', 'solicitor', 'pay', 'fee', 'ul', 'via', 'platform', 'solicitor', 'addit', 'ul', 'platform', 'legal', 'search', 'id', 'check', 'ul', 'remit', 'proport', 'fee', 'mortgag', 'broker', 'intermediari', 'ul', 'technolog', 'creat', 'stakehold', 'introduc', 'solicitor', 'ul', 'aim', 'reduc', 'user', 'creat', 'competit', 'ul', 'choic', 'avail', 'user', 'aggreg', 'broad', 'rang', 'via', 'singl', 'platform', 'ul', 'help', 'make', 'choic', 'ul', 'enabl', 'intermediari', 'offer', 'user', 'broad', 'rang', 'conveyanc', 'wide', 'choic', 'rang', 'locat', 'competit', 'ul', 'enabl', 'intermediari', 'access', 'multipl', 'singl', 'interfac', 'help', 'multipl', 'user', 'one', 'sit', 'ul', 'userfriendli', 'simpl', 'clickthrough', 'interfac', 'design', 'reduc', 'time', 'taken', 'complet', 'process', 'enhanc', 'broker', 'roi', 'ul', 'connect', 'larg', 'pool', 'potenti', 'client', 'via', 'intermediari', 'work', 'flow', 'low', 'ul', 'platform', 'law', 'firm', 'low', 'brand', 'recognit', 'rais', 'profil', 'help', 'attract', 'scope', 'volum', 'reward', 'reach', 'time', 'save', 'save', 'choic', 'overview', 'strateg', 'ul', 'technolog', 'hous', 'transact', 'declin', 'significantli', 'compar', 'previou', 'markedli', 'long', 'term', 'averag', 'level', 'saw', 'two', 'uniqu', 'event', 'firstli', 'hangov', 'rush', 'buytolet', 'landlord', 'complet', 'purchas', 'key', 'stamp', 'duti', 'deadlin', 'secondli', 'summer', 'slow', 'month', 'two', 'eu', 'referendum', 'outcom', 'despit', 'ul', 'momentum', 'grown', 'conveyanc', 'complet', 'driver', 'demand', 'driver', 'demand', 'hous', 'build', 'driver', 'demand', 'hous', 'transact', 'driver', 'demand', 'mortgag', 'lend', 'ul', 'technolog', 'first', 'half', 'start', 'quietli', 'usual', 'case', 'although', 'ul', 'held', 'disproportion', 'exposur', 'buytolet', 'overal', 'activ', 'level', 'somewhat', 'mute', 'rush', 'led', 'stamp', 'duti', 'landlord', 'activ', 'recov', 'spring', 'eu', 'referendum', 'vote', 'point', 'thing', 'becam', 'markedli', 'quieter', 'sort', 'recoveri', 'got', 'underway', 'septemb', 'held', 'steadi', 'overal', 'transact', 'fall', 'look', 'like', 'bigger', 'one', 'point', 'term', 'hous', 'transact', 'saw', 'rise', 'activ', 'first', 'time', 'buyer', 'reduct', 'activ', 'subsequ', 'mover', 'landlord', 'buy', 'properti', 'let', 'ul', 'fairli', 'typic', 'exposur', 'three', 'segment', 'therefor', 'unduli', 'affect', 'movement', 'term', 'produc', 'white', 'paper', 'tackl', 'socal', 'hous', 'crisi', 'paper', 'tenur', 'neutral', 'assist', 'tenant', 'well', 'homeown', 'consensu', 'littl', 'impact', 'certainli', 'short', 'term', 'quit', 'possibl', 'medium', 'longer', 'term', 'one', 'major', 'challeng', 'hous', 'lack', 'subsequ', 'home', 'mover', 'mani', 'homeown', 'find', 'unnecessari', 'expens', 'move', 'rung', 'ladder', 'stamp', 'duti', 'havent', 'help', 'certainli', 'london', 'hinder', 'area', 'peopl', 'move', 'one', 'home', 'anoth', 'reduc', 'hous', 'stock', 'remain', 'record', 'low', 'probabl', 'greatest', 'factor', 'fall', 'hous', 'transact', 'plu', 'side', 'trend', 'revers', 'point', 'howev', 'forese', 'futur', 'hous', 'transact', 'look', 'remain', 'level', 'although', 'obr', 'forecast', 'modest', 'remortgag', 'notic', 'although', 'conveyanc', 'opportun', 'fewer', 'remortgag', 'commerci', 'much', 'reduc', 'compar', 'link', 'home', 'move', 'like', 'higher', 'level', 'much', 'last', 'decad', 'ul', 'explor', 'way', 'becom', 'activ', 'offer', 'upsid', 'potenti', 'final', 'eu', 'referendum', 'like', 'brexit', 'process', 'look', 'uncertain', 'lengthi', 'natur', 'look', 'though', 'initi', 'referendum', 'shock', 'larg', 'worn', 'return', 'normal', 'howev', 'much', 'remain', 'unknown', 'therefor', 'uncertain', 'posit', 'point', 'view', 'firstli', 'hous', 'alreadi', 'low', 'level', 'compar', 'histor', 'norm', 'secondli', 'hous', 'domest', 'main', 'therefor', 'ought', 'remain', 'somewhat', 'immun', 'insul', 'possibl', 'brexit', 'fallout', 'term', 'specif', 'conveyanc', 'ul', 'see', 'improv', 'modernis', 'technolog', 'mortgag', 'conveyanc', 'process', 'remain', 'slow', 'compar', 'technolog', 'advanc', 'give', 'scope', 'potenti', 'disrupt', 'opportun', 'ul', 'conveyanc', 'firm', 'ul', 'hold', 'strong', 'relationship', 'major', 'specialist', 'firm', 'firm', 'grow', 'becom', 'highli', 'effici', 'technolog', 'process', 'therebi', 'complet', 'home', 'move', 'quickli', 'give', 'better', 'experi', 'ul', 'technolog', 'improv', 'experi', 'ensur', 'along', 'conveyanc', 'partner', 'best', 'possibl', 'money', 'experi', 'mean', 'interact', 'chosen', 'solicitor', 'conveyanc', 'firm', 'histor', 'data', 'hmrc', 'forecast', 'obr', 'publish', 'line', 'fy', 'otal', 'ul', 'complet', 'otal', 'properti', 'transact', 'forecast', 'thousand', 'otal', 'ul', 'complet', 'otal', 'overview', 'strateg', 'ul', 'technolog', 'strategi', 'strategi', 'focu', 'improv', 'innov', 'qualiti', 'acquir', 'sector', 'understand', 'conveyanc', 'smaller', 'larger', 'firm', 'firm', 'specialis', 'process', 'volum', 'conveyanc', 'becom', 'effici', 'technolog', 'economi', 'scale', 'backdrop', 'larg', 'firm', 'ever', 'grow', 'feed', 'ul', 'success', 'grow', 'strong', 'relationship', 'mani', 'larg', 'specialist', 'firm', 'procur', 'mani', 'build', 'integr', 'technolog', 'link', 'design', 'make', 'parti', 'involv', 'conveyanc', 'process', 'straightforward', 'possibl', 'journey', 'addit', 'work', 'close', 'partner', 'firm', 'ul', 'commit', 'resourc', 'seek', 'way', 'revolutionis', 'conveyanc', 'particularli', 'improv', 'commun', 'stakehold', 'involv', 'home', 'move', 'process', 'well', 'autom', 'involv', 'interact', 'technolog', 'commun', 'sector', 'improv', 'significantli', 'recent', 'conveyanc', 'area', 'long', 'way', 'go', 'catch', 'ul', 'intend', 'forefront', 'help', 'partner', 'threat', 'fresh', 'competit', 'disrupt', 'newcom', 'addit', 'ul', 'dedic', 'resourc', 'help', 'home', 'mover', 'earlier', 'stage', 'home', 'move', 'process', 'conveyanc', 'well', 'broadli', 'futur', 'organ', 'growth', 'ul', 'strong', 'success', 'loyal', 'partner', 'make', 'conveyanc', 'distribut', 'help', 'partner', 'conveyanc', 'ul', 'grow', 'last', 'success', 'momentum', 'earn', 'right', 'work', 'partner', 'ad', 'growth', 'exist', 'partner', 'ul', 'deliber', 'expand', 'histor', 'strong', 'clear', 'upsid', 'exist', 'exampl', 'much', 'involv', 'procur', 'conveyanc', 'need', 'estat', 'agent', 'tradit', 'estat', 'agent', 'well', 'onlin', 'major', 'hous', 'builder', 'relationship', 'forg', 'inroad', 'conveyanc', 'highli', 'competit', 'centric', 'home', 'last', 'ul', 'least', 'two', 'lender', 'conveyanc', 'contract', 'subsidiari', 'legal', 'eye', 'boost', 'allround', 'conveyanc', 'mortgag', 'lender', 'anoth', 'area', 'ul', 'intend', 'growth', 'last', 'homeown', 'allianc', 'hoa', 'onlin', 'properti', 'portal', 'experienc', 'good', 'growth', 'web', 'traffic', 'sinc', 'found', 'four', 'ago', 'ul', 'success', 'integr', 'embed', 'conveyanc', 'platform', 'estat', 'agenc', 'comparison', 'technolog', 'hoa', 'portal', 'directli', 'digit', 'well', 'import', 'channel', 'ul', 'scalabl', 'degre', 'control', 'longer', 'term', 'futur', 'volum', 'serv', 'directto', 'channel', 'ul', 'tailor', 'launch', 'technolog', 'hous', 'futur', 'beyond', 'simpli', 'conveyanc', 'last', 'ul', 'activ', 'look', 'potenti', 'complementari', 'opportun', 'success', 'acquir', 'conveyanc', 'allianc', 'hold', 'instantli', 'enabl', 'entri', 'estat', 'agenc', 'conveyanc', 'open', 'small', 'mortgag', 'advis', 'conveyanc', 'highli', 'earn', 'enhanc', 'great', 'strateg', 'fit', 'remain', 'activ', 'seek', 'fit', 'opportun', 'exist', 'grow', 'progress', 'today', 'ul', 'technolog', 'cal', 'enabl', 'directli', 'progress', 'clear', 'strategi', 'conveyanc', 'cal', 'complementari', 'ul', 'success', 'come', 'technolog', 'conveyanc', 'solut', 'mortgag', 'intermediari', 'specif', 'smaller', 'firm', 'addit', 'cal', 'success', 'forg', 'good', 'proport', 'growth', 'estat', 'agent', 'conveyanc', 'technolog', 'path', 'deliber', 'want', 'explor', 'grow', 'relationship', 'cal', 'go', 'strength', 'strength', 'excit', 'well', 'work', 'togeth', 'acceler', 'combin', 'success', 'strateg', 'conveyanc', 'allianc', 'complet', 'calendar', 'ul', 'technolog', 'overview', 'strateg', 'chief', 'ul', 'make', 'good', 'progress', 'build', 'clear', 'strategi', 'grow', 'combin', 'organ', 'growth', 'tactic', 'activ', 'ben', 'thompson', 'chief', 'offic', 'overview', 'ul', 'agre', 'would', 'focu', 'part', 'growth', 'strategi', 'build', 'technolog', 'attract', 'conveyanc', 'forg', 'inroad', 'conveyanc', 'tradit', 'would', 'bought', 'conveyanc', 'estat', 'agent', 'acquir', 'directli', 'indirectli', 'assist', 'ul', 'grow', 'overal', 'conveyanc', 'progress', 'well', 'throughout', 'contribut', 'underli', 'growth', 'strateg', 'progress', 'made', 'strong', 'progress', 'last', 'healthi', 'organ', 'growth', 'achiev', 'hous', 'transact', 'fall', 'markedli', 'long', 'term', 'histor', 'averag', 'addit', 'last', 'tough', 'impact', 'landlord', 'buytolet', 'slowdown', 'activ', 'eu', 'referendum', 'ul', 'took', 'stake', 'homeown', 'allianc', 'hoa', 'acquir', 'three', 'five', 'complet', 'ul', 'technolog', 'pleas', 'success', 'tailor', 'embed', 'technolog', 'within', 'hoa', 'websit', 'deliv', 'conveyanc', 'growth', 'last', 'conveyanc', 'contract', 'two', 'mortgag', 'lender', 'effort', 'build', 'complet', 'suit', 'technolog', 'help', 'lender', 'best', 'possibl', 'move', 'experi', 'proposit', 'lender', 'offer', 'legal', 'eye', 'ul', 'acquir', 'ul', 'intend', 'growth', 'lender', 'conveyanc', 'come', 'beyond', 'one', 'ul', 'grow', 'estat', 'agenc', 'conveyanc', 'ul', 'histor', 'involv', 'built', 'two', 'rout', 'offer', 'technolog', 'sell', 'buy', 'home', 'sector', 'via', 'estat', 'agenc', 'comparison', 'technolog', 'access', 'homeown', 'allianc', 'conveyanc', 'allianc', 'ul', 'spent', 'last', 'hone', 'pilot', 'technolog', 'enabl', 'home', 'seller', 'compar', 'tradit', 'onlin', 'estat', 'agent', 'free', 'charg', 'one', 'technolog', 'platform', 'success', 'embed', 'technolog', 'homeown', 'allianc', 'promot', 'onlin', 'via', 'portal', 'promot', 'ul', 'attract', 'wish', 'move', 'hous', 'need', 'help', 'select', 'suitabl', 'conveyanc', 'therebi', 'enabl', 'make', 'inroad', 'directli', 'ul', 'pursu', 'complementari', 'opportun', 'acquir', 'conveyanc', 'allianc', 'hold', 'cal', 'constitut', 'perfect', 'fit', 'ul', 'experienc', 'strong', 'growth', 'small', 'mortgag', 'broker', 'firm', 'wherea', 'ul', 'success', 'grown', 'larger', 'firm', 'cal', 'enjoy', 'compar', 'success', 'partner', 'independ', 'estat', 'agent', 'conveyanc', 'cal', 'therefor', 'second', 'channel', 'ul', 'acquir', 'grow', 'conveyanc', 'estat', 'agenc', 'sector', 'help', 'access', 'breadth', 'choic', 'compar', 'low', 'move', 'home', 'seamlessli', 'possibl', 'tactic', 'cal', 'highli', 'earn', 'enhanc', 'ul', 'enabl', 'deliber', 'strategi', 'grow', 'conveyanc', 'ad', 'exist', 'channel', 'well', 'access', 'one', 'outlook', 'approach', 'knowledg', 'success', 'conveyanc', 'smaller', 'hous', 'transact', 'intend', 'outperform', 'enhanc', 'technolog', 'partner', 'see', 'technolog', 'process', 'need', 'hone', 'improv', 'technolog', 'progress', 'advanc', 'pace', 'commit', 'thing', 'better', 'competitor', 'central', 'influenc', 'think', 'technolog', 'design', 'expect', 'slightli', 'smaller', 'hous', 'term', 'transact', 'strive', 'organ', 'expans', 'lender', 'conveyanc', 'becom', 'involv', 'conveyanc', 'estat', 'agenc', 'sector', 'lot', 'upsid', 'potenti', 'organ', 'growth', 'addit', 'look', 'activ', 'acquir', 'help', 'progress', 'strategi', 'quickli', 'acquir', 'appropri', 'possibl', 'pleas', 'ul', 'grown', 'last', 'look', 'forward', 'expect', 'excit', 'reward', 'ben', 'thompson', 'chief', 'offic', 'ul', 'technolog', 'june', 'conveyanc', 'instruct', 'conveyanc', 'complet', 'ul', 'technolog', 'overview', 'strateg', 'deliv', 'signific', 'growth', 'made', 'sizeabl', 'summari', 'gross', 'margin', 'underli', 'pbt', 'debt', 'pay', 'progress', 'dividend', 'underli', 'ebitda', 'deliv', 'signific', 'growth', 'underli', 'exclud', 'cal', 'backdrop', 'fall', 'hous', 'transact', 'except', 'primarili', 'movement', 'defer', 'consider', 'provis', 'legal', 'eye', 'cal', 'well', 'activ', 'capitalis', 'resourc', 'accord', 'rule', 'capitalis', 'extern', 'resourc', 'clear', 'defin', 'project', 'identifi', 'stream', 'capitalis', 'shown', 'intang', 'amortis', 'expect', 'life', 'howev', 'look', 'impact', 'pure', 'expens', 'type', 'expenditur', 'tabl', 'opposit', 'give', 'closer', 'indic', 'abil', 'rather', 'look', 'underli', 'pbt', 'capitalis', 'resourc', 'amortis', 'capitalis', 'resourc', 'adjust', 'underli', 'pbt', 'project', 'undertaken', 'resourc', 'taken', 'futur', 'addit', 'extern', 'resourc', 'cal', 'spend', 'area', 'capitalis', 'outsourc', 'entir', 'key', 'indic', 'key', 'indic', 'set', 'page', 'underli', 'pbt', 'taxat', 'pbt', 'amortis', 'intang', 'aris', 'except', 'activ', 'adjust', 'expect', 'defer', 'consider', 'except', 'npv', 'adjust', 'defer', 'consider', 'underli', 'pbt', 'underli', 'ebitda', 'underli', 'pbt', 'amortis', 'exclud', 'aris', 'depreci', 'underli', 'ebitda', 'ul', 'technolog', 'dividend', 'paid', 'interim', 'dividend', 'penc', 'propos', 'final', 'dividend', 'penc', 'line', 'aim', 'pay', 'dividend', 'two', 'equal', 'conveyanc', 'allianc', 'hold', 'acquir', 'entir', 'conveyanc', 'allianc', 'hold', 'wholli', 'own', 'subsidiari', 'conveyanc', 'allianc', 'initi', 'consider', 'plu', 'free', 'togeth', 'earnout', 'wholli', 'satisfi', 'debt', 'posit', 'flow', 'made', 'repay', 'term', 'loan', 'clydesdal', 'bank', 'full', 'ahead', 'schedul', 'arrang', 'hsbc', 'facil', 'term', 'loan', 'rcf', 'cal', 'dividend', 'paid', 'leverag', 'despit', 'cal', 'month', 'earlier', 'underli', 'posit', 'turn', 'signific', 'proport', 'expect', 'allow', 'progress', 'dividend', 'still', 'growth', 'opportun', 'exist', 'take', 'debt', 'facil', 'fund', 'growth', 'guidelin', 'maximum', 'leverag', 'one', 'time', 'ebitda', 'well', 'bank', 'coven', 'allow', 'much', 'higher', 'leverag', 'john', 'william', 'overview', 'strateg', 'ul', 'technolog', 'strategi', 'focu', 'improv', 'innov', 'qualiti', 'acquir', 'sector', 'understand', 'ul', 'technolog', 'area', 'potenti', 'impact', 'mitig', 'key', 'introduc', 'contract', 'lloyd', 'bank', 'deliv', 'signific', 'gross', 'margin', 'contract', 'would', 'clearli', 'signific', 'impact', 'scale', 'although', 'part', 'contract', 'widen', 'rout', 'reduc', 'gross', 'margin', 'attribut', 'contract', 'runrat', 'basi', 'addit', 'work', 'close', 'lloyd', 'bank', 'ensur', 'deliv', 'high', 'level', 'constantli', 'enhanc', 'offer', 'recent', 'part', 'lloyd', 'digit', 'world', 'project', 'key', 'panel', 'firm', 'panel', 'solicitor', 'licens', 'conveyanc', 'firm', 'largest', 'firm', 'signific', 'percentag', 'work', 'major', 'panel', 'firm', 'could', 'impact', 'abil', 'fulfil', 'order', 'could', 'reduc', 'competit', 'constantli', 'monitor', 'panel', 'firm', 'capac', 'look', 'bring', 'firm', 'across', 'rang', 'size', 'maintain', 'suffici', 'capac', 'within', 'model', 'keep', 'competit', 'level', 'keep', 'qualiti', 'high', 'macroeconom', 'condit', 'close', 'link', 'transact', 'hous', 'hous', 'gdp', 'growth', 'wider', 'econom', 'factor', 'posit', 'neg', 'impact', 'hous', 'transact', 'widen', 'distribut', 'channel', 'introduc', 'well', 'mean', 'sole', 'reliant', 'growth', 'growth', 'addit', 'spread', 'reduc', 'specif', 'area', 'recent', 'buytolet', 'demonstr', 'grow', 'fall', 'look', 'innov', 'commerci', 'success', 'gather', 'obtain', 'research', 'prior', 'launch', 'initi', 'competit', 'competitor', 'vari', 'size', 'across', 'competit', 'alway', 'other', 'gain', 'competit', 'edg', 'either', 'make', 'difficult', 'win', 'andor', 'retain', 'exist', 'focus', 'improv', 'innov', 'qualiti', 'order', 'maintain', 'competit', 'advantag', 'exist', 'introduc', 'much', 'potenti', 'one', 'addit', 'still', 'hold', 'rel', 'small', 'percentag', 'plenti', 'scope', 'growth', 'opportun', 'within', 'competitor', 'illustr', 'recent', 'cal', 'system', 'depend', 'system', 'abl', 'comput', 'system', 'inher', 'open', 'failur', 'secur', 'breach', 'could', 'impact', 'abil', 'abl', 'seriou', 'failur', 'could', 'ensur', 'antiviru', 'softwar', 'kept', 'uptod', 'regular', 'penetr', 'test', 'main', 'server', 'locat', 'offsit', 'dual', 'locat', 'enabl', 'immedi', 'failov', 'event', 'server', 'becom', 'unavail', 'one', 'locat', 'made', 'make', 'inher', 'riski', 'pay', 'achiev', 'expect', 'synergi', 'impact', 'exist', 'due', 'distract', 'strategi', 'acquir', 'sector', 'understand', 'undertak', 'proper', 'due', 'dilig', 'resourc', 'suffici', 'made', 'maintain', 'exceed', 'paid', 'princip', 'uncertainti', 'overview', 'strateg', 'ul', 'technolog', 'peter', 'opperman', 'nonexecut', 'chairman', 'peter', 'join', 'januari', 'point', 'lloyd', 'ldc', 'peter', 'spent', 'nonexecut', 'role', 'work', 'privat', 'back', 'peter', 'nonexecut', 'chairman', 'decis', 'technolog', 'connect', 'ben', 'thompson', 'chief', 'offic', 'ben', 'sinc', 'join', 'ul', 'technolog', 'assum', 'role', 'chief', 'offic', 'novemb', 'prior', 'appoint', 'legal', 'ran', 'marketlead', 'mortgag', 'distribut', 'well', 'bank', 'divis', 'ben', 'previous', 'held', 'role', 'st', 'jamess', 'place', 'winterthur', 'life', 'tsb', 'career', 'recent', 'focus', 'mortgag', 'howev', 'ben', 'good', 'experi', 'retail', 'privat', 'bank', 'well', 'wealth', 'experi', 'residenti', 'properti', 'particular', 'estat', 'agenc', 'john', 'william', 'john', 'join', 'januari', 'point', 'ldc', 'prior', 'join', 'john', 'fm', 'privat', 'back', 'saa', 'specialis', 'document', 'led', 'merger', 'process', 'take', 'lead', 'success', 'merg', 'entiti', 'john', 'charter', 'qualifi', 'ernst', 'young', 'gain', 'bluechip', 'experi', 'motorola', 'role', 'ul', 'technolog', 'andrew', 'weston', 'cofound', 'andrew', 'cofound', 'ul', 'start', 'career', 'implement', 'softwar', 'solut', 'pe', 'vintner', 'comput', 'system', 'found', 'weston', 'comput', 'weston', 'technolog', 'andrew', 'spent', 'last', 'build', 'properti', 'legal', 'applic', 'cofound', 'ltd', 'part', 'ul', 'geoff', 'wick', 'independ', 'nonexecut', 'geoff', 'wick', 'ceo', 'nbt', 'specialist', 'onlin', 'brand', 'protect', 'digit', 'led', 'hgcapit', 'remain', 'part', 'nbt', 'renam', 'netnam', 'nonexecut', 'geoff', 'spent', 'much', 'earlier', 'career', 'reuter', 'head', 'divis', 'franc', 'nordic', 'region', 'latterli', 'commun', 'prior', 'reuter', 'geoff', 'work', 'bank', 'insur', 'industri', 'ul', 'technolog', 'overview', 'strateg', 'present', 'ul', 'princip', 'activ', 'act', 'hold', 'three', 'subsidiari', 'subsidiari', 'main', 'subsidiari', 'unit', 'legal', 'softwar', 'support', 'provis', 'onlin', 'legal', 'comparison', 'particularli', 'conveyanc', 'sector', 'disrupt', 'technolog', 'creat', 'competit', 'amongst', 'legal', 'consum', 'conveyanc', 'allianc', 'similar', 'fashion', 'complianc', 'solicitor', 'licens', 'conveyanc', 'unit', 'home', 'host', 'web', 'system', 'properti', 'energi', 'certif', 'epc', 'commerci', 'proposit', 'estat', 'agenc', 'comparison', 'immateri', 'futur', 'futur', 'outlin', 'chairman', 'page', 'chief', 'page', 'dividend', 'final', 'dividend', 'respect', 'penc', 'paid', 'august', 'interim', 'dividend', 'penc', 'paid', 'final', 'dividend', 'penc', 'propos', 'subject', 'approv', 'agm', 'benefici', 'ordinari', 'set', 'ordinari', 'nigel', 'hoath', 'peter', 'opperman', 'andrew', 'weston', 'john', 'william', 'ben', 'thompson', 'geoffrey', 'wick', 'tabl', 'set', 'analysi', 'pretax', 'individu', 'held', 'offic', 'salaryfe', 'bonus', 'kind', 'sharebas', 'nigel', 'hoath', 'peter', 'opperman', 'andrew', 'weston', 'john', 'william', 'ben', 'thompson', 'geoffrey', 'wick', 'nigel', 'hoath', 'resign', 'august', 'ul', 'technolog', 'warrant', 'sharebas', 'repres', 'sharebas', 'expens', 'prior', 'tabl', 'compris', 'held', 'held', 'offic', 'held', 'grant', 'exercis', 'held', 'exercis', 'exercis', 'exercis', 'john', 'william', 'john', 'william', 'ben', 'thompson', 'ben', 'thompson', 'ben', 'thompson', 'andrew', 'weston', 'involv', 'place', 'consider', 'involv', 'keep', 'matter', 'affect', 'variou', 'factor', 'affect', 'achiev', 'discuss', 'well', 'regular', 'town', 'hall', 'emi', 'well', 'shown', 'held', 'signific', 'substanti', 'notifi', 'cent', 'kestrel', 'partner', 'llp', 'schroder', 'nigel', 'hoath', 'citi', 'ltd', 'herald', 'ltd', 'lombard', 'odier', 'europ', 'ltd', 'unicorn', 'ltd', 'peter', 'opperman', 'octopu', 'ltd', 'artemi', 'llp', 'nigel', 'hoath', 'nonexecut', 'resign', 'august', 'peter', 'opperman', 'nonexecut', 'research', 'softwar', 'inhous', 'cal', 'extern', 'capitalis', 'line', 'shown', 'page', 'instrument', 'expos', 'varieti', 'liquid', 'credit', 'detail', 'instrument', 'ul', 'contain', 'page', 'ul', 'technolog', 'subsidiari', 'commit', 'high', 'standard', 'import', 'sound', 'confirm', 'aim', 'compli', 'best', 'practic', 'appropri', 'natur', 'scale', 'chair', 'peter', 'opperman', 'geoff', 'wick', 'least', 'twice', 'invit', 'attend', 'wide', 'rang', 'matter', 'half', 'submiss', 'monitor', 'control', 'forc', 'ensur', 'integr', 'ul', 'technolog', 'overview', 'strateg', 'chair', 'geoff', 'wick', 'peter', 'opperman', 'least', 'twice', 'permit', 'particip', 'discuss', 'decis', 'concern', 'set', 'scale', 'structur', 'basi', 'term', 'agreement', 'due', 'regard', 'determin', 'seek', 'enabl', 'attract', 'retain', 'staff', 'highest', 'calibr', 'make', 'recommend', 'concern', 'alloc', 'nomin', 'nomin', 'chair', 'peter', 'opperman', 'geoff', 'wick', 'least', 'twice', 'size', 'structur', 'composit', 'success', 'appoint', 'andor', 'replac', 'addit', 'make', 'appropri', 'recommend', 'deal', 'code', 'adopt', 'deal', 'code', 'applic', 'purpos', 'ensur', 'complianc', 'person', 'provis', 'aim', 'rule', 'deal', 'secur', 'particular', 'rule', 'aim', 'rule', 'consid', 'deal', 'code', 'appropri', 'whose', 'admit', 'aim', 'take', 'proper', 'step', 'ensur', 'complianc', 'applic', 'term', 'deal', 'code', 'relev', 'provis', 'aim', 'rule', 'rule', 'websit', 'public', 'ensur', 'made', 'avail', 'websit', 'publish', 'websit', 'accord', 'legisl', 'unit', 'kingdom', 'prepar', 'dissemin', 'vari', 'legisl', 'jurisdict', 'mainten', 'integr', 'websit', 'extend', 'ongo', 'integr', 'contain', 'therein', 'disclosur', 'auditor', 'confirm', 'far', 'awar', 'relev', 'auditor', 'unawar', 'taken', 'step', 'ought', 'taken', 'make', 'awar', 'relev', 'establish', 'auditor', 'awar', 'prepar', 'strateg', 'accord', 'applic', 'law', 'regul', 'law', 'prepar', 'law', 'prepar', 'accord', 'standard', 'ifrss', 'adopt', 'european', 'union', 'parent', 'accord', 'unit', 'kingdom', 'accept', 'practic', 'standard', 'applic', 'law', 'law', 'must', 'approv', 'unless', 'satisfi', 'give', 'true', 'view', 'state', 'affair', 'prepar', 'select', 'suitabl', 'appli', 'consist', 'make', 'judgment', 'estim', 'reason', 'prudent', 'state', 'whether', 'applic', 'ifrss', 'standard', 'subject', 'materi', 'departur', 'disclos', 'explain', 'prepar', 'go', 'concern', 'basi', 'unless', 'inappropri', 'presum', 'keep', 'adequ', 'record', 'suffici', 'show', 'explain', 'transact', 'disclos', 'reason', 'accuraci', 'time', 'posit', 'enabl', 'ensur', 'compli', 'act', 'safeguard', 'henc', 'take', 'reason', 'step', 'prevent', 'detect', 'fraud', 'irregular', 'auditor', 'grant', 'thornton', 'llp', 'appoint', 'auditor', 'ul', 'technolog', 'resolut', 'reappoint', 'auditor', 'authoris', 'agre', 'place', 'forthcom', 'approv', 'sign', 'behalf', 'ben', 'thompson', 'ceo', 'ul', 'technolog', 'john', 'william', 'ul', 'technolog', 'june', 'ul', 'technolog', 'ul', 'technolog', 'compris', 'comprehens', 'sheet', 'flow', 'parent', 'sheet', 'parent', 'framework', 'appli', 'prepar', 'applic', 'law', 'standard', 'ifrss', 'adopt', 'european', 'union', 'framework', 'appli', 'prepar', 'parent', 'applic', 'law', 'unit', 'kingdom', 'standard', 'unit', 'kingdom', 'accept', 'practic', 'standard', 'reduc', 'disclosur', 'framework', 'made', 'sole', 'member', 'bodi', 'accord', 'chapter', 'part', 'act', 'work', 'undertaken', 'might', 'state', 'member', 'matter', 'state', 'auditor', 'purpos', 'fullest', 'extent', 'permit', 'law', 'accept', 'assum', 'anyon', 'member', 'bodi', 'work', 'opinion', 'form', 'respect', 'auditor', 'explain', 'fulli', 'set', 'page', 'prepar', 'satisfi', 'give', 'true', 'view', 'express', 'opinion', 'accord', 'applic', 'law', 'standard', 'ireland', 'standard', 'compli', 'practic', 'ethic', 'standard', 'auditor', 'scope', 'descript', 'scope', 'council', 'websit', 'opinion', 'opinion', 'give', 'true', 'view', 'state', 'parent', 'affair', 'properli', 'prepar', 'accord', 'ifrss', 'adopt', 'european', 'union', 'parent', 'properli', 'prepar', 'accord', 'unit', 'kingdom', 'accept', 'practic', 'prepar', 'accord', 'act', 'regard', 'articl', 'ia', 'regul', 'opinion', 'matter', 'prescrib', 'act', 'opinion', 'given', 'strateg', 'prepar', 'consist', 'strateg', 'prepar', 'accord', 'applic', 'legal', 'matter', 'act', 'light', 'knowledg', 'understand', 'environ', 'obtain', 'cours', 'identifi', 'materi', 'misstat', 'strateg', 'matter', 'except', 'noth', 'respect', 'matter', 'act', 'opinion', 'adequ', 'record', 'kept', 'parent', 'return', 'adequ', 'branch', 'visit', 'parent', 'part', 'agreement', 'record', 'return', 'certain', 'disclosur', 'specifi', 'law', 'made', 'explan', 'tracey', 'jame', 'senior', 'statutori', 'auditor', 'behalf', 'grant', 'thornton', 'llp', 'statutori', 'auditor', 'charter', 'oxford', 'june', 'independ', 'auditor', 'member', 'ul', 'technolog', 'ul', 'technolog', 'overview', 'strateg', 'ul', 'technolog', 'gross', 'administr', 'expens', 'except', 'expens', 'except', 'admin', 'expens', 'except', 'expens', 'attribut', 'earn', 'basic', 'earn', 'dilut', 'earn', 'overview', 'strateg', 'ul', 'technolog', 'comprehens', 'comprehens', 'attribut', 'owner', 'parent', 'ul', 'technolog', 'sheet', 'noncurr', 'intang', 'goodwil', 'af', 'associ', 'properti', 'plant', 'equip', 'longterm', 'prepay', 'inventori', 'equival', 'reserv', 'attribut', 'premium', 'redempt', 'reserv', 'reserv', 'retain', 'earn', 'noncurr', 'borrow', 'defer', 'consider', 'defer', 'taxat', 'payabl', 'borrow', 'payabl', 'approv', 'june', 'sign', 'behalf', 'ben', 'thompson', 'john', 'william', 'chief', 'offic', 'ul', 'technolog', 'ul', 'technolog', 'overview', 'strateg', 'ul', 'technolog', 'premium', 'redempt', 'reserv', 'reserv', 'retain', 'earn', 'april', 'comprehens', 'sharebas', 'dividend', 'transact', 'owner', 'april', 'comprehens', 'exercis', 'sharebas', 'dividend', 'transact', 'owner', 'ul', 'technolog', 'flow', 'flow', 'activ', 'dispos', 'plant', 'equip', 'associ', 'amortis', 'depreci', 'sharebas', 'paid', 'work', 'decreas', 'inventori', 'decreas', 'payabl', 'inflow', 'activ', 'flow', 'activ', 'purchas', 'intang', 'softwar', 'purchas', 'properti', 'plant', 'equip', 'dispos', 'properti', 'plant', 'equip', 'subsidiari', 'acquir', 'defer', 'consider', 'activ', 'flow', 'activ', 'proce', 'dividend', 'paid', 'paid', 'loan', 'repay', 'loan', 'activ', 'decreas', 'equival', 'equival', 'begin', 'equival', 'overview', 'strateg', 'ul', 'technolog', 'princip', 'basi', 'prepar', 'ul', 'technolog', 'subsidiari', 'togeth', 'prepar', 'accord', 'standard', 'ifr', 'adopt', 'eu', 'ifric', 'interpret', 'part', 'act', 'applic', 'ifr', 'ifr', 'subject', 'amend', 'interpret', 'standard', 'iasb', 'ifr', 'interpret', 'ongo', 'process', 'endors', 'european', 'commiss', 'compli', 'ifr', 'mandatori', 'prepar', 'histor', 'convent', 'princip', 'set', 'consist', 'appli', 'present', 'basi', 'incorpor', 'ul', 'technolog', 'entiti', 'control', 'subsidiari', 'control', 'achiev', 'power', 'investe', 'entiti', 'obtain', 'activ', 'abil', 'power', 'investe', 'affect', 'return', 'investe', 'expens', 'subsidiari', 'acquir', 'dispos', 'dispos', 'appropri', 'necessari', 'adjust', 'made', 'subsidiari', 'bring', 'line', 'intragroup', 'transact', 'expens', 'elimin', 'full', 'combin', 'parent', 'subsidiari', 'except', 'conveyanc', 'allianc', 'hold', 'subsidiari', 'conveyanc', 'allianc', 'although', 'sinc', 'come', 'appli', 'method', 'combin', 'consider', 'transfer', 'subsidiari', 'transfer', 'incur', 'identifi', 'acquir', 'conting', 'assum', 'combin', 'measur', 'initi', 'transact', 'elimin', 'unrealis', 'gain', 'transact', 'subsidiari', 'adjust', 'necessari', 'ensur', 'consist', 'adopt', 'comprehens', 'subsidiari', 'acquir', 'dispos', 'dispos', 'applic', 'acquisitionrel', 'expens', 'incur', 'associ', 'associ', 'entiti', 'signific', 'influenc', 'neither', 'subsidiari', 'joint', 'ventur', 'signific', 'influenc', 'power', 'particip', 'decis', 'investe', 'control', 'joint', 'control', 'posttax', 'associ', 'incorpor', 'method', 'method', 'associ', 'carri', 'sheet', 'adjust', 'postacquisit', 'associ', 'less', 'impair', 'associ', 'excess', 'associ', 'addit', 'extent', 'incur', 'legal', 'construct', 'oblig', 'made', 'behalf', 'joint', 'ventur', 'associ', 'ul', 'technolog', 'princip', 'recognit', 'repres', 'sell', 'exclus', 'ad', 'point', 'fulfil', 'contractu', 'oblig', 'consid', 'complet', 'legal', 'typic', 'conveyanc', 'transact', 'complet', 'properti', 'transact', 'transact', 'fall', 'prior', 'complet', 'pay', 'proport', 'fee', 'ul', 'complet', 'conveyanc', 'transact', 'remit', 'third', 'parti', 'mortgag', 'broker', 'intermediari', 'bear', 'credit', 'deliv', 'set', 'segment', 'segment', 'compon', 'entiti', 'engag', 'activ', 'earn', 'incur', 'expens', 'expens', 'transact', 'compon', 'entiti', 'whose', 'regularli', 'entiti', 'chief', 'decis', 'maker', 'make', 'decis', 'resourc', 'alloc', 'segment', 'assess', 'discret', 'avail', 'chief', 'decis', 'maker', 'identifi', 'level', 'strateg', 'decis', 'made', 'detail', 'segment', 'expens', 'expens', 'upon', 'utilis', 'incur', 'except', 'expens', 'nonrecur', 'natur', 'materi', 'size', 'item', 'classifi', 'except', 'aid', 'understand', 'underli', 'method', 'calcul', 'amortis', 'alloc', 'expens', 'relev', 'exactli', 'discount', 'estim', 'futur', 'receipt', 'expect', 'life', 'carri', 'goodwil', 'goodwil', 'repres', 'futur', 'econom', 'aris', 'combin', 'individu', 'identifi', 'separ', 'goodwil', 'aris', 'carri', 'establish', 'less', 'accumul', 'impair', 'intang', 'capitalis', 'expenditur', 'internallygener', 'intang', 'aris', 'expenditur', 'criteria', 'demonstr', 'technic', 'feasibl', 'complet', 'intang', 'avail', 'intent', 'complet', 'intang', 'sell', 'abil', 'sell', 'intang', 'intang', 'probabl', 'futur', 'econom', 'avail', 'adequ', 'technic', 'resourc', 'complet', 'sell', 'intang', 'abil', 'measur', 'reliabl', 'expenditur', 'attribut', 'intang', 'initi', 'internallygener', 'intang', 'sum', 'expenditur', 'incur', 'intang', 'first', 'recognit', 'criteria', 'list', 'internallygener', 'intang', 'expenditur', 'expens', 'incur', 'overview', 'strateg', 'ul', 'technolog', 'amortis', 'calcul', 'write', 'residu', 'estim', 'life', 'expenditur', 'straight', 'line', 'brand', 'name', 'list', 'brand', 'name', 'list', 'acquir', 'combin', 'qualifi', 'separ', 'recognit', 'intang', 'amortis', 'calcul', 'write', 'straight', 'line', 'basi', 'residu', 'estim', 'life', 'supplier', 'relationship', 'brand', 'name', 'acquir', 'technolog', 'platform', 'properti', 'plant', 'equip', 'properti', 'plant', 'equip', 'state', 'histor', 'less', 'accumul', 'depreci', 'less', 'impair', 'expenditur', 'directli', 'attribut', 'construct', 'item', 'subsequ', 'carri', 'probabl', 'futur', 'econom', 'associ', 'item', 'flow', 'measur', 'reliabl', 'repair', 'mainten', 'charg', 'incur', 'depreci', 'properti', 'plant', 'equip', 'calcul', 'straightlin', 'basi', 'leasehold', 'improv', 'life', 'leas', 'comput', 'equip', 'fixtur', 'fit', 'depreci', 'less', 'residu', 'life', 'residu', 'depreci', 'method', 'live', 'reassess', 'estim', 'life', 'assess', 'regard', 'physic', 'life', 'possibl', 'futur', 'variat', 'assess', 'estim', 'remain', 'live', 'made', 'regular', 'basi', 'equip', 'reassess', 'major', 'item', 'estim', 'gain', 'aris', 'dispos', 'scrap', 'determin', 'differ', 'proce', 'sell', 'carri', 'impair', 'noncurr', 'goodwil', 'purpos', 'impair', 'test', 'goodwil', 'alloc', 'cashgener', 'unit', 'unit', 'expect', 'synergi', 'combin', 'unit', 'goodwil', 'alloc', 'repres', 'lowest', 'level', 'within', 'entiti', 'goodwil', 'monitor', 'purpos', 'goodwil', 'monitor', 'segment', 'level', 'cashgener', 'unit', 'goodwil', 'alloc', 'test', 'impair', 'frequent', 'indic', 'unit', 'impair', 'sheet', 'carri', 'tangibl', 'intang', 'goodwil', 'determin', 'whether', 'indic', 'impair', 'indic', 'exist', 'recover', 'estim', 'order', 'determin', 'extent', 'impair', 'flow', 'independ', 'estim', 'recover', 'cashgener', 'unit', 'belong', 'recover', 'higher', 'less', 'sell', 'assess', 'estim', 'futur', 'flow', 'discount', 'present', 'pretax', 'discount', 'reflect', 'assess', 'time', 'money', 'specif', 'estim', 'futur', 'flow', 'adjust', 'ul', 'technolog', 'princip', 'impair', 'noncurr', 'goodwil', 'recover', 'cashgener', 'unit', 'estim', 'less', 'carri', 'carri', 'cashgener', 'unit', 'reduc', 'recover', 'recover', 'cashgener', 'unit', 'less', 'carri', 'impair', 'alloc', 'first', 'reduc', 'carri', 'goodwil', 'alloc', 'unit', 'unit', 'pro', 'rata', 'carri', 'unit', 'impair', 'expens', 'immedi', 'impair', 'goodwil', 'revers', 'subsequ', 'impair', 'subsequ', 'revers', 'carri', 'cashgener', 'unit', 'revis', 'estim', 'recover', 'carri', 'exceed', 'carri', 'would', 'determin', 'impair', 'cashgener', 'unit', 'prior', 'revers', 'impair', 'immedi', 'inventori', 'work', 'progress', 'basi', 'direct', 'attribut', 'job', 'complet', 'equival', 'equival', 'compris', 'hand', 'deposit', 'held', 'call', 'bank', 'shortterm', 'highli', 'liquid', 'origin', 'matur', 'three', 'month', 'less', 'instrument', 'becom', 'parti', 'contractu', 'provis', 'instrument', 'measur', 'initi', 'plu', 'transact', 'measur', 'subsequ', 'describ', 'classifi', 'loan', 'avail', 'af', 'assess', 'sheet', 'whether', 'object', 'evid', 'impair', 'loan', 'loan', 'nonderiv', 'fix', 'determin', 'quot', 'activ', 'except', 'matur', 'greater', 'month', 'sheet', 'classifi', 'noncurr', 'loan', 'classifi', 'sheet', 'initi', 'subsequ', 'measur', 'amortis', 'method', 'less', 'provis', 'impair', 'provis', 'impair', 'establish', 'object', 'evid', 'abl', 'collect', 'due', 'accord', 'origin', 'term', 'signific', 'difficulti', 'high', 'probabl', 'bankruptci', 'reorganis', 'default', 'consid', 'indic', 'impair', 'provis', 'differ', 'carri', 'present', 'estim', 'futur', 'flow', 'discount', 'origin', 'uncollect', 'written', 'allow', 'subsequ', 'recoveri', 'previous', 'written', 'credit', 'derecognis', 'contractu', 'right', 'flow', 'expir', 'substanti', 'reward', 'transfer', 'af', 'af', 'nonderiv', 'either', 'design', 'categori', 'qualifi', 'inclus', 'categori', 'af', 'eye', 'eye', 'measur', 'less', 'impair', 'charg', 'estim', 'reliabl', 'impair', 'charg', 'overview', 'strateg', 'ul', 'technolog', 'payabl', 'borrow', 'conting', 'consider', 'payabl', 'borrow', 'initi', 'subsequ', 'measur', 'amortis', 'method', 'conting', 'consider', 'measur', 'movement', 'derecognis', 'extinguish', 'discharg', 'cancel', 'expir', 'taxat', 'taxat', 'taxabl', 'entiti', 'taxabl', 'statutori', 'enact', 'substant', 'enact', 'sheet', 'adjust', 'payabl', 'recover', 'respect', 'previou', 'defer', 'taxat', 'defer', 'taxat', 'calcul', 'method', 'temporari', 'differ', 'aris', 'carri', 'howev', 'defer', 'aris', 'initi', 'recognit', 'transact', 'combin', 'time', 'transact', 'affect', 'neither', 'taxabl', 'defer', 'determin', 'law', 'enact', 'substant', 'enact', 'sheet', 'expect', 'appli', 'defer', 'defer', 'settl', 'defer', 'full', 'defer', 'extent', 'probabl', 'futur', 'taxabl', 'avail', 'temporari', 'differ', 'utilis', 'defer', 'compon', 'expens', 'except', 'item', 'charg', 'credit', 'directli', 'comprehens', 'case', 'defer', 'charg', 'credit', 'directli', 'comprehens', 'defer', 'offset', 'legal', 'enforc', 'right', 'offset', 'defer', 'levi', 'taxat', 'author', 'either', 'taxabl', 'entiti', 'differ', 'taxabl', 'entiti', 'intent', 'settl', 'basi', 'employ', 'provis', 'made', 'wage', 'salari', 'nonmonetari', 'leav', 'oblig', 'settl', 'within', 'month', 'sheet', 'accrual', 'contribut', 'defin', 'contribut', 'pension', 'charg', 'contribut', 'leas', 'leas', 'expens', 'straightlin', 'basi', 'leas', 'term', 'ul', 'technolog', 'princip', 'reserv', 'reserv', 'compris', 'repres', 'subscrib', 'nomin', 'premium', 'repres', 'subscrib', 'excess', 'nominalvalu', 'redempt', 'reserv', 'repres', 'nomin', 'repurchas', 'reserv', 'repres', 'accumul', 'sharebas', 'expens', 'retain', 'earn', 'repres', 'accumul', 'attribut', 'sharebas', 'none', 'settl', 'reward', 'sharebas', 'determin', 'indirectli', 'refer', 'instrument', 'grant', 'apprais', 'grant', 'black', 'sharebas', 'ultim', 'expens', 'correspond', 'credit', 'retain', 'earn', 'expens', 'alloc', 'vest', 'point', 'exercis', 'vest', 'expect', 'becom', 'exercis', 'subsequ', 'revis', 'give', 'rise', 'adjust', 'cumul', 'sharebas', 'compens', 'vest', 'ultim', 'exercis', 'holder', 'impact', 'expens', 'record', 'upon', 'exercis', 'proce', 'directli', 'attribut', 'transact', 'alloc', 'nomin', 'par', 'excess', 'record', 'premium', 'conting', 'outflow', 'econom', 'resourc', 'present', 'oblig', 'probabl', 'situat', 'disclos', 'conting', 'unless', 'outflow', 'resourc', 'remot', 'amend', 'standard', 'adopt', 'standard', 'amend', 'standard', 'interpret', 'first', 'time', 'applic', 'materi', 'standard', 'yet', 'authoris', 'iasb', 'ifr', 'interpret', 'standard', 'interpret', 'amend', 'applic', 'whilst', 'standard', 'interpret', 'appli', 'prepar', 'impact', 'go', 'forward', 'newrevis', 'standard', 'begin', 'eu', 'adopt', 'impact', 'ifr', 'instrument', 'classif', 'measur', 'januari', 'ye', 'materi', 'impact', 'ifr', 'contract', 'januari', 'ye', 'materi', 'impact', 'ifr', 'leas', 'januari', 'leas', 'capitalis', 'sheet', 'overview', 'strateg', 'ul', 'technolog', 'critic', 'judgement', 'key', 'sourc', 'estim', 'uncertainti', 'prepar', 'conform', 'accept', 'practic', 'make', 'estim', 'judgement', 'affect', 'well', 'disclosur', 'conting', 'sheet', 'expens', 'estim', 'judgement', 'evalu', 'histor', 'experi', 'factor', 'expect', 'futur', 'event', 'believ', 'reason', 'circumst', 'estim', 'signific', 'estim', 'appli', 'signific', 'intang', 'acquir', 'combin', 'determin', 'intang', 'acquir', 'combin', 'estim', 'specialist', 'valuat', 'behalf', 'suppli', 'order', 'determin', 'appropri', 'model', 'techniqu', 'impair', 'assess', 'life', 'intang', 'determin', 'definit', 'indefinit', 'econom', 'life', 'exercis', 'judgement', 'directli', 'affect', 'amortis', 'charg', 'test', 'whether', 'indic', 'impair', 'discount', 'flow', 'assess', 'recover', 'unit', 'estim', 'made', 'appropri', 'method', 'valuat', 'intang', 'clear', 'valuat', 'techniqu', 'determin', 'assumpt', 'estim', 'made', 'live', 'depreci', 'estim', 'live', 'depreci', 'expect', 'util', 'uncertainti', 'estim', 'technolog', 'obsolesc', 'util', 'certain', 'softwar', 'equip', 'conting', 'consider', 'aris', 'combin', 'conting', 'consider', 'payabl', 'futur', 'former', 'likelihood', 'ultim', 'payabl', 'matter', 'judgement', 'conting', 'consider', 'occur', 'circumst', 'element', 'consider', 'acquir', 'determin', 'upon', 'one', 'criteria', 'achiev', 'futur', 'commonli', 'appli', 'achiev', 'forecast', 'defin', 'consider', 'payabl', 'achiev', 'underperform', 'target', 'credit', 'back', 'judgement', 'signific', 'judgement', 'appli', 'signific', 'capitalis', 'expenditur', 'appli', 'judgement', 'determin', 'whether', 'research', 'project', 'qualifi', 'criteria', 'set', 'ia', 'capitalis', 'expenditur', 'intang', 'particular', 'uncertainti', 'judgment', 'centr', 'around', 'whether', 'project', 'commerci', 'success', 'particularli', 'prerevenu', 'phase', 'ul', 'technolog', 'segment', 'segment', 'identifi', 'segment', 'line', 'repres', 'main', 'three', 'main', 'segment', 'comparison', 'complianc', 'consult', 'legal', 'sector', 'segment', 'head', 'offic', 'function', 'interseg', 'indebted', 'exclud', 'arriv', 'segment', 'item', 'goodwil', 'intang', 'sit', 'within', 'comparison', 'complianc', 'contribut', 'state', 'charg', 'fee', 'payabl', 'auditor', 'fee', 'payabl', 'auditor', 'associ', 'subsidiari', 'complianc', 'amortis', 'depreci', 'leas', 'rental', 'payabl', 'offic', 'equip', 'overview', 'strateg', 'ul', 'technolog', 'except', 'administr', 'expens', 'expens', 'adjust', 'expect', 'defer', 'consider', 'aggreg', 'payrol', 'staff', 'wage', 'salari', 'social', 'secur', 'pension', 'averag', 'monthli', 'person', 'employ', 'activ', 'distribut', 'administr', 'emolu', 'qualifi', 'pension', 'contribut', 'social', 'secur', 'highest', 'paid', 'highest', 'paid', 'shown', 'page', 'breakdown', 'emolu', 'found', 'page', 'key', 'personnel', 'identifi', 'ul', 'technolog', 'see', 'page', 'exercis', 'pension', 'contribut', 'made', 'behalf', 'see', 'page', 'bank', 'borrow', 'except', 'npv', 'adjust', 'defer', 'consider', 'taxat', 'analysi', 'credit', 'unit', 'kingdom', 'defer', 'unit', 'kingdom', 'origin', 'revers', 'temporari', 'differ', 'charg', 'differ', 'explain', 'expect', 'expens', 'adjust', 'prior', 'adjust', 'adjust', 'addit', 'relief', 'adjust', 'nondeduct', 'expens', 'expens', 'deduct', 'purpos', 'perman', 'differ', 'charg', 'overview', 'strateg', 'ul', 'technolog', 'defer', 'defer', 'applic', 'open', 'april', 'properti', 'plant', 'equip', 'capitalis', 'spend', 'temporari', 'differ', 'defer', 'legal', 'eye', 'conveyanc', 'allianc', 'defer', 'close', 'earn', 'basic', 'earn', 'calcul', 'divid', 'earn', 'attribut', 'ordinari', 'weight', 'averag', 'ordinari', 'outstand', 'basic', 'earn', 'basic', 'earn', 'dilut', 'earn', 'earn', 'weight', 'averag', 'ordinari', 'calcul', 'basic', 'earn', 'earn', 'calcul', 'basic', 'dilut', 'earn', 'weight', 'averag', 'ordinari', 'purpos', 'basic', 'earn', 'take', 'warrant', 'consider', 'respect', 'weight', 'averag', 'ordinari', 'purpos', 'dilut', 'earn', 'dilut', 'potenti', 'dilut', 'convers', 'warrant', 'weight', 'averag', 'ordinari', 'purpos', 'dilut', 'earn', 'ul', 'technolog', 'subsidiari', 'detail', 'subsidiari', 'name', 'subsidiari', 'princip', 'activ', 'class', 'place', 'incorpor', 'ownership', 'held', 'unit', 'legal', 'host', 'internet', 'softwar', 'applic', 'legal', 'ordinari', 'england', 'wale', 'unit', 'home', 'host', 'internet', 'softwar', 'applic', 'properti', 'ordinari', 'england', 'wale', 'complianc', 'consult', 'solicitor', 'ordinari', 'england', 'wale', 'conveyanc', 'allianc', 'hold', 'intermediari', 'nontrad', 'hold', 'ordinari', 'england', 'wale', 'conveyanc', 'allianc', 'host', 'internet', 'softwar', 'applic', 'legal', 'ordinari', 'england', 'wale', 'goodwil', 'open', 'april', 'acquir', 'see', 'close', 'ul', 'technolog', 'cgu', 'carri', 'goodwil', 'acquir', 'prior', 'alloc', 'unit', 'cgu', 'ul', 'technolog', 'recover', 'ul', 'technolog', 'cgu', 'determin', 'calcul', 'flow', 'project', 'formal', 'approv', 'month', 'forecast', 'extrapol', 'fiveyear', 'major', 'assumpt', 'impair', 'discount', 'growth', 'assumpt', 'extrapol', 'oneyear', 'budget', 'forecast', 'overview', 'strateg', 'ul', 'technolog', 'discount', 'assess', 'specif', 'cgu', 'growth', 'beyond', 'first', 'five', 'econom', 'data', 'wider', 'economi', 'repres', 'prudent', 'expect', 'growth', 'recover', 'ul', 'technolog', 'cgu', 'exce', 'carri', 'assess', 'recover', 'exce', 'carri', 'believ', 'reason', 'possibl', 'key', 'assumpt', 'recover', 'would', 'caus', 'aggreg', 'carri', 'exceed', 'aggreg', 'recover', 'cashgener', 'unit', 'legal', 'eye', 'cgu', 'recover', 'legal', 'eye', 'cgu', 'determin', 'calcul', 'flow', 'project', 'formal', 'approv', 'month', 'forecast', 'extrapol', 'fiveyear', 'perpetu', 'major', 'assumpt', 'impair', 'discount', 'growth', 'assumpt', 'extrapol', 'budget', 'forecast', 'termin', 'discount', 'assess', 'specif', 'cgu', 'growth', 'beyond', 'first', 'econom', 'data', 'wider', 'economi', 'repres', 'prudent', 'expect', 'growth', 'recover', 'legal', 'eye', 'cgu', 'exce', 'carri', 'assess', 'recover', 'exce', 'carri', 'believ', 'reason', 'possibl', 'key', 'assumpt', 'recover', 'would', 'caus', 'aggreg', 'carri', 'exceed', 'aggreg', 'recover', 'cashgener', 'unit', 'ul', 'technolog', 'goodwil', 'conveyanc', 'allianc', 'cgu', 'recover', 'conveyanc', 'allianc', 'cgu', 'determin', 'calcul', 'flow', 'project', 'formal', 'approv', 'month', 'forecast', 'extrapol', 'fiveyear', 'perpetu', 'major', 'assumpt', 'impair', 'discount', 'growth', 'assumpt', 'extrapol', 'budget', 'forecast', 'termin', 'discount', 'assess', 'specif', 'cgu', 'growth', 'beyond', 'first', 'econom', 'data', 'wider', 'economi', 'repres', 'prudent', 'expect', 'growth', 'recover', 'conveyanc', 'allianc', 'cgu', 'exce', 'carri', 'assess', 'recover', 'exce', 'carri', 'believ', 'reason', 'possibl', 'key', 'assumpt', 'recover', 'would', 'caus', 'aggreg', 'carri', 'exceed', 'aggreg', 'recover', 'cashgener', 'unit', 'af', 'open', 'april', 'close', 'acquir', 'eye', 'februari', 'separ', 'identifi', 'part', 'transact', 'legal', 'eye', 'acquir', 'associ', 'open', 'april', 'hoa', 'close', 'acquir', 'hoa', 'februari', 'hoa', 'place', 'incorpor', 'overview', 'strateg', 'ul', 'technolog', 'intang', 'capitalis', 'expenditur', 'acquir', 'technolog', 'platform', 'supplier', 'relationship', 'brand', 'april', 'addit', 'dispos', 'addit', 'acquir', 'within', 'combin', 'dispos', 'accumul', 'amortis', 'april', 'charg', 'dispos', 'charg', 'acquir', 'within', 'combin', 'dispos', 'book', 'april', 'amortis', 'within', 'administr', 'expens', 'ul', 'technolog', 'properti', 'plant', 'equip', 'leasehold', 'improv', 'comput', 'equip', 'fixtur', 'fit', 'april', 'addit', 'dispos', 'addit', 'acquir', 'within', 'combin', 'dispos', 'accumul', 'depreci', 'april', 'charg', 'dispos', 'charg', 'acquir', 'within', 'combin', 'dispos', 'book', 'april', 'inventori', 'work', 'progress', 'overview', 'strateg', 'ul', 'technolog', 'prepay', 'noncurr', 'prepay', 'longterm', 'loan', 'associ', 'ebt', 'consid', 'carri', 'approxim', 'detail', 'exposur', 'credit', 'given', 'equival', 'bank', 'gbp', 'signific', 'equival', 'deposit', 'major', 'clear', 'bank', 'least', 'allot', 'fulli', 'paid', 'one', 'class', 'ordinari', 'carri', 'right', 'fix', 'prefer', 'restrict', 'attach', 'ordinari', 'regard', 'distribut', 'categori', 'rank', 'pari', 'passu', 'constitut', 'one', 'class', 'fulli', 'paid', 'begin', 'fulli', 'paid', 'ordinari', 'premium', 'part', 'consider', 'homeown', 'allianc', 'see', 'ul', 'technolog', 'allot', 'par', 'par', 'sharebas', 'ordinari', 'emi', 'invit', 'particip', 'exercis', 'equal', 'close', 'day', 'prior', 'grant', 'vest', 'three', 'equal', 'tranch', 'three', 'four', 'five', 'grant', 'settl', 'exercis', 'individu', 'emi', 'treat', 'unapprov', 'within', 'rule', 'remain', 'unexercis', 'grant', 'expir', 'forfeit', 'leav', 'vest', 'blackschol', 'optionpr', 'model', 'tabl', 'show', 'outstand', 'grant', 'exercis', 'grant', 'august', 'novemb', 'august', 'novemb', 'expens', 'equitysettl', 'transact', 'overview', 'strateg', 'ul', 'technolog', 'reconcili', 'movement', 'shown', 'weight', 'averag', 'exercis', 'weight', 'averag', 'exercis', 'outstand', 'april', 'grant', 'forfeit', 'prior', 'vest', 'exercis', 'outstand', 'payabl', 'payabl', 'pay', 'social', 'secur', 'vat', 'creditor', 'accrual', 'defer', 'defer', 'consider', 'borrow', 'secur', 'amortis', 'bank', 'loan', 'noncurr', 'summari', 'borrow', 'arrang', 'fulli', 'repaid', 'term', 'loan', 'clydesdal', 'ahead', 'schedul', 'septemb', 'took', 'term', 'loan', 'revolv', 'flow', 'facil', 'initi', 'libor', 'although', 'possibl', 'libor', 'reduc', 'certain', 'criteria', 'met', 'term', 'loan', 'subject', 'repay', 'plu', 'accru', 'quarterli', 'loan', 'secur', 'way', 'fix', 'float', 'charg', 'shown', 'repres', 'loan', 'princip', 'accru', 'within', 'accrual', 'due', 'paid', 'within', 'day', 'ul', 'technolog', 'instrument', 'classif', 'instrument', 'af', 'see', 'measur', 'less', 'impair', 'tabl', 'set', 'classif', 'class', 'loan', 'loan', 'af', 'equival', 'homeown', 'allianc', 'repres', 'unlist', 'acquir', 'eye', 'repres', 'unlist', 'acquir', 'carri', 'approxim', 'measur', 'amortis', 'measur', 'amortis', 'borrow', 'loan', 'instrument', 'link', 'libor', 'margin', 'annum', 'fairli', 'standard', 'measur', 'sheet', 'three', 'level', 'hierarchi', 'three', 'level', 'defin', 'observ', 'signific', 'input', 'measur', 'level', 'quot', 'unadjust', 'activ', 'ident', 'level', 'input', 'quot', 'within', 'level', 'observ', 'either', 'directli', 'indirectli', 'level', 'unobserv', 'input', 'carri', 'none', 'carri', 'conting', 'consider', 'carri', 'conting', 'consider', 'legal', 'eye', 'conveyanc', 'allianc', 'hold', 'see', 'estim', 'present', 'techniqu', 'legal', 'eye', 'known', 'consider', 'due', 'adjust', 'discount', 'known', 'consider', 'discount', 'discount', 'estim', 'weight', 'averag', 'therefor', 'reflect', 'credit', 'posit', 'sensit', 'analysi', 'discount', 'give', 'rang', 'overview', 'strateg', 'ul', 'technolog', 'conveyanc', 'allianc', 'hold', 'estim', 'consider', 'due', 'adjust', 'discount', 'estim', 'consider', 'discount', 'discount', 'estim', 'weight', 'averag', 'therefor', 'reflect', 'credit', 'posit', 'sensit', 'analysi', 'discount', 'give', 'rang', 'level', 'measur', 'reconcili', 'carri', 'instrument', 'classifi', 'within', 'level', 'conting', 'consider', 'april', 'acquir', 'combin', 'made', 'movement', 'consider', 'movement', 'npv', 'instrument', 'exposur', 'expos', 'degre', 'liquid', 'credit', 'describ', 'object', 'process', 'method', 'measur', 'quantit', 'respect', 'present', 'liquid', 'liquid', 'dealt', 'credit', 'credit', 'primarili', 'attribut', 'signific', 'concentr', 'exposur', 'spread', 'third', 'parti', 'indic', 'impair', 'suffer', 'small', 'incid', 'credit', 'howev', 'view', 'signific', 'nonpay', 'specif', 'provis', 'impair', 'made', 'deduct', 'impair', 'provis', 'past', 'due', 'consid', 'impair', 'month', 'month', 'month', 'month', 'one', 'credit', 'liquid', 'fund', 'third', 'parti', 'larg', 'bank', 'credit', 'least', 'credit', 'sum', 'equival', 'describ', 'ul', 'technolog', 'instrument', 'secur', 'debt', 'disclos', 'debt', 'link', 'libor', 'therefor', 'howev', 'rel', 'debt', 'outstand', 'low', 'disclos', 'repres', 'princip', 'debt', 'paid', 'quarterli', 'due', 'either', 'paid', 'paid', 'within', 'day', 'latter', 'case', 'accru', 'within', 'accrual', 'exposur', 'held', 'deposit', 'immateri', 'liquid', 'prudent', 'liquid', 'maintain', 'suffici', 'ensur', 'fall', 'due', 'liquid', 'main', 'object', 'therefor', 'ensur', 'abil', 'pay', 'fall', 'due', 'monitor', 'level', 'work', 'ensur', 'debt', 'repay', 'fall', 'due', 'tabl', 'show', 'undiscount', 'flow', 'basi', 'earliest', 'possibl', 'contractu', 'matur', 'within', 'month', 'within', 'month', 'month', 'greater', 'payabl', 'payabl', 'accrual', 'defer', 'conting', 'consider', 'loan', 'within', 'month', 'within', 'month', 'month', 'greater', 'payabl', 'payabl', 'accrual', 'defer', 'conting', 'consider', 'loan', 'payabl', 'loan', 'present', 'quarterli', 'due', 'accord', 'term', 'describ', 'addit', 'repay', 'princip', 'matur', 'overview', 'strateg', 'ul', 'technolog', 'object', 'ensur', 'abil', 'go', 'concern', 'longterm', 'return', 'defin', 'monitor', 'basi', 'carri', 'plu', 'outstand', 'loan', 'less', 'equival', 'present', 'face', 'sheet', 'disclos', 'monitor', 'level', 'compar', 'commit', 'adjust', 'level', 'determin', 'necessari', 'subject', 'extern', 'impos', 'believ', 'abl', 'object', 'summaris', 'asfollow', 'equival', 'borrow', 'capitaltooveral', 'ratio', 'leas', 'arrang', 'purchas', 'leas', 'expiri', 'leas', 'expens', 'minimum', 'leas', 'noncancel', 'leas', 'commit', 'later', 'later', 'later', 'commit', 'commit', 'retir', 'defin', 'contribut', 'pension', 'pension', 'charg', 'repres', 'contribut', 'payabl', 'ul', 'technolog', 'parti', 'transact', 'opperman', 'wick', 'hoath', 'thompson', 'weston', 'william', 'pleas', 'see', 'detail', 'disclosur', 'page', 'dividend', 'paid', 'peter', 'opperman', 'geoff', 'wick', 'nigel', 'hoath', 'ben', 'thompson', 'andrew', 'weston', 'john', 'william', 'combin', 'acquir', 'ordinari', 'conveyanc', 'allianc', 'hold', 'subsidiari', 'conveyanc', 'allianc', 'incorpor', 'england', 'wale', 'princip', 'activ', 'proport', 'vote', 'acquir', 'consider', 'transfer', 'conveyanc', 'comparison', 'softwar', 'dec', 'primari', 'purpos', 'conveyanc', 'allianc', 'enhanc', 'earn', 'conveyanc', 'comparison', 'consider', 'transfer', 'conting', 'consider', 'consider', 'overview', 'strateg', 'ul', 'technolog', 'acquir', 'equival', 'noncurr', 'goodwil', 'intang', 'tangibl', 'payabl', 'noncurr', 'defer', 'goodwil', 'primarili', 'growth', 'expect', 'expect', 'futur', 'skill', 'expertis', 'conveyanc', 'allianc', 'workforc', 'expect', 'synergi', 'goodwil', 'expect', 'deduct', 'conting', 'consider', 'rang', 'time', 'annualis', 'pbt', 'conveyanc', 'allianc', 'complet', 'month', 'undiscount', 'element', 'consider', 'estim', 'undiscount', 'consider', 'alreadi', 'paid', 'cap', 'inflow', 'subsidiari', 'consider', 'paid', 'less', 'equival', 'acquir', 'acquire', 'first', 'time', 'acquire', 'april', 'would', 'would', 'acquisitionrel', 'expens', 'incur', 'conveyanc', 'allianc', 'within', 'except', 'admin', 'expens', 'ul', 'technolog', 'conting', 'awar', 'conting', 'within', 'ultim', 'control', 'parti', 'consid', 'ultim', 'control', 'parti', 'event', 'sheet', 'subsequ', 'event', 'sign', 'dividend', 'paid', 'final', 'dividend', 'st', 'interim', 'dividend', 'nd', 'interim', 'dividend', 'dividend', 'paid', 'well', 'dividend', 'paid', 'shown', 'tabl', 'propos', 'final', 'dividend', 'penc', 'respect', 'subject', 'approv', 'final', 'dividend', 'declar', 'sheet', 'overview', 'strateg', 'ul', 'technolog', 'parent', 'sheet', 'noncurr', 'noncurr', 'equival', 'reserv', 'attribut', 'premium', 'redempt', 'reserv', 'contribut', 'reserv', 'sharebas', 'reserv', 'open', 'retain', 'earn', 'dividend', 'retain', 'earn', 'noncurr', 'borrow', 'provis', 'payabl', 'borrow', 'approv', 'june', 'sign', 'behalf', 'ben', 'thompson', 'chief', 'offic', 'ul', 'technolog', 'ul', 'technolog', 'parent', 'premium', 'redempt', 'reserv', 'contribut', 'reserv', 'reserv', 'retain', 'earn', 'april', 'comprehens', 'sharebas', 'dividend', 'transact', 'owner', 'april', 'comprehens', 'sharebas', 'dividend', 'transact', 'owner', 'overview', 'strateg', 'ul', 'technolog', 'parent', 'parent', 'basi', 'prepar', 'nancial', 'ul', 'technolog', 'parent', 'nancial', 'prepar', 'accord', 'standard', 'applic', 'fr', 'standard', 'reduc', 'disclosur', 'framework', 'fr', 'disclosur', 'exempt', 'adopt', 'prepar', 'taken', 'advantag', 'disclosur', 'exempt', 'confer', 'fr', 'therefor', 'certain', 'compar', 'otherwis', 'eu', 'endors', 'ifr', 'certain', 'disclosur', 'regard', 'flow', 'futur', 'standard', 'yet', 'adopt', 'disclosur', 'key', 'personnel', 'disclosur', 'parti', 'transact', 'wholli', 'own', 'subsidiari', 'addit', 'accord', 'fr', 'disclosur', 'exempt', 'adopt', 'equival', 'disclosur', 'certain', 'disclosur', 'respect', 'instrument', 'certain', 'disclosur', 'record', 'instrument', 'measur', 'certain', 'disclosur', 'record', 'instrument', 'permit', 'section', 'act', 'separ', 'nancial', 'princip', 'adopt', 'prepar', 'set', 'consist', 'appli', 'present', 'instrument', 'becom', 'parti', 'contractu', 'provis', 'instrument', 'measur', 'initi', 'plu', 'transact', 'measur', 'subsequ', 'describ', 'classifi', 'loan', 'assess', 'sheet', 'whether', 'object', 'evid', 'impair', 'loan', 'loan', 'nonderiv', 'fix', 'determin', 'quot', 'activ', 'except', 'matur', 'greater', 'month', 'sheet', 'classifi', 'noncurr', 'loan', 'classifi', 'sheet', 'initi', 'subsequ', 'measur', 'amortis', 'method', 'less', 'provis', 'impair', 'provis', 'impair', 'establish', 'object', 'evid', 'abl', 'collect', 'due', 'accord', 'origin', 'term', 'signific', 'difficulti', 'high', 'probabl', 'bankruptci', 'reorganis', 'default', 'consid', 'indic', 'impair', 'provis', 'differ', 'carri', 'present', 'estim', 'futur', 'flow', 'discount', 'origin', 'uncollect', 'written', 'allow', 'subsequ', 'recoveri', 'previous', 'written', 'credit', 'derecognis', 'contractu', 'right', 'flow', 'expir', 'substanti', 'reward', 'transfer', 'ul', 'technolog', 'parent', 'payabl', 'borrow', 'contingentconsider', 'payabl', 'borrow', 'initi', 'subsequ', 'measur', 'amortis', 'method', 'conting', 'consider', 'measur', 'movement', 'derecognis', 'extinguish', 'discharg', 'cancel', 'expir', 'subsidiari', 'shown', 'within', 'parent', 'undertak', 'less', 'provis', 'impair', 'taxat', 'taxat', 'taxabl', 'entiti', 'taxabl', 'statutori', 'enact', 'substant', 'enact', 'sheet', 'adjust', 'payabl', 'recover', 'respect', 'previou', 'defer', 'taxat', 'defer', 'taxat', 'calcul', 'method', 'temporari', 'differ', 'aris', 'carri', 'howev', 'defer', 'aris', 'initi', 'recognit', 'transact', 'combin', 'time', 'transact', 'affect', 'neither', 'taxabl', 'defer', 'determin', 'law', 'enact', 'substant', 'enact', 'sheet', 'expect', 'appli', 'defer', 'realis', 'defer', 'settl', 'defer', 'full', 'defer', 'extent', 'probabl', 'futur', 'taxabl', 'avail', 'temporari', 'differ', 'utilis', 'defer', 'compon', 'expens', 'except', 'item', 'charg', 'credit', 'directli', 'comprehens', 'case', 'defer', 'charg', 'credit', 'directli', 'comprehens', 'defer', 'offset', 'legal', 'enforc', 'right', 'offset', 'defer', 'levi', 'taxat', 'author', 'either', 'taxabl', 'entiti', 'differ', 'taxabl', 'entiti', 'intent', 'settl', 'basi', 'employ', 'provis', 'made', 'wage', 'salari', 'nonmonetari', 'leav', 'oblig', 'settl', 'within', 'month', 'sheet', 'accrual', 'contribut', 'defin', 'contribut', 'pension', 'charg', 'contribut', 'leas', 'leas', 'expens', 'straightlin', 'basi', 'leas', 'term', 'reserv', 'reserv', 'compris', 'repres', 'subscrib', 'nomin', 'premium', 'repres', 'subscrib', 'excess', 'nomin', 'redempt', 'reserv', 'repres', 'nomin', 'repurchas', 'reserv', 'repres', 'accumul', 'sharebas', 'expens', 'retain', 'earn', 'repres', 'accumul', 'attribut', 'parent', 'overview', 'strateg', 'ul', 'technolog', 'sharebas', 'none', 'settl', 'reward', 'sharebas', 'determin', 'indirectli', 'refer', 'instrument', 'grant', 'apprais', 'grant', 'blackschol', 'model', 'sharebas', 'ultim', 'expens', 'correspond', 'credit', 'retain', 'earn', 'expens', 'alloc', 'vest', 'point', 'exercis', 'vest', 'expect', 'becom', 'exercis', 'subsequ', 'revis', 'give', 'rise', 'adjust', 'cumul', 'sharebas', 'compens', 'vest', 'ultim', 'exercis', 'holder', 'impact', 'expens', 'record', 'upon', 'exercis', 'proce', 'directli', 'attribut', 'transact', 'alloc', 'nomin', 'par', 'excess', 'record', 'premium', 'conting', 'outflow', 'econom', 'resourc', 'present', 'oblig', 'probabl', 'situat', 'disclos', 'conting', 'unless', 'outflow', 'resourc', 'remot', 'hold', 'subsidiari', 'undertak', 'name', 'subsidiari', 'princip', 'activ', 'class', 'place', 'incorpor', 'ownership', 'held', 'unit', 'legal', 'host', 'internet', 'softwar', 'applic', 'legal', 'ordinari', 'unit', 'home', 'host', 'internet', 'softwar', 'applic', 'properti', 'ordinari', 'complianc', 'consult', 'solicitor', 'ordinari', 'conveyanc', 'allianc', 'hold', 'intermediari', 'nontrad', 'hold', 'ordinari', 'conveyanc', 'allianc', 'host', 'internet', 'softwar', 'applic', 'legal', 'ordinari', 'home', 'owner', 'allianc', 'websit', 'home', 'owner', 'prospect', 'home', 'owner', 'ordinari', 'eye', 'complianc', 'consult', 'solicitor', 'ordinari', 'undertak', 'associ', 'loan', 'associ', 'april', 'see', 'sharebas', 'reserv', 'see', 'sharebas', 'reserv', 'ul', 'technolog', 'parent', 'owe', 'undertak', 'debtor', 'prepay', 'noncurr', 'prepay', 'payabl', 'payabl', 'owe', 'undertak', 'social', 'secur', 'accrual', 'defer', 'consider', 'borrow', 'bank', 'loan', 'noncurr', 'bank', 'loan', 'provis', 'noncurr', 'deferredconting', 'consider', 'overview', 'strateg', 'ul', 'technolog', 'allot', 'fulli', 'paid', 'one', 'class', 'ordinari', 'carri', 'right', 'fix', 'prefer', 'restrict', 'attach', 'ordinari', 'ordinari', 'regard', 'distribut', 'categori', 'rank', 'pari', 'passu', 'constitut', 'one', 'class', 'fulli', 'paid', 'begin', 'fulli', 'paid', 'allot', 'par', 'par', 'ordinari', 'premium', 'part', 'consider', 'homeown', 'allianc', 'see', 'ordinari', 'invit', 'particip', 'disclosur', 'detail', 'differ', 'disclosur', 'ul', 'technolog', 'parent', 'parti', 'transact', 'parti', 'transact', 'third', 'parti', 'subsidiari', 'disclos', 'post', 'sheet', 'event', 'subsequ', 'event', 'sign', 'dividend', 'paid', 'final', 'dividend', 'st', 'interim', 'dividend', 'nd', 'interim', 'dividend', 'dividend', 'paid', 'well', 'dividend', 'paid', 'shown', 'tabl', 'propos', 'final', 'dividend', 'penc', 'respect', 'subject', 'approv', 'final', 'dividend', 'declar', 'sheet', 'overview', 'strateg', 'ul', 'technolog', 'peter', 'opperman', 'nonexecut', 'chairman', 'ben', 'thompson', 'chief', 'offic', 'john', 'william', 'andrew', 'weston', 'cofound', 'geoff', 'wick', 'independ', 'nonexecut', 'nomin', 'advis', 'broker', 'numi', 'secur', 'london', 'stock', 'exchang', 'build', 'paternost', 'squar', 'london', 'ecm', 'lt', 'regist', 'address', 'old', 'grammar', 'school', 'church', 'road', 'thame', 'oxfordshir', 'ox', 'aj', 'independ', 'auditor', 'grant', 'thornton', 'llp', 'rowan', 'place', 'john', 'smith', 'drive', 'oxford', 'park', 'south', 'oxford', 'ox', 'wb', 'registr', 'solicitor', 'denton', 'llp', 'one', 'fleet', 'place', 'london', 'ecm', 'ws', 'public', 'walbrook', 'pr', 'lombard', 'street', 'london', 'ecv', 'hd', 'registrar', 'equin', 'aspect', 'hous', 'spencer', 'road', 'lanc', 'bn', 'da', 'ul', 'echnolog', 'deliv', 'strategi', 'drive', 'growth', 'old', 'grammar', 'school', 'church', 'road', 'thame', 'ox', 'aj', 'tel', 'fax', 'web', 'email']\n",
            "[1.6029514e-02 3.1755570e-02 1.2772183e-03 1.4576834e-06 3.5118561e-02\n",
            " 1.4604027e-03 4.6227340e-04 1.4576834e-06 1.4576834e-06 1.4576834e-06\n",
            " 1.4576834e-06 1.4576834e-06 7.4888277e-01 5.7030504e-04 1.4576834e-06\n",
            " 1.4576834e-06 1.0634270e-03 2.6677263e-03 3.3828137e-03 1.5731776e-01]\n"
          ],
          "name": "stdout"
        },
        {
          "output_type": "display_data",
          "data": {
            "image/png": "[encoded data removed]",
            "text/plain": [
              "<Figure size 864x432 with 1 Axes>"
            ]
          },
          "metadata": {
            "tags": [],
            "needs_background": "light"
          }
        }
      ]
    },
    {
      "cell_type": "markdown",
      "metadata": {
        "id": "cBIselrL-Xgg"
      },
      "source": [
        "## Load tokenized documents / summaries"
      ]
    },
    {
      "cell_type": "code",
      "metadata": {
        "id": "tUGascoJ-ZK1",
        "colab": {
          "base_uri": "https://localhost:8080/",
          "height": 221
        },
        "outputId": "38432f19-230b-4e97-8c20-d6621cbdf6e8"
      },
      "source": [
        "modelling_data_df = pd.read_pickle(os.path.join(PROJECT_DIRECTORY_PATH, 'tokenized_modelling_documents_and_summaries.pkl'))\n",
        "\n",
        "print(modelling_data_df.shape)\n",
        "\n",
        "modelling_data_df.head()"
      ],
      "execution_count": null,
      "outputs": [
        {
          "output_type": "stream",
          "text": [
            "(1997, 4)\n"
          ],
          "name": "stdout"
        },
        {
          "output_type": "execute_result",
          "data": {
            "text/html": [
              "<div>\n",
              "<style scoped>\n",
              "    .dataframe tbody tr th:only-of-type {\n",
              "        vertical-align: middle;\n",
              "    }\n",
              "\n",
              "    .dataframe tbody tr th {\n",
              "        vertical-align: top;\n",
              "    }\n",
              "\n",
              "    .dataframe thead th {\n",
              "        text-align: right;\n",
              "    }\n",
              "</style>\n",
              "<table border=\"1\" class=\"dataframe\">\n",
              "  <thead>\n",
              "    <tr style=\"text-align: right;\">\n",
              "      <th></th>\n",
              "      <th>document_file_name</th>\n",
              "      <th>summary_file_name</th>\n",
              "      <th>tokenized_document</th>\n",
              "      <th>tokenized_summary</th>\n",
              "    </tr>\n",
              "  </thead>\n",
              "  <tbody>\n",
              "    <tr>\n",
              "      <th>0</th>\n",
              "      <td>7522.txt</td>\n",
              "      <td>7522_3.txt</td>\n",
              "      <td>[hornbi, plc, annual, report, account, year, e...</td>\n",
              "      <td>[hornbi, plc, annual, report, account, chairma...</td>\n",
              "    </tr>\n",
              "    <tr>\n",
              "      <th>1</th>\n",
              "      <td>1111.txt</td>\n",
              "      <td>1111_2.txt</td>\n",
              "      <td>[api, group, plc, annual, report, api, group, ...</td>\n",
              "      <td>[api, group, plc, annual, report, overview, st...</td>\n",
              "    </tr>\n",
              "    <tr>\n",
              "      <th>2</th>\n",
              "      <td>7029.txt</td>\n",
              "      <td>7029_3.txt</td>\n",
              "      <td>[advanc, fluid, handl, system, ship, offshor, ...</td>\n",
              "      <td>[hamworthi, plc, annual, report, account, resu...</td>\n",
              "    </tr>\n",
              "    <tr>\n",
              "      <th>3</th>\n",
              "      <td>3203.txt</td>\n",
              "      <td>3203_2.txt</td>\n",
              "      <td>[moorgat, london, ecr, ar, annual, report, fee...</td>\n",
              "      <td>[year, rapid, profit, growth, combin, invest, ...</td>\n",
              "    </tr>\n",
              "    <tr>\n",
              "      <th>4</th>\n",
              "      <td>14694.txt</td>\n",
              "      <td>14694_3.txt</td>\n",
              "      <td>[sportingbet, plc, annual, report, annual, rep...</td>\n",
              "      <td>[sportingbet, plc, annual, report, overview, c...</td>\n",
              "    </tr>\n",
              "  </tbody>\n",
              "</table>\n",
              "</div>"
            ],
            "text/plain": [
              "  document_file_name  ...                                  tokenized_summary\n",
              "0           7522.txt  ...  [hornbi, plc, annual, report, account, chairma...\n",
              "1           1111.txt  ...  [api, group, plc, annual, report, overview, st...\n",
              "2           7029.txt  ...  [hamworthi, plc, annual, report, account, resu...\n",
              "3           3203.txt  ...  [year, rapid, profit, growth, combin, invest, ...\n",
              "4          14694.txt  ...  [sportingbet, plc, annual, report, overview, c...\n",
              "\n",
              "[5 rows x 4 columns]"
            ]
          },
          "metadata": {
            "tags": []
          },
          "execution_count": 17
        }
      ]
    },
    {
      "cell_type": "markdown",
      "metadata": {
        "id": "-7zOPG7XyQjU"
      },
      "source": [
        "## Generate topics distributions for summaries / documents"
      ]
    },
    {
      "cell_type": "code",
      "metadata": {
        "id": "J1qlFJ_wlDVv",
        "colab": {
          "base_uri": "https://localhost:8080/",
          "height": 404,
          "referenced_widgets": [
            "951e3144ed4d46f5b6ad74612703a0e2",
            "c3b1d7bc91b94154924906ddf73e1230",
            "59c6c71504314e65a514d6d43ca537a1",
            "e3152e52248a474eb0b66e71f496df58",
            "1d2df6e3fdc24977a79f777743c0410d",
            "6a00d3da314f4ca2a258337bdf37ea20",
            "e9576ebce09b42959c969103c4ce7aec",
            "21e5e3ee37e94e4284cc997afdd3d35b",
            "8e202557a4214a479bd740faa1d4dbcd",
            "dcc536e27eda4a77b9f7f0f77402da19",
            "3c9086ff945f4336a897e8791c0b5678",
            "612ab22fa9e242949eede273bd1476a2",
            "1b1d2d3eefe94979b269f60c83fb3758",
            "2f6532cd5b684cd2863bad178511ab87",
            "28d745dd1e4c41bdbc7d8d23fadf8e04",
            "3d3e9d6328d246589a8acabdfc23424d"
          ]
        },
        "outputId": "56ad4e1f-b2ee-4e61-ee09-87efa7405dd8"
      },
      "source": [
        "modelling_data_df['document_distributions'] = modelling_data_df['tokenized_document'].swifter.apply(text_tokens_to_topics_distributions, args=(lda_model, dictionary))\n",
        "\n",
        "modelling_data_df['summary_distributions'] = modelling_data_df['tokenized_summary'].swifter.apply(text_tokens_to_topics_distributions, args=(lda_model, dictionary))\n",
        "\n",
        "print(modelling_data_df.shape)\n",
        "\n",
        "modelling_data_df.head()"
      ],
      "execution_count": null,
      "outputs": [
        {
          "output_type": "display_data",
          "data": {
            "application/vnd.jupyter.widget-view+json": {
              "model_id": "951e3144ed4d46f5b6ad74612703a0e2",
              "version_minor": 0,
              "version_major": 2
            },
            "text/plain": [
              "HBox(children=(FloatProgress(value=0.0, description='Pandas Apply', max=1997.0, style=ProgressStyle(descriptio…"
            ]
          },
          "metadata": {
            "tags": []
          }
        },
        {
          "output_type": "stream",
          "text": [
            "\n"
          ],
          "name": "stdout"
        },
        {
          "output_type": "display_data",
          "data": {
            "application/vnd.jupyter.widget-view+json": {
              "model_id": "8e202557a4214a479bd740faa1d4dbcd",
              "version_minor": 0,
              "version_major": 2
            },
            "text/plain": [
              "HBox(children=(FloatProgress(value=0.0, description='Pandas Apply', max=1997.0, style=ProgressStyle(descriptio…"
            ]
          },
          "metadata": {
            "tags": []
          }
        },
        {
          "output_type": "stream",
          "text": [
            "\n",
            "(1997, 6)\n"
          ],
          "name": "stdout"
        },
        {
          "output_type": "execute_result",
          "data": {
            "text/html": [
              "<div>\n",
              "<style scoped>\n",
              "    .dataframe tbody tr th:only-of-type {\n",
              "        vertical-align: middle;\n",
              "    }\n",
              "\n",
              "    .dataframe tbody tr th {\n",
              "        vertical-align: top;\n",
              "    }\n",
              "\n",
              "    .dataframe thead th {\n",
              "        text-align: right;\n",
              "    }\n",
              "</style>\n",
              "<table border=\"1\" class=\"dataframe\">\n",
              "  <thead>\n",
              "    <tr style=\"text-align: right;\">\n",
              "      <th></th>\n",
              "      <th>document_file_name</th>\n",
              "      <th>summary_file_name</th>\n",
              "      <th>tokenized_document</th>\n",
              "      <th>tokenized_summary</th>\n",
              "      <th>document_distributions</th>\n",
              "      <th>summary_distributions</th>\n",
              "    </tr>\n",
              "  </thead>\n",
              "  <tbody>\n",
              "    <tr>\n",
              "      <th>0</th>\n",
              "      <td>7522.txt</td>\n",
              "      <td>7522_3.txt</td>\n",
              "      <td>[hornbi, plc, annual, report, account, year, e...</td>\n",
              "      <td>[hornbi, plc, annual, report, account, chairma...</td>\n",
              "      <td>[0.032859977, 0.79029083, 0.024872681, 0.00255...</td>\n",
              "      <td>[0.071941905, 0.5763787, 0.1307015, 0.04158506...</td>\n",
              "    </tr>\n",
              "    <tr>\n",
              "      <th>1</th>\n",
              "      <td>1111.txt</td>\n",
              "      <td>1111_2.txt</td>\n",
              "      <td>[api, group, plc, annual, report, api, group, ...</td>\n",
              "      <td>[api, group, plc, annual, report, overview, st...</td>\n",
              "      <td>[0.18191493, 0.016382702, 0.0033707968, 0.0127...</td>\n",
              "      <td>[0.50325227, 0.00014044944, 0.00014044944, 0.0...</td>\n",
              "    </tr>\n",
              "    <tr>\n",
              "      <th>2</th>\n",
              "      <td>7029.txt</td>\n",
              "      <td>7029_3.txt</td>\n",
              "      <td>[advanc, fluid, handl, system, ship, offshor, ...</td>\n",
              "      <td>[hamworthi, plc, annual, report, account, resu...</td>\n",
              "      <td>[0.0034466197, 0.16009498, 1.3032372e-06, 0.01...</td>\n",
              "      <td>[2.7382257e-05, 2.7382257e-05, 2.7382257e-05, ...</td>\n",
              "    </tr>\n",
              "    <tr>\n",
              "      <th>3</th>\n",
              "      <td>3203.txt</td>\n",
              "      <td>3203_2.txt</td>\n",
              "      <td>[moorgat, london, ecr, ar, annual, report, fee...</td>\n",
              "      <td>[year, rapid, profit, growth, combin, invest, ...</td>\n",
              "      <td>[9.398318e-07, 0.06510065, 0.021841252, 0.0012...</td>\n",
              "      <td>[0.00013297872, 0.22594605, 0.00013297872, 0.0...</td>\n",
              "    </tr>\n",
              "    <tr>\n",
              "      <th>4</th>\n",
              "      <td>14694.txt</td>\n",
              "      <td>14694_3.txt</td>\n",
              "      <td>[sportingbet, plc, annual, report, annual, rep...</td>\n",
              "      <td>[sportingbet, plc, annual, report, overview, c...</td>\n",
              "      <td>[0.049215857, 0.53628325, 0.30541217, 0.037401...</td>\n",
              "      <td>[3.5561872e-05, 0.10266114, 0.8363487, 3.55618...</td>\n",
              "    </tr>\n",
              "  </tbody>\n",
              "</table>\n",
              "</div>"
            ],
            "text/plain": [
              "  document_file_name  ...                              summary_distributions\n",
              "0           7522.txt  ...  [0.071941905, 0.5763787, 0.1307015, 0.04158506...\n",
              "1           1111.txt  ...  [0.50325227, 0.00014044944, 0.00014044944, 0.0...\n",
              "2           7029.txt  ...  [2.7382257e-05, 2.7382257e-05, 2.7382257e-05, ...\n",
              "3           3203.txt  ...  [0.00013297872, 0.22594605, 0.00013297872, 0.0...\n",
              "4          14694.txt  ...  [3.5561872e-05, 0.10266114, 0.8363487, 3.55618...\n",
              "\n",
              "[5 rows x 6 columns]"
            ]
          },
          "metadata": {
            "tags": []
          },
          "execution_count": 18
        }
      ]
    },
    {
      "cell_type": "markdown",
      "metadata": {
        "id": "IZXYhMs72KnP"
      },
      "source": [
        "# DNN modelling (SAVES RESULTS)"
      ]
    },
    {
      "cell_type": "markdown",
      "metadata": {
        "id": "TVQSfdzKQVz6"
      },
      "source": [
        "## Create train / test sets"
      ]
    },
    {
      "cell_type": "code",
      "metadata": {
        "id": "j6ztQXeo2QHi",
        "colab": {
          "base_uri": "https://localhost:8080/",
          "height": 51
        },
        "outputId": "e75eab20-7877-4d67-9022-f751f4144936"
      },
      "source": [
        "X = np.array(modelling_data_df['document_distributions'].values.tolist())\n",
        "y = np.array(modelling_data_df['summary_distributions'].values.tolist())\n",
        "\n",
        "print(X.shape)\n",
        "print(y.shape)"
      ],
      "execution_count": null,
      "outputs": [
        {
          "output_type": "stream",
          "text": [
            "(1997, 20)\n",
            "(1997, 20)\n"
          ],
          "name": "stdout"
        }
      ]
    },
    {
      "cell_type": "code",
      "metadata": {
        "id": "QUaFa40Hjw2p",
        "colab": {
          "base_uri": "https://localhost:8080/",
          "height": 85
        },
        "outputId": "bf289e77-852e-46c3-ba4e-d1105176d7bc"
      },
      "source": [
        "X_train, X_test, y_train, y_test = train_test_split(X, y, test_size=DNN_TEST_SIZE, random_state = RANDOM_SEED)\n",
        "\n",
        "print(f\"Training set X: {X_train.shape}\")\n",
        "print(f\"Testing set X: {X_test.shape}\")\n",
        "\n",
        "print(f\"Training set y: {y_train.shape}\")\n",
        "print(f\"Testing set y: {y_test.shape}\")"
      ],
      "execution_count": null,
      "outputs": [
        {
          "output_type": "stream",
          "text": [
            "Training set X: (1597, 20)\n",
            "Testing set X: (400, 20)\n",
            "Training set y: (1597, 20)\n",
            "Testing set y: (400, 20)\n"
          ],
          "name": "stdout"
        }
      ]
    },
    {
      "cell_type": "markdown",
      "metadata": {
        "id": "OpLbVRA1r7Om"
      },
      "source": [
        "## Scale train / test sets"
      ]
    },
    {
      "cell_type": "code",
      "metadata": {
        "id": "Z_VjyuZHjoIC",
        "colab": {
          "base_uri": "https://localhost:8080/",
          "height": 289
        },
        "outputId": "6e07f8a4-3260-49d4-e32b-ca7b16f759c3"
      },
      "source": [
        "scaler = StandardScaler()\n",
        "\n",
        "scaler.fit(X_train)\n",
        "\n",
        "X_train_scaled = scaler.transform(X_train)\n",
        "X_test_scaled = scaler.transform(X_test)\n",
        "\n",
        "print(X_train[0])\n",
        "print(X_test[0])\n",
        "\n",
        "print(X_train_scaled[0])\n",
        "print(X_test_scaled[0])"
      ],
      "execution_count": null,
      "outputs": [
        {
          "output_type": "stream",
          "text": [
            "[8.2041640e-03 1.4889451e-02 8.6966204e-03 3.6304942e-03 9.9253014e-04\n",
            " 7.8166516e-07 1.9086050e-04 5.8317248e-02 4.9959570e-02 6.0462387e-04\n",
            " 1.4384037e-02 1.3465050e-01 1.3741909e-01 5.0351666e-03 1.6322468e-01\n",
            " 7.8166516e-07 3.2989186e-01 1.7427749e-03 6.2866189e-02 5.2985689e-03]\n",
            "[8.2882744e-04 2.7712834e-01 1.1829841e-06 1.1829841e-06 1.1829841e-06\n",
            " 1.1829841e-06 7.5768419e-02 1.1829841e-06 1.1829841e-06 9.6734287e-03\n",
            " 1.1829841e-06 1.1829841e-06 2.7475016e-02 1.0344349e-03 1.1829841e-06\n",
            " 1.1829841e-06 2.6604061e-03 4.5980939e-01 1.1470849e-02 1.3413902e-01]\n",
            "[-0.37488872 -0.4983558  -0.27436802 -0.28189945 -0.19754498 -0.3502863\n",
            " -0.38269314  0.18694997  0.09154915 -0.23259996 -0.15420122  0.7590841\n",
            "  0.00811244 -0.33903673  1.4189085  -0.2529503   2.397263   -0.35995424\n",
            "  0.01082424 -0.32991526]\n",
            "[-0.4207453   0.94427174 -0.33835688 -0.31271276 -0.21021841 -0.3502826\n",
            "  0.26098758 -0.35154402 -0.32865417 -0.15750434 -0.28606302 -0.3929847\n",
            " -0.5321883  -0.36299506 -0.24926671 -0.2529478  -0.3253172   3.3652978\n",
            " -0.36467502  0.6369297 ]\n"
          ],
          "name": "stdout"
        }
      ]
    },
    {
      "cell_type": "markdown",
      "metadata": {
        "id": "Q9PScztnsETb"
      },
      "source": [
        "## Build DNN model / Show model summary"
      ]
    },
    {
      "cell_type": "code",
      "metadata": {
        "id": "oZmOy4vAlhzt",
        "colab": {
          "base_uri": "https://localhost:8080/",
          "height": 255
        },
        "outputId": "868b4010-69b9-4321-c8cb-c49bf529fcc4"
      },
      "source": [
        "dnn_model = build_dnn_model(DNN_LEARNING_RATE, DNN_HIDDEN_LAYER_UNITS, DNN_DROPOUT_RATE, DNN_L2_REGULARIZAΤΙΟΝ)\n",
        "\n",
        "dnn_model.summary()"
      ],
      "execution_count": null,
      "outputs": [
        {
          "output_type": "stream",
          "text": [
            "Model: \"sequential\"\n",
            "_________________________________________________________________\n",
            "Layer (type)                 Output Shape              Param #   \n",
            "=================================================================\n",
            "dense (Dense)                (None, 64)                1344      \n",
            "_________________________________________________________________\n",
            "dropout (Dropout)            (None, 64)                0         \n",
            "_________________________________________________________________\n",
            "dense_1 (Dense)              (None, 20)                1300      \n",
            "=================================================================\n",
            "Total params: 2,644\n",
            "Trainable params: 2,644\n",
            "Non-trainable params: 0\n",
            "_________________________________________________________________\n"
          ],
          "name": "stdout"
        }
      ]
    },
    {
      "cell_type": "markdown",
      "metadata": {
        "id": "wNvjbKOEu9rT"
      },
      "source": [
        "## Test DNN model output shape"
      ]
    },
    {
      "cell_type": "code",
      "metadata": {
        "id": "eF3p348iu8_y",
        "colab": {
          "base_uri": "https://localhost:8080/",
          "height": 34
        },
        "outputId": "08f70627-d643-48ef-8254-a4d38c65ad6c"
      },
      "source": [
        "example_batch = X_train_scaled[:10]\n",
        "\n",
        "example_result = dnn_model.predict(example_batch)\n",
        "\n",
        "example_result.shape"
      ],
      "execution_count": null,
      "outputs": [
        {
          "output_type": "execute_result",
          "data": {
            "text/plain": [
              "(10, 20)"
            ]
          },
          "metadata": {
            "tags": []
          },
          "execution_count": 24
        }
      ]
    },
    {
      "cell_type": "markdown",
      "metadata": {
        "id": "oXafxLN4sK40"
      },
      "source": [
        "## Train DNN model"
      ]
    },
    {
      "cell_type": "code",
      "metadata": {
        "id": "Rb1z5nfgl364",
        "colab": {
          "base_uri": "https://localhost:8080/",
          "height": 374
        },
        "outputId": "fc2c202a-e381-4304-c050-162fcbf1b372"
      },
      "source": [
        "history = dnn_model.fit(X_train_scaled, y_train, epochs=DNN_EPOCHS, validation_split=DNN_VALIDATION_SIZE, verbose=0, callbacks=[tfdocs.modeling.EpochDots()])"
      ],
      "execution_count": null,
      "outputs": [
        {
          "output_type": "stream",
          "text": [
            "\n",
            "Epoch: 0, loss:0.2352,  mae:0.0817,  mse:0.0246,  val_loss:0.1816,  val_mae:0.0811,  val_mse:0.0235,  \n",
            "....................................................................................................\n",
            "Epoch: 100, loss:0.0144,  mae:0.0573,  mse:0.0129,  val_loss:0.0127,  val_mae:0.0527,  val_mse:0.0111,  \n",
            "....................................................................................................\n",
            "Epoch: 200, loss:0.0130,  mae:0.0536,  mse:0.0117,  val_loss:0.0108,  val_mae:0.0470,  val_mse:0.0095,  \n",
            "....................................................................................................\n",
            "Epoch: 300, loss:0.0125,  mae:0.0523,  mse:0.0114,  val_loss:0.0098,  val_mae:0.0449,  val_mse:0.0087,  \n",
            "....................................................................................................\n",
            "Epoch: 400, loss:0.0120,  mae:0.0511,  mse:0.0110,  val_loss:0.0093,  val_mae:0.0432,  val_mse:0.0083,  \n",
            "....................................................................................................\n",
            "Epoch: 500, loss:0.0120,  mae:0.0508,  mse:0.0111,  val_loss:0.0092,  val_mae:0.0426,  val_mse:0.0082,  \n",
            "....................................................................................................\n",
            "Epoch: 600, loss:0.0119,  mae:0.0506,  mse:0.0110,  val_loss:0.0091,  val_mae:0.0423,  val_mse:0.0082,  \n",
            "....................................................................................................\n",
            "Epoch: 700, loss:0.0117,  mae:0.0501,  mse:0.0108,  val_loss:0.0090,  val_mae:0.0415,  val_mse:0.0081,  \n",
            "....................................................................................................\n",
            "Epoch: 800, loss:0.0118,  mae:0.0503,  mse:0.0110,  val_loss:0.0089,  val_mae:0.0419,  val_mse:0.0081,  \n",
            "....................................................................................................\n",
            "Epoch: 900, loss:0.0117,  mae:0.0495,  mse:0.0109,  val_loss:0.0089,  val_mae:0.0421,  val_mse:0.0081,  \n",
            "...................................................................................................."
          ],
          "name": "stdout"
        }
      ]
    },
    {
      "cell_type": "code",
      "metadata": {
        "id": "pwynVLoIl40u",
        "colab": {
          "base_uri": "https://localhost:8080/",
          "height": 221
        },
        "outputId": "4cd358f5-f6c5-447b-a6d8-95e0a18ceb76"
      },
      "source": [
        "hist = pd.DataFrame(history.history)\n",
        "\n",
        "hist['epoch'] = history.epoch\n",
        "\n",
        "print(hist.head())\n",
        "\n",
        "print(hist.tail())"
      ],
      "execution_count": null,
      "outputs": [
        {
          "output_type": "stream",
          "text": [
            "       loss       mae       mse  val_loss   val_mae   val_mse  epoch\n",
            "0  0.235242  0.081685  0.024617  0.181591  0.081051  0.023503      0\n",
            "1  0.145392  0.080630  0.023235  0.111812  0.080135  0.022889      1\n",
            "2  0.087726  0.079441  0.022343  0.066780  0.079644  0.022575      2\n",
            "3  0.052153  0.079047  0.021917  0.040724  0.079517  0.022485      3\n",
            "4  0.033068  0.079078  0.021865  0.028137  0.079547  0.022522      4\n",
            "         loss       mae       mse  val_loss   val_mae   val_mse  epoch\n",
            "995  0.011587  0.049439  0.010775  0.008660  0.040509  0.007850    995\n",
            "996  0.011456  0.049020  0.010639  0.008934  0.041208  0.008124    996\n",
            "997  0.011315  0.048954  0.010495  0.008718  0.040424  0.007871    997\n",
            "998  0.011656  0.049201  0.010820  0.008678  0.040756  0.007866    998\n",
            "999  0.011884  0.049885  0.011046  0.008833  0.040889  0.007998    999\n"
          ],
          "name": "stdout"
        }
      ]
    },
    {
      "cell_type": "code",
      "metadata": {
        "id": "AvZ1-pk861li"
      },
      "source": [
        "plotter = tfdocs.plots.HistoryPlotter(smoothing_std=2)"
      ],
      "execution_count": null,
      "outputs": []
    },
    {
      "cell_type": "code",
      "metadata": {
        "id": "-idTaSxOxaSY",
        "colab": {
          "base_uri": "https://localhost:8080/",
          "height": 300
        },
        "outputId": "f811631c-2a0b-404f-b6b1-0bb4d9f7380e"
      },
      "source": [
        "plotter.plot({'Basic': history}, metric = \"mae\")\n",
        "\n",
        "plt.ylim([0.03, 0.09])\n",
        "\n",
        "plt.ylabel('MAE')"
      ],
      "execution_count": null,
      "outputs": [
        {
          "output_type": "execute_result",
          "data": {
            "text/plain": [
              "Text(0, 0.5, 'MAE')"
            ]
          },
          "metadata": {
            "tags": []
          },
          "execution_count": 28
        },
        {
          "output_type": "display_data",
          "data": {
            "image/png": "[encoded data removed]",
            "text/plain": [
              "<Figure size 432x288 with 1 Axes>"
            ]
          },
          "metadata": {
            "tags": [],
            "needs_background": "light"
          }
        }
      ]
    },
    {
      "cell_type": "code",
      "metadata": {
        "id": "vYoue3PR6yW6",
        "colab": {
          "base_uri": "https://localhost:8080/",
          "height": 300
        },
        "outputId": "71c29b0d-5fd0-49e7-a6f4-24d4b72cb9b2"
      },
      "source": [
        "plotter.plot({'Basic': history}, metric = \"mse\")\n",
        "\n",
        "plt.ylim([0.005, 0.025])\n",
        "\n",
        "plt.ylabel('MSE')"
      ],
      "execution_count": null,
      "outputs": [
        {
          "output_type": "execute_result",
          "data": {
            "text/plain": [
              "Text(0, 0.5, 'MSE')"
            ]
          },
          "metadata": {
            "tags": []
          },
          "execution_count": 29
        },
        {
          "output_type": "display_data",
          "data": {
            "image/png": "[encoded data removed]",
            "text/plain": [
              "<Figure size 432x288 with 1 Axes>"
            ]
          },
          "metadata": {
            "tags": [],
            "needs_background": "light"
          }
        }
      ]
    },
    {
      "cell_type": "code",
      "metadata": {
        "id": "EWXO8umEwBNq",
        "colab": {
          "base_uri": "https://localhost:8080/",
          "height": 255
        },
        "outputId": "7cda707f-82d4-41fa-b0fc-411fd526130f"
      },
      "source": [
        "dnn_model = build_dnn_model(DNN_LEARNING_RATE, DNN_HIDDEN_LAYER_UNITS, DNN_DROPOUT_RATE, DNN_L2_REGULARIZAΤΙΟΝ)\n",
        "\n",
        "dnn_model.summary()"
      ],
      "execution_count": null,
      "outputs": [
        {
          "output_type": "stream",
          "text": [
            "Model: \"sequential_1\"\n",
            "_________________________________________________________________\n",
            "Layer (type)                 Output Shape              Param #   \n",
            "=================================================================\n",
            "dense_2 (Dense)              (None, 64)                1344      \n",
            "_________________________________________________________________\n",
            "dropout_1 (Dropout)          (None, 64)                0         \n",
            "_________________________________________________________________\n",
            "dense_3 (Dense)              (None, 20)                1300      \n",
            "=================================================================\n",
            "Total params: 2,644\n",
            "Trainable params: 2,644\n",
            "Non-trainable params: 0\n",
            "_________________________________________________________________\n"
          ],
          "name": "stdout"
        }
      ]
    },
    {
      "cell_type": "code",
      "metadata": {
        "id": "xcqBH18AQ0FU",
        "colab": {
          "base_uri": "https://localhost:8080/",
          "height": 136
        },
        "outputId": "fc1e5114-f657-4d3c-fa5b-8016e59a8f94"
      },
      "source": [
        "early_stop = keras.callbacks.EarlyStopping(monitor='val_loss', patience=DNN_EARLY_STOPPING_PATIENCE)\n",
        "\n",
        "early_history = dnn_model.fit(X_train_scaled, y_train, epochs=DNN_EPOCHS, validation_split = DNN_VALIDATION_SIZE, verbose=0, callbacks=[early_stop, tfdocs.modeling.EpochDots()])"
      ],
      "execution_count": null,
      "outputs": [
        {
          "output_type": "stream",
          "text": [
            "\n",
            "Epoch: 0, loss:0.2454,  mae:0.0810,  mse:0.0244,  val_loss:0.1903,  val_mae:0.0800,  val_mse:0.0231,  \n",
            "....................................................................................................\n",
            "Epoch: 100, loss:0.0137,  mae:0.0554,  mse:0.0120,  val_loss:0.0121,  val_mae:0.0506,  val_mse:0.0105,  \n",
            "....................................................................................................\n",
            "Epoch: 200, loss:0.0124,  mae:0.0523,  mse:0.0111,  val_loss:0.0101,  val_mae:0.0450,  val_mse:0.0087,  \n",
            ".........."
          ],
          "name": "stdout"
        }
      ]
    },
    {
      "cell_type": "code",
      "metadata": {
        "id": "k1IwrS-cwIhN",
        "colab": {
          "base_uri": "https://localhost:8080/",
          "height": 300
        },
        "outputId": "f6a3f133-450f-4619-9127-fccc0474a50b"
      },
      "source": [
        "plotter.plot({'Early Stopping': early_history}, metric = \"mae\")\n",
        "\n",
        "plt.ylim([0.03, 0.09])\n",
        "\n",
        "plt.ylabel('MAE')"
      ],
      "execution_count": null,
      "outputs": [
        {
          "output_type": "execute_result",
          "data": {
            "text/plain": [
              "Text(0, 0.5, 'MAE')"
            ]
          },
          "metadata": {
            "tags": []
          },
          "execution_count": 32
        },
        {
          "output_type": "display_data",
          "data": {
            "image/png": "[encoded data removed]",
            "text/plain": [
              "<Figure size 432x288 with 1 Axes>"
            ]
          },
          "metadata": {
            "tags": [],
            "needs_background": "light"
          }
        }
      ]
    },
    {
      "cell_type": "code",
      "metadata": {
        "id": "Q98kZCdA7tEt",
        "colab": {
          "base_uri": "https://localhost:8080/",
          "height": 300
        },
        "outputId": "fb7311b7-47de-4baa-b6a8-ecca4086e756"
      },
      "source": [
        "plotter.plot({'Early Stopping': early_history}, metric = \"mse\")\n",
        "\n",
        "plt.ylim([0.005, 0.025])\n",
        "\n",
        "plt.ylabel('MSE')"
      ],
      "execution_count": null,
      "outputs": [
        {
          "output_type": "execute_result",
          "data": {
            "text/plain": [
              "Text(0, 0.5, 'MSE')"
            ]
          },
          "metadata": {
            "tags": []
          },
          "execution_count": 33
        },
        {
          "output_type": "display_data",
          "data": {
            "image/png": "[encoded data removed]",
            "text/plain": [
              "<Figure size 432x288 with 1 Axes>"
            ]
          },
          "metadata": {
            "tags": [],
            "needs_background": "light"
          }
        }
      ]
    },
    {
      "cell_type": "markdown",
      "metadata": {
        "id": "RgW-cT0HGHQj"
      },
      "source": [
        "## Save DNN model"
      ]
    },
    {
      "cell_type": "code",
      "metadata": {
        "id": "EA1-EBunGG6A"
      },
      "source": [
        "dnn_model.save(os.path.join(PROJECT_DIRECTORY_PATH, 'dnn_model.h5'))"
      ],
      "execution_count": null,
      "outputs": []
    },
    {
      "cell_type": "markdown",
      "metadata": {
        "id": "y5QatSEAsR3_"
      },
      "source": [
        "## Evaluate test set"
      ]
    },
    {
      "cell_type": "code",
      "metadata": {
        "id": "LWPwAkKVmFqm",
        "colab": {
          "base_uri": "https://localhost:8080/",
          "height": 68
        },
        "outputId": "cecf4485-7198-4eba-9c4a-9247de546ffb"
      },
      "source": [
        "loss, mae, mse = dnn_model.evaluate(X_test_scaled, y_test, verbose=2)\n",
        "\n",
        "print(\"Testing set MAE {:5.2f}\".format(mae))\n",
        "print(\"Testing set MSE {:5.2f}\".format(mse))"
      ],
      "execution_count": null,
      "outputs": [
        {
          "output_type": "stream",
          "text": [
            "13/13 - 0s - loss: 0.0104 - mae: 0.0475 - mse: 0.0091\n",
            "Testing set MAE  0.05\n",
            "Testing set MSE  0.01\n"
          ],
          "name": "stdout"
        }
      ]
    },
    {
      "cell_type": "markdown",
      "metadata": {
        "id": "ZophaO1UF5GC"
      },
      "source": [
        "# Load LDA model + Dictionary / DNN model"
      ]
    },
    {
      "cell_type": "code",
      "metadata": {
        "id": "mxlYsEYJGDON"
      },
      "source": [
        "dnn_model = tf.keras.models.load_model(os.path.join(PROJECT_DIRECTORY_PATH, 'dnn_model.h5'))"
      ],
      "execution_count": null,
      "outputs": []
    },
    {
      "cell_type": "code",
      "metadata": {
        "id": "dPsI10VgHVwB",
        "colab": {
          "base_uri": "https://localhost:8080/"
        },
        "outputId": "f0050c6b-91cd-46d8-c66d-31348d698306"
      },
      "source": [
        "lda_model = LdaModel.load(os.path.join(PROJECT_DIRECTORY_PATH, 'lda_model.pkl'))\n",
        "\n",
        "dictionary = corpora.Dictionary.load(os.path.join(PROJECT_DIRECTORY_PATH, 'lda_dictionary.pkl'))"
      ],
      "execution_count": null,
      "outputs": [
        {
          "output_type": "stream",
          "text": [
            "/usr/local/lib/python3.6/dist-packages/smart_open/smart_open_lib.py:253: UserWarning: This function is deprecated, use smart_open.open instead. See the migration notes for details: https://github.com/RaRe-Technologies/smart_open/blob/master/README.rst#migrating-to-the-new-open-function\n",
            "  'See the migration notes for details: %s' % _MIGRATION_NOTES_URL\n"
          ],
          "name": "stderr"
        }
      ]
    },
    {
      "cell_type": "markdown",
      "metadata": {
        "id": "69VNM8YgN5AU"
      },
      "source": [
        "# Preprocess testing documents (SAVES RESULTS)"
      ]
    },
    {
      "cell_type": "markdown",
      "metadata": {
        "id": "raYfJwXaSpsO"
      },
      "source": [
        "## Get documents file paths"
      ]
    },
    {
      "cell_type": "code",
      "metadata": {
        "id": "Xj2MTcDoSVON"
      },
      "source": [
        "testing_documents_path = os.path.join(EXTRACTED_DATASET_DIRECTORY_PATH, 'testing', 'documents')\n",
        "\n",
        "testing_document_files = get_file_paths (testing_documents_path)"
      ],
      "execution_count": null,
      "outputs": []
    },
    {
      "cell_type": "markdown",
      "metadata": {
        "id": "DheHAAHlNYfW"
      },
      "source": [
        "## Load documents to a dataframe"
      ]
    },
    {
      "cell_type": "code",
      "metadata": {
        "id": "gi-xHOggV02f",
        "colab": {
          "base_uri": "https://localhost:8080/",
          "height": 270,
          "referenced_widgets": [
            "3bff45b27c364678912d1d5f84b63a6c",
            "de0d06a887994a0ea742820bc7d7f8cb",
            "a1b4b57eadaf4b008e42d05afec606fc",
            "b324ecc32eaa43809cdad9011717e4e3",
            "2110faa940bf40c395e2602254735c61",
            "2800b3d076704201806d20018fdc5a88",
            "83793b355220442a8ffad658d1bca2ef",
            "1d7d691055cb48f48e6d770fb8ee3687"
          ]
        },
        "outputId": "6f92f57c-0c70-4baf-e493-97ecfc2d62d8"
      },
      "source": [
        "testing_documents = load_text_files(testing_document_files, TEXT_ENCODING)\n",
        "\n",
        "testing_data_df = pd.DataFrame({ 'file_name' : testing_document_files, 'original_document' : testing_documents })\n",
        "\n",
        "testing_data_df['file_name'] = testing_data_df['file_name'].swifter.apply(lambda o: f'{Path(o).stem}_summary.txt')\n",
        "\n",
        "print(testing_data_df.shape)\n",
        "\n",
        "testing_data_df.head()"
      ],
      "execution_count": null,
      "outputs": [
        {
          "output_type": "display_data",
          "data": {
            "application/vnd.jupyter.widget-view+json": {
              "model_id": "3bff45b27c364678912d1d5f84b63a6c",
              "version_minor": 0,
              "version_major": 2
            },
            "text/plain": [
              "HBox(children=(FloatProgress(value=0.0, description='Pandas Apply', max=500.0, style=ProgressStyle(description…"
            ]
          },
          "metadata": {
            "tags": []
          }
        },
        {
          "output_type": "stream",
          "text": [
            "\n",
            "(500, 2)\n"
          ],
          "name": "stdout"
        },
        {
          "output_type": "execute_result",
          "data": {
            "text/html": [
              "<div>\n",
              "<style scoped>\n",
              "    .dataframe tbody tr th:only-of-type {\n",
              "        vertical-align: middle;\n",
              "    }\n",
              "\n",
              "    .dataframe tbody tr th {\n",
              "        vertical-align: top;\n",
              "    }\n",
              "\n",
              "    .dataframe thead th {\n",
              "        text-align: right;\n",
              "    }\n",
              "</style>\n",
              "<table border=\"1\" class=\"dataframe\">\n",
              "  <thead>\n",
              "    <tr style=\"text-align: right;\">\n",
              "      <th></th>\n",
              "      <th>file_name</th>\n",
              "      <th>original_document</th>\n",
              "    </tr>\n",
              "  </thead>\n",
              "  <tbody>\n",
              "    <tr>\n",
              "      <th>0</th>\n",
              "      <td>25082_summary.txt</td>\n",
              "      <td>The environmental  \\ninvestment specialist\\nI...</td>\n",
              "    </tr>\n",
              "    <tr>\n",
              "      <th>1</th>\n",
              "      <td>25110_summary.txt</td>\n",
              "      <td>Impellam Group plc  \\nAnnual Report and Accou...</td>\n",
              "    </tr>\n",
              "    <tr>\n",
              "      <th>2</th>\n",
              "      <td>25111_summary.txt</td>\n",
              "      <td>DELIVERING AGAINST \\nOUR STRATEGY\\nANNUAL REP...</td>\n",
              "    </tr>\n",
              "    <tr>\n",
              "      <th>3</th>\n",
              "      <td>25118_summary.txt</td>\n",
              "      <td>imperial \\ninnovations\\nImperial Innovations ...</td>\n",
              "    </tr>\n",
              "    <tr>\n",
              "      <th>4</th>\n",
              "      <td>25120_summary.txt</td>\n",
              "      <td>Nur turing  \\n innovation\\nAnnual Report and...</td>\n",
              "    </tr>\n",
              "  </tbody>\n",
              "</table>\n",
              "</div>"
            ],
            "text/plain": [
              "           file_name                                  original_document\n",
              "0  25082_summary.txt   The environmental  \\ninvestment specialist\\nI...\n",
              "1  25110_summary.txt   Impellam Group plc  \\nAnnual Report and Accou...\n",
              "2  25111_summary.txt   DELIVERING AGAINST \\nOUR STRATEGY\\nANNUAL REP...\n",
              "3  25118_summary.txt   imperial \\ninnovations\\nImperial Innovations ...\n",
              "4  25120_summary.txt    Nur turing  \\n innovation\\nAnnual Report and..."
            ]
          },
          "metadata": {
            "tags": []
          },
          "execution_count": 15
        }
      ]
    },
    {
      "cell_type": "markdown",
      "metadata": {
        "id": "KmprtI3HNkK-"
      },
      "source": [
        "## Preprocess documents"
      ]
    },
    {
      "cell_type": "code",
      "metadata": {
        "id": "WDRpG8hkTMIm",
        "colab": {
          "base_uri": "https://localhost:8080/",
          "height": 270,
          "referenced_widgets": [
            "5bd2b45e1d52467590f2385fdaa36472",
            "b9c23cfee0264fefb2c8c09f20d95915",
            "a23556967e3144db825ca4b95fbcc1ac",
            "a015fa800b0f415fbc0dec18771799c7",
            "eca75d861705491db26448a36cc88699",
            "42bf6a0c5cc0476689442c2464fd56a0",
            "3bd4365cd1d2443c89b662717b3a5617",
            "7b489df6b4e24c32a1acf9d016b4b305"
          ]
        },
        "outputId": "322124e3-f482-4f71-b82b-c0f69980400f"
      },
      "source": [
        "testing_data_df['tokenized_document'] = testing_data_df['original_document'].swifter.apply(preprocess_text, args=(stemmer, stop_words, TEXT_ENCODING, re_printable, re_punctuation))\n",
        "\n",
        "print(testing_data_df.shape)\n",
        "\n",
        "testing_data_df.head()"
      ],
      "execution_count": null,
      "outputs": [
        {
          "output_type": "display_data",
          "data": {
            "application/vnd.jupyter.widget-view+json": {
              "model_id": "5bd2b45e1d52467590f2385fdaa36472",
              "version_minor": 0,
              "version_major": 2
            },
            "text/plain": [
              "HBox(children=(FloatProgress(value=0.0, description='Pandas Apply', max=500.0, style=ProgressStyle(description…"
            ]
          },
          "metadata": {
            "tags": []
          }
        },
        {
          "output_type": "stream",
          "text": [
            "\n",
            "(500, 3)\n"
          ],
          "name": "stdout"
        },
        {
          "output_type": "execute_result",
          "data": {
            "text/html": [
              "<div>\n",
              "<style scoped>\n",
              "    .dataframe tbody tr th:only-of-type {\n",
              "        vertical-align: middle;\n",
              "    }\n",
              "\n",
              "    .dataframe tbody tr th {\n",
              "        vertical-align: top;\n",
              "    }\n",
              "\n",
              "    .dataframe thead th {\n",
              "        text-align: right;\n",
              "    }\n",
              "</style>\n",
              "<table border=\"1\" class=\"dataframe\">\n",
              "  <thead>\n",
              "    <tr style=\"text-align: right;\">\n",
              "      <th></th>\n",
              "      <th>file_name</th>\n",
              "      <th>original_document</th>\n",
              "      <th>tokenized_document</th>\n",
              "    </tr>\n",
              "  </thead>\n",
              "  <tbody>\n",
              "    <tr>\n",
              "      <th>0</th>\n",
              "      <td>25082_summary.txt</td>\n",
              "      <td>The environmental  \\ninvestment specialist\\nI...</td>\n",
              "      <td>[environment, invest, specialist, impax, asset...</td>\n",
              "    </tr>\n",
              "    <tr>\n",
              "      <th>1</th>\n",
              "      <td>25110_summary.txt</td>\n",
              "      <td>Impellam Group plc  \\nAnnual Report and Accou...</td>\n",
              "      <td>[impellam, group, plc, annual, report, account...</td>\n",
              "    </tr>\n",
              "    <tr>\n",
              "      <th>2</th>\n",
              "      <td>25111_summary.txt</td>\n",
              "      <td>DELIVERING AGAINST \\nOUR STRATEGY\\nANNUAL REP...</td>\n",
              "      <td>[deliv, strategi, annual, report, account, con...</td>\n",
              "    </tr>\n",
              "    <tr>\n",
              "      <th>3</th>\n",
              "      <td>25118_summary.txt</td>\n",
              "      <td>imperial \\ninnovations\\nImperial Innovations ...</td>\n",
              "      <td>[imperi, innov, imperi, innov, group, plc, ann...</td>\n",
              "    </tr>\n",
              "    <tr>\n",
              "      <th>4</th>\n",
              "      <td>25120_summary.txt</td>\n",
              "      <td>Nur turing  \\n innovation\\nAnnual Report and...</td>\n",
              "      <td>[nur, ture, innov, annual, report, account, im...</td>\n",
              "    </tr>\n",
              "  </tbody>\n",
              "</table>\n",
              "</div>"
            ],
            "text/plain": [
              "           file_name  ...                                 tokenized_document\n",
              "0  25082_summary.txt  ...  [environment, invest, specialist, impax, asset...\n",
              "1  25110_summary.txt  ...  [impellam, group, plc, annual, report, account...\n",
              "2  25111_summary.txt  ...  [deliv, strategi, annual, report, account, con...\n",
              "3  25118_summary.txt  ...  [imperi, innov, imperi, innov, group, plc, ann...\n",
              "4  25120_summary.txt  ...  [nur, ture, innov, annual, report, account, im...\n",
              "\n",
              "[5 rows x 3 columns]"
            ]
          },
          "metadata": {
            "tags": []
          },
          "execution_count": 16
        }
      ]
    },
    {
      "cell_type": "markdown",
      "metadata": {
        "id": "DvuSuadsfm35"
      },
      "source": [
        "## Generate topics distributions for documents"
      ]
    },
    {
      "cell_type": "code",
      "metadata": {
        "id": "e1OMcyBhWexb",
        "colab": {
          "base_uri": "https://localhost:8080/",
          "height": 270,
          "referenced_widgets": [
            "9a7ea1ba2d45445c856914abaafe4cf0",
            "4f33c2865c8a417388314b1217a197e1",
            "6723cf50edfd4641ac490b10abbc91fb",
            "465912fbefc14f4dbe9aece0aa9dd926",
            "25d3acf4073a48fe963e12ec0e67eafc",
            "f7799bcaa0e044d8a30e043dad9c2b15",
            "611b6134269a4295b0136c7408a7daea",
            "ce72edf6271c4767b19688aea9774547"
          ]
        },
        "outputId": "aeed35a1-71d6-4705-f6d5-5fc4fc6ecc2f"
      },
      "source": [
        "testing_data_df['document_distributions'] = testing_data_df['tokenized_document'].swifter.apply(text_tokens_to_topics_distributions, args=(lda_model, dictionary))\n",
        "\n",
        "print(testing_data_df.shape)\n",
        "\n",
        "testing_data_df.head()"
      ],
      "execution_count": null,
      "outputs": [
        {
          "output_type": "display_data",
          "data": {
            "application/vnd.jupyter.widget-view+json": {
              "model_id": "9a7ea1ba2d45445c856914abaafe4cf0",
              "version_minor": 0,
              "version_major": 2
            },
            "text/plain": [
              "HBox(children=(FloatProgress(value=0.0, description='Pandas Apply', max=500.0, style=ProgressStyle(description…"
            ]
          },
          "metadata": {
            "tags": []
          }
        },
        {
          "output_type": "stream",
          "text": [
            "\n",
            "(500, 4)\n"
          ],
          "name": "stdout"
        },
        {
          "output_type": "execute_result",
          "data": {
            "text/html": [
              "<div>\n",
              "<style scoped>\n",
              "    .dataframe tbody tr th:only-of-type {\n",
              "        vertical-align: middle;\n",
              "    }\n",
              "\n",
              "    .dataframe tbody tr th {\n",
              "        vertical-align: top;\n",
              "    }\n",
              "\n",
              "    .dataframe thead th {\n",
              "        text-align: right;\n",
              "    }\n",
              "</style>\n",
              "<table border=\"1\" class=\"dataframe\">\n",
              "  <thead>\n",
              "    <tr style=\"text-align: right;\">\n",
              "      <th></th>\n",
              "      <th>file_name</th>\n",
              "      <th>original_document</th>\n",
              "      <th>tokenized_document</th>\n",
              "      <th>document_distributions</th>\n",
              "    </tr>\n",
              "  </thead>\n",
              "  <tbody>\n",
              "    <tr>\n",
              "      <th>0</th>\n",
              "      <td>25082_summary.txt</td>\n",
              "      <td>The environmental  \\ninvestment specialist\\nI...</td>\n",
              "      <td>[environment, invest, specialist, impax, asset...</td>\n",
              "      <td>[0.16202262, 0.12794012, 0.015163482, 0.004628...</td>\n",
              "    </tr>\n",
              "    <tr>\n",
              "      <th>1</th>\n",
              "      <td>25110_summary.txt</td>\n",
              "      <td>Impellam Group plc  \\nAnnual Report and Accou...</td>\n",
              "      <td>[impellam, group, plc, annual, report, account...</td>\n",
              "      <td>[0.05516513, 0.023844916, 0.2971211, 0.0291927...</td>\n",
              "    </tr>\n",
              "    <tr>\n",
              "      <th>2</th>\n",
              "      <td>25111_summary.txt</td>\n",
              "      <td>DELIVERING AGAINST \\nOUR STRATEGY\\nANNUAL REP...</td>\n",
              "      <td>[deliv, strategi, annual, report, account, con...</td>\n",
              "      <td>[0.0112099275, 0.0086386, 0.011459767, 0.02302...</td>\n",
              "    </tr>\n",
              "    <tr>\n",
              "      <th>3</th>\n",
              "      <td>25118_summary.txt</td>\n",
              "      <td>imperial \\ninnovations\\nImperial Innovations ...</td>\n",
              "      <td>[imperi, innov, imperi, innov, group, plc, ann...</td>\n",
              "      <td>[0.01843256, 0.013293077, 0.03473317, 0.000508...</td>\n",
              "    </tr>\n",
              "    <tr>\n",
              "      <th>4</th>\n",
              "      <td>25120_summary.txt</td>\n",
              "      <td>Nur turing  \\n innovation\\nAnnual Report and...</td>\n",
              "      <td>[nur, ture, innov, annual, report, account, im...</td>\n",
              "      <td>[0.06927553, 0.0015632923, 0.010289794, 0.0421...</td>\n",
              "    </tr>\n",
              "  </tbody>\n",
              "</table>\n",
              "</div>"
            ],
            "text/plain": [
              "           file_name  ...                             document_distributions\n",
              "0  25082_summary.txt  ...  [0.16202262, 0.12794012, 0.015163482, 0.004628...\n",
              "1  25110_summary.txt  ...  [0.05516513, 0.023844916, 0.2971211, 0.0291927...\n",
              "2  25111_summary.txt  ...  [0.0112099275, 0.0086386, 0.011459767, 0.02302...\n",
              "3  25118_summary.txt  ...  [0.01843256, 0.013293077, 0.03473317, 0.000508...\n",
              "4  25120_summary.txt  ...  [0.06927553, 0.0015632923, 0.010289794, 0.0421...\n",
              "\n",
              "[5 rows x 4 columns]"
            ]
          },
          "metadata": {
            "tags": []
          },
          "execution_count": 17
        }
      ]
    },
    {
      "cell_type": "markdown",
      "metadata": {
        "id": "KNsL5pwJfsOe"
      },
      "source": [
        "## Generate ideal summary topics distributions for documents"
      ]
    },
    {
      "cell_type": "code",
      "metadata": {
        "id": "WH3SzfXydE01",
        "colab": {
          "base_uri": "https://localhost:8080/",
          "height": 306
        },
        "outputId": "26227c0a-d561-4b19-fd1c-97dca95c5eae"
      },
      "source": [
        "testing_data_df['summary_distributions'] = testing_data_df['document_distributions']\n",
        "\n",
        "ideal_summary_distributions = np.round(dnn_model.predict(np.array(testing_data_df['document_distributions'].values.tolist())), PROBABILITY_ROUND_PRECISION)\n",
        "\n",
        "for i in range(len(ideal_summary_distributions)): testing_data_df.loc[i, 'summary_distributions'] = ideal_summary_distributions[i]\n",
        "\n",
        "print(testing_data_df.shape)\n",
        "\n",
        "testing_data_df.head()"
      ],
      "execution_count": null,
      "outputs": [
        {
          "output_type": "stream",
          "text": [
            "(500, 5)\n"
          ],
          "name": "stdout"
        },
        {
          "output_type": "execute_result",
          "data": {
            "text/html": [
              "<div>\n",
              "<style scoped>\n",
              "    .dataframe tbody tr th:only-of-type {\n",
              "        vertical-align: middle;\n",
              "    }\n",
              "\n",
              "    .dataframe tbody tr th {\n",
              "        vertical-align: top;\n",
              "    }\n",
              "\n",
              "    .dataframe thead th {\n",
              "        text-align: right;\n",
              "    }\n",
              "</style>\n",
              "<table border=\"1\" class=\"dataframe\">\n",
              "  <thead>\n",
              "    <tr style=\"text-align: right;\">\n",
              "      <th></th>\n",
              "      <th>file_name</th>\n",
              "      <th>original_document</th>\n",
              "      <th>tokenized_document</th>\n",
              "      <th>document_distributions</th>\n",
              "      <th>summary_distributions</th>\n",
              "    </tr>\n",
              "  </thead>\n",
              "  <tbody>\n",
              "    <tr>\n",
              "      <th>0</th>\n",
              "      <td>25082_summary.txt</td>\n",
              "      <td>The environmental  \\ninvestment specialist\\nI...</td>\n",
              "      <td>[environment, invest, specialist, impax, asset...</td>\n",
              "      <td>[0.16202262, 0.12794012, 0.015163482, 0.004628...</td>\n",
              "      <td>[0.0757062, 0.0714612, 0.0405828, 0.0527269, 0...</td>\n",
              "    </tr>\n",
              "    <tr>\n",
              "      <th>1</th>\n",
              "      <td>25110_summary.txt</td>\n",
              "      <td>Impellam Group plc  \\nAnnual Report and Accou...</td>\n",
              "      <td>[impellam, group, plc, annual, report, account...</td>\n",
              "      <td>[0.05516513, 0.023844916, 0.2971211, 0.0291927...</td>\n",
              "      <td>[0.0684698, 0.0721892, 0.0540615, 0.0553748, 0...</td>\n",
              "    </tr>\n",
              "    <tr>\n",
              "      <th>2</th>\n",
              "      <td>25111_summary.txt</td>\n",
              "      <td>DELIVERING AGAINST \\nOUR STRATEGY\\nANNUAL REP...</td>\n",
              "      <td>[deliv, strategi, annual, report, account, con...</td>\n",
              "      <td>[0.0112099275, 0.0086386, 0.011459767, 0.02302...</td>\n",
              "      <td>[0.0645364, 0.0646662, 0.0362514, 0.0571922, 0...</td>\n",
              "    </tr>\n",
              "    <tr>\n",
              "      <th>3</th>\n",
              "      <td>25118_summary.txt</td>\n",
              "      <td>imperial \\ninnovations\\nImperial Innovations ...</td>\n",
              "      <td>[imperi, innov, imperi, innov, group, plc, ann...</td>\n",
              "      <td>[0.01843256, 0.013293077, 0.03473317, 0.000508...</td>\n",
              "      <td>[0.0640066, 0.0615492, 0.0345692, 0.0517259, 0...</td>\n",
              "    </tr>\n",
              "    <tr>\n",
              "      <th>4</th>\n",
              "      <td>25120_summary.txt</td>\n",
              "      <td>Nur turing  \\n innovation\\nAnnual Report and...</td>\n",
              "      <td>[nur, ture, innov, annual, report, account, im...</td>\n",
              "      <td>[0.06927553, 0.0015632923, 0.010289794, 0.0421...</td>\n",
              "      <td>[0.0676319, 0.0606817, 0.0329012, 0.0540099, 0...</td>\n",
              "    </tr>\n",
              "  </tbody>\n",
              "</table>\n",
              "</div>"
            ],
            "text/plain": [
              "           file_name  ...                              summary_distributions\n",
              "0  25082_summary.txt  ...  [0.0757062, 0.0714612, 0.0405828, 0.0527269, 0...\n",
              "1  25110_summary.txt  ...  [0.0684698, 0.0721892, 0.0540615, 0.0553748, 0...\n",
              "2  25111_summary.txt  ...  [0.0645364, 0.0646662, 0.0362514, 0.0571922, 0...\n",
              "3  25118_summary.txt  ...  [0.0640066, 0.0615492, 0.0345692, 0.0517259, 0...\n",
              "4  25120_summary.txt  ...  [0.0676319, 0.0606817, 0.0329012, 0.0540099, 0...\n",
              "\n",
              "[5 rows x 5 columns]"
            ]
          },
          "metadata": {
            "tags": []
          },
          "execution_count": 18
        }
      ]
    },
    {
      "cell_type": "markdown",
      "metadata": {
        "id": "FE-ZcSsIMoFw"
      },
      "source": [
        "## Save preprocessed documents"
      ]
    },
    {
      "cell_type": "code",
      "metadata": {
        "id": "VZG0A8RyM0Up"
      },
      "source": [
        "testing_data_df.to_pickle(os.path.join(PROJECT_DIRECTORY_PATH, 'preprocessed_testing_documents.pkl'))"
      ],
      "execution_count": null,
      "outputs": []
    },
    {
      "cell_type": "markdown",
      "metadata": {
        "id": "Xa4-UKoV7X64"
      },
      "source": [
        "# Handle testing documents"
      ]
    },
    {
      "cell_type": "markdown",
      "metadata": {
        "id": "wAPNKd8iMPlY"
      },
      "source": [
        "## Load preprocessed documents"
      ]
    },
    {
      "cell_type": "code",
      "metadata": {
        "id": "deKlvNFmTuzK",
        "colab": {
          "base_uri": "https://localhost:8080/",
          "height": 306
        },
        "outputId": "fe356562-ed7d-435b-a122-8f214bdd502d"
      },
      "source": [
        "testing_data_df = pd.read_pickle(os.path.join(PROJECT_DIRECTORY_PATH, 'preprocessed_testing_documents.pkl'))\n",
        "\n",
        "print(testing_data_df.shape)\n",
        "\n",
        "testing_data_df.head()"
      ],
      "execution_count": null,
      "outputs": [
        {
          "output_type": "stream",
          "text": [
            "(500, 5)\n"
          ],
          "name": "stdout"
        },
        {
          "output_type": "execute_result",
          "data": {
            "text/html": [
              "<div>\n",
              "<style scoped>\n",
              "    .dataframe tbody tr th:only-of-type {\n",
              "        vertical-align: middle;\n",
              "    }\n",
              "\n",
              "    .dataframe tbody tr th {\n",
              "        vertical-align: top;\n",
              "    }\n",
              "\n",
              "    .dataframe thead th {\n",
              "        text-align: right;\n",
              "    }\n",
              "</style>\n",
              "<table border=\"1\" class=\"dataframe\">\n",
              "  <thead>\n",
              "    <tr style=\"text-align: right;\">\n",
              "      <th></th>\n",
              "      <th>file_name</th>\n",
              "      <th>original_document</th>\n",
              "      <th>tokenized_document</th>\n",
              "      <th>document_distributions</th>\n",
              "      <th>summary_distributions</th>\n",
              "    </tr>\n",
              "  </thead>\n",
              "  <tbody>\n",
              "    <tr>\n",
              "      <th>0</th>\n",
              "      <td>25082_summary.txt</td>\n",
              "      <td>The environmental  \\ninvestment specialist\\nI...</td>\n",
              "      <td>[environment, invest, specialist, impax, asset...</td>\n",
              "      <td>[0.16202262, 0.12794012, 0.015163482, 0.004628...</td>\n",
              "      <td>[0.0757062, 0.0714612, 0.0405828, 0.0527269, 0...</td>\n",
              "    </tr>\n",
              "    <tr>\n",
              "      <th>1</th>\n",
              "      <td>25110_summary.txt</td>\n",
              "      <td>Impellam Group plc  \\nAnnual Report and Accou...</td>\n",
              "      <td>[impellam, group, plc, annual, report, account...</td>\n",
              "      <td>[0.05516513, 0.023844916, 0.2971211, 0.0291927...</td>\n",
              "      <td>[0.0684698, 0.0721892, 0.0540615, 0.0553748, 0...</td>\n",
              "    </tr>\n",
              "    <tr>\n",
              "      <th>2</th>\n",
              "      <td>25111_summary.txt</td>\n",
              "      <td>DELIVERING AGAINST \\nOUR STRATEGY\\nANNUAL REP...</td>\n",
              "      <td>[deliv, strategi, annual, report, account, con...</td>\n",
              "      <td>[0.0112099275, 0.0086386, 0.011459767, 0.02302...</td>\n",
              "      <td>[0.0645364, 0.0646662, 0.0362514, 0.0571922, 0...</td>\n",
              "    </tr>\n",
              "    <tr>\n",
              "      <th>3</th>\n",
              "      <td>25118_summary.txt</td>\n",
              "      <td>imperial \\ninnovations\\nImperial Innovations ...</td>\n",
              "      <td>[imperi, innov, imperi, innov, group, plc, ann...</td>\n",
              "      <td>[0.01843256, 0.013293077, 0.03473317, 0.000508...</td>\n",
              "      <td>[0.0640066, 0.0615492, 0.0345692, 0.0517259, 0...</td>\n",
              "    </tr>\n",
              "    <tr>\n",
              "      <th>4</th>\n",
              "      <td>25120_summary.txt</td>\n",
              "      <td>Nur turing  \\n innovation\\nAnnual Report and...</td>\n",
              "      <td>[nur, ture, innov, annual, report, account, im...</td>\n",
              "      <td>[0.06927553, 0.0015632923, 0.010289794, 0.0421...</td>\n",
              "      <td>[0.0676319, 0.0606817, 0.0329012, 0.0540099, 0...</td>\n",
              "    </tr>\n",
              "  </tbody>\n",
              "</table>\n",
              "</div>"
            ],
            "text/plain": [
              "           file_name  ...                              summary_distributions\n",
              "0  25082_summary.txt  ...  [0.0757062, 0.0714612, 0.0405828, 0.0527269, 0...\n",
              "1  25110_summary.txt  ...  [0.0684698, 0.0721892, 0.0540615, 0.0553748, 0...\n",
              "2  25111_summary.txt  ...  [0.0645364, 0.0646662, 0.0362514, 0.0571922, 0...\n",
              "3  25118_summary.txt  ...  [0.0640066, 0.0615492, 0.0345692, 0.0517259, 0...\n",
              "4  25120_summary.txt  ...  [0.0676319, 0.0606817, 0.0329012, 0.0540099, 0...\n",
              "\n",
              "[5 rows x 5 columns]"
            ]
          },
          "metadata": {
            "tags": []
          },
          "execution_count": 14
        }
      ]
    },
    {
      "cell_type": "markdown",
      "metadata": {
        "id": "pNhO5JLXxjCF"
      },
      "source": [
        "## Find closest text section as summary on documents"
      ]
    },
    {
      "cell_type": "code",
      "metadata": {
        "id": "qruy3qF1d1c3",
        "colab": {
          "base_uri": "https://localhost:8080/",
          "height": 355,
          "referenced_widgets": [
            "9652b9a9840545c5982e10b9dddd0fd4",
            "abdefac176ac4b45afdf96e56465a7f7",
            "d45b602d314945e196d3f9d5abb7e7ab",
            "7cad7b5d79bd427b989dab2795453d4c",
            "d7b522006f984464a8f6ad255a2e4dba",
            "c40b79d25a6246ebac684bc716ac8258",
            "18c68529f454461488e0c3c039ab0d68",
            "900558002679449498bc4cdc8d154c27"
          ]
        },
        "outputId": "5bfca3cd-1830-45d3-d62f-c00c073f87fb"
      },
      "source": [
        "testing_data_df['summary'] = testing_data_df.swifter.apply(find_summary_text, args=(lda_model, dictionary, stemmer, alphabetical_word_tokenizer, normal_word_tokenizer, stop_words, TEXT_ENCODING, SUMMARY_MINIMUM_TEXT_HALF_LENGTH, SUMMARY_MINIMUM_N_ALPHABETICAL_WORDS, SUMMARY_MAXIMUM_N_WORDS, re_printable, re_punctuation), axis=1)\n",
        "\n",
        "print(testing_data_df.shape)\n",
        "\n",
        "testing_data_df.head()"
      ],
      "execution_count": null,
      "outputs": [
        {
          "output_type": "display_data",
          "data": {
            "application/vnd.jupyter.widget-view+json": {
              "model_id": "9652b9a9840545c5982e10b9dddd0fd4",
              "version_minor": 0,
              "version_major": 2
            },
            "text/plain": [
              "HBox(children=(FloatProgress(value=0.0, description='Pandas Apply', max=500.0, style=ProgressStyle(description…"
            ]
          },
          "metadata": {
            "tags": []
          }
        },
        {
          "output_type": "stream",
          "text": [
            "\n",
            "(500, 6)\n"
          ],
          "name": "stdout"
        },
        {
          "output_type": "execute_result",
          "data": {
            "text/html": [
              "<div>\n",
              "<style scoped>\n",
              "    .dataframe tbody tr th:only-of-type {\n",
              "        vertical-align: middle;\n",
              "    }\n",
              "\n",
              "    .dataframe tbody tr th {\n",
              "        vertical-align: top;\n",
              "    }\n",
              "\n",
              "    .dataframe thead th {\n",
              "        text-align: right;\n",
              "    }\n",
              "</style>\n",
              "<table border=\"1\" class=\"dataframe\">\n",
              "  <thead>\n",
              "    <tr style=\"text-align: right;\">\n",
              "      <th></th>\n",
              "      <th>file_name</th>\n",
              "      <th>original_document</th>\n",
              "      <th>tokenized_document</th>\n",
              "      <th>document_distributions</th>\n",
              "      <th>summary_distributions</th>\n",
              "      <th>summary</th>\n",
              "    </tr>\n",
              "  </thead>\n",
              "  <tbody>\n",
              "    <tr>\n",
              "      <th>0</th>\n",
              "      <td>25082_summary.txt</td>\n",
              "      <td>The environmental  \\ninvestment specialist\\nI...</td>\n",
              "      <td>[environment, invest, specialist, impax, asset...</td>\n",
              "      <td>[0.16202262, 0.12794012, 0.015163482, 0.004628...</td>\n",
              "      <td>[0.0757062, 0.0714612, 0.0405828, 0.0527269, 0...</td>\n",
              "      <td>From \\nits inception on 3 March 2008 to 30 \\nS...</td>\n",
              "    </tr>\n",
              "    <tr>\n",
              "      <th>1</th>\n",
              "      <td>25110_summary.txt</td>\n",
              "      <td>Impellam Group plc  \\nAnnual Report and Accou...</td>\n",
              "      <td>[impellam, group, plc, annual, report, account...</td>\n",
              "      <td>[0.05516513, 0.023844916, 0.2971211, 0.0291927...</td>\n",
              "      <td>[0.0684698, 0.0721892, 0.0540615, 0.0553748, 0...</td>\n",
              "      <td>These are non-IFRS measures. For further \\ninf...</td>\n",
              "    </tr>\n",
              "    <tr>\n",
              "      <th>2</th>\n",
              "      <td>25111_summary.txt</td>\n",
              "      <td>DELIVERING AGAINST \\nOUR STRATEGY\\nANNUAL REP...</td>\n",
              "      <td>[deliv, strategi, annual, report, account, con...</td>\n",
              "      <td>[0.0112099275, 0.0086386, 0.011459767, 0.02302...</td>\n",
              "      <td>[0.0645364, 0.0646662, 0.0362514, 0.0571922, 0...</td>\n",
              "      <td>He was also a member of both the UK and German...</td>\n",
              "    </tr>\n",
              "    <tr>\n",
              "      <th>3</th>\n",
              "      <td>25118_summary.txt</td>\n",
              "      <td>imperial \\ninnovations\\nImperial Innovations ...</td>\n",
              "      <td>[imperi, innov, imperi, innov, group, plc, ann...</td>\n",
              "      <td>[0.01843256, 0.013293077, 0.03473317, 0.000508...</td>\n",
              "      <td>[0.0640066, 0.0615492, 0.0345692, 0.0517259, 0...</td>\n",
              "      <td>The agreements by which such options were gran...</td>\n",
              "    </tr>\n",
              "    <tr>\n",
              "      <th>4</th>\n",
              "      <td>25120_summary.txt</td>\n",
              "      <td>Nur turing  \\n innovation\\nAnnual Report and...</td>\n",
              "      <td>[nur, ture, innov, annual, report, account, im...</td>\n",
              "      <td>[0.06927553, 0.0015632923, 0.010289794, 0.0421...</td>\n",
              "      <td>[0.0676319, 0.0606817, 0.0329012, 0.0540099, 0...</td>\n",
              "      <td>Set out below are some examples from our \\neng...</td>\n",
              "    </tr>\n",
              "  </tbody>\n",
              "</table>\n",
              "</div>"
            ],
            "text/plain": [
              "           file_name  ...                                            summary\n",
              "0  25082_summary.txt  ...  From \\nits inception on 3 March 2008 to 30 \\nS...\n",
              "1  25110_summary.txt  ...  These are non-IFRS measures. For further \\ninf...\n",
              "2  25111_summary.txt  ...  He was also a member of both the UK and German...\n",
              "3  25118_summary.txt  ...  The agreements by which such options were gran...\n",
              "4  25120_summary.txt  ...  Set out below are some examples from our \\neng...\n",
              "\n",
              "[5 rows x 6 columns]"
            ]
          },
          "metadata": {
            "tags": []
          },
          "execution_count": 15
        }
      ]
    },
    {
      "cell_type": "markdown",
      "metadata": {
        "id": "MnW-zyMguRgj"
      },
      "source": [
        "## Save summaries on disk as text files"
      ]
    },
    {
      "cell_type": "code",
      "metadata": {
        "id": "sesss2zRuXyL",
        "colab": {
          "base_uri": "https://localhost:8080/",
          "height": 83,
          "referenced_widgets": [
            "2d1d8410fdf64e378495ef92e25b5bce",
            "7f0b9d34a73341a787cf49b192879639",
            "df6bfffe47694d7c97a6eed24056f194",
            "faa774797b7749df8d2725f89c76cca6",
            "92e162ebf4d7482baf4e845633629d6a",
            "13974e34e98a44abb32488a308eab7ff",
            "86797aa89c0742a486fc50e94e480dd7",
            "b2c789dd78824c04a0a59583d887dce5"
          ]
        },
        "outputId": "c72a9586-f0c0-49ad-b0d1-bb1b31d358cc"
      },
      "source": [
        "testing_summaries_directory_path = os.path.join(PROJECT_DIRECTORY_PATH, 'testing-summaries')\n",
        "\n",
        "os.makedirs(testing_summaries_directory_path, exist_ok=True)\n",
        "\n",
        "testing_data_df.swifter.apply(save_summary_on_disk, args=(testing_summaries_directory_path, TEXT_ENCODING), axis=1)\n",
        "\n",
        "print(\"Test set summaries saved on disk\")"
      ],
      "execution_count": null,
      "outputs": [
        {
          "output_type": "display_data",
          "data": {
            "application/vnd.jupyter.widget-view+json": {
              "model_id": "2d1d8410fdf64e378495ef92e25b5bce",
              "version_minor": 0,
              "version_major": 2
            },
            "text/plain": [
              "HBox(children=(FloatProgress(value=0.0, description='Pandas Apply', max=500.0, style=ProgressStyle(description…"
            ]
          },
          "metadata": {
            "tags": []
          }
        },
        {
          "output_type": "stream",
          "text": [
            "\n",
            "Test set summaries saved on disk\n"
          ],
          "name": "stdout"
        }
      ]
    },
    {
      "cell_type": "markdown",
      "metadata": {
        "id": "2J_AkQk8Mx18"
      },
      "source": [
        "# Preprocess evaluation documents (SAVES RESULTS)"
      ]
    },
    {
      "cell_type": "markdown",
      "metadata": {
        "id": "NrKBZGMLMx2Z"
      },
      "source": [
        "## Load documents to a dataframe"
      ]
    },
    {
      "cell_type": "code",
      "metadata": {
        "id": "suKUFGfTMx2a",
        "colab": {
          "base_uri": "https://localhost:8080/",
          "height": 270,
          "referenced_widgets": [
            "755c645a710d42268a32ad0fb138eaf7",
            "99cbd27d97774d0ea8f05e69efbdf0b8",
            "ef12ab7293b74d42a25c666b157baa72",
            "1940a836103542a1b04b4e8b5e4506b1",
            "3c03232fea2046bbac8c7998508226f6",
            "154ac0ca39c2422f80f9a33b30a848f7",
            "5f5465f957b14993a5667a061e9830c0",
            "2acd28f27b684d5294a9594ca6e79001"
          ]
        },
        "outputId": "ab590aa1-f962-4e48-f8b9-fc04c48f4383"
      },
      "source": [
        "evaluation_data_df = pd.read_pickle(os.path.join(PROJECT_DIRECTORY_PATH, 'original_evaluation_documents.pkl'))\n",
        "\n",
        "evaluation_data_df['file_name'] = evaluation_data_df['document_file_name'].swifter.apply(lambda o: f'{Path(o).stem}_summary.txt')\n",
        "\n",
        "print(evaluation_data_df.shape)\n",
        "\n",
        "evaluation_data_df.head()"
      ],
      "execution_count": null,
      "outputs": [
        {
          "output_type": "display_data",
          "data": {
            "application/vnd.jupyter.widget-view+json": {
              "model_id": "755c645a710d42268a32ad0fb138eaf7",
              "version_minor": 0,
              "version_major": 2
            },
            "text/plain": [
              "HBox(children=(FloatProgress(value=0.0, description='Pandas Apply', max=899.0, style=ProgressStyle(description…"
            ]
          },
          "metadata": {
            "tags": []
          }
        },
        {
          "output_type": "stream",
          "text": [
            "\n",
            "(899, 3)\n"
          ],
          "name": "stdout"
        },
        {
          "output_type": "execute_result",
          "data": {
            "text/html": [
              "<div>\n",
              "<style scoped>\n",
              "    .dataframe tbody tr th:only-of-type {\n",
              "        vertical-align: middle;\n",
              "    }\n",
              "\n",
              "    .dataframe tbody tr th {\n",
              "        vertical-align: top;\n",
              "    }\n",
              "\n",
              "    .dataframe thead th {\n",
              "        text-align: right;\n",
              "    }\n",
              "</style>\n",
              "<table border=\"1\" class=\"dataframe\">\n",
              "  <thead>\n",
              "    <tr style=\"text-align: right;\">\n",
              "      <th></th>\n",
              "      <th>document_file_name</th>\n",
              "      <th>original_document</th>\n",
              "      <th>file_name</th>\n",
              "    </tr>\n",
              "  </thead>\n",
              "  <tbody>\n",
              "    <tr>\n",
              "      <th>0</th>\n",
              "      <td>3545.txt</td>\n",
              "      <td>Annual Report and financial statements 2014  ...</td>\n",
              "      <td>3545_summary.txt</td>\n",
              "    </tr>\n",
              "    <tr>\n",
              "      <th>1</th>\n",
              "      <td>15276.txt</td>\n",
              "      <td>Yule Catto &amp; Co plc\\nAnnual Report\\nFor the y...</td>\n",
              "      <td>15276_summary.txt</td>\n",
              "    </tr>\n",
              "    <tr>\n",
              "      <th>2</th>\n",
              "      <td>5941.txt</td>\n",
              "      <td>Fiberweb plc\\nAnnuAl report \\nAnd FinAnciAl S...</td>\n",
              "      <td>5941_summary.txt</td>\n",
              "    </tr>\n",
              "    <tr>\n",
              "      <th>3</th>\n",
              "      <td>14547.txt</td>\n",
              "      <td>Annual Report and Accounts 2010\\nSouthern Cro...</td>\n",
              "      <td>14547_summary.txt</td>\n",
              "    </tr>\n",
              "    <tr>\n",
              "      <th>4</th>\n",
              "      <td>17939.txt</td>\n",
              "      <td>ANNUAL REPORT &amp; ACCOUNTS 2015\\nBOOKER GROUP P...</td>\n",
              "      <td>17939_summary.txt</td>\n",
              "    </tr>\n",
              "  </tbody>\n",
              "</table>\n",
              "</div>"
            ],
            "text/plain": [
              "  document_file_name  ...          file_name\n",
              "0           3545.txt  ...   3545_summary.txt\n",
              "1          15276.txt  ...  15276_summary.txt\n",
              "2           5941.txt  ...   5941_summary.txt\n",
              "3          14547.txt  ...  14547_summary.txt\n",
              "4          17939.txt  ...  17939_summary.txt\n",
              "\n",
              "[5 rows x 3 columns]"
            ]
          },
          "metadata": {
            "tags": []
          },
          "execution_count": 14
        }
      ]
    },
    {
      "cell_type": "markdown",
      "metadata": {
        "id": "at-DRoJPMx2e"
      },
      "source": [
        "## Preprocess documents"
      ]
    },
    {
      "cell_type": "code",
      "metadata": {
        "id": "UwwzoxvNMx2f",
        "colab": {
          "base_uri": "https://localhost:8080/",
          "height": 270,
          "referenced_widgets": [
            "ae1a60eb4f38476aa54b9219b5e368e4",
            "2c8f69891d4744c69614ed214e57b6cd",
            "b543f5e1f6a448b99f0fe626f2dcad90",
            "87170b542a9047ad9d62bdd091c70bc5",
            "01d2d9724e5a462092a1bd0654b7d3dc",
            "49447e76760347ffbc9a0e34eb7d012f",
            "e0e5396ceb774224b00449b1929e852e",
            "cd261ecc70e843d1a838a809b7b72a00"
          ]
        },
        "outputId": "581e5d49-5e65-4e8d-fe4f-21ea54181f44"
      },
      "source": [
        "evaluation_data_df['tokenized_document'] = evaluation_data_df['original_document'].swifter.apply(preprocess_text, args=(stemmer, stop_words, TEXT_ENCODING, re_printable, re_punctuation))\n",
        "\n",
        "print(evaluation_data_df.shape)\n",
        "\n",
        "evaluation_data_df.head()"
      ],
      "execution_count": null,
      "outputs": [
        {
          "output_type": "display_data",
          "data": {
            "application/vnd.jupyter.widget-view+json": {
              "model_id": "ae1a60eb4f38476aa54b9219b5e368e4",
              "version_minor": 0,
              "version_major": 2
            },
            "text/plain": [
              "HBox(children=(FloatProgress(value=0.0, description='Pandas Apply', max=899.0, style=ProgressStyle(description…"
            ]
          },
          "metadata": {
            "tags": []
          }
        },
        {
          "output_type": "stream",
          "text": [
            "\n",
            "(899, 4)\n"
          ],
          "name": "stdout"
        },
        {
          "output_type": "execute_result",
          "data": {
            "text/html": [
              "<div>\n",
              "<style scoped>\n",
              "    .dataframe tbody tr th:only-of-type {\n",
              "        vertical-align: middle;\n",
              "    }\n",
              "\n",
              "    .dataframe tbody tr th {\n",
              "        vertical-align: top;\n",
              "    }\n",
              "\n",
              "    .dataframe thead th {\n",
              "        text-align: right;\n",
              "    }\n",
              "</style>\n",
              "<table border=\"1\" class=\"dataframe\">\n",
              "  <thead>\n",
              "    <tr style=\"text-align: right;\">\n",
              "      <th></th>\n",
              "      <th>document_file_name</th>\n",
              "      <th>original_document</th>\n",
              "      <th>file_name</th>\n",
              "      <th>tokenized_document</th>\n",
              "    </tr>\n",
              "  </thead>\n",
              "  <tbody>\n",
              "    <tr>\n",
              "      <th>0</th>\n",
              "      <td>3545.txt</td>\n",
              "      <td>Annual Report and financial statements 2014  ...</td>\n",
              "      <td>3545_summary.txt</td>\n",
              "      <td>[annual, report, financi, statement, annual, r...</td>\n",
              "    </tr>\n",
              "    <tr>\n",
              "      <th>1</th>\n",
              "      <td>15276.txt</td>\n",
              "      <td>Yule Catto &amp; Co plc\\nAnnual Report\\nFor the y...</td>\n",
              "      <td>15276_summary.txt</td>\n",
              "      <td>[yule, catto, co, plc, annual, report, year, e...</td>\n",
              "    </tr>\n",
              "    <tr>\n",
              "      <th>2</th>\n",
              "      <td>5941.txt</td>\n",
              "      <td>Fiberweb plc\\nAnnuAl report \\nAnd FinAnciAl S...</td>\n",
              "      <td>5941_summary.txt</td>\n",
              "      <td>[fiberweb, plc, annual, report, financi, st, a...</td>\n",
              "    </tr>\n",
              "    <tr>\n",
              "      <th>3</th>\n",
              "      <td>14547.txt</td>\n",
              "      <td>Annual Report and Accounts 2010\\nSouthern Cro...</td>\n",
              "      <td>14547_summary.txt</td>\n",
              "      <td>[annual, report, account, southern, cross, hea...</td>\n",
              "    </tr>\n",
              "    <tr>\n",
              "      <th>4</th>\n",
              "      <td>17939.txt</td>\n",
              "      <td>ANNUAL REPORT &amp; ACCOUNTS 2015\\nBOOKER GROUP P...</td>\n",
              "      <td>17939_summary.txt</td>\n",
              "      <td>[annual, report, account, booker, group, plc, ...</td>\n",
              "    </tr>\n",
              "  </tbody>\n",
              "</table>\n",
              "</div>"
            ],
            "text/plain": [
              "  document_file_name  ...                                 tokenized_document\n",
              "0           3545.txt  ...  [annual, report, financi, statement, annual, r...\n",
              "1          15276.txt  ...  [yule, catto, co, plc, annual, report, year, e...\n",
              "2           5941.txt  ...  [fiberweb, plc, annual, report, financi, st, a...\n",
              "3          14547.txt  ...  [annual, report, account, southern, cross, hea...\n",
              "4          17939.txt  ...  [annual, report, account, booker, group, plc, ...\n",
              "\n",
              "[5 rows x 4 columns]"
            ]
          },
          "metadata": {
            "tags": []
          },
          "execution_count": 15
        }
      ]
    },
    {
      "cell_type": "markdown",
      "metadata": {
        "id": "0nZhltv2Mx2i"
      },
      "source": [
        "## Generate topics distributions for documents"
      ]
    },
    {
      "cell_type": "code",
      "metadata": {
        "id": "0js1U2nQMx2j",
        "colab": {
          "base_uri": "https://localhost:8080/",
          "height": 270,
          "referenced_widgets": [
            "638047efe9b74c4abd469d56f3b73b1b",
            "92246d254ac84fc4b83eb70de3597ae3",
            "17c1e0972fee42fcaaec831ea7cecf4e",
            "24922e4967f74d36b3fc45a223db8453",
            "92246ab6438644568a4442705e9f5635",
            "0cd5683edbf7428387ffd83537d55999",
            "b17ff364fbdb4d89899450a6504fc62d",
            "8a412347d6d84a69ab51d4ed3bd37265"
          ]
        },
        "outputId": "2542f062-bb53-430e-f2b4-61e0d836f34e"
      },
      "source": [
        "evaluation_data_df['document_distributions'] = evaluation_data_df['tokenized_document'].swifter.apply(text_tokens_to_topics_distributions, args=(lda_model, dictionary))\n",
        "\n",
        "print(evaluation_data_df.shape)\n",
        "\n",
        "evaluation_data_df.head()"
      ],
      "execution_count": null,
      "outputs": [
        {
          "output_type": "display_data",
          "data": {
            "application/vnd.jupyter.widget-view+json": {
              "model_id": "638047efe9b74c4abd469d56f3b73b1b",
              "version_minor": 0,
              "version_major": 2
            },
            "text/plain": [
              "HBox(children=(FloatProgress(value=0.0, description='Pandas Apply', max=899.0, style=ProgressStyle(description…"
            ]
          },
          "metadata": {
            "tags": []
          }
        },
        {
          "output_type": "stream",
          "text": [
            "\n",
            "(899, 5)\n"
          ],
          "name": "stdout"
        },
        {
          "output_type": "execute_result",
          "data": {
            "text/html": [
              "<div>\n",
              "<style scoped>\n",
              "    .dataframe tbody tr th:only-of-type {\n",
              "        vertical-align: middle;\n",
              "    }\n",
              "\n",
              "    .dataframe tbody tr th {\n",
              "        vertical-align: top;\n",
              "    }\n",
              "\n",
              "    .dataframe thead th {\n",
              "        text-align: right;\n",
              "    }\n",
              "</style>\n",
              "<table border=\"1\" class=\"dataframe\">\n",
              "  <thead>\n",
              "    <tr style=\"text-align: right;\">\n",
              "      <th></th>\n",
              "      <th>document_file_name</th>\n",
              "      <th>original_document</th>\n",
              "      <th>file_name</th>\n",
              "      <th>tokenized_document</th>\n",
              "      <th>document_distributions</th>\n",
              "    </tr>\n",
              "  </thead>\n",
              "  <tbody>\n",
              "    <tr>\n",
              "      <th>0</th>\n",
              "      <td>3545.txt</td>\n",
              "      <td>Annual Report and financial statements 2014  ...</td>\n",
              "      <td>3545_summary.txt</td>\n",
              "      <td>[annual, report, financi, statement, annual, r...</td>\n",
              "      <td>[0.07125156, 0.00847639, 0.36051184, 0.0029876...</td>\n",
              "    </tr>\n",
              "    <tr>\n",
              "      <th>1</th>\n",
              "      <td>15276.txt</td>\n",
              "      <td>Yule Catto &amp; Co plc\\nAnnual Report\\nFor the y...</td>\n",
              "      <td>15276_summary.txt</td>\n",
              "      <td>[yule, catto, co, plc, annual, report, year, e...</td>\n",
              "      <td>[0.008204781, 0.023837263, 0.010924666, 0.0007...</td>\n",
              "    </tr>\n",
              "    <tr>\n",
              "      <th>2</th>\n",
              "      <td>5941.txt</td>\n",
              "      <td>Fiberweb plc\\nAnnuAl report \\nAnd FinAnciAl S...</td>\n",
              "      <td>5941_summary.txt</td>\n",
              "      <td>[fiberweb, plc, annual, report, financi, st, a...</td>\n",
              "      <td>[0.0035660828, 0.002509876, 0.011353975, 0.006...</td>\n",
              "    </tr>\n",
              "    <tr>\n",
              "      <th>3</th>\n",
              "      <td>14547.txt</td>\n",
              "      <td>Annual Report and Accounts 2010\\nSouthern Cro...</td>\n",
              "      <td>14547_summary.txt</td>\n",
              "      <td>[annual, report, account, southern, cross, hea...</td>\n",
              "      <td>[0.34472367, 0.08448045, 0.0033785729, 6.93375...</td>\n",
              "    </tr>\n",
              "    <tr>\n",
              "      <th>4</th>\n",
              "      <td>17939.txt</td>\n",
              "      <td>ANNUAL REPORT &amp; ACCOUNTS 2015\\nBOOKER GROUP P...</td>\n",
              "      <td>17939_summary.txt</td>\n",
              "      <td>[annual, report, account, booker, group, plc, ...</td>\n",
              "      <td>[0.41871575, 0.21240936, 0.00011967635, 0.0044...</td>\n",
              "    </tr>\n",
              "  </tbody>\n",
              "</table>\n",
              "</div>"
            ],
            "text/plain": [
              "  document_file_name  ...                             document_distributions\n",
              "0           3545.txt  ...  [0.07125156, 0.00847639, 0.36051184, 0.0029876...\n",
              "1          15276.txt  ...  [0.008204781, 0.023837263, 0.010924666, 0.0007...\n",
              "2           5941.txt  ...  [0.0035660828, 0.002509876, 0.011353975, 0.006...\n",
              "3          14547.txt  ...  [0.34472367, 0.08448045, 0.0033785729, 6.93375...\n",
              "4          17939.txt  ...  [0.41871575, 0.21240936, 0.00011967635, 0.0044...\n",
              "\n",
              "[5 rows x 5 columns]"
            ]
          },
          "metadata": {
            "tags": []
          },
          "execution_count": 16
        }
      ]
    },
    {
      "cell_type": "markdown",
      "metadata": {
        "id": "cuM1AFZnMx2n"
      },
      "source": [
        "## Generate ideal summary topics distributions for documents"
      ]
    },
    {
      "cell_type": "code",
      "metadata": {
        "id": "cecvnkI6Mx2o",
        "colab": {
          "base_uri": "https://localhost:8080/",
          "height": 306
        },
        "outputId": "905f95bc-adda-4aed-a784-24737a4741fa"
      },
      "source": [
        "evaluation_data_df['summary_distributions'] = evaluation_data_df['document_distributions']\n",
        "\n",
        "ideal_summary_distributions = np.round(dnn_model.predict(np.array(evaluation_data_df['document_distributions'].values.tolist())), PROBABILITY_ROUND_PRECISION)\n",
        "\n",
        "for i in range(len(ideal_summary_distributions)): evaluation_data_df.loc[i, 'summary_distributions'] = ideal_summary_distributions[i]\n",
        "\n",
        "print(evaluation_data_df.shape)\n",
        "\n",
        "evaluation_data_df.head()"
      ],
      "execution_count": null,
      "outputs": [
        {
          "output_type": "stream",
          "text": [
            "(899, 6)\n"
          ],
          "name": "stdout"
        },
        {
          "output_type": "execute_result",
          "data": {
            "text/html": [
              "<div>\n",
              "<style scoped>\n",
              "    .dataframe tbody tr th:only-of-type {\n",
              "        vertical-align: middle;\n",
              "    }\n",
              "\n",
              "    .dataframe tbody tr th {\n",
              "        vertical-align: top;\n",
              "    }\n",
              "\n",
              "    .dataframe thead th {\n",
              "        text-align: right;\n",
              "    }\n",
              "</style>\n",
              "<table border=\"1\" class=\"dataframe\">\n",
              "  <thead>\n",
              "    <tr style=\"text-align: right;\">\n",
              "      <th></th>\n",
              "      <th>document_file_name</th>\n",
              "      <th>original_document</th>\n",
              "      <th>file_name</th>\n",
              "      <th>tokenized_document</th>\n",
              "      <th>document_distributions</th>\n",
              "      <th>summary_distributions</th>\n",
              "    </tr>\n",
              "  </thead>\n",
              "  <tbody>\n",
              "    <tr>\n",
              "      <th>0</th>\n",
              "      <td>3545.txt</td>\n",
              "      <td>Annual Report and financial statements 2014  ...</td>\n",
              "      <td>3545_summary.txt</td>\n",
              "      <td>[annual, report, financi, statement, annual, r...</td>\n",
              "      <td>[0.07125156, 0.00847639, 0.36051184, 0.0029876...</td>\n",
              "      <td>[0.0697196, 0.0732441, 0.0575194, 0.0532512, 0...</td>\n",
              "    </tr>\n",
              "    <tr>\n",
              "      <th>1</th>\n",
              "      <td>15276.txt</td>\n",
              "      <td>Yule Catto &amp; Co plc\\nAnnual Report\\nFor the y...</td>\n",
              "      <td>15276_summary.txt</td>\n",
              "      <td>[yule, catto, co, plc, annual, report, year, e...</td>\n",
              "      <td>[0.008204781, 0.023837263, 0.010924666, 0.0007...</td>\n",
              "      <td>[0.0684704, 0.0564991, 0.0363201, 0.0543203, 0...</td>\n",
              "    </tr>\n",
              "    <tr>\n",
              "      <th>2</th>\n",
              "      <td>5941.txt</td>\n",
              "      <td>Fiberweb plc\\nAnnuAl report \\nAnd FinAnciAl S...</td>\n",
              "      <td>5941_summary.txt</td>\n",
              "      <td>[fiberweb, plc, annual, report, financi, st, a...</td>\n",
              "      <td>[0.0035660828, 0.002509876, 0.011353975, 0.006...</td>\n",
              "      <td>[0.0661962, 0.0642559, 0.0363109, 0.0537944, 0...</td>\n",
              "    </tr>\n",
              "    <tr>\n",
              "      <th>3</th>\n",
              "      <td>14547.txt</td>\n",
              "      <td>Annual Report and Accounts 2010\\nSouthern Cro...</td>\n",
              "      <td>14547_summary.txt</td>\n",
              "      <td>[annual, report, account, southern, cross, hea...</td>\n",
              "      <td>[0.34472367, 0.08448045, 0.0033785729, 6.93375...</td>\n",
              "      <td>[0.0933158, 0.0731438, 0.0377811, 0.051997, 0....</td>\n",
              "    </tr>\n",
              "    <tr>\n",
              "      <th>4</th>\n",
              "      <td>17939.txt</td>\n",
              "      <td>ANNUAL REPORT &amp; ACCOUNTS 2015\\nBOOKER GROUP P...</td>\n",
              "      <td>17939_summary.txt</td>\n",
              "      <td>[annual, report, account, booker, group, plc, ...</td>\n",
              "      <td>[0.41871575, 0.21240936, 0.00011967635, 0.0044...</td>\n",
              "      <td>[0.099498, 0.0769386, 0.0369924, 0.0518598, 0....</td>\n",
              "    </tr>\n",
              "  </tbody>\n",
              "</table>\n",
              "</div>"
            ],
            "text/plain": [
              "  document_file_name  ...                              summary_distributions\n",
              "0           3545.txt  ...  [0.0697196, 0.0732441, 0.0575194, 0.0532512, 0...\n",
              "1          15276.txt  ...  [0.0684704, 0.0564991, 0.0363201, 0.0543203, 0...\n",
              "2           5941.txt  ...  [0.0661962, 0.0642559, 0.0363109, 0.0537944, 0...\n",
              "3          14547.txt  ...  [0.0933158, 0.0731438, 0.0377811, 0.051997, 0....\n",
              "4          17939.txt  ...  [0.099498, 0.0769386, 0.0369924, 0.0518598, 0....\n",
              "\n",
              "[5 rows x 6 columns]"
            ]
          },
          "metadata": {
            "tags": []
          },
          "execution_count": 17
        }
      ]
    },
    {
      "cell_type": "markdown",
      "metadata": {
        "id": "-UFL737TMx2q"
      },
      "source": [
        "## Save preprocessed documents"
      ]
    },
    {
      "cell_type": "code",
      "metadata": {
        "id": "WfU3ttOZMx2q"
      },
      "source": [
        "evaluation_data_df.to_pickle(os.path.join(PROJECT_DIRECTORY_PATH, 'preprocessed_evaluation_documents.pkl'))"
      ],
      "execution_count": null,
      "outputs": []
    },
    {
      "cell_type": "markdown",
      "metadata": {
        "id": "3I9dJGdfMx2t"
      },
      "source": [
        "# Handle evaluation documents"
      ]
    },
    {
      "cell_type": "markdown",
      "metadata": {
        "id": "PxhjRyK-Mx2t"
      },
      "source": [
        "## Load preprocessed documents"
      ]
    },
    {
      "cell_type": "code",
      "metadata": {
        "id": "RIgT2o7TMx2u",
        "colab": {
          "base_uri": "https://localhost:8080/",
          "height": 306
        },
        "outputId": "00fe7633-5087-413a-881f-3b6e660f7893"
      },
      "source": [
        "evaluation_data_df = pd.read_pickle(os.path.join(PROJECT_DIRECTORY_PATH, 'preprocessed_evaluation_documents.pkl'))\n",
        "\n",
        "print(evaluation_data_df.shape)\n",
        "\n",
        "evaluation_data_df.head()"
      ],
      "execution_count": null,
      "outputs": [
        {
          "output_type": "stream",
          "text": [
            "(899, 6)\n"
          ],
          "name": "stdout"
        },
        {
          "output_type": "execute_result",
          "data": {
            "text/html": [
              "<div>\n",
              "<style scoped>\n",
              "    .dataframe tbody tr th:only-of-type {\n",
              "        vertical-align: middle;\n",
              "    }\n",
              "\n",
              "    .dataframe tbody tr th {\n",
              "        vertical-align: top;\n",
              "    }\n",
              "\n",
              "    .dataframe thead th {\n",
              "        text-align: right;\n",
              "    }\n",
              "</style>\n",
              "<table border=\"1\" class=\"dataframe\">\n",
              "  <thead>\n",
              "    <tr style=\"text-align: right;\">\n",
              "      <th></th>\n",
              "      <th>document_file_name</th>\n",
              "      <th>original_document</th>\n",
              "      <th>file_name</th>\n",
              "      <th>tokenized_document</th>\n",
              "      <th>document_distributions</th>\n",
              "      <th>summary_distributions</th>\n",
              "    </tr>\n",
              "  </thead>\n",
              "  <tbody>\n",
              "    <tr>\n",
              "      <th>0</th>\n",
              "      <td>3545.txt</td>\n",
              "      <td>Annual Report and financial statements 2014  ...</td>\n",
              "      <td>3545_summary.txt</td>\n",
              "      <td>[annual, report, financi, statement, annual, r...</td>\n",
              "      <td>[0.07125156, 0.00847639, 0.36051184, 0.0029876...</td>\n",
              "      <td>[0.0697196, 0.0732441, 0.0575194, 0.0532512, 0...</td>\n",
              "    </tr>\n",
              "    <tr>\n",
              "      <th>1</th>\n",
              "      <td>15276.txt</td>\n",
              "      <td>Yule Catto &amp; Co plc\\nAnnual Report\\nFor the y...</td>\n",
              "      <td>15276_summary.txt</td>\n",
              "      <td>[yule, catto, co, plc, annual, report, year, e...</td>\n",
              "      <td>[0.008204781, 0.023837263, 0.010924666, 0.0007...</td>\n",
              "      <td>[0.0684704, 0.0564991, 0.0363201, 0.0543203, 0...</td>\n",
              "    </tr>\n",
              "    <tr>\n",
              "      <th>2</th>\n",
              "      <td>5941.txt</td>\n",
              "      <td>Fiberweb plc\\nAnnuAl report \\nAnd FinAnciAl S...</td>\n",
              "      <td>5941_summary.txt</td>\n",
              "      <td>[fiberweb, plc, annual, report, financi, st, a...</td>\n",
              "      <td>[0.0035660828, 0.002509876, 0.011353975, 0.006...</td>\n",
              "      <td>[0.0661962, 0.0642559, 0.0363109, 0.0537944, 0...</td>\n",
              "    </tr>\n",
              "    <tr>\n",
              "      <th>3</th>\n",
              "      <td>14547.txt</td>\n",
              "      <td>Annual Report and Accounts 2010\\nSouthern Cro...</td>\n",
              "      <td>14547_summary.txt</td>\n",
              "      <td>[annual, report, account, southern, cross, hea...</td>\n",
              "      <td>[0.34472367, 0.08448045, 0.0033785729, 6.93375...</td>\n",
              "      <td>[0.0933158, 0.0731438, 0.0377811, 0.051997, 0....</td>\n",
              "    </tr>\n",
              "    <tr>\n",
              "      <th>4</th>\n",
              "      <td>17939.txt</td>\n",
              "      <td>ANNUAL REPORT &amp; ACCOUNTS 2015\\nBOOKER GROUP P...</td>\n",
              "      <td>17939_summary.txt</td>\n",
              "      <td>[annual, report, account, booker, group, plc, ...</td>\n",
              "      <td>[0.41871575, 0.21240936, 0.00011967635, 0.0044...</td>\n",
              "      <td>[0.099498, 0.0769386, 0.0369924, 0.0518598, 0....</td>\n",
              "    </tr>\n",
              "  </tbody>\n",
              "</table>\n",
              "</div>"
            ],
            "text/plain": [
              "  document_file_name  ...                              summary_distributions\n",
              "0           3545.txt  ...  [0.0697196, 0.0732441, 0.0575194, 0.0532512, 0...\n",
              "1          15276.txt  ...  [0.0684704, 0.0564991, 0.0363201, 0.0543203, 0...\n",
              "2           5941.txt  ...  [0.0661962, 0.0642559, 0.0363109, 0.0537944, 0...\n",
              "3          14547.txt  ...  [0.0933158, 0.0731438, 0.0377811, 0.051997, 0....\n",
              "4          17939.txt  ...  [0.099498, 0.0769386, 0.0369924, 0.0518598, 0....\n",
              "\n",
              "[5 rows x 6 columns]"
            ]
          },
          "metadata": {
            "tags": []
          },
          "execution_count": 14
        }
      ]
    },
    {
      "cell_type": "markdown",
      "metadata": {
        "id": "UQJAy9b8Mx2w"
      },
      "source": [
        "## Find closest text section as summary on documents"
      ]
    },
    {
      "cell_type": "code",
      "metadata": {
        "id": "2Li6S6Z1Mx2w",
        "colab": {
          "base_uri": "https://localhost:8080/",
          "height": 355,
          "referenced_widgets": [
            "f12085394b5049d089ce04548e7abda0",
            "aecd8c20ea014d299d2836861b746f7c",
            "40c06e0c74744bf0b6410f942fa4bfa8",
            "379e7b854797487f81c266e1b1023f76",
            "40e34a24146c41cc932862c5d1b494e7",
            "c657afb8546f4243b8b11e67fe4107a4",
            "483b91bd1a5a47a988649635648c56ce",
            "42569a1b3a85457ebdd7c7e63406206a"
          ]
        },
        "outputId": "8617dc68-ccee-4ce3-d1dc-7f45253958eb"
      },
      "source": [
        "evaluation_data_df['summary'] = evaluation_data_df.swifter.apply(find_summary_text, args=(lda_model, dictionary, stemmer, alphabetical_word_tokenizer, normal_word_tokenizer, stop_words, TEXT_ENCODING, SUMMARY_MINIMUM_TEXT_HALF_LENGTH, SUMMARY_MINIMUM_N_ALPHABETICAL_WORDS, SUMMARY_MAXIMUM_N_WORDS, re_printable, re_punctuation), axis=1)\n",
        "\n",
        "# For baseline results: evaluation_data_df['summary'] = evaluation_data_df.swifter.apply(baseline_find_summary_text, args=(alphabetical_word_tokenizer, normal_word_tokenizer, SUMMARY_MINIMUM_TEXT_HALF_LENGTH, SUMMARY_MINIMUM_N_ALPHABETICAL_WORDS, SUMMARY_MAXIMUM_N_WORDS), axis=1)\n",
        "\n",
        "print(evaluation_data_df.shape)\n",
        "\n",
        "evaluation_data_df.head()"
      ],
      "execution_count": null,
      "outputs": [
        {
          "output_type": "display_data",
          "data": {
            "application/vnd.jupyter.widget-view+json": {
              "model_id": "f12085394b5049d089ce04548e7abda0",
              "version_minor": 0,
              "version_major": 2
            },
            "text/plain": [
              "HBox(children=(FloatProgress(value=0.0, description='Pandas Apply', max=899.0, style=ProgressStyle(description…"
            ]
          },
          "metadata": {
            "tags": []
          }
        },
        {
          "output_type": "stream",
          "text": [
            "\n",
            "(899, 7)\n"
          ],
          "name": "stdout"
        },
        {
          "output_type": "execute_result",
          "data": {
            "text/html": [
              "<div>\n",
              "<style scoped>\n",
              "    .dataframe tbody tr th:only-of-type {\n",
              "        vertical-align: middle;\n",
              "    }\n",
              "\n",
              "    .dataframe tbody tr th {\n",
              "        vertical-align: top;\n",
              "    }\n",
              "\n",
              "    .dataframe thead th {\n",
              "        text-align: right;\n",
              "    }\n",
              "</style>\n",
              "<table border=\"1\" class=\"dataframe\">\n",
              "  <thead>\n",
              "    <tr style=\"text-align: right;\">\n",
              "      <th></th>\n",
              "      <th>document_file_name</th>\n",
              "      <th>original_document</th>\n",
              "      <th>file_name</th>\n",
              "      <th>tokenized_document</th>\n",
              "      <th>document_distributions</th>\n",
              "      <th>summary_distributions</th>\n",
              "      <th>summary</th>\n",
              "    </tr>\n",
              "  </thead>\n",
              "  <tbody>\n",
              "    <tr>\n",
              "      <th>0</th>\n",
              "      <td>3545.txt</td>\n",
              "      <td>Annual Report and financial statements 2014  ...</td>\n",
              "      <td>3545_summary.txt</td>\n",
              "      <td>[annual, report, financi, statement, annual, r...</td>\n",
              "      <td>[0.07125156, 0.00847639, 0.36051184, 0.0029876...</td>\n",
              "      <td>[0.0697196, 0.0732441, 0.0575194, 0.0532512, 0...</td>\n",
              "      <td>He was Chairman of the Association \\nof Ophtha...</td>\n",
              "    </tr>\n",
              "    <tr>\n",
              "      <th>1</th>\n",
              "      <td>15276.txt</td>\n",
              "      <td>Yule Catto &amp; Co plc\\nAnnual Report\\nFor the y...</td>\n",
              "      <td>15276_summary.txt</td>\n",
              "      <td>[yule, catto, co, plc, annual, report, year, e...</td>\n",
              "      <td>[0.008204781, 0.023837263, 0.010924666, 0.0007...</td>\n",
              "      <td>[0.0684704, 0.0564991, 0.0363201, 0.0543203, 0...</td>\n",
              "      <td>With the \\ndecline in the economy and the scar...</td>\n",
              "    </tr>\n",
              "    <tr>\n",
              "      <th>2</th>\n",
              "      <td>5941.txt</td>\n",
              "      <td>Fiberweb plc\\nAnnuAl report \\nAnd FinAnciAl S...</td>\n",
              "      <td>5941_summary.txt</td>\n",
              "      <td>[fiberweb, plc, annual, report, financi, st, a...</td>\n",
              "      <td>[0.0035660828, 0.002509876, 0.011353975, 0.006...</td>\n",
              "      <td>[0.0661962, 0.0642559, 0.0363109, 0.0537944, 0...</td>\n",
              "      <td>Fiberweb Geosynthetics deployed the Defencell ...</td>\n",
              "    </tr>\n",
              "    <tr>\n",
              "      <th>3</th>\n",
              "      <td>14547.txt</td>\n",
              "      <td>Annual Report and Accounts 2010\\nSouthern Cro...</td>\n",
              "      <td>14547_summary.txt</td>\n",
              "      <td>[annual, report, account, southern, cross, hea...</td>\n",
              "      <td>[0.34472367, 0.08448045, 0.0033785729, 6.93375...</td>\n",
              "      <td>[0.0933158, 0.0731438, 0.0377811, 0.051997, 0....</td>\n",
              "      <td>Between 2002 and May 2008, \\nMr Buchan, backed...</td>\n",
              "    </tr>\n",
              "    <tr>\n",
              "      <th>4</th>\n",
              "      <td>17939.txt</td>\n",
              "      <td>ANNUAL REPORT &amp; ACCOUNTS 2015\\nBOOKER GROUP P...</td>\n",
              "      <td>17939_summary.txt</td>\n",
              "      <td>[annual, report, account, booker, group, plc, ...</td>\n",
              "      <td>[0.41871575, 0.21240936, 0.00011967635, 0.0044...</td>\n",
              "      <td>[0.099498, 0.0769386, 0.0369924, 0.0518598, 0....</td>\n",
              "      <td>The members’ attendance record was as follows:...</td>\n",
              "    </tr>\n",
              "  </tbody>\n",
              "</table>\n",
              "</div>"
            ],
            "text/plain": [
              "  document_file_name  ...                                            summary\n",
              "0           3545.txt  ...  He was Chairman of the Association \\nof Ophtha...\n",
              "1          15276.txt  ...  With the \\ndecline in the economy and the scar...\n",
              "2           5941.txt  ...  Fiberweb Geosynthetics deployed the Defencell ...\n",
              "3          14547.txt  ...  Between 2002 and May 2008, \\nMr Buchan, backed...\n",
              "4          17939.txt  ...  The members’ attendance record was as follows:...\n",
              "\n",
              "[5 rows x 7 columns]"
            ]
          },
          "metadata": {
            "tags": []
          },
          "execution_count": 15
        }
      ]
    },
    {
      "cell_type": "markdown",
      "metadata": {
        "id": "xw5iV6--Mx2y"
      },
      "source": [
        "## Save summaries on disk as text files"
      ]
    },
    {
      "cell_type": "code",
      "metadata": {
        "id": "kqrw_RYPMx2y",
        "colab": {
          "base_uri": "https://localhost:8080/",
          "height": 83,
          "referenced_widgets": [
            "1e323f74d8e449a1bbaff8c92441cc4a",
            "c30480d4129040ad9a87586ff6f064a4",
            "85bc863536554023b193263ea37b9c5f",
            "63c5c636d26c4e518176958c0624b9da",
            "91a2c59944f7444b9a9f8aafae825ec4",
            "1e20ffb147bd452687ca2c13ef02ba6b",
            "2ea927630ad14118bde43dbbb7b2f4ef",
            "493e59f265a841da940fd9f41e9ca3ae"
          ]
        },
        "outputId": "f09aafb6-5107-4229-bf3b-351def9d953a"
      },
      "source": [
        "evaluation_summaries_directory_path = os.path.join(PROJECT_DIRECTORY_PATH, 'evaluation-summaries')\n",
        "\n",
        "os.makedirs(evaluation_summaries_directory_path, exist_ok=True)\n",
        "\n",
        "evaluation_data_df.swifter.apply(save_summary_on_disk, args=(evaluation_summaries_directory_path, TEXT_ENCODING), axis=1)\n",
        "\n",
        "print(\"Evaluation set summaries saved on disk\")"
      ],
      "execution_count": null,
      "outputs": [
        {
          "output_type": "display_data",
          "data": {
            "application/vnd.jupyter.widget-view+json": {
              "model_id": "1e323f74d8e449a1bbaff8c92441cc4a",
              "version_minor": 0,
              "version_major": 2
            },
            "text/plain": [
              "HBox(children=(FloatProgress(value=0.0, description='Pandas Apply', max=899.0, style=ProgressStyle(description…"
            ]
          },
          "metadata": {
            "tags": []
          }
        },
        {
          "output_type": "stream",
          "text": [
            "\n",
            "Evaluation set summaries saved on disk\n"
          ],
          "name": "stdout"
        }
      ]
    },
    {
      "cell_type": "markdown",
      "metadata": {
        "id": "GkTmzoce_RL1"
      },
      "source": [
        "# THE END"
      ]
    }
  ]
}